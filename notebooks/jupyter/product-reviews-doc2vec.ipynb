{
 "cells": [
  {
   "cell_type": "markdown",
   "metadata": {},
   "source": [
    "# Document Embeddings on Product Reviews\n",
    "\n",
    "This notebook contains the process of training the document embeddings (doc2vec) using the product reviews and metadata from amazon. Each review is for a signle product, each product might belong to one or more categories.\n",
    "\n",
    "Each record in the dataset contains the categories, title (of the product), description (of the product), summary (of the review) and review text. We need to build a document using this information to train the doc2vec model."
   ]
  },
  {
   "cell_type": "code",
   "execution_count": 30,
   "metadata": {},
   "outputs": [
    {
     "data": {
      "text/html": [
       "<div>\n",
       "<style scoped>\n",
       "    .dataframe tbody tr th:only-of-type {\n",
       "        vertical-align: middle;\n",
       "    }\n",
       "\n",
       "    .dataframe tbody tr th {\n",
       "        vertical-align: top;\n",
       "    }\n",
       "\n",
       "    .dataframe thead th {\n",
       "        text-align: right;\n",
       "    }\n",
       "</style>\n",
       "<table border=\"1\" class=\"dataframe\">\n",
       "  <thead>\n",
       "    <tr style=\"text-align: right;\">\n",
       "      <th></th>\n",
       "      <th>categories</th>\n",
       "      <th>document</th>\n",
       "    </tr>\n",
       "  </thead>\n",
       "  <tbody>\n",
       "    <tr>\n",
       "      <td>0</td>\n",
       "      <td>Technology, Electronics &amp; Accessories</td>\n",
       "      <td>Hifonics ZRX2000.1D Car Amplifier\\nHifonics Ze...</td>\n",
       "    </tr>\n",
       "    <tr>\n",
       "      <td>1</td>\n",
       "      <td>Technology, Electronics &amp; Accessories</td>\n",
       "      <td>3x Nokia Lumia 521 (TMobile) Premium AntiGlare...</td>\n",
       "    </tr>\n",
       "    <tr>\n",
       "      <td>2</td>\n",
       "      <td>Home &amp; Kitchen</td>\n",
       "      <td>Cook! Collection Solid Color Jacquard Terry Ki...</td>\n",
       "    </tr>\n",
       "    <tr>\n",
       "      <td>3</td>\n",
       "      <td>Clothing, Shoes &amp; Jewelry</td>\n",
       "      <td>NCAA VCU Rams Ash Distressed Logo Vintage Tshi...</td>\n",
       "    </tr>\n",
       "    <tr>\n",
       "      <td>4</td>\n",
       "      <td>Health &amp; Personal Care</td>\n",
       "      <td>1Pack of 3  Cavilon Durable Barrier Cream MMM3...</td>\n",
       "    </tr>\n",
       "  </tbody>\n",
       "</table>\n",
       "</div>"
      ],
      "text/plain": [
       "                              categories  \\\n",
       "0  Technology, Electronics & Accessories   \n",
       "1  Technology, Electronics & Accessories   \n",
       "2                         Home & Kitchen   \n",
       "3              Clothing, Shoes & Jewelry   \n",
       "4                 Health & Personal Care   \n",
       "\n",
       "                                            document  \n",
       "0  Hifonics ZRX2000.1D Car Amplifier\\nHifonics Ze...  \n",
       "1  3x Nokia Lumia 521 (TMobile) Premium AntiGlare...  \n",
       "2  Cook! Collection Solid Color Jacquard Terry Ki...  \n",
       "3  NCAA VCU Rams Ash Distressed Logo Vintage Tshi...  \n",
       "4  1Pack of 3  Cavilon Durable Barrier Cream MMM3...  "
      ]
     },
     "execution_count": 30,
     "metadata": {},
     "output_type": "execute_result"
    }
   ],
   "source": [
    "import pandas as pd\n",
    "\n",
    "reviews_path = \"/media/ohtar10/Adder-Storage/datasets/amazon/rev_prod_documents/10m\"\n",
    "reviews = pd.read_parquet(reviews_path, engine=\"pyarrow\")\n",
    "reviews.head()"
   ]
  },
  {
   "cell_type": "code",
   "execution_count": 3,
   "metadata": {},
   "outputs": [
    {
     "data": {
      "text/plain": [
       "categories    8914930\n",
       "document      8914930\n",
       "dtype: int64"
      ]
     },
     "execution_count": 3,
     "metadata": {},
     "output_type": "execute_result"
    }
   ],
   "source": [
    "reviews.count()"
   ]
  },
  {
   "cell_type": "code",
   "execution_count": 4,
   "metadata": {},
   "outputs": [
    {
     "data": {
      "text/plain": [
       "(8914930, 2)"
      ]
     },
     "execution_count": 4,
     "metadata": {},
     "output_type": "execute_result"
    }
   ],
   "source": [
    "reviews.shape"
   ]
  },
  {
   "cell_type": "markdown",
   "metadata": {},
   "source": [
    "## Document Vector training"
   ]
  },
  {
   "cell_type": "code",
   "execution_count": 6,
   "metadata": {},
   "outputs": [
    {
     "name": "stderr",
     "output_type": "stream",
     "text": [
      "[nltk_data] Downloading package punkt to /home/ohtar10/nltk_data...\n",
      "[nltk_data]   Package punkt is already up-to-date!\n"
     ]
    },
    {
     "data": {
      "text/plain": [
       "True"
      ]
     },
     "execution_count": 6,
     "metadata": {},
     "output_type": "execute_result"
    }
   ],
   "source": [
    "from gensim.models.doc2vec import Doc2Vec, TaggedDocument\n",
    "import nltk\n",
    "from nltk.tokenize import word_tokenize\n",
    "\n",
    "nltk.download('punkt')"
   ]
  },
  {
   "cell_type": "code",
   "execution_count": 31,
   "metadata": {},
   "outputs": [],
   "source": [
    "n = 1000000\n",
    "documents = reviews[:n]"
   ]
  },
  {
   "cell_type": "code",
   "execution_count": 7,
   "metadata": {},
   "outputs": [
    {
     "name": "stdout",
     "output_type": "stream",
     "text": [
      "CPU times: user 8min 35s, sys: 2.81 s, total: 8min 38s\n",
      "Wall time: 8min 39s\n"
     ]
    }
   ],
   "source": [
    "%%time\n",
    "tagged_documents = [TaggedDocument(words=word_tokenize(doc.lower()), tags=cat.split(\";\")) for cat, doc in documents.values]"
   ]
  },
  {
   "cell_type": "code",
   "execution_count": 9,
   "metadata": {},
   "outputs": [
    {
     "data": {
      "text/plain": [
       "TaggedDocument(words=['3x', 'nokia', 'lumia', '521', '(', 'tmobile', ')', 'premium', 'antiglare', 'antifingerprint', 'matte', 'finishing', 'lcd', 'screen', 'protector', 'guard', 'shield', 'cover', 'kits', '.', '(', 'guarmor', 'brand', ')', 'guarmor', 'branded1', ')', 'designed', 'and', 'manufactured', 'by', 'guarmor', '.', 'satisfaction', 'is', 'guaranteed', '!', '2', ')', 'lcd', 'screen', 'protectors', 'designed', 'for', 'nokia', 'lumia', '521', '(', 'tmobile', ')', ',', 'no', 'cutting', 'required', '!', '3', ')', 'easy', 'to', 'install', ',', 'selfadhering', 'to', 'the', 'screen', 'surface', '.', 'it', 'will', 'leaves', 'no', 'sticky', 'residue', 'if', 'you', 'decide', 'to', 'remove', 'it', 'later.4', ')', 'does', 'not', 'interfere', 'with', 'a', 'touch', 'display', 'and', 'writing', 'surface', ',', 'gives', 'pleasant', 'feel', 'and', 'excellent', 'character', 'recognition.5', ')', 'this', 'is', 'not', 'a', 'onesizefitsall', 'solution', ',', 'each', 'screen', 'protector', 'is', 'designed', 'and', 'precut', 'to', 'fit', 'the', 'device', 'screen', ',', 'cover', 'full', 'screen', ',', 'including', 'nonpicture', 'area', '.'], tags=['Technology, Electronics & Accessories'])"
      ]
     },
     "execution_count": 9,
     "metadata": {},
     "output_type": "execute_result"
    }
   ],
   "source": [
    "tagged_documents[1]"
   ]
  },
  {
   "cell_type": "code",
   "execution_count": 10,
   "metadata": {},
   "outputs": [
    {
     "name": "stdout",
     "output_type": "stream",
     "text": [
      "CPU times: user 1d 3h 38min 23s, sys: 27min 25s, total: 1d 4h 5min 48s\n",
      "Wall time: 10h 52min 21s\n"
     ]
    }
   ],
   "source": [
    "%%time\n",
    "max_epochs = 100\n",
    "vec_size = 300\n",
    "alpha = 0.025\n",
    "\n",
    "# dm = 0: Distributed BoW PV-DBOW\n",
    "# dm = 1 : Distributed Memory PV-DM\n",
    "d2v_model = Doc2Vec(vector_size=vec_size,\n",
    "               alpha=alpha,\n",
    "               min_alpha=0.00025,\n",
    "               min_count=1,\n",
    "               dm=0)\n",
    "\n",
    "d2v_model.build_vocab(tagged_documents)\n",
    "\n",
    "for each in range(max_epochs):\n",
    "    d2v_model.train(tagged_documents,\n",
    "               total_examples=d2v_model.corpus_count,\n",
    "               epochs=d2v_model.epochs)\n",
    "    # decrease the learning rate\n",
    "    d2v_model.alpha -= 0.0002\n",
    "    # fix the learning rate, no decay\n",
    "    d2v_model.min_alpha = d2v_model.alpha"
   ]
  },
  {
   "cell_type": "code",
   "execution_count": 11,
   "metadata": {},
   "outputs": [],
   "source": [
    "d2v_model.save(\"../../models/gensim/products_d2v.model\")"
   ]
  },
  {
   "cell_type": "code",
   "execution_count": 50,
   "metadata": {},
   "outputs": [],
   "source": [
    "from gensim.models import Doc2Vec\n",
    "\n",
    "d2v_model = Doc2Vec.load(\"../../models/gensim/products_d2v.model\")"
   ]
  },
  {
   "cell_type": "code",
   "execution_count": 12,
   "metadata": {},
   "outputs": [
    {
     "data": {
      "text/plain": [
       "[('Home & Kitchen', 0.3805498480796814),\n",
       " ('Technology, Electronics & Accessories', 0.35163936018943787),\n",
       " ('Office & School Supplies', 0.35160428285598755),\n",
       " ('Toys & Games', 0.34936487674713135),\n",
       " ('Clothing, Shoes & Jewelry', 0.33271661400794983),\n",
       " ('Books', 0.32761168479919434),\n",
       " ('Health & Personal Care', 0.3170570433139801),\n",
       " ('Health, Fitness & Dieting', 0.297380656003952),\n",
       " ('Movies & TV', 0.2865700125694275),\n",
       " ('Music', 0.28419432044029236)]"
      ]
     },
     "execution_count": 12,
     "metadata": {},
     "output_type": "execute_result"
    }
   ],
   "source": [
    "test_document = \"I love this new gadget, it is a true master piece of engineering and it makes my life way easier, I totally recommend to buy one\"\n",
    "test_document_v = d2v_model.infer_vector(word_tokenize(test_document))\n",
    "d2v_model.docvecs.most_similar(positive=[test_document_v])"
   ]
  },
  {
   "cell_type": "code",
   "execution_count": 13,
   "metadata": {},
   "outputs": [
    {
     "data": {
      "text/plain": [
       "[('Toys & Games', 0.34747231006622314),\n",
       " ('Health, Fitness & Dieting', 0.33359766006469727),\n",
       " ('Home & Kitchen', 0.32359570264816284),\n",
       " ('Books', 0.32317599654197693),\n",
       " ('Office & School Supplies', 0.3199310004711151),\n",
       " ('Music', 0.3192870616912842),\n",
       " ('Clothing, Shoes & Jewelry', 0.3115861415863037),\n",
       " ('Technology, Electronics & Accessories', 0.3069113790988922),\n",
       " ('Health & Personal Care', 0.29803726077079773),\n",
       " ('Movies & TV', 0.2950770854949951)]"
      ]
     },
     "execution_count": 13,
     "metadata": {},
     "output_type": "execute_result"
    }
   ],
   "source": [
    "test_document = \"My son loves to play with it, it always has a lot of fun playing with it!\"\n",
    "test_document_v = d2v_model.infer_vector(word_tokenize(test_document))\n",
    "d2v_model.docvecs.most_similar(positive=[test_document_v])"
   ]
  },
  {
   "cell_type": "code",
   "execution_count": 14,
   "metadata": {},
   "outputs": [
    {
     "data": {
      "text/plain": [
       "[('Home & Kitchen', 0.3551204204559326),\n",
       " ('Technology, Electronics & Accessories', 0.354775995016098),\n",
       " ('Books', 0.3473525047302246),\n",
       " ('Toys & Games', 0.3466116189956665),\n",
       " ('Office & School Supplies', 0.34366923570632935),\n",
       " ('Music', 0.3408482074737549),\n",
       " ('Movies & TV', 0.3400914669036865),\n",
       " ('Clothing, Shoes & Jewelry', 0.3192061185836792),\n",
       " ('Health, Fitness & Dieting', 0.30710554122924805),\n",
       " ('Health & Personal Care', 0.290094792842865)]"
      ]
     },
     "execution_count": 14,
     "metadata": {},
     "output_type": "execute_result"
    }
   ],
   "source": [
    "test_document = \"This movie is a complete master peace, the actors and the music were superb and you can't stop watching!\"\n",
    "test_document_v = d2v_model.infer_vector(word_tokenize(test_document))\n",
    "d2v_model.docvecs.most_similar(positive=[test_document_v])"
   ]
  },
  {
   "cell_type": "markdown",
   "metadata": {},
   "source": [
    "## Classification of the categories"
   ]
  },
  {
   "cell_type": "code",
   "execution_count": 32,
   "metadata": {},
   "outputs": [],
   "source": [
    "categories = documents.categories.apply(lambda cat: cat.split(\";\")).values.tolist()"
   ]
  },
  {
   "cell_type": "code",
   "execution_count": 38,
   "metadata": {},
   "outputs": [
    {
     "data": {
      "text/plain": [
       "MultiLabelBinarizer(classes=None, sparse_output=False)"
      ]
     },
     "execution_count": 38,
     "metadata": {},
     "output_type": "execute_result"
    }
   ],
   "source": [
    "from sklearn.preprocessing import MultiLabelBinarizer\n",
    "\n",
    "categories_encoder = MultiLabelBinarizer()\n",
    "categories_encoder.fit(categories)"
   ]
  },
  {
   "cell_type": "code",
   "execution_count": 16,
   "metadata": {},
   "outputs": [
    {
     "name": "stdout",
     "output_type": "stream",
     "text": [
      "CPU times: user 22min 43s, sys: 4.12 s, total: 22min 48s\n",
      "Wall time: 22min 48s\n"
     ]
    }
   ],
   "source": [
    "%%time\n",
    "from sklearn.model_selection import train_test_split\n",
    "import numpy as np\n",
    "\n",
    "y = categories_encoder.transform(categories)\n",
    "X = map(word_tokenize, documents.document.values)\n",
    "X = map(d2v_model.infer_vector, X)\n",
    "X = np.array(list(X))\n",
    "\n",
    "X_train, X_test, y_train, y_test = train_test_split(X, y, test_size=0.3)"
   ]
  },
  {
   "cell_type": "code",
   "execution_count": 20,
   "metadata": {},
   "outputs": [],
   "source": [
    "np.savez_compressed(\"../../datasets/amazon/product_embeddings.npz\", x_train=X_train, x_test=X_test, y_train=y_train, y_test=y_test)"
   ]
  },
  {
   "cell_type": "code",
   "execution_count": 1,
   "metadata": {},
   "outputs": [],
   "source": [
    "import numpy as np\n",
    "\n",
    "embeddings = np.load(\"../../datasets/amazon/product_embeddings.npz\")\n",
    "X_train = embeddings['x_train']\n",
    "X_test = embeddings['x_test']\n",
    "y_train = embeddings['y_train']\n",
    "y_test = embeddings['y_test']"
   ]
  },
  {
   "cell_type": "code",
   "execution_count": 3,
   "metadata": {},
   "outputs": [],
   "source": [
    "import tensorflow as tf\n",
    "from tensorflow.python.client import device_lib\n",
    "from keras import backend as K\n",
    "\n",
    "s_config = tf.ConfigProto()\n",
    "#s_config.gpu_options.allow_growth = True\n",
    "s_config.gpu_options.per_process_gpu_memory_fraction = 0.6\n",
    "tf.keras.backend.set_session(tf.Session(config=s_config))\n",
    "\n",
    "\n",
    "def show_framework_devices():\n",
    "    \"\"\"Just prints the devices the frameworks are using\n",
    "    at the moment. It will help us to tell if they are indeed\n",
    "    using GPU's or not\"\"\"\n",
    "    print(\"Tensorflow registered devices:\", device_lib.list_local_devices())\n",
    "    print(\"Keras registered GPUs\", K.tensorflow_backend._get_available_gpus())"
   ]
  },
  {
   "cell_type": "code",
   "execution_count": 4,
   "metadata": {},
   "outputs": [
    {
     "name": "stdout",
     "output_type": "stream",
     "text": [
      "Tensorflow registered devices: [name: \"/device:CPU:0\"\n",
      "device_type: \"CPU\"\n",
      "memory_limit: 268435456\n",
      "locality {\n",
      "}\n",
      "incarnation: 46447344789896061\n",
      ", name: \"/device:XLA_CPU:0\"\n",
      "device_type: \"XLA_CPU\"\n",
      "memory_limit: 17179869184\n",
      "locality {\n",
      "}\n",
      "incarnation: 16641895040927799368\n",
      "physical_device_desc: \"device: XLA_CPU device\"\n",
      ", name: \"/device:GPU:0\"\n",
      "device_type: \"GPU\"\n",
      "memory_limit: 5022036787\n",
      "locality {\n",
      "  bus_id: 1\n",
      "  links {\n",
      "  }\n",
      "}\n",
      "incarnation: 15780424574540952490\n",
      "physical_device_desc: \"device: 0, name: GeForce RTX 2070, pci bus id: 0000:01:00.0, compute capability: 7.5\"\n",
      ", name: \"/device:XLA_GPU:0\"\n",
      "device_type: \"XLA_GPU\"\n",
      "memory_limit: 17179869184\n",
      "locality {\n",
      "}\n",
      "incarnation: 6653807442709229544\n",
      "physical_device_desc: \"device: XLA_GPU device\"\n",
      "]\n",
      "Keras registered GPUs ['/job:localhost/replica:0/task:0/device:GPU:0']\n"
     ]
    }
   ],
   "source": [
    "show_framework_devices()"
   ]
  },
  {
   "cell_type": "code",
   "execution_count": 5,
   "metadata": {},
   "outputs": [
    {
     "data": {
      "text/plain": [
       "(700000, 300)"
      ]
     },
     "execution_count": 5,
     "metadata": {},
     "output_type": "execute_result"
    }
   ],
   "source": [
    "X_train.shape"
   ]
  },
  {
   "cell_type": "code",
   "execution_count": 16,
   "metadata": {},
   "outputs": [],
   "source": [
    "vec_size = 300\n",
    "classes = y_train[0].shape[0]"
   ]
  },
  {
   "cell_type": "code",
   "execution_count": 23,
   "metadata": {},
   "outputs": [
    {
     "name": "stdout",
     "output_type": "stream",
     "text": [
      "_________________________________________________________________\n",
      "Layer (type)                 Output Shape              Param #   \n",
      "=================================================================\n",
      "comment_text (InputLayer)    (None, 300, 1)            0         \n",
      "_________________________________________________________________\n",
      "conv1d_17 (Conv1D)           (None, 298, 64)           256       \n",
      "_________________________________________________________________\n",
      "max_pooling1d_17 (MaxPooling (None, 149, 64)           0         \n",
      "_________________________________________________________________\n",
      "conv1d_18 (Conv1D)           (None, 147, 128)          24704     \n",
      "_________________________________________________________________\n",
      "spatial_dropout1d_9 (Spatial (None, 147, 128)          0         \n",
      "_________________________________________________________________\n",
      "max_pooling1d_18 (MaxPooling (None, 73, 128)           0         \n",
      "_________________________________________________________________\n",
      "conv1d_19 (Conv1D)           (None, 71, 128)           49280     \n",
      "_________________________________________________________________\n",
      "max_pooling1d_19 (MaxPooling (None, 35, 128)           0         \n",
      "_________________________________________________________________\n",
      "spatial_dropout1d_10 (Spatia (None, 35, 128)           0         \n",
      "_________________________________________________________________\n",
      "conv1d_20 (Conv1D)           (None, 33, 64)            24640     \n",
      "_________________________________________________________________\n",
      "max_pooling1d_20 (MaxPooling (None, 16, 64)            0         \n",
      "_________________________________________________________________\n",
      "flatten_5 (Flatten)          (None, 1024)              0         \n",
      "_________________________________________________________________\n",
      "dense_5 (Dense)              (None, 128)               131200    \n",
      "_________________________________________________________________\n",
      "dropout_5 (Dropout)          (None, 128)               0         \n",
      "_________________________________________________________________\n",
      "prediction (Dense)           (None, 10)                1290      \n",
      "=================================================================\n",
      "Total params: 231,370\n",
      "Trainable params: 231,370\n",
      "Non-trainable params: 0\n",
      "_________________________________________________________________\n"
     ]
    }
   ],
   "source": [
    "from keras.layers import Input, Embedding, Bidirectional, Dense, Conv1D, Flatten, MaxPool1D, concatenate, BatchNormalization, Dropout, SpatialDropout1D\n",
    "from keras.models import Model\n",
    "from keras import regularizers\n",
    "\n",
    "#Define the inputs\n",
    "comment_input = Input(shape=(vec_size,1), dtype='float32', name='comment_text')\n",
    "\n",
    "# Put here ->  kernel_regularizer=regularizers.l1_l2(l1=0.1, l2=0.2\n",
    "# Add l2 first, evaluate if there is improvement \n",
    "conv = Conv1D(64, 3, activation='tanh', input_shape=(vec_size,), kernel_regularizer=regularizers.l2())(comment_input)\n",
    "conv = MaxPool1D(2, strides=None, padding='valid')(conv)\n",
    "conv = Conv1D(128, 3, activation='tanh')(conv)\n",
    "conv = SpatialDropout1D(0.2)(conv)\n",
    "conv = MaxPool1D(2, strides=None, padding='valid')(conv)\n",
    "conv = Conv1D(128, 3, activation='tanh')(conv)\n",
    "conv = MaxPool1D(2, strides=None, padding='valid')(conv)\n",
    "conv = SpatialDropout1D(0.1)(conv)\n",
    "conv = Conv1D(64, 3, activation='tanh')(conv)\n",
    "conv = MaxPool1D(2, strides=None, padding='valid')(conv)\n",
    "conv_output = Flatten()(conv)\n",
    "\n",
    "\n",
    "#Apply a dense layers\n",
    "# minimize the dense layers - maybe add one of 64\n",
    "x = Dense(128, activation='relu')(conv_output)\n",
    "x = Dropout(0.5)(x)\n",
    "\n",
    "#And finally make the predictions using the previous layer as input\n",
    "main_output = Dense(classes, activation='softmax', name='prediction')(x)\n",
    "\n",
    "ann_model = Model(inputs=comment_input, outputs=main_output)\n",
    "ann_model.compile(optimizer='adam', loss='categorical_crossentropy', metrics=['accuracy'])\n",
    "ann_model.summary()"
   ]
  },
  {
   "cell_type": "code",
   "execution_count": 24,
   "metadata": {},
   "outputs": [
    {
     "name": "stdout",
     "output_type": "stream",
     "text": [
      "Train on 560000 samples, validate on 140000 samples\n",
      "Epoch 1/100\n",
      "560000/560000 [==============================] - 22s 40us/step - loss: 0.7755 - acc: 0.7720 - val_loss: 0.5210 - val_acc: 0.8490\n",
      "Epoch 2/100\n",
      "560000/560000 [==============================] - 22s 39us/step - loss: 0.5603 - acc: 0.8394 - val_loss: 0.4801 - val_acc: 0.8592\n",
      "Epoch 3/100\n",
      "560000/560000 [==============================] - 22s 40us/step - loss: 0.5267 - acc: 0.8482 - val_loss: 0.4703 - val_acc: 0.8620\n",
      "Epoch 4/100\n",
      "560000/560000 [==============================] - 22s 40us/step - loss: 0.5084 - acc: 0.8528 - val_loss: 0.4540 - val_acc: 0.8671\n",
      "Epoch 5/100\n",
      "560000/560000 [==============================] - 22s 40us/step - loss: 0.4976 - acc: 0.8553 - val_loss: 0.4450 - val_acc: 0.8696\n",
      "Epoch 6/100\n",
      "560000/560000 [==============================] - 22s 39us/step - loss: 0.4896 - acc: 0.8577 - val_loss: 0.4443 - val_acc: 0.8685\n",
      "Epoch 7/100\n",
      "560000/560000 [==============================] - 22s 40us/step - loss: 0.4837 - acc: 0.8593 - val_loss: 0.4389 - val_acc: 0.8706\n",
      "Epoch 8/100\n",
      "560000/560000 [==============================] - 22s 40us/step - loss: 0.4774 - acc: 0.8610 - val_loss: 0.4350 - val_acc: 0.8716\n",
      "Epoch 9/100\n",
      "560000/560000 [==============================] - 22s 40us/step - loss: 0.4734 - acc: 0.8621 - val_loss: 0.4325 - val_acc: 0.8727\n",
      "Epoch 10/100\n",
      "560000/560000 [==============================] - 23s 40us/step - loss: 0.4691 - acc: 0.8628 - val_loss: 0.4312 - val_acc: 0.8732\n",
      "Epoch 11/100\n",
      "560000/560000 [==============================] - 23s 40us/step - loss: 0.4663 - acc: 0.8637 - val_loss: 0.4297 - val_acc: 0.8732\n",
      "Epoch 12/100\n",
      "560000/560000 [==============================] - 22s 40us/step - loss: 0.4632 - acc: 0.8645 - val_loss: 0.4288 - val_acc: 0.8739\n",
      "Epoch 13/100\n",
      "560000/560000 [==============================] - 22s 40us/step - loss: 0.4620 - acc: 0.8648 - val_loss: 0.4295 - val_acc: 0.8735\n",
      "Epoch 14/100\n",
      "560000/560000 [==============================] - 22s 40us/step - loss: 0.4589 - acc: 0.8657 - val_loss: 0.4252 - val_acc: 0.8742\n",
      "Epoch 15/100\n",
      "560000/560000 [==============================] - 22s 40us/step - loss: 0.4565 - acc: 0.8661 - val_loss: 0.4253 - val_acc: 0.8748\n",
      "Epoch 16/100\n",
      "560000/560000 [==============================] - 22s 40us/step - loss: 0.4542 - acc: 0.8665 - val_loss: 0.4251 - val_acc: 0.8747\n",
      "Epoch 17/100\n",
      "560000/560000 [==============================] - 22s 40us/step - loss: 0.4540 - acc: 0.8667 - val_loss: 0.4243 - val_acc: 0.8750\n",
      "Epoch 18/100\n",
      "560000/560000 [==============================] - 22s 40us/step - loss: 0.4514 - acc: 0.8672 - val_loss: 0.4208 - val_acc: 0.8761\n",
      "Epoch 19/100\n",
      "560000/560000 [==============================] - 22s 40us/step - loss: 0.4502 - acc: 0.8674 - val_loss: 0.4241 - val_acc: 0.8754\n",
      "Epoch 20/100\n",
      "560000/560000 [==============================] - 22s 40us/step - loss: 0.4479 - acc: 0.8681 - val_loss: 0.4222 - val_acc: 0.8761\n",
      "Epoch 21/100\n",
      "560000/560000 [==============================] - 23s 40us/step - loss: 0.4475 - acc: 0.8683 - val_loss: 0.4195 - val_acc: 0.8767\n",
      "Epoch 22/100\n",
      "560000/560000 [==============================] - 23s 40us/step - loss: 0.4457 - acc: 0.8688 - val_loss: 0.4191 - val_acc: 0.8768\n",
      "Epoch 23/100\n",
      "560000/560000 [==============================] - 23s 40us/step - loss: 0.4452 - acc: 0.8689 - val_loss: 0.4234 - val_acc: 0.8761\n",
      "Epoch 24/100\n",
      "560000/560000 [==============================] - 23s 40us/step - loss: 0.4432 - acc: 0.8690 - val_loss: 0.4189 - val_acc: 0.8766\n",
      "Epoch 25/100\n",
      "560000/560000 [==============================] - 23s 41us/step - loss: 0.4427 - acc: 0.8700 - val_loss: 0.4204 - val_acc: 0.8768\n",
      "Epoch 26/100\n",
      "560000/560000 [==============================] - 23s 40us/step - loss: 0.4417 - acc: 0.8699 - val_loss: 0.4206 - val_acc: 0.8770\n",
      "Epoch 27/100\n",
      "560000/560000 [==============================] - 23s 40us/step - loss: 0.4413 - acc: 0.8697 - val_loss: 0.4224 - val_acc: 0.8769\n",
      "Epoch 28/100\n",
      "560000/560000 [==============================] - 22s 40us/step - loss: 0.4399 - acc: 0.8701 - val_loss: 0.4207 - val_acc: 0.8772\n",
      "Epoch 29/100\n",
      "560000/560000 [==============================] - 22s 40us/step - loss: 0.4391 - acc: 0.8706 - val_loss: 0.4200 - val_acc: 0.8776\n",
      "Epoch 30/100\n",
      "560000/560000 [==============================] - 22s 40us/step - loss: 0.4391 - acc: 0.8700 - val_loss: 0.4185 - val_acc: 0.8771\n",
      "Epoch 31/100\n",
      "560000/560000 [==============================] - 23s 40us/step - loss: 0.4381 - acc: 0.8707 - val_loss: 0.4214 - val_acc: 0.8774\n",
      "Epoch 32/100\n",
      "560000/560000 [==============================] - 23s 40us/step - loss: 0.4362 - acc: 0.8709 - val_loss: 0.4204 - val_acc: 0.8768\n",
      "Epoch 33/100\n",
      "560000/560000 [==============================] - 22s 40us/step - loss: 0.4364 - acc: 0.8713 - val_loss: 0.4189 - val_acc: 0.8779\n",
      "Epoch 34/100\n",
      "560000/560000 [==============================] - 23s 41us/step - loss: 0.4352 - acc: 0.8713 - val_loss: 0.4194 - val_acc: 0.8770\n",
      "Epoch 35/100\n",
      "560000/560000 [==============================] - 23s 40us/step - loss: 0.4342 - acc: 0.8720 - val_loss: 0.4203 - val_acc: 0.8768\n",
      "Epoch 36/100\n",
      "560000/560000 [==============================] - 22s 40us/step - loss: 0.4349 - acc: 0.8715 - val_loss: 0.4200 - val_acc: 0.8774\n",
      "Epoch 37/100\n",
      "560000/560000 [==============================] - 23s 40us/step - loss: 0.4335 - acc: 0.8718 - val_loss: 0.4183 - val_acc: 0.8775\n",
      "Epoch 38/100\n",
      "560000/560000 [==============================] - 23s 40us/step - loss: 0.4340 - acc: 0.8716 - val_loss: 0.4239 - val_acc: 0.8768\n",
      "Epoch 39/100\n",
      "560000/560000 [==============================] - 22s 40us/step - loss: 0.4323 - acc: 0.8723 - val_loss: 0.4183 - val_acc: 0.8768\n",
      "Epoch 40/100\n",
      "560000/560000 [==============================] - 23s 40us/step - loss: 0.4322 - acc: 0.8720 - val_loss: 0.4217 - val_acc: 0.8777\n",
      "Epoch 41/100\n",
      "560000/560000 [==============================] - 22s 40us/step - loss: 0.4317 - acc: 0.8723 - val_loss: 0.4190 - val_acc: 0.8766\n",
      "Epoch 42/100\n",
      "560000/560000 [==============================] - 23s 40us/step - loss: 0.4317 - acc: 0.8723 - val_loss: 0.4189 - val_acc: 0.8776\n",
      "Epoch 43/100\n",
      "560000/560000 [==============================] - 23s 40us/step - loss: 0.4295 - acc: 0.8730 - val_loss: 0.4187 - val_acc: 0.8770\n",
      "Epoch 44/100\n",
      "560000/560000 [==============================] - 23s 41us/step - loss: 0.4296 - acc: 0.8728 - val_loss: 0.4194 - val_acc: 0.8775\n",
      "Epoch 45/100\n",
      "560000/560000 [==============================] - 23s 41us/step - loss: 0.4296 - acc: 0.8726 - val_loss: 0.4173 - val_acc: 0.8781\n",
      "Epoch 46/100\n",
      "560000/560000 [==============================] - 23s 41us/step - loss: 0.4294 - acc: 0.8731 - val_loss: 0.4183 - val_acc: 0.8779\n",
      "Epoch 47/100\n",
      "560000/560000 [==============================] - 23s 41us/step - loss: 0.4289 - acc: 0.8729 - val_loss: 0.4203 - val_acc: 0.8774\n",
      "Epoch 48/100\n",
      "560000/560000 [==============================] - 23s 41us/step - loss: 0.4288 - acc: 0.8731 - val_loss: 0.4214 - val_acc: 0.8769\n",
      "Epoch 49/100\n",
      "560000/560000 [==============================] - 23s 41us/step - loss: 0.4280 - acc: 0.8733 - val_loss: 0.4173 - val_acc: 0.8780\n",
      "Epoch 50/100\n",
      "560000/560000 [==============================] - 23s 41us/step - loss: 0.4273 - acc: 0.8733 - val_loss: 0.4191 - val_acc: 0.8782\n",
      "Epoch 51/100\n",
      "560000/560000 [==============================] - 23s 41us/step - loss: 0.4279 - acc: 0.8728 - val_loss: 0.4199 - val_acc: 0.8771\n",
      "Epoch 52/100\n",
      "560000/560000 [==============================] - 23s 41us/step - loss: 0.4276 - acc: 0.8730 - val_loss: 0.4182 - val_acc: 0.8779\n",
      "Epoch 53/100\n",
      "560000/560000 [==============================] - 23s 41us/step - loss: 0.4262 - acc: 0.8733 - val_loss: 0.4241 - val_acc: 0.8771\n",
      "Epoch 54/100\n",
      "560000/560000 [==============================] - 23s 41us/step - loss: 0.4257 - acc: 0.8733 - val_loss: 0.4166 - val_acc: 0.8783\n",
      "Epoch 55/100\n",
      "560000/560000 [==============================] - 23s 41us/step - loss: 0.4260 - acc: 0.8738 - val_loss: 0.4178 - val_acc: 0.8784\n",
      "Epoch 56/100\n",
      "560000/560000 [==============================] - 23s 41us/step - loss: 0.4257 - acc: 0.8738 - val_loss: 0.4166 - val_acc: 0.8780\n",
      "Epoch 57/100\n",
      "560000/560000 [==============================] - 23s 41us/step - loss: 0.4258 - acc: 0.8737 - val_loss: 0.4223 - val_acc: 0.8775\n",
      "Epoch 58/100\n",
      "560000/560000 [==============================] - 23s 41us/step - loss: 0.4245 - acc: 0.8743 - val_loss: 0.4173 - val_acc: 0.8782\n",
      "Epoch 59/100\n",
      "560000/560000 [==============================] - 23s 40us/step - loss: 0.4252 - acc: 0.8741 - val_loss: 0.4172 - val_acc: 0.8779\n",
      "Epoch 60/100\n",
      "560000/560000 [==============================] - 23s 41us/step - loss: 0.4235 - acc: 0.8740 - val_loss: 0.4181 - val_acc: 0.8778\n",
      "Epoch 61/100\n",
      "560000/560000 [==============================] - 23s 41us/step - loss: 0.4238 - acc: 0.8740 - val_loss: 0.4181 - val_acc: 0.8781\n",
      "Epoch 62/100\n",
      "560000/560000 [==============================] - 23s 41us/step - loss: 0.4233 - acc: 0.8743 - val_loss: 0.4167 - val_acc: 0.8791\n",
      "Epoch 63/100\n",
      "560000/560000 [==============================] - 23s 40us/step - loss: 0.4238 - acc: 0.8739 - val_loss: 0.4188 - val_acc: 0.8777\n",
      "Epoch 64/100\n",
      "560000/560000 [==============================] - 23s 41us/step - loss: 0.4228 - acc: 0.8740 - val_loss: 0.4168 - val_acc: 0.8790\n",
      "Epoch 65/100\n",
      "560000/560000 [==============================] - 23s 41us/step - loss: 0.4226 - acc: 0.8741 - val_loss: 0.4151 - val_acc: 0.8787\n",
      "Epoch 66/100\n",
      "560000/560000 [==============================] - 23s 41us/step - loss: 0.4224 - acc: 0.8745 - val_loss: 0.4184 - val_acc: 0.8772\n",
      "Epoch 67/100\n",
      "560000/560000 [==============================] - 23s 41us/step - loss: 0.4218 - acc: 0.8744 - val_loss: 0.4215 - val_acc: 0.8777\n",
      "Epoch 68/100\n",
      "560000/560000 [==============================] - 23s 41us/step - loss: 0.4218 - acc: 0.8744 - val_loss: 0.4179 - val_acc: 0.8780\n",
      "Epoch 69/100\n",
      "560000/560000 [==============================] - 23s 41us/step - loss: 0.4208 - acc: 0.8746 - val_loss: 0.4203 - val_acc: 0.8776\n",
      "Epoch 70/100\n",
      "560000/560000 [==============================] - 23s 41us/step - loss: 0.4212 - acc: 0.8745 - val_loss: 0.4190 - val_acc: 0.8782\n",
      "Epoch 71/100\n",
      "560000/560000 [==============================] - 23s 40us/step - loss: 0.4218 - acc: 0.8746 - val_loss: 0.4186 - val_acc: 0.8777\n",
      "Epoch 72/100\n",
      "560000/560000 [==============================] - 22s 40us/step - loss: 0.4204 - acc: 0.8748 - val_loss: 0.4185 - val_acc: 0.8779\n",
      "Epoch 73/100\n",
      "560000/560000 [==============================] - 23s 40us/step - loss: 0.4210 - acc: 0.8748 - val_loss: 0.4180 - val_acc: 0.8784\n",
      "Epoch 74/100\n",
      "560000/560000 [==============================] - 23s 41us/step - loss: 0.4201 - acc: 0.8750 - val_loss: 0.4194 - val_acc: 0.8784\n",
      "Epoch 75/100\n",
      "560000/560000 [==============================] - 23s 40us/step - loss: 0.4203 - acc: 0.8752 - val_loss: 0.4181 - val_acc: 0.8779\n",
      "CPU times: user 21min 47s, sys: 35.7 s, total: 22min 23s\n",
      "Wall time: 28min 13s\n"
     ]
    }
   ],
   "source": [
    "%%time\n",
    "from keras.callbacks import EarlyStopping\n",
    "\n",
    "early_stopping = EarlyStopping(monitor='val_loss', patience=10, min_delta=1e-7, restore_best_weights=True)\n",
    "\n",
    "X_train_rs = X_train.reshape(X_train.shape[0], X_train.shape[1], 1)\n",
    "history = ann_model.fit(X_train_rs, y_train, epochs = 100, batch_size = 1000, validation_split= 0.2, callbacks=[early_stopping])"
   ]
  },
  {
   "cell_type": "code",
   "execution_count": 19,
   "metadata": {},
   "outputs": [],
   "source": [
    "import matplotlib.pyplot as plt\n",
    "\n",
    "def plot_history(cnn, acc= 'acc', val_acc = 'val_acc', loss = 'loss', val_loss = 'val_loss'):\n",
    "    fig = plt.figure(figsize = (16, 8))\n",
    "    plt.subplot(1, 2, 1)\n",
    "    plt.title('Accuracy in training Vs validation')\n",
    "    plt.ylabel('Accuracy')\n",
    "    plt.xlabel('Epoch')\n",
    "    plt.plot(cnn.history[acc], 'r')\n",
    "    plt.plot(cnn.history[val_acc], 'b')\n",
    "    plt.legend(['training', 'validation'])\n",
    "    \n",
    "    plt.subplot(1, 2, 2)\n",
    "    plt.title('Loss in training Vs validation')\n",
    "    plt.ylabel('Loss')\n",
    "    plt.xlabel('Epoch')\n",
    "    plt.plot(cnn.history[loss], 'r')\n",
    "    plt.plot(cnn.history[val_loss], 'b')\n",
    "    plt.legend(['training', 'validation'])\n",
    "    \n",
    "    plt.show()"
   ]
  },
  {
   "cell_type": "code",
   "execution_count": 25,
   "metadata": {},
   "outputs": [
    {
     "data": {
      "image/png": "[encoded data removed]",
      "text/plain": [
       "<Figure size 1152x576 with 2 Axes>"
      ]
     },
     "metadata": {
      "needs_background": "light"
     },
     "output_type": "display_data"
    }
   ],
   "source": [
    "plot_history(history, \n",
    "             acc='acc', \n",
    "             val_acc='val_acc', \n",
    "             loss='loss', \n",
    "             val_loss='val_loss')"
   ]
  },
  {
   "cell_type": "markdown",
   "metadata": {},
   "source": [
    "### Persist the model for further usage"
   ]
  },
  {
   "cell_type": "code",
   "execution_count": 26,
   "metadata": {},
   "outputs": [],
   "source": [
    "base_path = \"../../models/keras/products\"\n",
    "definition_path = f\"{base_path}/ann_products_definition.yaml\"\n",
    "weights_path = f\"{base_path}/ann_products_definition.h5\"\n",
    "\n",
    "ann_model_definition = ann_model.to_yaml()\n",
    "with open(definition_path, 'w') as file:\n",
    "    file.write(ann_model_definition)\n",
    "\n",
    "ann_mode_weights = ann_model.save_weights(weights_path)"
   ]
  },
  {
   "cell_type": "code",
   "execution_count": 33,
   "metadata": {},
   "outputs": [
    {
     "name": "stderr",
     "output_type": "stream",
     "text": [
      "/home/ohtar10/miniconda3/envs/wtsp/lib/python3.6/site-packages/keras/engine/saving.py:473: YAMLLoadWarning: calling yaml.load() without Loader=... is deprecated, as the default Loader is unsafe. Please read https://msg.pyyaml.org/load for full details.\n",
      "  config = yaml.load(yaml_string)\n"
     ]
    }
   ],
   "source": [
    "from keras.models import model_from_yaml\n",
    "with open(definition_path, 'r') as file:\n",
    "    product_class_predictor = model_from_yaml(file.read())\n",
    "\n",
    "product_class_predictor.load_weights(weights_path)"
   ]
  },
  {
   "cell_type": "code",
   "execution_count": 45,
   "metadata": {},
   "outputs": [],
   "source": [
    "cats = categories_encoder.classes_.tolist()"
   ]
  },
  {
   "cell_type": "code",
   "execution_count": 34,
   "metadata": {},
   "outputs": [],
   "source": [
    "i = 326\n",
    "instance = X_train_rs[i]\n",
    "instances = np.array([instance])\n",
    "prediction = product_class_predictor.predict(instances)"
   ]
  },
  {
   "cell_type": "code",
   "execution_count": 35,
   "metadata": {},
   "outputs": [
    {
     "data": {
      "text/plain": [
       "array([[2.7531281e-04],\n",
       "       [2.3959453e-04],\n",
       "       [2.9792539e-03],\n",
       "       [1.0652000e-09],\n",
       "       [5.9397145e-05],\n",
       "       [1.1610536e-04],\n",
       "       [2.7435714e-02],\n",
       "       [2.5419256e-02],\n",
       "       [8.0721825e-01],\n",
       "       [1.3625707e-01]], dtype=float32)"
      ]
     },
     "execution_count": 35,
     "metadata": {},
     "output_type": "execute_result"
    }
   ],
   "source": [
    "prediction.T"
   ]
  },
  {
   "cell_type": "code",
   "execution_count": 48,
   "metadata": {},
   "outputs": [
    {
     "data": {
      "text/plain": [
       "[('Books', [0.00027531280647963285]),\n",
       " ('Clothing, Shoes & Jewelry', [0.00023959453392308205]),\n",
       " ('Health & Personal Care', [0.0029792538844048977]),\n",
       " ('Health, Fitness & Dieting', [1.0652000392852301e-09]),\n",
       " ('Home & Kitchen', [5.9397145378170535e-05]),\n",
       " ('Movies & TV', [0.00011610535875661299]),\n",
       " ('Music', [0.02743571437895298]),\n",
       " ('Office & School Supplies', [0.02541925571858883]),\n",
       " ('Technology, Electronics & Accessories', [0.8072182536125183]),\n",
       " ('Toys & Games', [0.13625706732273102])]"
      ]
     },
     "execution_count": 48,
     "metadata": {},
     "output_type": "execute_result"
    }
   ],
   "source": [
    "pred = prediction.T.tolist()\n",
    "list(zip(cats, pred))"
   ]
  },
  {
   "cell_type": "code",
   "execution_count": 46,
   "metadata": {},
   "outputs": [
    {
     "data": {
      "text/plain": [
       "[('Technology, Electronics & Accessories',)]"
      ]
     },
     "execution_count": 46,
     "metadata": {},
     "output_type": "execute_result"
    }
   ],
   "source": [
    "actual = np.array([y_train[i]])\n",
    "categories_encoder.inverse_transform(actual)"
   ]
  },
  {
   "cell_type": "code",
   "execution_count": 183,
   "metadata": {},
   "outputs": [
    {
     "data": {
      "text/plain": [
       "['Books',\n",
       " 'Clothing, Shoes & Jewelry',\n",
       " 'Health & Personal Care',\n",
       " 'Health, Fitness & Dieting',\n",
       " 'Home & Kitchen',\n",
       " 'Movies & TV',\n",
       " 'Music',\n",
       " 'Office & School Supplies',\n",
       " 'Technology, Electronics & Accessories',\n",
       " 'Toys & Games']"
      ]
     },
     "execution_count": 183,
     "metadata": {},
     "output_type": "execute_result"
    }
   ],
   "source": [
    "categories_encoder.classes_.tolist()"
   ]
  },
  {
   "cell_type": "code",
   "execution_count": 186,
   "metadata": {},
   "outputs": [
    {
     "name": "stdout",
     "output_type": "stream",
     "text": [
      "Health, Fitness & Dieting;Books At a whopping 272 pages I was extremely happy with the amount of information in this book! I really like that it has the most valuable herbs and what theyre good for. There are clear instructions with measurements and steep times to make them into something like an infusion,salve, or tea, in order to use them. No filler in this book, it cuts right to the important stuff. Very helpful reference!\n",
      "\n"
     ]
    }
   ],
   "source": [
    "print(documents.iloc[i].categories, documents.iloc[i].document)"
   ]
  },
  {
   "cell_type": "code",
   "execution_count": 193,
   "metadata": {},
   "outputs": [
    {
     "data": {
      "text/plain": [
       "array([[9.3643916e-01],\n",
       "       [2.6442685e-05],\n",
       "       [5.4344703e-02],\n",
       "       [7.0223724e-03],\n",
       "       [6.3364205e-05],\n",
       "       [5.9322734e-05],\n",
       "       [1.8215749e-05],\n",
       "       [1.3836478e-06],\n",
       "       [1.8657617e-03],\n",
       "       [1.5925262e-04]], dtype=float32)"
      ]
     },
     "execution_count": 193,
     "metadata": {},
     "output_type": "execute_result"
    }
   ],
   "source": [
    "test = d2v_model.infer_vector(word_tokenize(documents.iloc[i].document))\n",
    "test = np.array([test]).reshape(-1, 100, 1)\n",
    "prediction = ann_model.predict(test).T\n",
    "prediction"
   ]
  },
  {
   "cell_type": "code",
   "execution_count": 194,
   "metadata": {},
   "outputs": [
    {
     "data": {
      "text/plain": [
       "[[0.9364391565322876],\n",
       " [2.6442685339134187e-05],\n",
       " [0.05434470251202583],\n",
       " [0.00702237244695425],\n",
       " [6.336420483421534e-05],\n",
       " [5.932273415965028e-05],\n",
       " [1.8215749150840566e-05],\n",
       " [1.3836478274242836e-06],\n",
       " [0.001865761703811586],\n",
       " [0.00015925262414384633]]"
      ]
     },
     "execution_count": 194,
     "metadata": {},
     "output_type": "execute_result"
    }
   ],
   "source": [
    "pred = prediction.tolist()\n",
    "pred"
   ]
  },
  {
   "cell_type": "code",
   "execution_count": 175,
   "metadata": {},
   "outputs": [
    {
     "data": {
      "text/plain": [
       "[(326, ['Health, Fitness & Dieting', 'Books']),\n",
       " (482, ['Health, Fitness & Dieting', 'Books']),\n",
       " (565, ['Health, Fitness & Dieting', 'Books']),\n",
       " (732, ['Music', 'Movies & TV']),\n",
       " (908, ['Music', 'Movies & TV']),\n",
       " (1255, ['Health, Fitness & Dieting', 'Books']),\n",
       " (1529, ['Music', 'Movies & TV']),\n",
       " (1636, ['Music', 'Movies & TV']),\n",
       " (2053, ['Music', 'Movies & TV']),\n",
       " (2255, ['Music', 'Movies & TV']),\n",
       " (2327, ['Health, Fitness & Dieting', 'Books']),\n",
       " (2482, ['Books', 'Music']),\n",
       " (2603, ['Toys & Games', 'Clothing, Shoes & Jewelry']),\n",
       " (2610, ['Books', 'Music']),\n",
       " (2769, ['Music', 'Movies & TV']),\n",
       " (3311, ['Music', 'Movies & TV']),\n",
       " (3579, ['Health, Fitness & Dieting', 'Clothing, Shoes & Jewelry']),\n",
       " (3616, ['Health, Fitness & Dieting', 'Clothing, Shoes & Jewelry']),\n",
       " (3666, ['Music', 'Movies & TV']),\n",
       " (3786, ['Music', 'Movies & TV']),\n",
       " (4125, ['Music', 'Movies & TV']),\n",
       " (4320, ['Health, Fitness & Dieting', 'Clothing, Shoes & Jewelry']),\n",
       " (4364, ['Music', 'Movies & TV']),\n",
       " (4419, ['Health, Fitness & Dieting', 'Books']),\n",
       " (4638, ['Health & Personal Care', 'Technology, Electronics & Accessories']),\n",
       " (4813, ['Music', 'Movies & TV']),\n",
       " (4839, ['Music', 'Movies & TV']),\n",
       " (5094, ['Music', 'Movies & TV']),\n",
       " (5216, ['Music', 'Movies & TV']),\n",
       " (5220, ['Health, Fitness & Dieting', 'Clothing, Shoes & Jewelry']),\n",
       " (5615, ['Music', 'Movies & TV']),\n",
       " (5639, ['Health, Fitness & Dieting', 'Clothing, Shoes & Jewelry']),\n",
       " (5725, ['Music', 'Movies & TV']),\n",
       " (5967, ['Toys & Games', 'Clothing, Shoes & Jewelry']),\n",
       " (5970, ['Health, Fitness & Dieting', 'Books']),\n",
       " (6077, ['Health, Fitness & Dieting', 'Books']),\n",
       " (6092, ['Health, Fitness & Dieting', 'Books']),\n",
       " (6281, ['Health, Fitness & Dieting', 'Clothing, Shoes & Jewelry']),\n",
       " (6491, ['Music', 'Movies & TV']),\n",
       " (6586, ['Music', 'Movies & TV']),\n",
       " (6643, ['Health, Fitness & Dieting', 'Books']),\n",
       " (6672, ['Music', 'Movies & TV']),\n",
       " (6691, ['Health, Fitness & Dieting', 'Books']),\n",
       " (6727, ['Music', 'Movies & TV']),\n",
       " (7155, ['Books', 'Toys & Games']),\n",
       " (7263, ['Music', 'Movies & TV']),\n",
       " (7551, ['Health, Fitness & Dieting', 'Clothing, Shoes & Jewelry']),\n",
       " (7651, ['Health, Fitness & Dieting', 'Books']),\n",
       " (7732, ['Health, Fitness & Dieting', 'Clothing, Shoes & Jewelry']),\n",
       " (8361, ['Music', 'Movies & TV']),\n",
       " (8901, ['Health, Fitness & Dieting', 'Books']),\n",
       " (9183, ['Toys & Games', 'Clothing, Shoes & Jewelry']),\n",
       " (9491, ['Health, Fitness & Dieting', 'Books']),\n",
       " (9710, ['Health, Fitness & Dieting', 'Clothing, Shoes & Jewelry']),\n",
       " (9716, ['Health, Fitness & Dieting', 'Books']),\n",
       " (9785, ['Music', 'Movies & TV'])]"
      ]
     },
     "execution_count": 175,
     "metadata": {},
     "output_type": "execute_result"
    }
   ],
   "source": [
    "[(idx, doc) for idx, doc in enumerate(documents.categories.apply(lambda cat: cat.split(\";\")).tolist()) if len(doc)>1]"
   ]
  },
  {
   "cell_type": "markdown",
   "metadata": {},
   "source": [
    "## Using the models to predict new entries"
   ]
  },
  {
   "cell_type": "code",
   "execution_count": 107,
   "metadata": {},
   "outputs": [],
   "source": [
    "# This is a review for https://www.amazon.com/TheFitLife-Exercise-Resistance-Bands-Handles/dp/B07KFSCD47/ref=sr_1_3?crid=K1XCSPWPYL4&dchild=1&keywords=health+and+fitness&qid=1574728656&sprefix=health+and+fits%2Caps%2C229&sr=8-3\n",
    "# Which is a fitness item, lets see how well it is classified\n",
    "new_entry = \"music videos are such dumbass literalist bullshit now. the video to Suedehead is just Morrissey making dick poses around James Dean memorabilia. that’s the way things should be, bird brained shit the artist thinks are cool and really don’t have that much to do with the song\""
   ]
  },
  {
   "cell_type": "code",
   "execution_count": 108,
   "metadata": {},
   "outputs": [],
   "source": [
    "from nltk import word_tokenize\n",
    "new_entry_vector = d2v_model.infer_vector(word_tokenize(new_entry))\n",
    "entries_arr = np.array([new_entry_vector]).reshape(1, 300, 1)\n",
    "prediction = product_class_predictor.predict(entries_arr)\n",
    "pred = prediction.T.tolist()\n",
    "pred = [(cat, score[0]) for cat, score in list(zip(cats, pred))]"
   ]
  },
  {
   "cell_type": "code",
   "execution_count": 109,
   "metadata": {},
   "outputs": [
    {
     "data": {
      "text/plain": [
       "[('Music', 0.7681779861450195),\n",
       " ('Movies & TV', 0.16196848452091217),\n",
       " ('Books', 0.0637836903333664),\n",
       " ('Toys & Games', 0.004341037478297949),\n",
       " ('Health & Personal Care', 0.001013992354273796),\n",
       " ('Home & Kitchen', 0.00044169806642457843),\n",
       " ('Technology, Electronics & Accessories', 0.0001444671070203185),\n",
       " ('Clothing, Shoes & Jewelry', 8.473310299450532e-05),\n",
       " ('Office & School Supplies', 4.3405816541053355e-05),\n",
       " ('Health, Fitness & Dieting', 5.570084908868012e-07)]"
      ]
     },
     "execution_count": 109,
     "metadata": {},
     "output_type": "execute_result"
    }
   ],
   "source": [
    "from operator import itemgetter\n",
    "pred.sort(key=itemgetter(1), reverse=True)\n",
    "pred"
   ]
  },
  {
   "cell_type": "markdown",
   "metadata": {},
   "source": [
    "It was predicted as clothing by 81%, not necessarily true, even worse, the true category fell down at the bottom"
   ]
  },
  {
   "cell_type": "code",
   "execution_count": null,
   "metadata": {},
   "outputs": [],
   "source": []
  }
 ],
 "metadata": {
  "kernelspec": {
   "display_name": "Python 3",
   "language": "python",
   "name": "python3"
  },
  "language_info": {
   "codemirror_mode": {
    "name": "ipython",
    "version": 3
   },
   "file_extension": ".py",
   "mimetype": "text/x-python",
   "name": "python",
   "nbconvert_exporter": "python",
   "pygments_lexer": "ipython3",
   "version": "3.6.9"
  }
 },
 "nbformat": 4,
 "nbformat_minor": 4
}
