{
 "cells": [
  {
   "cell_type": "markdown",
   "metadata": {},
   "source": [
    "# Product Categories Classification with Keras - Training and Tuning\n",
    "\n",
    "## Author: Luis Eduardo Ferro Diez, <a href=\"mailto:luisedof10@gmail.com\">luisedof10@gmail.com</a>\n",
    "\n",
    "This notebook contains the process of using the pre-trained document embeddings (doc2vec) using the product reviews and metadata from amazon. Each review is for a signle product, each product might belong to one or more categories.\n",
    "\n",
    "Each record in the dataset contains the categories, title (of the product), description (of the product), summary (of the review) and review text. Hence, with the pre-trained document embeddings model we proceed to infer the document vectors of the input dataset and submit them to classification with a convolutional neural network in keras.\n",
    "\n",
    "We also proceed to perform hyperparameter tuning to see what is the best combination of parameters for the neural network."
   ]
  },
  {
   "cell_type": "code",
   "execution_count": 1,
   "metadata": {},
   "outputs": [],
   "source": [
    "import os\n",
    "\n",
    "os.environ['MODIN_CPUS'] = \"8\"\n",
    "os.environ['MODIN_OUT_OF_CORE'] = \"true\""
   ]
  },
  {
   "cell_type": "code",
   "execution_count": 3,
   "metadata": {},
   "outputs": [
    {
     "data": {
      "text/html": [
       "<div>\n",
       "<style scoped>\n",
       "    .dataframe tbody tr th:only-of-type {\n",
       "        vertical-align: middle;\n",
       "    }\n",
       "\n",
       "    .dataframe tbody tr th {\n",
       "        vertical-align: top;\n",
       "    }\n",
       "\n",
       "    .dataframe thead th {\n",
       "        text-align: right;\n",
       "    }\n",
       "</style>\n",
       "<table border=\"1\" class=\"dataframe\">\n",
       "  <thead>\n",
       "    <tr style=\"text-align: right;\">\n",
       "      <th></th>\n",
       "      <th>categories</th>\n",
       "      <th>document</th>\n",
       "    </tr>\n",
       "  </thead>\n",
       "  <tbody>\n",
       "    <tr>\n",
       "      <th>0</th>\n",
       "      <td>Home &amp; Kitchen;Technology, Electronics &amp; Acces...</td>\n",
       "      <td>Jim from Ocala, Fl.\\ngreat replacement product...</td>\n",
       "    </tr>\n",
       "    <tr>\n",
       "      <th>1</th>\n",
       "      <td>Sports &amp; Outdoors</td>\n",
       "      <td>Good buy\\nI have been pleased with this ball s...</td>\n",
       "    </tr>\n",
       "    <tr>\n",
       "      <th>2</th>\n",
       "      <td>Toys &amp; Games</td>\n",
       "      <td>Great Addition to a Magic Kit\\nI purchased thi...</td>\n",
       "    </tr>\n",
       "    <tr>\n",
       "      <th>3</th>\n",
       "      <td>Technology, Electronics &amp; Accessories</td>\n",
       "      <td>Roku 3\\nReplaced my Apple TV with this because...</td>\n",
       "    </tr>\n",
       "    <tr>\n",
       "      <th>4</th>\n",
       "      <td>Toys &amp; Games</td>\n",
       "      <td>What can I say?  Pagan Fluxx!\\nWe just love Fl...</td>\n",
       "    </tr>\n",
       "  </tbody>\n",
       "</table>\n",
       "</div>"
      ],
      "text/plain": [
       "                                          categories  \\\n",
       "0  Home & Kitchen;Technology, Electronics & Acces...   \n",
       "1                                  Sports & Outdoors   \n",
       "2                                       Toys & Games   \n",
       "3              Technology, Electronics & Accessories   \n",
       "4                                       Toys & Games   \n",
       "\n",
       "                                            document  \n",
       "0  Jim from Ocala, Fl.\\ngreat replacement product...  \n",
       "1  Good buy\\nI have been pleased with this ball s...  \n",
       "2  Great Addition to a Magic Kit\\nI purchased thi...  \n",
       "3  Roku 3\\nReplaced my Apple TV with this because...  \n",
       "4  What can I say?  Pagan Fluxx!\\nWe just love Fl...  "
      ]
     },
     "execution_count": 3,
     "metadata": {},
     "output_type": "execute_result"
    }
   ],
   "source": [
    "import modin.pandas as pd\n",
    "\n",
    "reviews_path = \"<product-documents-path>\"\n",
    "reviews = pd.read_parquet(reviews_path, engine=\"pyarrow\")\n",
    "reviews.head()"
   ]
  },
  {
   "cell_type": "code",
   "execution_count": 4,
   "metadata": {},
   "outputs": [
    {
     "data": {
      "text/plain": [
       "(1553620, 2)"
      ]
     },
     "execution_count": 4,
     "metadata": {},
     "output_type": "execute_result"
    }
   ],
   "source": [
    "reviews.shape"
   ]
  },
  {
   "cell_type": "code",
   "execution_count": 5,
   "metadata": {},
   "outputs": [],
   "source": [
    "from gensim.models import Doc2Vec\n",
    "\n",
    "d2v_model = Doc2Vec.load(\"../../../models/embeddings/d2v_model.model\")"
   ]
  },
  {
   "cell_type": "markdown",
   "metadata": {},
   "source": [
    "## Classification of the categories\n",
    "\n",
    "We are treating the documents as multi category entities, i.e., one document can belong to more than one category. Hence, we train a multi label binarizer."
   ]
  },
  {
   "cell_type": "code",
   "execution_count": 7,
   "metadata": {},
   "outputs": [],
   "source": [
    "categories = reviews.categories.apply(lambda cat: cat.split(\";\")).values.tolist()"
   ]
  },
  {
   "cell_type": "code",
   "execution_count": 8,
   "metadata": {},
   "outputs": [
    {
     "data": {
      "text/plain": [
       "MultiLabelBinarizer(classes=None, sparse_output=False)"
      ]
     },
     "execution_count": 8,
     "metadata": {},
     "output_type": "execute_result"
    }
   ],
   "source": [
    "from sklearn.preprocessing import MultiLabelBinarizer\n",
    "\n",
    "categories_encoder = MultiLabelBinarizer()\n",
    "categories_encoder.fit(categories)"
   ]
  },
  {
   "cell_type": "markdown",
   "metadata": {},
   "source": [
    "### Define a Baseline\n",
    "Since there is no prior existence of a model for classifying this particular dataset, we define the baseline to be the predominant class in the dataset which is 'Books'. From this we can calculate the baseline to beat with the classifier."
   ]
  },
  {
   "cell_type": "code",
   "execution_count": 16,
   "metadata": {},
   "outputs": [],
   "source": [
    "from collections import Counter\n",
    "\n",
    "flat_categories = [item for sublist in categories for item in sublist]\n",
    "count = Counter(flat_categories)"
   ]
  },
  {
   "cell_type": "code",
   "execution_count": 17,
   "metadata": {},
   "outputs": [
    {
     "data": {
      "text/plain": [
       "[('Books', 457672),\n",
       " ('Technology, Electronics & Accessories', 269065),\n",
       " ('Home & Kitchen', 249313),\n",
       " ('Clothing, Shoes & Jewelry', 162550),\n",
       " ('Health & Personal Care', 125661),\n",
       " ('Toys & Games', 117803),\n",
       " ('Sports & Outdoors', 104651),\n",
       " ('Music', 82883),\n",
       " ('Movies & TV', 80190),\n",
       " ('Office & School Supplies', 28248)]"
      ]
     },
     "execution_count": 17,
     "metadata": {},
     "output_type": "execute_result"
    }
   ],
   "source": [
    "sorted(count.items(), key=lambda kv: kv[1], reverse=True)"
   ]
  },
  {
   "cell_type": "code",
   "execution_count": 18,
   "metadata": {},
   "outputs": [
    {
     "data": {
      "text/plain": [
       "0.29458426127367054"
      ]
     },
     "execution_count": 18,
     "metadata": {},
     "output_type": "execute_result"
    }
   ],
   "source": [
    "count['Books'] / len(categories)"
   ]
  },
  {
   "cell_type": "markdown",
   "metadata": {},
   "source": [
    "Our baseline to beat is $0.294$ or $29\\%$, with Books being the predominant class."
   ]
  },
  {
   "cell_type": "markdown",
   "metadata": {},
   "source": [
    "#### Infer document vectors\n",
    "This cell will take the input data set and infer the document vectors for each of them and create the corresponding features (`X`) and labels (`y`) for the neural network training. This section will also perform the train/test split for validation. Depending on the size of the dataset, this cell might take some time to execute. For a ~1.5 million of documents, this took ~10 min to complete."
   ]
  },
  {
   "cell_type": "code",
   "execution_count": 19,
   "metadata": {},
   "outputs": [
    {
     "name": "stderr",
     "output_type": "stream",
     "text": [
      "UserWarning: User-defined function verification is still under development in Modin. The function provided is not verified.\n"
     ]
    },
    {
     "name": "stdout",
     "output_type": "stream",
     "text": [
      "CPU times: user 2min 45s, sys: 8.87 s, total: 2min 54s\n",
      "Wall time: 10min 18s\n"
     ]
    }
   ],
   "source": [
    "%%time\n",
    "import numpy as np\n",
    "from sklearn.model_selection import train_test_split\n",
    "from nltk.tokenize import RegexpTokenizer\n",
    "\n",
    "tokenizer = RegexpTokenizer(r'\\w+')\n",
    "\n",
    "y = categories_encoder.transform(categories)\n",
    "X = reviews.apply(lambda row: d2v_model.infer_vector([word.lower() for word in tokenizer.tokenize(row['document'])]), axis=1)._to_pandas()\n",
    "X = X.apply(lambda x: x[0], axis=1, result_type='expand')\n",
    "\n",
    "X_train, X_test, y_train, y_test = train_test_split(X, y, test_size=0.3)"
   ]
  },
  {
   "cell_type": "code",
   "execution_count": 20,
   "metadata": {},
   "outputs": [
    {
     "data": {
      "text/plain": [
       "(1553620, 300)"
      ]
     },
     "execution_count": 20,
     "metadata": {},
     "output_type": "execute_result"
    }
   ],
   "source": [
    "X.shape"
   ]
  },
  {
   "cell_type": "markdown",
   "metadata": {},
   "source": [
    "Save the features and labels to avoid recomputing them in the future."
   ]
  },
  {
   "cell_type": "code",
   "execution_count": 21,
   "metadata": {},
   "outputs": [
    {
     "name": "stdout",
     "output_type": "stream",
     "text": [
      "CPU times: user 1min 7s, sys: 862 ms, total: 1min 8s\n",
      "Wall time: 1min 7s\n"
     ]
    }
   ],
   "source": [
    "%%time\n",
    "np.savez_compressed(\"../../../models/document_vectors/product_embeddings.npz\", x_train=X_train, x_test=X_test, y_train=y_train, y_test=y_test)"
   ]
  },
  {
   "cell_type": "code",
   "execution_count": 9,
   "metadata": {},
   "outputs": [],
   "source": [
    "import numpy as np\n",
    "\n",
    "embeddings = np.load(\"../../../models/document_vectors/product_embeddings.npz\")\n",
    "X_train = embeddings['x_train']\n",
    "X_test = embeddings['x_test']\n",
    "y_train = embeddings['y_train']\n",
    "y_test = embeddings['y_test']"
   ]
  },
  {
   "cell_type": "markdown",
   "metadata": {},
   "source": [
    "### Initialize tensorflow\n",
    "This cell will simply put two properties into tensorflow configuration, `allow_growth` and `per_process_gpu_memory_fraction` so it can make effective use of the GPU installed. Finally, it defines a simple method to show the current active devices so we can be sure it will use the GPUs installed."
   ]
  },
  {
   "cell_type": "code",
   "execution_count": 10,
   "metadata": {},
   "outputs": [],
   "source": [
    "import tensorflow as tf\n",
    "from tensorflow.compat.v1 import ConfigProto, InteractiveSession\n",
    "from tensorflow.python.client import device_lib\n",
    "                                                                     \n",
    "config = ConfigProto()\n",
    "config.gpu_options.allow_growth = True\n",
    "config.gpu_options.per_process_gpu_memory_fraction = 0.6\n",
    "session = InteractiveSession(config=config)\n",
    "\n",
    "\n",
    "def show_framework_devices():\n",
    "    \"\"\"Just prints the devices the frameworks are using\n",
    "    at the moment. It will help us to tell if they are indeed\n",
    "    using GPU's or not\"\"\"\n",
    "    print(\"Tensorflow registered devices:\", device_lib.list_local_devices())"
   ]
  },
  {
   "cell_type": "code",
   "execution_count": 11,
   "metadata": {},
   "outputs": [
    {
     "name": "stdout",
     "output_type": "stream",
     "text": [
      "Tensorflow registered devices: [name: \"/device:CPU:0\"\n",
      "device_type: \"CPU\"\n",
      "memory_limit: 268435456\n",
      "locality {\n",
      "}\n",
      "incarnation: 11714057579676053181\n",
      ", name: \"/device:XLA_CPU:0\"\n",
      "device_type: \"XLA_CPU\"\n",
      "memory_limit: 17179869184\n",
      "locality {\n",
      "}\n",
      "incarnation: 11849409644859499103\n",
      "physical_device_desc: \"device: XLA_CPU device\"\n",
      ", name: \"/device:GPU:0\"\n",
      "device_type: \"GPU\"\n",
      "memory_limit: 5022036787\n",
      "locality {\n",
      "  bus_id: 1\n",
      "  links {\n",
      "  }\n",
      "}\n",
      "incarnation: 14789188132389232441\n",
      "physical_device_desc: \"device: 0, name: GeForce RTX 2070, pci bus id: 0000:01:00.0, compute capability: 7.5\"\n",
      ", name: \"/device:XLA_GPU:0\"\n",
      "device_type: \"XLA_GPU\"\n",
      "memory_limit: 17179869184\n",
      "locality {\n",
      "}\n",
      "incarnation: 9138286286028563538\n",
      "physical_device_desc: \"device: XLA_GPU device\"\n",
      "]\n"
     ]
    }
   ],
   "source": [
    "show_framework_devices()"
   ]
  },
  {
   "cell_type": "code",
   "execution_count": 12,
   "metadata": {},
   "outputs": [
    {
     "data": {
      "text/plain": [
       "(1087534, 300)"
      ]
     },
     "execution_count": 12,
     "metadata": {},
     "output_type": "execute_result"
    }
   ],
   "source": [
    "X_train.shape"
   ]
  },
  {
   "cell_type": "markdown",
   "metadata": {},
   "source": [
    "We know before hand that the embeddings have 300 dimensions, and that we have 10 classes. So we just put them here to emphasize it."
   ]
  },
  {
   "cell_type": "code",
   "execution_count": 13,
   "metadata": {},
   "outputs": [],
   "source": [
    "vec_size = 300\n",
    "classes = y_train[0].shape[0]"
   ]
  },
  {
   "cell_type": "markdown",
   "metadata": {},
   "source": [
    "#### Train a first guess neural network\n",
    "The network below is a manual attempt to derive an architecture to infer the document categories. This is just to validate a simple approach to test the network is suitable to classify the documents."
   ]
  },
  {
   "cell_type": "code",
   "execution_count": 14,
   "metadata": {},
   "outputs": [
    {
     "name": "stderr",
     "output_type": "stream",
     "text": [
      "Using TensorFlow backend.\n"
     ]
    },
    {
     "name": "stdout",
     "output_type": "stream",
     "text": [
      "Model: \"model_1\"\n",
      "_________________________________________________________________\n",
      "Layer (type)                 Output Shape              Param #   \n",
      "=================================================================\n",
      "comment_text (InputLayer)    (None, 300, 1)            0         \n",
      "_________________________________________________________________\n",
      "conv1d_1 (Conv1D)            (None, 296, 256)          1536      \n",
      "_________________________________________________________________\n",
      "max_pooling1d_1 (MaxPooling1 (None, 295, 256)          0         \n",
      "_________________________________________________________________\n",
      "conv1d_2 (Conv1D)            (None, 292, 128)          131200    \n",
      "_________________________________________________________________\n",
      "spatial_dropout1d_1 (Spatial (None, 292, 128)          0         \n",
      "_________________________________________________________________\n",
      "max_pooling1d_2 (MaxPooling1 (None, 291, 128)          0         \n",
      "_________________________________________________________________\n",
      "conv1d_3 (Conv1D)            (None, 288, 64)           32832     \n",
      "_________________________________________________________________\n",
      "max_pooling1d_3 (MaxPooling1 (None, 144, 64)           0         \n",
      "_________________________________________________________________\n",
      "spatial_dropout1d_2 (Spatial (None, 144, 64)           0         \n",
      "_________________________________________________________________\n",
      "flatten_1 (Flatten)          (None, 9216)              0         \n",
      "_________________________________________________________________\n",
      "dense_2 (Dense)              (None, 128)               1179776   \n",
      "_________________________________________________________________\n",
      "dropout_1 (Dropout)          (None, 128)               0         \n",
      "_________________________________________________________________\n",
      "prediction (Dense)           (None, 10)                1290      \n",
      "=================================================================\n",
      "Total params: 1,346,634\n",
      "Trainable params: 1,346,634\n",
      "Non-trainable params: 0\n",
      "_________________________________________________________________\n"
     ]
    }
   ],
   "source": [
    "from keras.layers import Input, Embedding, Bidirectional, Dense, Conv1D, Flatten, MaxPool1D, concatenate, BatchNormalization, Dropout, SpatialDropout1D\n",
    "from keras.models import Model\n",
    "from keras import regularizers\n",
    "from keras.optimizers import Adam\n",
    "\n",
    "# Define the inputs\n",
    "comment_input = Input(shape=(vec_size,1), dtype='float32', name='comment_text')\n",
    "\n",
    "# Convolutional layers\n",
    "conv = Conv1D(256, 5, activation='tanh', input_shape=(vec_size,), kernel_regularizer=regularizers.l2())(comment_input)\n",
    "conv = MaxPool1D(2, strides=1, padding='valid')(conv)\n",
    "conv = Conv1D(128, 4, activation='tanh')(conv)\n",
    "conv = SpatialDropout1D(0.2)(conv)\n",
    "conv = MaxPool1D(2, strides=1, padding='valid')(conv)\n",
    "conv = Conv1D(64, 4, activation='tanh')(conv)\n",
    "conv = MaxPool1D(2, strides=2, padding='valid')(conv)\n",
    "conv = SpatialDropout1D(0.1)(conv)\n",
    "conv_output = Flatten()(conv)\n",
    "\n",
    "\n",
    "# Dense layers\n",
    "x = Dense(512, activation='relu', kernel_regularizer=regularizers.l2())(conv_output)\n",
    "x = Dense(128, activation='relu')(conv_output)\n",
    "x = Dropout(0.5)(x)\n",
    "\n",
    "#And finally make the predictions using the previous layer as input\n",
    "main_output = Dense(classes, activation='softmax', name='prediction')(x)\n",
    "\n",
    "ann_model = Model(inputs=comment_input, outputs=main_output)\n",
    "optimizer = Adam(learning_rate=0.00001)\n",
    "ann_model.compile(optimizer=optimizer, loss='categorical_crossentropy', metrics=['accuracy'])\n",
    "ann_model.summary()"
   ]
  },
  {
   "cell_type": "markdown",
   "metadata": {},
   "source": [
    "We have a network with a considerable number of parameters. Now let's see how it behaves predicting the document categories."
   ]
  },
  {
   "cell_type": "code",
   "execution_count": 15,
   "metadata": {},
   "outputs": [
    {
     "name": "stdout",
     "output_type": "stream",
     "text": [
      "Train on 870027 samples, validate on 217507 samples\n",
      "Epoch 1/100\n",
      "870027/870027 [==============================] - 119s 137us/step - loss: 1.8248 - accuracy: 0.4837 - val_loss: 0.9744 - val_accuracy: 0.7651\n",
      "Epoch 2/100\n",
      "870027/870027 [==============================] - 114s 131us/step - loss: 1.0185 - accuracy: 0.7407 - val_loss: 0.8268 - val_accuracy: 0.7980\n",
      "Epoch 3/100\n",
      "870027/870027 [==============================] - 114s 131us/step - loss: 1.2532 - accuracy: 0.7433 - val_loss: 1.0920 - val_accuracy: 0.8002\n",
      "Epoch 4/100\n",
      "870027/870027 [==============================] - 114s 131us/step - loss: 2.0149 - accuracy: 0.7356 - val_loss: 1.7937 - val_accuracy: 0.7969\n",
      "Epoch 5/100\n",
      "870027/870027 [==============================] - 115s 132us/step - loss: 3.4253 - accuracy: 0.7246 - val_loss: 2.8198 - val_accuracy: 0.7944\n",
      "Epoch 6/100\n",
      "870027/870027 [==============================] - 115s 132us/step - loss: 5.1215 - accuracy: 0.7169 - val_loss: 3.8891 - val_accuracy: 0.7921\n",
      "Epoch 7/100\n",
      "870027/870027 [==============================] - 118s 135us/step - loss: 6.9744 - accuracy: 0.7100 - val_loss: 4.9916 - val_accuracy: 0.7905\n",
      "CPU times: user 8min 54s, sys: 6.67 s, total: 9min 1s\n",
      "Wall time: 13min 30s\n"
     ]
    }
   ],
   "source": [
    "%%time\n",
    "from keras.callbacks import EarlyStopping\n",
    "\n",
    "early_stopping = EarlyStopping(monitor='val_loss', patience=5, min_delta=1e-7, restore_best_weights=True)\n",
    "sample_size = 10000\n",
    "X_train_rs = X_train.reshape(X_train.shape[0], X_train.shape[1], 1)\n",
    "history = ann_model.fit(X_train_rs, \n",
    "                        y_train, \n",
    "                        epochs = 100, \n",
    "                        batch_size = 2000, \n",
    "                        validation_split= 0.2, \n",
    "                        callbacks=[early_stopping])"
   ]
  },
  {
   "cell_type": "code",
   "execution_count": 19,
   "metadata": {},
   "outputs": [],
   "source": [
    "import matplotlib.pyplot as plt\n",
    "\n",
    "def plot_history(cnn, acc= 'acc', val_acc = 'val_acc', loss = 'loss', val_loss = 'val_loss'):\n",
    "    fig = plt.figure(figsize = (16, 8))\n",
    "    plt.subplot(1, 2, 1)\n",
    "    plt.title('Accuracy in training Vs validation')\n",
    "    plt.ylabel('Accuracy')\n",
    "    plt.xlabel('Epoch')\n",
    "    plt.plot(cnn.history[acc], 'r')\n",
    "    plt.plot(cnn.history[val_acc], 'b')\n",
    "    plt.legend(['training', 'validation'])\n",
    "    \n",
    "    plt.subplot(1, 2, 2)\n",
    "    plt.title('Loss in training Vs validation')\n",
    "    plt.ylabel('Loss')\n",
    "    plt.xlabel('Epoch')\n",
    "    plt.plot(cnn.history[loss], 'r')\n",
    "    plt.plot(cnn.history[val_loss], 'b')\n",
    "    plt.legend(['training', 'validation'])\n",
    "    \n",
    "    plt.show()"
   ]
  },
  {
   "cell_type": "code",
   "execution_count": 20,
   "metadata": {},
   "outputs": [
    {
     "data": {
      "image/png": "[encoded data removed]",
      "text/plain": [
       "<Figure size 1152x576 with 2 Axes>"
      ]
     },
     "metadata": {
      "needs_background": "light"
     },
     "output_type": "display_data"
    }
   ],
   "source": [
    "plot_history(history, \n",
    "             acc='accuracy', \n",
    "             val_acc='val_accuracy', \n",
    "             loss='loss', \n",
    "             val_loss='val_loss')"
   ]
  },
  {
   "cell_type": "markdown",
   "metadata": {},
   "source": [
    "The network above is able to reach an accuracy of $0.79$ or $79\\%$ which is good compared to our baseline."
   ]
  },
  {
   "cell_type": "markdown",
   "metadata": {},
   "source": [
    "## Hyperparameter Tuning\n",
    "Now, let's explore different network configurations to explore other architectures and see if we can have better performance.\n",
    "\n",
    "For this, we used the `kerastuner` package to try different configurations within a random search setting. We decided to manipulate the following hyper parameters:\n",
    "* Number of convolutional layers\n",
    "* Number of dense layers\n",
    "* Regularization for convolutional layers\n",
    "* Regularization for dense layers\n",
    "* Units for convolutional layers (range from 32 to 512)\n",
    "* Filters for convolutional layers\n",
    "* Max pooling size for convolutional layers\n",
    "* Activation functions (tanh and relu) for convolutional layers\n",
    "* Activation functions (tanh and relu) for dense layers\n",
    "* Spatial dropout fraction for convolutional layers\n",
    "* Units for dense layers (range from 32 to 512)\n",
    "* Dropout fraction for dense layers\n",
    "* Learning rate (with Adam optimizer)\n",
    "\n",
    "We tried with: \n",
    "* A subset of 100000 documents from the input dataset\n",
    "* 20 epochs per trial\n",
    "* 3 trials per configuration\n",
    "* validation split of 0.2\n",
    "* batch size of 2000\n",
    "\n",
    "**Note:** In every iteration we halve the units for both the convolutional and dense layers to simulate a shrinking layer size."
   ]
  },
  {
   "cell_type": "code",
   "execution_count": 21,
   "metadata": {},
   "outputs": [],
   "source": [
    "sample_size = 100000\n",
    "batch_size = 2000\n",
    "epochs = 20\n",
    "trials = 3\n",
    "validation_split = 0.2"
   ]
  },
  {
   "cell_type": "code",
   "execution_count": 22,
   "metadata": {},
   "outputs": [
    {
     "name": "stdout",
     "output_type": "stream",
     "text": [
      "Processing hyper parameter values: {'conv_filters': 128, 'conv_kernel_size': 2, 'maxpool_size': 3, 'conv_activation': 'relu', 'dense_activation': 'relu', 'spatial_dropout': 0.1, 'dropout': 0.1, 'dense_layers': 2, 'conv_layers': 3, 'conv_regularizer': 'none', 'dense_regularizer': 'none', 'dense_units': 128, 'learning_rate': 1e-07}\n",
      "Processing hyper parameter values: {'conv_filters': 384, 'conv_kernel_size': 4, 'maxpool_size': 3, 'conv_activation': 'tanh', 'dense_activation': 'tanh', 'spatial_dropout': 0.1, 'dropout': 0.30000000000000004, 'dense_layers': 3, 'conv_layers': 3, 'conv_regularizer': 'none', 'dense_regularizer': 'l1l2', 'dense_units': 384, 'learning_rate': 1.1682481267584367e-06}\n",
      "Train on 80000 samples, validate on 20000 samples\n",
      "Epoch 1/20\n",
      "80000/80000 - 10s - loss: 322.2267 - accuracy: 0.0832 - val_loss: 321.8810 - val_accuracy: 0.0680\n",
      "Epoch 2/20\n",
      "80000/80000 - 9s - loss: 321.5485 - accuracy: 0.0911 - val_loss: 321.2028 - val_accuracy: 0.0675\n",
      "Epoch 3/20\n",
      "80000/80000 - 9s - loss: 320.8705 - accuracy: 0.1021 - val_loss: 320.5256 - val_accuracy: 0.0770\n",
      "Epoch 4/20\n",
      "80000/80000 - 9s - loss: 320.1935 - accuracy: 0.1159 - val_loss: 319.8492 - val_accuracy: 0.1208\n",
      "Epoch 5/20\n",
      "80000/80000 - 9s - loss: 319.5178 - accuracy: 0.1288 - val_loss: 319.1738 - val_accuracy: 0.1870\n",
      "Epoch 6/20\n",
      "80000/80000 - 9s - loss: 318.8431 - accuracy: 0.1440 - val_loss: 318.4992 - val_accuracy: 0.2396\n",
      "Epoch 7/20\n",
      "80000/80000 - 9s - loss: 318.1684 - accuracy: 0.1593 - val_loss: 317.8255 - val_accuracy: 0.2666\n",
      "Epoch 8/20\n",
      "80000/80000 - 9s - loss: 317.4953 - accuracy: 0.1733 - val_loss: 317.1526 - val_accuracy: 0.2799\n",
      "Epoch 9/20\n",
      "80000/80000 - 9s - loss: 316.8232 - accuracy: 0.1888 - val_loss: 316.4805 - val_accuracy: 0.2863\n",
      "Epoch 10/20\n",
      "80000/80000 - 9s - loss: 316.1515 - accuracy: 0.2002 - val_loss: 315.8093 - val_accuracy: 0.2897\n",
      "Epoch 11/20\n",
      "80000/80000 - 9s - loss: 315.4802 - accuracy: 0.2124 - val_loss: 315.1389 - val_accuracy: 0.2910\n",
      "Epoch 12/20\n",
      "80000/80000 - 9s - loss: 314.8113 - accuracy: 0.2206 - val_loss: 314.4693 - val_accuracy: 0.2905\n",
      "Epoch 13/20\n",
      "80000/80000 - 9s - loss: 314.1413 - accuracy: 0.2319 - val_loss: 313.8005 - val_accuracy: 0.2910\n",
      "Epoch 14/20\n",
      "80000/80000 - 9s - loss: 313.4736 - accuracy: 0.2368 - val_loss: 313.1326 - val_accuracy: 0.2912\n",
      "Epoch 15/20\n",
      "80000/80000 - 9s - loss: 312.8058 - accuracy: 0.2437 - val_loss: 312.4654 - val_accuracy: 0.2914\n",
      "Epoch 16/20\n",
      "80000/80000 - 9s - loss: 312.1397 - accuracy: 0.2479 - val_loss: 311.7991 - val_accuracy: 0.2914\n",
      "Epoch 17/20\n",
      "80000/80000 - 9s - loss: 311.4737 - accuracy: 0.2530 - val_loss: 311.1335 - val_accuracy: 0.2914\n",
      "Epoch 18/20\n",
      "80000/80000 - 8s - loss: 310.8082 - accuracy: 0.2556 - val_loss: 310.4687 - val_accuracy: 0.2914\n",
      "Epoch 19/20\n",
      "80000/80000 - 9s - loss: 310.1444 - accuracy: 0.2585 - val_loss: 309.8048 - val_accuracy: 0.2914\n",
      "Epoch 20/20\n",
      "80000/80000 - 9s - loss: 309.4805 - accuracy: 0.2635 - val_loss: 309.1416 - val_accuracy: 0.2914\n",
      "Processing hyper parameter values: {'conv_filters': 384, 'conv_kernel_size': 4, 'maxpool_size': 3, 'conv_activation': 'tanh', 'dense_activation': 'tanh', 'spatial_dropout': 0.1, 'dropout': 0.30000000000000004, 'dense_layers': 3, 'conv_layers': 3, 'conv_regularizer': 'none', 'dense_regularizer': 'l1l2', 'dense_units': 384, 'learning_rate': 1.1682481267584367e-06}\n",
      "Train on 80000 samples, validate on 20000 samples\n",
      "Epoch 1/20\n",
      "80000/80000 - 9s - loss: 322.0330 - accuracy: 0.1129 - val_loss: 321.6862 - val_accuracy: 0.0998\n",
      "Epoch 2/20\n",
      "80000/80000 - 8s - loss: 321.3539 - accuracy: 0.1248 - val_loss: 321.0075 - val_accuracy: 0.1156\n",
      "Epoch 3/20\n",
      "80000/80000 - 8s - loss: 320.6763 - accuracy: 0.1352 - val_loss: 320.3297 - val_accuracy: 0.1621\n",
      "Epoch 4/20\n",
      "80000/80000 - 8s - loss: 319.9982 - accuracy: 0.1474 - val_loss: 319.6527 - val_accuracy: 0.2157\n",
      "Epoch 5/20\n",
      "80000/80000 - 8s - loss: 319.3218 - accuracy: 0.1600 - val_loss: 318.9768 - val_accuracy: 0.2483\n",
      "Epoch 6/20\n",
      "80000/80000 - 8s - loss: 318.6459 - accuracy: 0.1707 - val_loss: 318.3017 - val_accuracy: 0.2681\n",
      "Epoch 7/20\n",
      "80000/80000 - 8s - loss: 317.9714 - accuracy: 0.1837 - val_loss: 317.6275 - val_accuracy: 0.2795\n",
      "Epoch 8/20\n",
      "80000/80000 - 8s - loss: 317.2979 - accuracy: 0.1945 - val_loss: 316.9541 - val_accuracy: 0.2849\n",
      "Epoch 9/20\n",
      "80000/80000 - 8s - loss: 316.6254 - accuracy: 0.2010 - val_loss: 316.2817 - val_accuracy: 0.2887\n",
      "Epoch 10/20\n",
      "80000/80000 - 9s - loss: 315.9534 - accuracy: 0.2102 - val_loss: 315.6101 - val_accuracy: 0.2903\n",
      "Epoch 11/20\n",
      "80000/80000 - 8s - loss: 315.2819 - accuracy: 0.2201 - val_loss: 314.9393 - val_accuracy: 0.2912\n",
      "Epoch 12/20\n",
      "80000/80000 - 8s - loss: 314.6117 - accuracy: 0.2288 - val_loss: 314.2695 - val_accuracy: 0.2914\n",
      "Epoch 13/20\n",
      "80000/80000 - 8s - loss: 313.9422 - accuracy: 0.2361 - val_loss: 313.6005 - val_accuracy: 0.2914\n",
      "Epoch 14/20\n",
      "80000/80000 - 8s - loss: 313.2743 - accuracy: 0.2370 - val_loss: 312.9323 - val_accuracy: 0.2914\n",
      "Epoch 15/20\n",
      "80000/80000 - 8s - loss: 312.6061 - accuracy: 0.2463 - val_loss: 312.2649 - val_accuracy: 0.2914\n",
      "Epoch 16/20\n",
      "80000/80000 - 8s - loss: 311.9402 - accuracy: 0.2489 - val_loss: 311.5984 - val_accuracy: 0.2914\n",
      "Epoch 17/20\n",
      "80000/80000 - 8s - loss: 311.2734 - accuracy: 0.2539 - val_loss: 310.9329 - val_accuracy: 0.2914\n",
      "Epoch 18/20\n",
      "80000/80000 - 9s - loss: 310.6090 - accuracy: 0.2564 - val_loss: 310.2680 - val_accuracy: 0.2914\n",
      "Epoch 19/20\n",
      "80000/80000 - 8s - loss: 309.9440 - accuracy: 0.2583 - val_loss: 309.6041 - val_accuracy: 0.2914\n",
      "Epoch 20/20\n",
      "80000/80000 - 9s - loss: 309.2809 - accuracy: 0.2626 - val_loss: 308.9409 - val_accuracy: 0.2914\n",
      "Processing hyper parameter values: {'conv_filters': 384, 'conv_kernel_size': 4, 'maxpool_size': 3, 'conv_activation': 'tanh', 'dense_activation': 'tanh', 'spatial_dropout': 0.1, 'dropout': 0.30000000000000004, 'dense_layers': 3, 'conv_layers': 3, 'conv_regularizer': 'none', 'dense_regularizer': 'l1l2', 'dense_units': 384, 'learning_rate': 1.1682481267584367e-06}\n",
      "Train on 80000 samples, validate on 20000 samples\n",
      "Epoch 1/20\n",
      "80000/80000 - 9s - loss: 322.3360 - accuracy: 0.1137 - val_loss: 321.9901 - val_accuracy: 0.1922\n",
      "Epoch 2/20\n",
      "80000/80000 - 8s - loss: 321.6570 - accuracy: 0.1328 - val_loss: 321.3118 - val_accuracy: 0.2591\n",
      "Epoch 3/20\n",
      "80000/80000 - 9s - loss: 320.9795 - accuracy: 0.1507 - val_loss: 320.6344 - val_accuracy: 0.2839\n",
      "Epoch 4/20\n",
      "80000/80000 - 9s - loss: 320.3025 - accuracy: 0.1671 - val_loss: 319.9580 - val_accuracy: 0.2907\n",
      "Epoch 5/20\n",
      "80000/80000 - 9s - loss: 319.6265 - accuracy: 0.1823 - val_loss: 319.2823 - val_accuracy: 0.2918\n",
      "Epoch 6/20\n",
      "80000/80000 - 8s - loss: 318.9512 - accuracy: 0.1974 - val_loss: 318.6077 - val_accuracy: 0.2916\n",
      "Epoch 7/20\n",
      "80000/80000 - 9s - loss: 318.2769 - accuracy: 0.2102 - val_loss: 317.9338 - val_accuracy: 0.2919\n",
      "Epoch 8/20\n",
      "80000/80000 - 9s - loss: 317.6035 - accuracy: 0.2223 - val_loss: 317.2609 - val_accuracy: 0.2916\n",
      "Epoch 9/20\n",
      "80000/80000 - 9s - loss: 316.9311 - accuracy: 0.2320 - val_loss: 316.5887 - val_accuracy: 0.2916\n",
      "Epoch 10/20\n",
      "80000/80000 - 9s - loss: 316.2601 - accuracy: 0.2390 - val_loss: 315.9173 - val_accuracy: 0.2914\n",
      "Epoch 11/20\n",
      "80000/80000 - 9s - loss: 315.5890 - accuracy: 0.2438 - val_loss: 315.2469 - val_accuracy: 0.2914\n",
      "Epoch 12/20\n",
      "80000/80000 - 9s - loss: 314.9186 - accuracy: 0.2524 - val_loss: 314.5772 - val_accuracy: 0.2914\n",
      "Epoch 13/20\n",
      "80000/80000 - 9s - loss: 314.2499 - accuracy: 0.2565 - val_loss: 313.9083 - val_accuracy: 0.2914\n",
      "Epoch 14/20\n",
      "80000/80000 - 9s - loss: 313.5811 - accuracy: 0.2610 - val_loss: 313.2403 - val_accuracy: 0.2914\n",
      "Epoch 15/20\n",
      "80000/80000 - 9s - loss: 312.9135 - accuracy: 0.2648 - val_loss: 312.5731 - val_accuracy: 0.2914\n",
      "Epoch 16/20\n",
      "80000/80000 - 9s - loss: 312.2472 - accuracy: 0.2671 - val_loss: 311.9068 - val_accuracy: 0.2914\n",
      "Epoch 17/20\n",
      "80000/80000 - 9s - loss: 311.5814 - accuracy: 0.2685 - val_loss: 311.2413 - val_accuracy: 0.2914\n",
      "Epoch 18/20\n",
      "80000/80000 - 9s - loss: 310.9167 - accuracy: 0.2706 - val_loss: 310.5767 - val_accuracy: 0.2914\n",
      "Epoch 19/20\n",
      "80000/80000 - 9s - loss: 310.2528 - accuracy: 0.2738 - val_loss: 309.9128 - val_accuracy: 0.2914\n",
      "Epoch 20/20\n",
      "80000/80000 - 9s - loss: 309.5894 - accuracy: 0.2745 - val_loss: 309.2498 - val_accuracy: 0.2914\n"
     ]
    },
    {
     "data": {
      "text/html": [
       "<span style=\"color:#4527A0\"><h1 style=\"font-size:18px\">Trial complete</h1></span>"
      ],
      "text/plain": [
       "<IPython.core.display.HTML object>"
      ]
     },
     "metadata": {},
     "output_type": "display_data"
    },
    {
     "data": {
      "text/html": [
       "<span style=\"color:#4527A0\"><h1 style=\"font-size:18px\">Trial summary</h1></span>"
      ],
      "text/plain": [
       "<IPython.core.display.HTML object>"
      ]
     },
     "metadata": {},
     "output_type": "display_data"
    },
    {
     "data": {
      "text/html": [
       "<span style=\"color:cyan\"> |-Trial ID: 3db2d379dd2a6a85ff8d8275669ae8f9</span>"
      ],
      "text/plain": [
       "<IPython.core.display.HTML object>"
      ]
     },
     "metadata": {},
     "output_type": "display_data"
    },
    {
     "data": {
      "text/html": [
       "<span style=\"color:cyan\"> |-Score: 309.1107625325521</span>"
      ],
      "text/plain": [
       "<IPython.core.display.HTML object>"
      ]
     },
     "metadata": {},
     "output_type": "display_data"
    },
    {
     "data": {
      "text/html": [
       "<span style=\"color:cyan\"> |-Best step: 0</span>"
      ],
      "text/plain": [
       "<IPython.core.display.HTML object>"
      ]
     },
     "metadata": {},
     "output_type": "display_data"
    },
    {
     "data": {
      "text/html": [
       "<span style=\"color:#7E57C2\"><h2 style=\"font-size:16px\">Hyperparameters:</h2></span>"
      ],
      "text/plain": [
       "<IPython.core.display.HTML object>"
      ]
     },
     "metadata": {},
     "output_type": "display_data"
    },
    {
     "data": {
      "text/html": [
       "<span style=\"color:cyan\"> |-conv_activation: tanh</span>"
      ],
      "text/plain": [
       "<IPython.core.display.HTML object>"
      ]
     },
     "metadata": {},
     "output_type": "display_data"
    },
    {
     "data": {
      "text/html": [
       "<span style=\"color:blue\"> |-conv_filters: 384</span>"
      ],
      "text/plain": [
       "<IPython.core.display.HTML object>"
      ]
     },
     "metadata": {},
     "output_type": "display_data"
    },
    {
     "data": {
      "text/html": [
       "<span style=\"color:cyan\"> |-conv_kernel_size: 4</span>"
      ],
      "text/plain": [
       "<IPython.core.display.HTML object>"
      ]
     },
     "metadata": {},
     "output_type": "display_data"
    },
    {
     "data": {
      "text/html": [
       "<span style=\"color:blue\"> |-conv_layers: 3</span>"
      ],
      "text/plain": [
       "<IPython.core.display.HTML object>"
      ]
     },
     "metadata": {},
     "output_type": "display_data"
    },
    {
     "data": {
      "text/html": [
       "<span style=\"color:cyan\"> |-conv_regularizer: none</span>"
      ],
      "text/plain": [
       "<IPython.core.display.HTML object>"
      ]
     },
     "metadata": {},
     "output_type": "display_data"
    },
    {
     "data": {
      "text/html": [
       "<span style=\"color:blue\"> |-dense_activation: tanh</span>"
      ],
      "text/plain": [
       "<IPython.core.display.HTML object>"
      ]
     },
     "metadata": {},
     "output_type": "display_data"
    },
    {
     "data": {
      "text/html": [
       "<span style=\"color:cyan\"> |-dense_layers: 3</span>"
      ],
      "text/plain": [
       "<IPython.core.display.HTML object>"
      ]
     },
     "metadata": {},
     "output_type": "display_data"
    },
    {
     "data": {
      "text/html": [
       "<span style=\"color:blue\"> |-dense_regularizer: l1l2</span>"
      ],
      "text/plain": [
       "<IPython.core.display.HTML object>"
      ]
     },
     "metadata": {},
     "output_type": "display_data"
    },
    {
     "data": {
      "text/html": [
       "<span style=\"color:cyan\"> |-dense_units: 384</span>"
      ],
      "text/plain": [
       "<IPython.core.display.HTML object>"
      ]
     },
     "metadata": {},
     "output_type": "display_data"
    },
    {
     "data": {
      "text/html": [
       "<span style=\"color:blue\"> |-dropout: 0.30000000000000004</span>"
      ],
      "text/plain": [
       "<IPython.core.display.HTML object>"
      ]
     },
     "metadata": {},
     "output_type": "display_data"
    },
    {
     "data": {
      "text/html": [
       "<span style=\"color:cyan\"> |-learning_rate: 1.1682481267584367e-06</span>"
      ],
      "text/plain": [
       "<IPython.core.display.HTML object>"
      ]
     },
     "metadata": {},
     "output_type": "display_data"
    },
    {
     "data": {
      "text/html": [
       "<span style=\"color:blue\"> |-maxpool_size: 3</span>"
      ],
      "text/plain": [
       "<IPython.core.display.HTML object>"
      ]
     },
     "metadata": {},
     "output_type": "display_data"
    },
    {
     "data": {
      "text/html": [
       "<span style=\"color:cyan\"> |-spatial_dropout: 0.1</span>"
      ],
      "text/plain": [
       "<IPython.core.display.HTML object>"
      ]
     },
     "metadata": {},
     "output_type": "display_data"
    },
    {
     "name": "stdout",
     "output_type": "stream",
     "text": [
      "Processing hyper parameter values: {'conv_filters': 384, 'conv_kernel_size': 5, 'maxpool_size': 2, 'conv_activation': 'relu', 'dense_activation': 'tanh', 'spatial_dropout': 0.1, 'dropout': 0.2, 'dense_layers': 2, 'conv_layers': 5, 'conv_regularizer': 'none', 'dense_regularizer': 'none', 'dense_units': 416, 'learning_rate': 1.9698134750928272e-06}\n",
      "Train on 80000 samples, validate on 20000 samples\n",
      "Epoch 1/20\n",
      "80000/80000 - 10s - loss: 2.4832 - accuracy: 0.1329 - val_loss: 2.4856 - val_accuracy: 0.2883\n",
      "Epoch 2/20\n",
      "80000/80000 - 9s - loss: 2.4806 - accuracy: 0.1943 - val_loss: 2.4829 - val_accuracy: 0.2914\n",
      "Epoch 3/20\n",
      "80000/80000 - 9s - loss: 2.4773 - accuracy: 0.2426 - val_loss: 2.4795 - val_accuracy: 0.2914\n",
      "Epoch 4/20\n",
      "80000/80000 - 9s - loss: 2.4733 - accuracy: 0.2693 - val_loss: 2.4752 - val_accuracy: 0.2914\n",
      "Epoch 5/20\n",
      "80000/80000 - 9s - loss: 2.4683 - accuracy: 0.2830 - val_loss: 2.4696 - val_accuracy: 0.2914\n",
      "Epoch 6/20\n",
      "80000/80000 - 9s - loss: 2.4619 - accuracy: 0.2899 - val_loss: 2.4627 - val_accuracy: 0.2914\n",
      "Epoch 7/20\n",
      "80000/80000 - 9s - loss: 2.4540 - accuracy: 0.2924 - val_loss: 2.4542 - val_accuracy: 0.2914\n",
      "Epoch 8/20\n",
      "80000/80000 - 9s - loss: 2.4444 - accuracy: 0.2938 - val_loss: 2.4439 - val_accuracy: 0.2914\n",
      "Epoch 9/20\n",
      "80000/80000 - 9s - loss: 2.4332 - accuracy: 0.2948 - val_loss: 2.4318 - val_accuracy: 0.2914\n",
      "Epoch 10/20\n",
      "80000/80000 - 9s - loss: 2.4202 - accuracy: 0.2948 - val_loss: 2.4177 - val_accuracy: 0.2914\n",
      "Epoch 11/20\n",
      "80000/80000 - 9s - loss: 2.4051 - accuracy: 0.2951 - val_loss: 2.4020 - val_accuracy: 0.2914\n",
      "Epoch 12/20\n",
      "80000/80000 - 9s - loss: 2.3888 - accuracy: 0.2953 - val_loss: 2.3849 - val_accuracy: 0.2914\n",
      "Epoch 13/20\n",
      "80000/80000 - 9s - loss: 2.3710 - accuracy: 0.2953 - val_loss: 2.3670 - val_accuracy: 0.2914\n",
      "Epoch 14/20\n",
      "80000/80000 - 9s - loss: 2.3532 - accuracy: 0.2953 - val_loss: 2.3487 - val_accuracy: 0.2914\n",
      "Epoch 15/20\n",
      "80000/80000 - 9s - loss: 2.3353 - accuracy: 0.2953 - val_loss: 2.3308 - val_accuracy: 0.2914\n",
      "Epoch 16/20\n",
      "80000/80000 - 9s - loss: 2.3184 - accuracy: 0.2953 - val_loss: 2.3140 - val_accuracy: 0.2914\n",
      "Epoch 17/20\n",
      "80000/80000 - 9s - loss: 2.3035 - accuracy: 0.2953 - val_loss: 2.2991 - val_accuracy: 0.2914\n",
      "Epoch 18/20\n",
      "80000/80000 - 9s - loss: 2.2914 - accuracy: 0.2953 - val_loss: 2.2863 - val_accuracy: 0.2914\n",
      "Epoch 19/20\n",
      "80000/80000 - 9s - loss: 2.2795 - accuracy: 0.2953 - val_loss: 2.2759 - val_accuracy: 0.2914\n",
      "Epoch 20/20\n",
      "80000/80000 - 9s - loss: 2.2718 - accuracy: 0.2953 - val_loss: 2.2677 - val_accuracy: 0.2914\n",
      "Processing hyper parameter values: {'conv_filters': 384, 'conv_kernel_size': 5, 'maxpool_size': 2, 'conv_activation': 'relu', 'dense_activation': 'tanh', 'spatial_dropout': 0.1, 'dropout': 0.2, 'dense_layers': 2, 'conv_layers': 5, 'conv_regularizer': 'none', 'dense_regularizer': 'none', 'dense_units': 416, 'learning_rate': 1.9698134750928272e-06}\n",
      "Train on 80000 samples, validate on 20000 samples\n",
      "Epoch 1/20\n",
      "80000/80000 - 10s - loss: 2.4894 - accuracy: 0.1023 - val_loss: 2.4913 - val_accuracy: 0.1599\n",
      "Epoch 2/20\n",
      "80000/80000 - 9s - loss: 2.4859 - accuracy: 0.1219 - val_loss: 2.4881 - val_accuracy: 0.1607\n",
      "Epoch 3/20\n",
      "80000/80000 - 9s - loss: 2.4827 - accuracy: 0.1457 - val_loss: 2.4847 - val_accuracy: 0.1620\n",
      "Epoch 4/20\n",
      "80000/80000 - 9s - loss: 2.4792 - accuracy: 0.1678 - val_loss: 2.4807 - val_accuracy: 0.2219\n",
      "Epoch 5/20\n",
      "80000/80000 - 9s - loss: 2.4749 - accuracy: 0.1889 - val_loss: 2.4758 - val_accuracy: 0.2675\n",
      "Epoch 6/20\n",
      "80000/80000 - 9s - loss: 2.4692 - accuracy: 0.2075 - val_loss: 2.4695 - val_accuracy: 0.2828\n",
      "Epoch 7/20\n",
      "80000/80000 - 9s - loss: 2.4622 - accuracy: 0.2183 - val_loss: 2.4616 - val_accuracy: 0.2912\n",
      "Epoch 8/20\n",
      "80000/80000 - 9s - loss: 2.4533 - accuracy: 0.2316 - val_loss: 2.4518 - val_accuracy: 0.2914\n",
      "Epoch 9/20\n",
      "80000/80000 - 9s - loss: 2.4421 - accuracy: 0.2420 - val_loss: 2.4399 - val_accuracy: 0.2914\n",
      "Epoch 10/20\n",
      "80000/80000 - 9s - loss: 2.4290 - accuracy: 0.2529 - val_loss: 2.4256 - val_accuracy: 0.2914\n",
      "Epoch 11/20\n",
      "80000/80000 - 9s - loss: 2.4135 - accuracy: 0.2658 - val_loss: 2.4089 - val_accuracy: 0.2914\n",
      "Epoch 12/20\n",
      "80000/80000 - 9s - loss: 2.3962 - accuracy: 0.2743 - val_loss: 2.3904 - val_accuracy: 0.2914\n",
      "Epoch 13/20\n",
      "80000/80000 - 9s - loss: 2.3774 - accuracy: 0.2814 - val_loss: 2.3708 - val_accuracy: 0.2914\n",
      "Epoch 14/20\n",
      "80000/80000 - 9s - loss: 2.3574 - accuracy: 0.2869 - val_loss: 2.3507 - val_accuracy: 0.2914\n",
      "Epoch 15/20\n",
      "80000/80000 - 9s - loss: 2.3379 - accuracy: 0.2906 - val_loss: 2.3310 - val_accuracy: 0.2914\n",
      "Epoch 16/20\n",
      "80000/80000 - 9s - loss: 2.3186 - accuracy: 0.2927 - val_loss: 2.3125 - val_accuracy: 0.2914\n",
      "Epoch 17/20\n",
      "80000/80000 - 9s - loss: 2.3021 - accuracy: 0.2937 - val_loss: 2.2961 - val_accuracy: 0.2914\n",
      "Epoch 18/20\n",
      "80000/80000 - 9s - loss: 2.2882 - accuracy: 0.2945 - val_loss: 2.2824 - val_accuracy: 0.2914\n",
      "Epoch 19/20\n",
      "80000/80000 - 9s - loss: 2.2773 - accuracy: 0.2948 - val_loss: 2.2716 - val_accuracy: 0.2914\n",
      "Epoch 20/20\n",
      "80000/80000 - 9s - loss: 2.2681 - accuracy: 0.2949 - val_loss: 2.2635 - val_accuracy: 0.2914\n",
      "Processing hyper parameter values: {'conv_filters': 384, 'conv_kernel_size': 5, 'maxpool_size': 2, 'conv_activation': 'relu', 'dense_activation': 'tanh', 'spatial_dropout': 0.1, 'dropout': 0.2, 'dense_layers': 2, 'conv_layers': 5, 'conv_regularizer': 'none', 'dense_regularizer': 'none', 'dense_units': 416, 'learning_rate': 1.9698134750928272e-06}\n",
      "Train on 80000 samples, validate on 20000 samples\n",
      "Epoch 1/20\n",
      "80000/80000 - 10s - loss: 2.4842 - accuracy: 0.1203 - val_loss: 2.4852 - val_accuracy: 0.1682\n",
      "Epoch 2/20\n",
      "80000/80000 - 9s - loss: 2.4801 - accuracy: 0.1443 - val_loss: 2.4814 - val_accuracy: 0.1902\n",
      "Epoch 3/20\n",
      "80000/80000 - 9s - loss: 2.4756 - accuracy: 0.1788 - val_loss: 2.4770 - val_accuracy: 0.2838\n",
      "Epoch 4/20\n",
      "80000/80000 - 9s - loss: 2.4706 - accuracy: 0.2160 - val_loss: 2.4717 - val_accuracy: 0.2914\n",
      "Epoch 5/20\n",
      "80000/80000 - 9s - loss: 2.4645 - accuracy: 0.2486 - val_loss: 2.4653 - val_accuracy: 0.2914\n",
      "Epoch 6/20\n",
      "80000/80000 - 9s - loss: 2.4572 - accuracy: 0.2726 - val_loss: 2.4575 - val_accuracy: 0.2914\n",
      "Epoch 7/20\n",
      "80000/80000 - 9s - loss: 2.4488 - accuracy: 0.2830 - val_loss: 2.4484 - val_accuracy: 0.2914\n",
      "Epoch 8/20\n",
      "80000/80000 - 9s - loss: 2.4388 - accuracy: 0.2909 - val_loss: 2.4377 - val_accuracy: 0.2914\n",
      "Epoch 9/20\n",
      "80000/80000 - 9s - loss: 2.4273 - accuracy: 0.2928 - val_loss: 2.4255 - val_accuracy: 0.2914\n",
      "Epoch 10/20\n",
      "80000/80000 - 9s - loss: 2.4142 - accuracy: 0.2938 - val_loss: 2.4119 - val_accuracy: 0.2914\n",
      "Epoch 11/20\n",
      "80000/80000 - 9s - loss: 2.4003 - accuracy: 0.2948 - val_loss: 2.3971 - val_accuracy: 0.2914\n",
      "Epoch 12/20\n",
      "80000/80000 - 9s - loss: 2.3853 - accuracy: 0.2952 - val_loss: 2.3815 - val_accuracy: 0.2914\n",
      "Epoch 13/20\n",
      "80000/80000 - 9s - loss: 2.3693 - accuracy: 0.2953 - val_loss: 2.3653 - val_accuracy: 0.2914\n",
      "Epoch 14/20\n",
      "80000/80000 - 9s - loss: 2.3536 - accuracy: 0.2953 - val_loss: 2.3491 - val_accuracy: 0.2914\n",
      "Epoch 15/20\n",
      "80000/80000 - 9s - loss: 2.3379 - accuracy: 0.2953 - val_loss: 2.3335 - val_accuracy: 0.2914\n",
      "Epoch 16/20\n",
      "80000/80000 - 9s - loss: 2.3229 - accuracy: 0.2953 - val_loss: 2.3188 - val_accuracy: 0.2914\n",
      "Epoch 17/20\n",
      "80000/80000 - 9s - loss: 2.3095 - accuracy: 0.2953 - val_loss: 2.3056 - val_accuracy: 0.2914\n",
      "Epoch 18/20\n",
      "80000/80000 - 9s - loss: 2.2989 - accuracy: 0.2953 - val_loss: 2.2944 - val_accuracy: 0.2914\n",
      "Epoch 19/20\n",
      "80000/80000 - 9s - loss: 2.2882 - accuracy: 0.2953 - val_loss: 2.2850 - val_accuracy: 0.2914\n",
      "Epoch 20/20\n",
      "80000/80000 - 9s - loss: 2.2815 - accuracy: 0.2953 - val_loss: 2.2775 - val_accuracy: 0.2914\n"
     ]
    },
    {
     "data": {
      "text/html": [
       "<span style=\"color:#4527A0\"><h1 style=\"font-size:18px\">Trial complete</h1></span>"
      ],
      "text/plain": [
       "<IPython.core.display.HTML object>"
      ]
     },
     "metadata": {},
     "output_type": "display_data"
    },
    {
     "data": {
      "text/html": [
       "<span style=\"color:#4527A0\"><h1 style=\"font-size:18px\">Trial summary</h1></span>"
      ],
      "text/plain": [
       "<IPython.core.display.HTML object>"
      ]
     },
     "metadata": {},
     "output_type": "display_data"
    },
    {
     "data": {
      "text/html": [
       "<span style=\"color:cyan\"> |-Trial ID: af9249c24b7ddb9bf564d2a55dc8fc69</span>"
      ],
      "text/plain": [
       "<IPython.core.display.HTML object>"
      ]
     },
     "metadata": {},
     "output_type": "display_data"
    },
    {
     "data": {
      "text/html": [
       "<span style=\"color:cyan\"> |-Score: 2.2695797363917034</span>"
      ],
      "text/plain": [
       "<IPython.core.display.HTML object>"
      ]
     },
     "metadata": {},
     "output_type": "display_data"
    },
    {
     "data": {
      "text/html": [
       "<span style=\"color:cyan\"> |-Best step: 0</span>"
      ],
      "text/plain": [
       "<IPython.core.display.HTML object>"
      ]
     },
     "metadata": {},
     "output_type": "display_data"
    },
    {
     "data": {
      "text/html": [
       "<span style=\"color:#7E57C2\"><h2 style=\"font-size:16px\">Hyperparameters:</h2></span>"
      ],
      "text/plain": [
       "<IPython.core.display.HTML object>"
      ]
     },
     "metadata": {},
     "output_type": "display_data"
    },
    {
     "data": {
      "text/html": [
       "<span style=\"color:cyan\"> |-conv_activation: relu</span>"
      ],
      "text/plain": [
       "<IPython.core.display.HTML object>"
      ]
     },
     "metadata": {},
     "output_type": "display_data"
    },
    {
     "data": {
      "text/html": [
       "<span style=\"color:blue\"> |-conv_filters: 384</span>"
      ],
      "text/plain": [
       "<IPython.core.display.HTML object>"
      ]
     },
     "metadata": {},
     "output_type": "display_data"
    },
    {
     "data": {
      "text/html": [
       "<span style=\"color:cyan\"> |-conv_kernel_size: 5</span>"
      ],
      "text/plain": [
       "<IPython.core.display.HTML object>"
      ]
     },
     "metadata": {},
     "output_type": "display_data"
    },
    {
     "data": {
      "text/html": [
       "<span style=\"color:blue\"> |-conv_layers: 5</span>"
      ],
      "text/plain": [
       "<IPython.core.display.HTML object>"
      ]
     },
     "metadata": {},
     "output_type": "display_data"
    },
    {
     "data": {
      "text/html": [
       "<span style=\"color:cyan\"> |-conv_regularizer: none</span>"
      ],
      "text/plain": [
       "<IPython.core.display.HTML object>"
      ]
     },
     "metadata": {},
     "output_type": "display_data"
    },
    {
     "data": {
      "text/html": [
       "<span style=\"color:blue\"> |-dense_activation: tanh</span>"
      ],
      "text/plain": [
       "<IPython.core.display.HTML object>"
      ]
     },
     "metadata": {},
     "output_type": "display_data"
    },
    {
     "data": {
      "text/html": [
       "<span style=\"color:cyan\"> |-dense_layers: 2</span>"
      ],
      "text/plain": [
       "<IPython.core.display.HTML object>"
      ]
     },
     "metadata": {},
     "output_type": "display_data"
    },
    {
     "data": {
      "text/html": [
       "<span style=\"color:blue\"> |-dense_regularizer: none</span>"
      ],
      "text/plain": [
       "<IPython.core.display.HTML object>"
      ]
     },
     "metadata": {},
     "output_type": "display_data"
    },
    {
     "data": {
      "text/html": [
       "<span style=\"color:cyan\"> |-dense_units: 416</span>"
      ],
      "text/plain": [
       "<IPython.core.display.HTML object>"
      ]
     },
     "metadata": {},
     "output_type": "display_data"
    },
    {
     "data": {
      "text/html": [
       "<span style=\"color:blue\"> |-dropout: 0.2</span>"
      ],
      "text/plain": [
       "<IPython.core.display.HTML object>"
      ]
     },
     "metadata": {},
     "output_type": "display_data"
    },
    {
     "data": {
      "text/html": [
       "<span style=\"color:cyan\"> |-learning_rate: 1.9698134750928272e-06</span>"
      ],
      "text/plain": [
       "<IPython.core.display.HTML object>"
      ]
     },
     "metadata": {},
     "output_type": "display_data"
    },
    {
     "data": {
      "text/html": [
       "<span style=\"color:blue\"> |-maxpool_size: 2</span>"
      ],
      "text/plain": [
       "<IPython.core.display.HTML object>"
      ]
     },
     "metadata": {},
     "output_type": "display_data"
    },
    {
     "data": {
      "text/html": [
       "<span style=\"color:cyan\"> |-spatial_dropout: 0.1</span>"
      ],
      "text/plain": [
       "<IPython.core.display.HTML object>"
      ]
     },
     "metadata": {},
     "output_type": "display_data"
    },
    {
     "name": "stdout",
     "output_type": "stream",
     "text": [
      "Processing hyper parameter values: {'conv_filters': 288, 'conv_kernel_size': 2, 'maxpool_size': 3, 'conv_activation': 'tanh', 'dense_activation': 'tanh', 'spatial_dropout': 0.30000000000000004, 'dropout': 0.30000000000000004, 'dense_layers': 3, 'conv_layers': 5, 'conv_regularizer': 'l1', 'dense_regularizer': 'none', 'dense_units': 352, 'learning_rate': 2.9062220047676503e-06}\n",
      "Train on 80000 samples, validate on 20000 samples\n",
      "Epoch 1/20\n",
      "80000/80000 - 9s - loss: 56.2994 - accuracy: 0.1113 - val_loss: 56.2190 - val_accuracy: 0.1054\n",
      "Epoch 2/20\n",
      "80000/80000 - 7s - loss: 56.1589 - accuracy: 0.1274 - val_loss: 56.0800 - val_accuracy: 0.1695\n",
      "Epoch 3/20\n",
      "80000/80000 - 7s - loss: 56.0187 - accuracy: 0.1405 - val_loss: 55.9409 - val_accuracy: 0.2773\n",
      "Epoch 4/20\n",
      "80000/80000 - 7s - loss: 55.8792 - accuracy: 0.1586 - val_loss: 55.8016 - val_accuracy: 0.2912\n",
      "Epoch 5/20\n",
      "80000/80000 - 7s - loss: 55.7398 - accuracy: 0.1788 - val_loss: 55.6620 - val_accuracy: 0.2914\n",
      "Epoch 6/20\n",
      "80000/80000 - 7s - loss: 55.5979 - accuracy: 0.1984 - val_loss: 55.5218 - val_accuracy: 0.2914\n",
      "Epoch 7/20\n",
      "80000/80000 - 7s - loss: 55.4594 - accuracy: 0.2139 - val_loss: 55.3815 - val_accuracy: 0.2914\n",
      "Epoch 8/20\n",
      "80000/80000 - 7s - loss: 55.3194 - accuracy: 0.2274 - val_loss: 55.2408 - val_accuracy: 0.2914\n",
      "Epoch 9/20\n",
      "80000/80000 - 7s - loss: 55.1792 - accuracy: 0.2408 - val_loss: 55.1002 - val_accuracy: 0.2914\n",
      "Epoch 10/20\n",
      "80000/80000 - 7s - loss: 55.0401 - accuracy: 0.2511 - val_loss: 54.9596 - val_accuracy: 0.2914\n",
      "Epoch 11/20\n",
      "80000/80000 - 7s - loss: 54.9018 - accuracy: 0.2585 - val_loss: 54.8195 - val_accuracy: 0.2914\n",
      "Epoch 12/20\n",
      "80000/80000 - 7s - loss: 54.7654 - accuracy: 0.2646 - val_loss: 54.6800 - val_accuracy: 0.2914\n",
      "Epoch 13/20\n",
      "80000/80000 - 7s - loss: 54.6271 - accuracy: 0.2701 - val_loss: 54.5414 - val_accuracy: 0.2914\n",
      "Epoch 14/20\n",
      "80000/80000 - 7s - loss: 54.4920 - accuracy: 0.2747 - val_loss: 54.4035 - val_accuracy: 0.2914\n",
      "Epoch 15/20\n",
      "80000/80000 - 7s - loss: 54.3579 - accuracy: 0.2775 - val_loss: 54.2669 - val_accuracy: 0.2914\n",
      "Epoch 16/20\n",
      "80000/80000 - 7s - loss: 54.2237 - accuracy: 0.2786 - val_loss: 54.1314 - val_accuracy: 0.2914\n",
      "Epoch 17/20\n",
      "80000/80000 - 7s - loss: 54.0902 - accuracy: 0.2798 - val_loss: 53.9968 - val_accuracy: 0.2914\n",
      "Epoch 18/20\n",
      "80000/80000 - 7s - loss: 53.9583 - accuracy: 0.2815 - val_loss: 53.8632 - val_accuracy: 0.2914\n",
      "Epoch 19/20\n",
      "80000/80000 - 7s - loss: 53.8266 - accuracy: 0.2828 - val_loss: 53.7306 - val_accuracy: 0.2914\n",
      "Epoch 20/20\n",
      "80000/80000 - 7s - loss: 53.6958 - accuracy: 0.2836 - val_loss: 53.5988 - val_accuracy: 0.2914\n",
      "Processing hyper parameter values: {'conv_filters': 288, 'conv_kernel_size': 2, 'maxpool_size': 3, 'conv_activation': 'tanh', 'dense_activation': 'tanh', 'spatial_dropout': 0.30000000000000004, 'dropout': 0.30000000000000004, 'dense_layers': 3, 'conv_layers': 5, 'conv_regularizer': 'l1', 'dense_regularizer': 'none', 'dense_units': 352, 'learning_rate': 2.9062220047676503e-06}\n",
      "Train on 80000 samples, validate on 20000 samples\n",
      "Epoch 1/20\n",
      "80000/80000 - 7s - loss: 56.2926 - accuracy: 0.1090 - val_loss: 56.2207 - val_accuracy: 0.0872\n",
      "Epoch 2/20\n",
      "80000/80000 - 7s - loss: 56.1528 - accuracy: 0.1274 - val_loss: 56.0825 - val_accuracy: 0.2586\n",
      "Epoch 3/20\n",
      "80000/80000 - 7s - loss: 56.0136 - accuracy: 0.1458 - val_loss: 55.9441 - val_accuracy: 0.2882\n",
      "Epoch 4/20\n",
      "80000/80000 - 7s - loss: 55.8740 - accuracy: 0.1672 - val_loss: 55.8048 - val_accuracy: 0.2912\n",
      "Epoch 5/20\n",
      "80000/80000 - 7s - loss: 55.7330 - accuracy: 0.1922 - val_loss: 55.6647 - val_accuracy: 0.2914\n",
      "Epoch 6/20\n",
      "80000/80000 - 7s - loss: 55.5926 - accuracy: 0.2110 - val_loss: 55.5234 - val_accuracy: 0.2914\n",
      "Epoch 7/20\n",
      "80000/80000 - 7s - loss: 55.4502 - accuracy: 0.2331 - val_loss: 55.3813 - val_accuracy: 0.2914\n",
      "Epoch 8/20\n",
      "80000/80000 - 7s - loss: 55.3090 - accuracy: 0.2492 - val_loss: 55.2385 - val_accuracy: 0.2914\n",
      "Epoch 9/20\n",
      "80000/80000 - 7s - loss: 55.1662 - accuracy: 0.2606 - val_loss: 55.0951 - val_accuracy: 0.2914\n",
      "Epoch 10/20\n",
      "80000/80000 - 7s - loss: 55.0251 - accuracy: 0.2695 - val_loss: 54.9518 - val_accuracy: 0.2914\n",
      "Epoch 11/20\n",
      "80000/80000 - 7s - loss: 54.8838 - accuracy: 0.2759 - val_loss: 54.8090 - val_accuracy: 0.2914\n",
      "Epoch 12/20\n",
      "80000/80000 - 7s - loss: 54.7435 - accuracy: 0.2815 - val_loss: 54.6670 - val_accuracy: 0.2914\n",
      "Epoch 13/20\n",
      "80000/80000 - 7s - loss: 54.6038 - accuracy: 0.2838 - val_loss: 54.5262 - val_accuracy: 0.2914\n",
      "Epoch 14/20\n",
      "80000/80000 - 7s - loss: 54.4685 - accuracy: 0.2855 - val_loss: 54.3872 - val_accuracy: 0.2914\n",
      "Epoch 15/20\n",
      "80000/80000 - 7s - loss: 54.3335 - accuracy: 0.2870 - val_loss: 54.2497 - val_accuracy: 0.2914\n",
      "Epoch 16/20\n",
      "80000/80000 - 7s - loss: 54.2004 - accuracy: 0.2878 - val_loss: 54.1138 - val_accuracy: 0.2914\n",
      "Epoch 17/20\n",
      "80000/80000 - 7s - loss: 54.0668 - accuracy: 0.2887 - val_loss: 53.9794 - val_accuracy: 0.2914\n",
      "Epoch 18/20\n",
      "80000/80000 - 7s - loss: 53.9358 - accuracy: 0.2880 - val_loss: 53.8463 - val_accuracy: 0.2914\n",
      "Epoch 19/20\n",
      "80000/80000 - 7s - loss: 53.8040 - accuracy: 0.2886 - val_loss: 53.7142 - val_accuracy: 0.2914\n",
      "Epoch 20/20\n",
      "80000/80000 - 7s - loss: 53.6756 - accuracy: 0.2881 - val_loss: 53.5831 - val_accuracy: 0.2914\n",
      "Processing hyper parameter values: {'conv_filters': 288, 'conv_kernel_size': 2, 'maxpool_size': 3, 'conv_activation': 'tanh', 'dense_activation': 'tanh', 'spatial_dropout': 0.30000000000000004, 'dropout': 0.30000000000000004, 'dense_layers': 3, 'conv_layers': 5, 'conv_regularizer': 'l1', 'dense_regularizer': 'none', 'dense_units': 352, 'learning_rate': 2.9062220047676503e-06}\n",
      "Train on 80000 samples, validate on 20000 samples\n",
      "Epoch 1/20\n",
      "80000/80000 - 7s - loss: 56.4785 - accuracy: 0.1261 - val_loss: 56.4056 - val_accuracy: 0.2830\n",
      "Epoch 2/20\n",
      "80000/80000 - 7s - loss: 56.3372 - accuracy: 0.1493 - val_loss: 56.2663 - val_accuracy: 0.2914\n",
      "Epoch 3/20\n",
      "80000/80000 - 7s - loss: 56.1967 - accuracy: 0.1722 - val_loss: 56.1270 - val_accuracy: 0.2914\n",
      "Epoch 4/20\n",
      "80000/80000 - 7s - loss: 56.0567 - accuracy: 0.1916 - val_loss: 55.9875 - val_accuracy: 0.2914\n",
      "Epoch 5/20\n",
      "80000/80000 - 7s - loss: 55.9174 - accuracy: 0.2116 - val_loss: 55.8477 - val_accuracy: 0.2914\n",
      "Epoch 6/20\n",
      "80000/80000 - 7s - loss: 55.7754 - accuracy: 0.2331 - val_loss: 55.7074 - val_accuracy: 0.2914\n",
      "Epoch 7/20\n",
      "80000/80000 - 7s - loss: 55.6369 - accuracy: 0.2441 - val_loss: 55.5667 - val_accuracy: 0.2914\n",
      "Epoch 8/20\n",
      "80000/80000 - 7s - loss: 55.4959 - accuracy: 0.2572 - val_loss: 55.4257 - val_accuracy: 0.2914\n",
      "Epoch 9/20\n",
      "80000/80000 - 7s - loss: 55.3556 - accuracy: 0.2677 - val_loss: 55.2845 - val_accuracy: 0.2914\n",
      "Epoch 10/20\n",
      "80000/80000 - 7s - loss: 55.2152 - accuracy: 0.2754 - val_loss: 55.1434 - val_accuracy: 0.2914\n",
      "Epoch 11/20\n",
      "80000/80000 - 7s - loss: 55.0751 - accuracy: 0.2801 - val_loss: 55.0025 - val_accuracy: 0.2914\n",
      "Epoch 12/20\n",
      "80000/80000 - 7s - loss: 54.9364 - accuracy: 0.2856 - val_loss: 54.8621 - val_accuracy: 0.2914\n",
      "Epoch 13/20\n",
      "80000/80000 - 7s - loss: 54.7981 - accuracy: 0.2863 - val_loss: 54.7225 - val_accuracy: 0.2914\n",
      "Epoch 14/20\n",
      "80000/80000 - 7s - loss: 54.6607 - accuracy: 0.2887 - val_loss: 54.5840 - val_accuracy: 0.2914\n",
      "Epoch 15/20\n",
      "80000/80000 - 7s - loss: 54.5253 - accuracy: 0.2892 - val_loss: 54.4467 - val_accuracy: 0.2914\n",
      "Epoch 16/20\n",
      "80000/80000 - 7s - loss: 54.3909 - accuracy: 0.2902 - val_loss: 54.3106 - val_accuracy: 0.2914\n",
      "Epoch 17/20\n",
      "80000/80000 - 7s - loss: 54.2566 - accuracy: 0.2912 - val_loss: 54.1758 - val_accuracy: 0.2914\n",
      "Epoch 18/20\n",
      "80000/80000 - 7s - loss: 54.1253 - accuracy: 0.2921 - val_loss: 54.0422 - val_accuracy: 0.2914\n",
      "Epoch 19/20\n",
      "80000/80000 - 7s - loss: 53.9941 - accuracy: 0.2917 - val_loss: 53.9097 - val_accuracy: 0.2914\n",
      "Epoch 20/20\n",
      "80000/80000 - 7s - loss: 53.8623 - accuracy: 0.2923 - val_loss: 53.7782 - val_accuracy: 0.2914\n"
     ]
    },
    {
     "data": {
      "text/html": [
       "<span style=\"color:#4527A0\"><h1 style=\"font-size:18px\">Trial complete</h1></span>"
      ],
      "text/plain": [
       "<IPython.core.display.HTML object>"
      ]
     },
     "metadata": {},
     "output_type": "display_data"
    },
    {
     "data": {
      "text/html": [
       "<span style=\"color:#4527A0\"><h1 style=\"font-size:18px\">Trial summary</h1></span>"
      ],
      "text/plain": [
       "<IPython.core.display.HTML object>"
      ]
     },
     "metadata": {},
     "output_type": "display_data"
    },
    {
     "data": {
      "text/html": [
       "<span style=\"color:cyan\"> |-Trial ID: 61c111df00848d232e8b95ca9a4c37c3</span>"
      ],
      "text/plain": [
       "<IPython.core.display.HTML object>"
      ]
     },
     "metadata": {},
     "output_type": "display_data"
    },
    {
     "data": {
      "text/html": [
       "<span style=\"color:cyan\"> |-Score: 53.65337511698405</span>"
      ],
      "text/plain": [
       "<IPython.core.display.HTML object>"
      ]
     },
     "metadata": {},
     "output_type": "display_data"
    },
    {
     "data": {
      "text/html": [
       "<span style=\"color:cyan\"> |-Best step: 0</span>"
      ],
      "text/plain": [
       "<IPython.core.display.HTML object>"
      ]
     },
     "metadata": {},
     "output_type": "display_data"
    },
    {
     "data": {
      "text/html": [
       "<span style=\"color:#7E57C2\"><h2 style=\"font-size:16px\">Hyperparameters:</h2></span>"
      ],
      "text/plain": [
       "<IPython.core.display.HTML object>"
      ]
     },
     "metadata": {},
     "output_type": "display_data"
    },
    {
     "data": {
      "text/html": [
       "<span style=\"color:cyan\"> |-conv_activation: tanh</span>"
      ],
      "text/plain": [
       "<IPython.core.display.HTML object>"
      ]
     },
     "metadata": {},
     "output_type": "display_data"
    },
    {
     "data": {
      "text/html": [
       "<span style=\"color:blue\"> |-conv_filters: 288</span>"
      ],
      "text/plain": [
       "<IPython.core.display.HTML object>"
      ]
     },
     "metadata": {},
     "output_type": "display_data"
    },
    {
     "data": {
      "text/html": [
       "<span style=\"color:cyan\"> |-conv_kernel_size: 2</span>"
      ],
      "text/plain": [
       "<IPython.core.display.HTML object>"
      ]
     },
     "metadata": {},
     "output_type": "display_data"
    },
    {
     "data": {
      "text/html": [
       "<span style=\"color:blue\"> |-conv_layers: 5</span>"
      ],
      "text/plain": [
       "<IPython.core.display.HTML object>"
      ]
     },
     "metadata": {},
     "output_type": "display_data"
    },
    {
     "data": {
      "text/html": [
       "<span style=\"color:cyan\"> |-conv_regularizer: l1</span>"
      ],
      "text/plain": [
       "<IPython.core.display.HTML object>"
      ]
     },
     "metadata": {},
     "output_type": "display_data"
    },
    {
     "data": {
      "text/html": [
       "<span style=\"color:blue\"> |-dense_activation: tanh</span>"
      ],
      "text/plain": [
       "<IPython.core.display.HTML object>"
      ]
     },
     "metadata": {},
     "output_type": "display_data"
    },
    {
     "data": {
      "text/html": [
       "<span style=\"color:cyan\"> |-dense_layers: 3</span>"
      ],
      "text/plain": [
       "<IPython.core.display.HTML object>"
      ]
     },
     "metadata": {},
     "output_type": "display_data"
    },
    {
     "data": {
      "text/html": [
       "<span style=\"color:blue\"> |-dense_regularizer: none</span>"
      ],
      "text/plain": [
       "<IPython.core.display.HTML object>"
      ]
     },
     "metadata": {},
     "output_type": "display_data"
    },
    {
     "data": {
      "text/html": [
       "<span style=\"color:cyan\"> |-dense_units: 352</span>"
      ],
      "text/plain": [
       "<IPython.core.display.HTML object>"
      ]
     },
     "metadata": {},
     "output_type": "display_data"
    },
    {
     "data": {
      "text/html": [
       "<span style=\"color:blue\"> |-dropout: 0.30000000000000004</span>"
      ],
      "text/plain": [
       "<IPython.core.display.HTML object>"
      ]
     },
     "metadata": {},
     "output_type": "display_data"
    },
    {
     "data": {
      "text/html": [
       "<span style=\"color:cyan\"> |-learning_rate: 2.9062220047676503e-06</span>"
      ],
      "text/plain": [
       "<IPython.core.display.HTML object>"
      ]
     },
     "metadata": {},
     "output_type": "display_data"
    },
    {
     "data": {
      "text/html": [
       "<span style=\"color:blue\"> |-maxpool_size: 3</span>"
      ],
      "text/plain": [
       "<IPython.core.display.HTML object>"
      ]
     },
     "metadata": {},
     "output_type": "display_data"
    },
    {
     "data": {
      "text/html": [
       "<span style=\"color:cyan\"> |-spatial_dropout: 0.30000000000000004</span>"
      ],
      "text/plain": [
       "<IPython.core.display.HTML object>"
      ]
     },
     "metadata": {},
     "output_type": "display_data"
    },
    {
     "name": "stdout",
     "output_type": "stream",
     "text": [
      "Processing hyper parameter values: {'conv_filters': 192, 'conv_kernel_size': 4, 'maxpool_size': 2, 'conv_activation': 'relu', 'dense_activation': 'tanh', 'spatial_dropout': 0.1, 'dropout': 0.4, 'dense_layers': 5, 'conv_layers': 3, 'conv_regularizer': 'none', 'dense_regularizer': 'none', 'dense_units': 192, 'learning_rate': 3.2915512297055932e-06}\n",
      "Train on 80000 samples, validate on 20000 samples\n",
      "Epoch 1/20\n",
      "80000/80000 - 5s - loss: 2.4893 - accuracy: 0.1054 - val_loss: 2.4793 - val_accuracy: 0.1233\n",
      "Epoch 2/20\n",
      "80000/80000 - 4s - loss: 2.4766 - accuracy: 0.1269 - val_loss: 2.4672 - val_accuracy: 0.2470\n",
      "Epoch 3/20\n",
      "80000/80000 - 4s - loss: 2.4646 - accuracy: 0.1458 - val_loss: 2.4549 - val_accuracy: 0.2908\n",
      "Epoch 4/20\n",
      "80000/80000 - 4s - loss: 2.4534 - accuracy: 0.1632 - val_loss: 2.4420 - val_accuracy: 0.3290\n",
      "Epoch 5/20\n",
      "80000/80000 - 4s - loss: 2.4425 - accuracy: 0.1749 - val_loss: 2.4282 - val_accuracy: 0.3273\n",
      "Epoch 6/20\n",
      "80000/80000 - 4s - loss: 2.4317 - accuracy: 0.1887 - val_loss: 2.4141 - val_accuracy: 0.3015\n",
      "Epoch 7/20\n",
      "80000/80000 - 4s - loss: 2.4228 - accuracy: 0.1958 - val_loss: 2.3998 - val_accuracy: 0.2923\n",
      "Epoch 8/20\n",
      "80000/80000 - 4s - loss: 2.4131 - accuracy: 0.2002 - val_loss: 2.3856 - val_accuracy: 0.2914\n",
      "Epoch 9/20\n",
      "80000/80000 - 4s - loss: 2.4064 - accuracy: 0.2054 - val_loss: 2.3727 - val_accuracy: 0.2914\n",
      "Epoch 10/20\n",
      "80000/80000 - 4s - loss: 2.3988 - accuracy: 0.2099 - val_loss: 2.3604 - val_accuracy: 0.2914\n",
      "Epoch 11/20\n",
      "80000/80000 - 4s - loss: 2.3938 - accuracy: 0.2125 - val_loss: 2.3492 - val_accuracy: 0.2914\n",
      "Epoch 12/20\n",
      "80000/80000 - 4s - loss: 2.3882 - accuracy: 0.2158 - val_loss: 2.3391 - val_accuracy: 0.2914\n",
      "Epoch 13/20\n",
      "80000/80000 - 4s - loss: 2.3840 - accuracy: 0.2209 - val_loss: 2.3301 - val_accuracy: 0.2914\n",
      "Epoch 14/20\n",
      "80000/80000 - 4s - loss: 2.3832 - accuracy: 0.2208 - val_loss: 2.3226 - val_accuracy: 0.2914\n",
      "Epoch 15/20\n",
      "80000/80000 - 4s - loss: 2.3801 - accuracy: 0.2234 - val_loss: 2.3162 - val_accuracy: 0.2914\n",
      "Epoch 16/20\n",
      "80000/80000 - 4s - loss: 2.3763 - accuracy: 0.2257 - val_loss: 2.3102 - val_accuracy: 0.2914\n",
      "Epoch 17/20\n",
      "80000/80000 - 4s - loss: 2.3721 - accuracy: 0.2295 - val_loss: 2.3047 - val_accuracy: 0.2914\n",
      "Epoch 18/20\n",
      "80000/80000 - 4s - loss: 2.3688 - accuracy: 0.2289 - val_loss: 2.2993 - val_accuracy: 0.2914\n",
      "Epoch 19/20\n",
      "80000/80000 - 4s - loss: 2.3656 - accuracy: 0.2338 - val_loss: 2.2953 - val_accuracy: 0.2914\n",
      "Epoch 20/20\n",
      "80000/80000 - 4s - loss: 2.3632 - accuracy: 0.2347 - val_loss: 2.2907 - val_accuracy: 0.2914\n",
      "Processing hyper parameter values: {'conv_filters': 192, 'conv_kernel_size': 4, 'maxpool_size': 2, 'conv_activation': 'relu', 'dense_activation': 'tanh', 'spatial_dropout': 0.1, 'dropout': 0.4, 'dense_layers': 5, 'conv_layers': 3, 'conv_regularizer': 'none', 'dense_regularizer': 'none', 'dense_units': 192, 'learning_rate': 3.2915512297055932e-06}\n",
      "Train on 80000 samples, validate on 20000 samples\n",
      "Epoch 1/20\n",
      "80000/80000 - 4s - loss: 2.4921 - accuracy: 0.1022 - val_loss: 2.4809 - val_accuracy: 0.1079\n",
      "Epoch 2/20\n",
      "80000/80000 - 4s - loss: 2.4773 - accuracy: 0.1222 - val_loss: 2.4671 - val_accuracy: 0.1636\n",
      "Epoch 3/20\n",
      "80000/80000 - 4s - loss: 2.4646 - accuracy: 0.1399 - val_loss: 2.4541 - val_accuracy: 0.1611\n",
      "Epoch 4/20\n",
      "80000/80000 - 4s - loss: 2.4539 - accuracy: 0.1525 - val_loss: 2.4412 - val_accuracy: 0.1607\n",
      "Epoch 5/20\n",
      "80000/80000 - 4s - loss: 2.4441 - accuracy: 0.1593 - val_loss: 2.4286 - val_accuracy: 0.1607\n",
      "Epoch 6/20\n",
      "80000/80000 - 4s - loss: 2.4365 - accuracy: 0.1700 - val_loss: 2.4167 - val_accuracy: 0.1607\n",
      "Epoch 7/20\n",
      "80000/80000 - 4s - loss: 2.4291 - accuracy: 0.1720 - val_loss: 2.4054 - val_accuracy: 0.1607\n",
      "Epoch 8/20\n",
      "80000/80000 - 4s - loss: 2.4212 - accuracy: 0.1801 - val_loss: 2.3945 - val_accuracy: 0.1607\n",
      "Epoch 9/20\n",
      "80000/80000 - 4s - loss: 2.4161 - accuracy: 0.1820 - val_loss: 2.3845 - val_accuracy: 0.1608\n",
      "Epoch 10/20\n",
      "80000/80000 - 4s - loss: 2.4123 - accuracy: 0.1875 - val_loss: 2.3755 - val_accuracy: 0.1610\n",
      "Epoch 11/20\n",
      "80000/80000 - 4s - loss: 2.4067 - accuracy: 0.1899 - val_loss: 2.3672 - val_accuracy: 0.1620\n",
      "Epoch 12/20\n",
      "80000/80000 - 4s - loss: 2.4034 - accuracy: 0.1943 - val_loss: 2.3598 - val_accuracy: 0.1735\n",
      "Epoch 13/20\n",
      "80000/80000 - 4s - loss: 2.3978 - accuracy: 0.1987 - val_loss: 2.3525 - val_accuracy: 0.2134\n",
      "Epoch 14/20\n",
      "80000/80000 - 4s - loss: 2.3955 - accuracy: 0.2002 - val_loss: 2.3461 - val_accuracy: 0.2790\n",
      "Epoch 15/20\n",
      "80000/80000 - 4s - loss: 2.3923 - accuracy: 0.2030 - val_loss: 2.3402 - val_accuracy: 0.3465\n",
      "Epoch 16/20\n",
      "80000/80000 - 4s - loss: 2.3887 - accuracy: 0.2066 - val_loss: 2.3345 - val_accuracy: 0.3913\n",
      "Epoch 17/20\n",
      "80000/80000 - 4s - loss: 2.3861 - accuracy: 0.2091 - val_loss: 2.3289 - val_accuracy: 0.4094\n",
      "Epoch 18/20\n",
      "80000/80000 - 4s - loss: 2.3818 - accuracy: 0.2141 - val_loss: 2.3236 - val_accuracy: 0.4193\n",
      "Epoch 19/20\n",
      "80000/80000 - 4s - loss: 2.3798 - accuracy: 0.2142 - val_loss: 2.3187 - val_accuracy: 0.4187\n",
      "Epoch 20/20\n",
      "80000/80000 - 4s - loss: 2.3756 - accuracy: 0.2174 - val_loss: 2.3134 - val_accuracy: 0.4184\n",
      "Processing hyper parameter values: {'conv_filters': 192, 'conv_kernel_size': 4, 'maxpool_size': 2, 'conv_activation': 'relu', 'dense_activation': 'tanh', 'spatial_dropout': 0.1, 'dropout': 0.4, 'dense_layers': 5, 'conv_layers': 3, 'conv_regularizer': 'none', 'dense_regularizer': 'none', 'dense_units': 192, 'learning_rate': 3.2915512297055932e-06}\n",
      "Train on 80000 samples, validate on 20000 samples\n",
      "Epoch 1/20\n",
      "80000/80000 - 4s - loss: 2.4827 - accuracy: 0.1175 - val_loss: 2.4720 - val_accuracy: 0.2639\n",
      "Epoch 2/20\n",
      "80000/80000 - 4s - loss: 2.4682 - accuracy: 0.1398 - val_loss: 2.4577 - val_accuracy: 0.2914\n",
      "Epoch 3/20\n",
      "80000/80000 - 4s - loss: 2.4548 - accuracy: 0.1624 - val_loss: 2.4428 - val_accuracy: 0.2914\n",
      "Epoch 4/20\n",
      "80000/80000 - 4s - loss: 2.4437 - accuracy: 0.1737 - val_loss: 2.4276 - val_accuracy: 0.2914\n",
      "Epoch 5/20\n",
      "80000/80000 - 4s - loss: 2.4332 - accuracy: 0.1851 - val_loss: 2.4124 - val_accuracy: 0.2914\n",
      "Epoch 6/20\n",
      "80000/80000 - 4s - loss: 2.4202 - accuracy: 0.1947 - val_loss: 2.3968 - val_accuracy: 0.2914\n",
      "Epoch 7/20\n",
      "80000/80000 - 4s - loss: 2.4137 - accuracy: 0.1992 - val_loss: 2.3823 - val_accuracy: 0.2914\n",
      "Epoch 8/20\n",
      "80000/80000 - 4s - loss: 2.4055 - accuracy: 0.2046 - val_loss: 2.3690 - val_accuracy: 0.2914\n",
      "Epoch 9/20\n",
      "80000/80000 - 4s - loss: 2.3995 - accuracy: 0.2093 - val_loss: 2.3570 - val_accuracy: 0.2914\n",
      "Epoch 10/20\n",
      "80000/80000 - 4s - loss: 2.3923 - accuracy: 0.2145 - val_loss: 2.3459 - val_accuracy: 0.2914\n",
      "Epoch 11/20\n",
      "80000/80000 - 4s - loss: 2.3874 - accuracy: 0.2154 - val_loss: 2.3364 - val_accuracy: 0.2914\n",
      "Epoch 12/20\n",
      "80000/80000 - 4s - loss: 2.3853 - accuracy: 0.2191 - val_loss: 2.3287 - val_accuracy: 0.2914\n",
      "Epoch 13/20\n",
      "80000/80000 - 4s - loss: 2.3829 - accuracy: 0.2180 - val_loss: 2.3224 - val_accuracy: 0.2914\n",
      "Epoch 14/20\n",
      "80000/80000 - 4s - loss: 2.3781 - accuracy: 0.2208 - val_loss: 2.3162 - val_accuracy: 0.2914\n",
      "Epoch 15/20\n",
      "80000/80000 - 4s - loss: 2.3751 - accuracy: 0.2259 - val_loss: 2.3110 - val_accuracy: 0.2914\n",
      "Epoch 16/20\n",
      "80000/80000 - 4s - loss: 2.3723 - accuracy: 0.2252 - val_loss: 2.3059 - val_accuracy: 0.2914\n",
      "Epoch 17/20\n",
      "80000/80000 - 4s - loss: 2.3695 - accuracy: 0.2298 - val_loss: 2.3019 - val_accuracy: 0.2914\n",
      "Epoch 18/20\n",
      "80000/80000 - 4s - loss: 2.3645 - accuracy: 0.2317 - val_loss: 2.2969 - val_accuracy: 0.2914\n",
      "Epoch 19/20\n",
      "80000/80000 - 4s - loss: 2.3610 - accuracy: 0.2335 - val_loss: 2.2924 - val_accuracy: 0.2914\n",
      "Epoch 20/20\n",
      "80000/80000 - 4s - loss: 2.3582 - accuracy: 0.2346 - val_loss: 2.2884 - val_accuracy: 0.2914\n"
     ]
    },
    {
     "data": {
      "text/html": [
       "<span style=\"color:#4527A0\"><h1 style=\"font-size:18px\">Trial complete</h1></span>"
      ],
      "text/plain": [
       "<IPython.core.display.HTML object>"
      ]
     },
     "metadata": {},
     "output_type": "display_data"
    },
    {
     "data": {
      "text/html": [
       "<span style=\"color:#4527A0\"><h1 style=\"font-size:18px\">Trial summary</h1></span>"
      ],
      "text/plain": [
       "<IPython.core.display.HTML object>"
      ]
     },
     "metadata": {},
     "output_type": "display_data"
    },
    {
     "data": {
      "text/html": [
       "<span style=\"color:cyan\"> |-Trial ID: 1677dd76159a4b3df5382605db95597c</span>"
      ],
      "text/plain": [
       "<IPython.core.display.HTML object>"
      ]
     },
     "metadata": {},
     "output_type": "display_data"
    },
    {
     "data": {
      "text/html": [
       "<span style=\"color:cyan\"> |-Score: 2.297482069333394</span>"
      ],
      "text/plain": [
       "<IPython.core.display.HTML object>"
      ]
     },
     "metadata": {},
     "output_type": "display_data"
    },
    {
     "data": {
      "text/html": [
       "<span style=\"color:cyan\"> |-Best step: 0</span>"
      ],
      "text/plain": [
       "<IPython.core.display.HTML object>"
      ]
     },
     "metadata": {},
     "output_type": "display_data"
    },
    {
     "data": {
      "text/html": [
       "<span style=\"color:#7E57C2\"><h2 style=\"font-size:16px\">Hyperparameters:</h2></span>"
      ],
      "text/plain": [
       "<IPython.core.display.HTML object>"
      ]
     },
     "metadata": {},
     "output_type": "display_data"
    },
    {
     "data": {
      "text/html": [
       "<span style=\"color:cyan\"> |-conv_activation: relu</span>"
      ],
      "text/plain": [
       "<IPython.core.display.HTML object>"
      ]
     },
     "metadata": {},
     "output_type": "display_data"
    },
    {
     "data": {
      "text/html": [
       "<span style=\"color:blue\"> |-conv_filters: 192</span>"
      ],
      "text/plain": [
       "<IPython.core.display.HTML object>"
      ]
     },
     "metadata": {},
     "output_type": "display_data"
    },
    {
     "data": {
      "text/html": [
       "<span style=\"color:cyan\"> |-conv_kernel_size: 4</span>"
      ],
      "text/plain": [
       "<IPython.core.display.HTML object>"
      ]
     },
     "metadata": {},
     "output_type": "display_data"
    },
    {
     "data": {
      "text/html": [
       "<span style=\"color:blue\"> |-conv_layers: 3</span>"
      ],
      "text/plain": [
       "<IPython.core.display.HTML object>"
      ]
     },
     "metadata": {},
     "output_type": "display_data"
    },
    {
     "data": {
      "text/html": [
       "<span style=\"color:cyan\"> |-conv_regularizer: none</span>"
      ],
      "text/plain": [
       "<IPython.core.display.HTML object>"
      ]
     },
     "metadata": {},
     "output_type": "display_data"
    },
    {
     "data": {
      "text/html": [
       "<span style=\"color:blue\"> |-dense_activation: tanh</span>"
      ],
      "text/plain": [
       "<IPython.core.display.HTML object>"
      ]
     },
     "metadata": {},
     "output_type": "display_data"
    },
    {
     "data": {
      "text/html": [
       "<span style=\"color:cyan\"> |-dense_layers: 5</span>"
      ],
      "text/plain": [
       "<IPython.core.display.HTML object>"
      ]
     },
     "metadata": {},
     "output_type": "display_data"
    },
    {
     "data": {
      "text/html": [
       "<span style=\"color:blue\"> |-dense_regularizer: none</span>"
      ],
      "text/plain": [
       "<IPython.core.display.HTML object>"
      ]
     },
     "metadata": {},
     "output_type": "display_data"
    },
    {
     "data": {
      "text/html": [
       "<span style=\"color:cyan\"> |-dense_units: 192</span>"
      ],
      "text/plain": [
       "<IPython.core.display.HTML object>"
      ]
     },
     "metadata": {},
     "output_type": "display_data"
    },
    {
     "data": {
      "text/html": [
       "<span style=\"color:blue\"> |-dropout: 0.4</span>"
      ],
      "text/plain": [
       "<IPython.core.display.HTML object>"
      ]
     },
     "metadata": {},
     "output_type": "display_data"
    },
    {
     "data": {
      "text/html": [
       "<span style=\"color:cyan\"> |-learning_rate: 3.2915512297055932e-06</span>"
      ],
      "text/plain": [
       "<IPython.core.display.HTML object>"
      ]
     },
     "metadata": {},
     "output_type": "display_data"
    },
    {
     "data": {
      "text/html": [
       "<span style=\"color:blue\"> |-maxpool_size: 2</span>"
      ],
      "text/plain": [
       "<IPython.core.display.HTML object>"
      ]
     },
     "metadata": {},
     "output_type": "display_data"
    },
    {
     "data": {
      "text/html": [
       "<span style=\"color:cyan\"> |-spatial_dropout: 0.1</span>"
      ],
      "text/plain": [
       "<IPython.core.display.HTML object>"
      ]
     },
     "metadata": {},
     "output_type": "display_data"
    },
    {
     "name": "stdout",
     "output_type": "stream",
     "text": [
      "INFO:tensorflow:Oracle triggered exit\n"
     ]
    }
   ],
   "source": [
    "from kerastuner import HyperModel, RandomSearch, HyperParameters\n",
    "import tensorflow as tf\n",
    "\n",
    "class ProductClassifierHyperModel(HyperModel):\n",
    "    def __init__(self, num_classes, vec_size, print_summary=False, halve_on_iteration=True):\n",
    "        self.num_classes = num_classes\n",
    "        self.vec_size = vec_size\n",
    "        self.print_summary = print_summary\n",
    "        self.halve_on_iteration = halve_on_iteration\n",
    "    \n",
    "    def get_regularizer(self, name: str):\n",
    "        if name == 'l1':\n",
    "            return tf.keras.regularizers.l1()\n",
    "        elif name == 'l2':\n",
    "            return tf.keras.regularizers.l2()\n",
    "        elif name == 'l1l2':\n",
    "            return tf.keras.regularizers.l1_l2()\n",
    "        else:\n",
    "            return None\n",
    "    \n",
    "    def build(self, hp: HyperParameters):\n",
    "        print(f\"Processing hyper parameter values: {hp.values}\")\n",
    "        comment_input = tf.keras.Input(shape=(self.vec_size, 1), dtype='float32', name='comment_text')\n",
    "        x = comment_input\n",
    "        \n",
    "        filters = hp.Int('conv_filters', min_value=32, max_value=512, step=32, default=128)\n",
    "        kernel_size = hp.Int('conv_kernel_size', min_value=2, max_value=6, step=1, default=2)\n",
    "        for i in range(hp.Int('conv_layers', min_value=3, max_value=6, step=1)):\n",
    "            x = tf.keras.layers.Conv1D(filters=filters, \n",
    "                                       kernel_size=kernel_size, \n",
    "                                       activation=hp.Choice('conv_activation',\n",
    "                                                           ['relu', 'tanh']), \n",
    "                                       kernel_regularizer=self.get_regularizer(hp.Choice('conv_regularizer',\n",
    "                                                                                   ['none', 'l1', 'l2', 'l1l2']))\n",
    "                                      )(x)\n",
    "        \n",
    "            x = tf.keras.layers.SpatialDropout1D(rate=hp.Float('spatial_dropout',\n",
    "                                                          min_value=0.1,\n",
    "                                                          max_value=0.5,\n",
    "                                                          step=0.1,\n",
    "                                                          default=0.1))(x)\n",
    "            x = tf.keras.layers.MaxPool1D(pool_size=hp.Int('maxpool_size',\n",
    "                                                      min_value=2,\n",
    "                                                      max_value=3,\n",
    "                                                      default=2), \n",
    "                                          strides=2, \n",
    "                                          padding='valid')(x)\n",
    "            if self.halve_on_iteration:\n",
    "                filters = max(32, filters // 2)\n",
    "                kernel_size = max(2, kernel_size // 2)\n",
    "\n",
    "\n",
    "        x = tf.keras.layers.Flatten()(x)\n",
    "        \n",
    "        dense_units = hp.Int('dense_units', min_value=32, max_value=512, step=32, default=128)\n",
    "        for i in range(hp.Int('dense_layers', min_value=2, max_value=5, default=2)):\n",
    "            x = tf.keras.layers.Dense(units=dense_units, \n",
    "                                      activation=hp.Choice('dense_activation',\n",
    "                                                          ['relu', 'tanh']), \n",
    "                                      kernel_regularizer=self.get_regularizer(hp.Choice('dense_regularizer',\n",
    "                                                                                  ['none', 'l1', 'l2', 'l1l2']))\n",
    "                                     )(x)\n",
    "\n",
    "            x = tf.keras.layers.Dropout(rate=hp.Float('dropout',\n",
    "                                                     min_value=0.1,\n",
    "                                                     max_value=0.5,\n",
    "                                                     step=0.1,\n",
    "                                                     default=0.1))(x)\n",
    "            if self.halve_on_iteration:\n",
    "                dense_units = max(32, dense_units // 2)\n",
    "\n",
    "        main_output = tf.keras.layers.Dense(self.num_classes, activation='softmax', name='prediction')(x)\n",
    "\n",
    "        ann_model = tf.keras.Model(inputs=comment_input, outputs=main_output)\n",
    "        \n",
    "        optimizer = tf.keras.optimizers.Adam(learning_rate=hp.Float('learning_rate', \n",
    "                                                                    min_value=1e-7,\n",
    "                                                                    max_value=1e-2,\n",
    "                                                                    sampling='log'))\n",
    "        \n",
    "        ann_model.compile(\n",
    "            optimizer=optimizer, \n",
    "            loss='categorical_crossentropy', \n",
    "            metrics=['accuracy']\n",
    "        )\n",
    "        if self.print_summary:\n",
    "            print(ann_model.summary())\n",
    "        return ann_model\n",
    "    \n",
    "hypermodel = ProductClassifierHyperModel(num_classes=10, vec_size=300, print_summary=False, halve_on_iteration=True)\n",
    "hp = HyperParameters()\n",
    "hp.Int('conv_filters', min_value=32, max_value=512, step=32, default=128)\n",
    "hp.Int('conv_kernel_size', min_value=2, max_value=6, step=1, default=2)\n",
    "hp.Int('maxpool_size', min_value=2, max_value=3, step=1, default=3)\n",
    "hp.Choice('conv_activation', ['relu', 'tanh'])\n",
    "hp.Choice('dense_activation', ['relu', 'tanh'])\n",
    "hp.Float('spatial_dropout', min_value=0.0, max_value=0.5, step=0.1, default=0.1)\n",
    "hp.Float('dropout', min_value=0.0, max_value=0.5, step=0.1, default=0.1)\n",
    "hp.Int('dense_layers', min_value=2, max_value=5, step=1, default=2)\n",
    "hp.Int('conv_layers', min_value=3, max_value=6, step=1, default=3)\n",
    "hp.Choice('conv_regularizer', ['none', 'l1', 'l2', 'l1l2'])\n",
    "hp.Choice('dense_regularizer', ['none', 'l1', 'l2', 'l1l2'])\n",
    "hp.Int('dense_units', min_value=64, max_value=512, step=32, default=128)\n",
    "hp.Float('learning_rate', min_value=1e-7, max_value=1e-2, sampling='log')\n",
    "\n",
    "tuner = RandomSearch(\n",
    "    hypermodel,\n",
    "    hyperparameters=hp,\n",
    "    objective='val_loss',\n",
    "    max_trials=4,\n",
    "    executions_per_trial=3,\n",
    "    directory='../../../models/kerastuner',\n",
    "    project_name='wtsp'\n",
    ")\n",
    "\n",
    "X_train_rs = X_train.reshape(X_train.shape[0], X_train.shape[1], 1)\n",
    "x_train = X_train_rs[:sample_size]\n",
    "y_train1 = y_train[:sample_size]\n",
    "\n",
    "tuner.search(x_train, y_train1,\n",
    "            epochs=epochs,\n",
    "            batch_size = batch_size, \n",
    "            validation_split= validation_split,\n",
    "            verbose=2)"
   ]
  },
  {
   "cell_type": "markdown",
   "metadata": {},
   "source": [
    "Let's observe the best model from these trials"
   ]
  },
  {
   "cell_type": "code",
   "execution_count": 23,
   "metadata": {},
   "outputs": [
    {
     "data": {
      "text/plain": [
       "{'conv_filters': 384,\n",
       " 'conv_kernel_size': 5,\n",
       " 'maxpool_size': 2,\n",
       " 'conv_activation': 'relu',\n",
       " 'dense_activation': 'tanh',\n",
       " 'spatial_dropout': 0.1,\n",
       " 'dropout': 0.2,\n",
       " 'dense_layers': 2,\n",
       " 'conv_layers': 5,\n",
       " 'conv_regularizer': 'none',\n",
       " 'dense_regularizer': 'none',\n",
       " 'dense_units': 416,\n",
       " 'learning_rate': 1.9698134750928272e-06}"
      ]
     },
     "execution_count": 23,
     "metadata": {},
     "output_type": "execute_result"
    }
   ],
   "source": [
    "tuner.get_best_hyperparameters()[0].values"
   ]
  },
  {
   "cell_type": "code",
   "execution_count": 24,
   "metadata": {},
   "outputs": [
    {
     "name": "stdout",
     "output_type": "stream",
     "text": [
      "Processing hyper parameter values: {'conv_filters': 384, 'conv_kernel_size': 5, 'maxpool_size': 2, 'conv_activation': 'relu', 'dense_activation': 'tanh', 'spatial_dropout': 0.1, 'dropout': 0.2, 'dense_layers': 2, 'conv_layers': 5, 'conv_regularizer': 'none', 'dense_regularizer': 'none', 'dense_units': 416, 'learning_rate': 1.9698134750928272e-06}\n",
      "Model: \"model\"\n",
      "_________________________________________________________________\n",
      "Layer (type)                 Output Shape              Param #   \n",
      "=================================================================\n",
      "comment_text (InputLayer)    [(None, 300, 1)]          0         \n",
      "_________________________________________________________________\n",
      "conv1d (Conv1D)              (None, 296, 384)          2304      \n",
      "_________________________________________________________________\n",
      "spatial_dropout1d (SpatialDr (None, 296, 384)          0         \n",
      "_________________________________________________________________\n",
      "max_pooling1d (MaxPooling1D) (None, 148, 384)          0         \n",
      "_________________________________________________________________\n",
      "conv1d_1 (Conv1D)            (None, 147, 192)          147648    \n",
      "_________________________________________________________________\n",
      "spatial_dropout1d_1 (Spatial (None, 147, 192)          0         \n",
      "_________________________________________________________________\n",
      "max_pooling1d_1 (MaxPooling1 (None, 73, 192)           0         \n",
      "_________________________________________________________________\n",
      "conv1d_2 (Conv1D)            (None, 72, 96)            36960     \n",
      "_________________________________________________________________\n",
      "spatial_dropout1d_2 (Spatial (None, 72, 96)            0         \n",
      "_________________________________________________________________\n",
      "max_pooling1d_2 (MaxPooling1 (None, 36, 96)            0         \n",
      "_________________________________________________________________\n",
      "conv1d_3 (Conv1D)            (None, 35, 48)            9264      \n",
      "_________________________________________________________________\n",
      "spatial_dropout1d_3 (Spatial (None, 35, 48)            0         \n",
      "_________________________________________________________________\n",
      "max_pooling1d_3 (MaxPooling1 (None, 17, 48)            0         \n",
      "_________________________________________________________________\n",
      "conv1d_4 (Conv1D)            (None, 16, 32)            3104      \n",
      "_________________________________________________________________\n",
      "spatial_dropout1d_4 (Spatial (None, 16, 32)            0         \n",
      "_________________________________________________________________\n",
      "max_pooling1d_4 (MaxPooling1 (None, 8, 32)             0         \n",
      "_________________________________________________________________\n",
      "flatten (Flatten)            (None, 256)               0         \n",
      "_________________________________________________________________\n",
      "dense (Dense)                (None, 416)               106912    \n",
      "_________________________________________________________________\n",
      "dropout (Dropout)            (None, 416)               0         \n",
      "_________________________________________________________________\n",
      "dense_1 (Dense)              (None, 208)               86736     \n",
      "_________________________________________________________________\n",
      "dropout_1 (Dropout)          (None, 208)               0         \n",
      "_________________________________________________________________\n",
      "prediction (Dense)           (None, 10)                2090      \n",
      "=================================================================\n",
      "Total params: 395,018\n",
      "Trainable params: 395,018\n",
      "Non-trainable params: 0\n",
      "_________________________________________________________________\n"
     ]
    }
   ],
   "source": [
    "tuner.get_best_models()[0].summary()"
   ]
  },
  {
   "cell_type": "markdown",
   "metadata": {},
   "source": [
    "The best network has significantly less parameters to train than our manually crafted one. Let's re create it separately and try again with the full data set and find observe the results."
   ]
  },
  {
   "cell_type": "code",
   "execution_count": 28,
   "metadata": {},
   "outputs": [
    {
     "name": "stdout",
     "output_type": "stream",
     "text": [
      "Model: \"model_2\"\n",
      "_________________________________________________________________\n",
      "Layer (type)                 Output Shape              Param #   \n",
      "=================================================================\n",
      "comment_text (InputLayer)    (None, 300, 1)            0         \n",
      "_________________________________________________________________\n",
      "conv1d_6 (Conv1D)            (None, 296, 384)          2304      \n",
      "_________________________________________________________________\n",
      "spatial_dropout1d_6 (Spatial (None, 296, 384)          0         \n",
      "_________________________________________________________________\n",
      "max_pooling1d_6 (MaxPooling1 (None, 148, 384)          0         \n",
      "_________________________________________________________________\n",
      "conv1d_7 (Conv1D)            (None, 147, 192)          147648    \n",
      "_________________________________________________________________\n",
      "spatial_dropout1d_7 (Spatial (None, 147, 192)          0         \n",
      "_________________________________________________________________\n",
      "max_pooling1d_7 (MaxPooling1 (None, 73, 192)           0         \n",
      "_________________________________________________________________\n",
      "conv1d_8 (Conv1D)            (None, 72, 96)            36960     \n",
      "_________________________________________________________________\n",
      "spatial_dropout1d_8 (Spatial (None, 72, 96)            0         \n",
      "_________________________________________________________________\n",
      "max_pooling1d_8 (MaxPooling1 (None, 36, 96)            0         \n",
      "_________________________________________________________________\n",
      "conv1d_9 (Conv1D)            (None, 35, 48)            9264      \n",
      "_________________________________________________________________\n",
      "spatial_dropout1d_9 (Spatial (None, 35, 48)            0         \n",
      "_________________________________________________________________\n",
      "max_pooling1d_9 (MaxPooling1 (None, 17, 48)            0         \n",
      "_________________________________________________________________\n",
      "conv1d_10 (Conv1D)           (None, 16, 32)            3104      \n",
      "_________________________________________________________________\n",
      "spatial_dropout1d_10 (Spatia (None, 16, 32)            0         \n",
      "_________________________________________________________________\n",
      "max_pooling1d_10 (MaxPooling (None, 8, 32)             0         \n",
      "_________________________________________________________________\n",
      "flatten_2 (Flatten)          (None, 256)               0         \n",
      "_________________________________________________________________\n",
      "dense_3 (Dense)              (None, 416)               106912    \n",
      "_________________________________________________________________\n",
      "dropout_3 (Dropout)          (None, 416)               0         \n",
      "_________________________________________________________________\n",
      "dense_4 (Dense)              (None, 208)               86736     \n",
      "_________________________________________________________________\n",
      "dropout_4 (Dropout)          (None, 208)               0         \n",
      "_________________________________________________________________\n",
      "prediction (Dense)           (None, 10)                2090      \n",
      "=================================================================\n",
      "Total params: 395,018\n",
      "Trainable params: 395,018\n",
      "Non-trainable params: 0\n",
      "_________________________________________________________________\n"
     ]
    }
   ],
   "source": [
    "from keras.layers import Input, Embedding, Bidirectional, Dense, Conv1D, Flatten, MaxPool1D, concatenate, BatchNormalization, Dropout, SpatialDropout1D\n",
    "from keras.models import Model\n",
    "from keras import regularizers\n",
    "from keras.optimizers import Adam\n",
    "\n",
    "#Define the inputs\n",
    "comment_input = Input(shape=(vec_size,1), dtype='float32', name='comment_text')\n",
    "\n",
    "conv = Conv1D(384, 5, activation='relu')(comment_input)\n",
    "conv = SpatialDropout1D(0.1)(conv)\n",
    "conv = MaxPool1D(2, strides=2, padding='valid')(conv)\n",
    "\n",
    "conv = Conv1D(192, 2, activation='relu')(conv)\n",
    "conv = SpatialDropout1D(0.1)(conv)\n",
    "conv = MaxPool1D(2, strides=2, padding='valid')(conv)\n",
    "\n",
    "conv = Conv1D(96, 2, activation='relu')(conv)\n",
    "conv = SpatialDropout1D(0.1)(conv)\n",
    "conv = MaxPool1D(2, strides=2, padding='valid')(conv)\n",
    "\n",
    "conv = Conv1D(48, 2, activation='relu')(conv)\n",
    "conv = SpatialDropout1D(0.1)(conv)\n",
    "conv = MaxPool1D(2, strides=2, padding='valid')(conv)\n",
    "\n",
    "conv = Conv1D(32, 2, activation='relu')(conv)\n",
    "conv = SpatialDropout1D(0.1)(conv)\n",
    "conv = MaxPool1D(2, strides=2, padding='valid')(conv)\n",
    "\n",
    "\n",
    "conv_output = Flatten()(conv)\n",
    "\n",
    "\n",
    "#Apply a dense layers\n",
    "x = Dense(416, activation='tanh')(conv_output)\n",
    "x = Dropout(0.2)(x)\n",
    "x = Dense(208, activation='tanh')(x)\n",
    "x = Dropout(0.2)(x)\n",
    "\n",
    "#And finally make the predictions using the previous layer as input\n",
    "main_output = Dense(classes, activation='softmax', name='prediction')(x)\n",
    "\n",
    "ann_model = Model(inputs=comment_input, outputs=main_output)\n",
    "optimizer = Adam(learning_rate=0.000019)\n",
    "ann_model.compile(optimizer=optimizer, loss='categorical_crossentropy', metrics=['accuracy'])\n",
    "ann_model.summary()"
   ]
  },
  {
   "cell_type": "code",
   "execution_count": 29,
   "metadata": {},
   "outputs": [
    {
     "name": "stdout",
     "output_type": "stream",
     "text": [
      "Train on 870027 samples, validate on 217507 samples\n",
      "Epoch 1/100\n",
      " - 102s - loss: 2.2556 - accuracy: 0.3017 - val_loss: 1.9735 - val_accuracy: 0.3959\n",
      "Epoch 2/100\n",
      " - 105s - loss: 1.8145 - accuracy: 0.4412 - val_loss: 1.4996 - val_accuracy: 0.5518\n",
      "Epoch 3/100\n",
      " - 107s - loss: 1.4562 - accuracy: 0.5598 - val_loss: 1.1718 - val_accuracy: 0.6600\n",
      "Epoch 4/100\n",
      " - 102s - loss: 1.2192 - accuracy: 0.6439 - val_loss: 1.0367 - val_accuracy: 0.7064\n",
      "Epoch 5/100\n",
      " - 101s - loss: 1.1194 - accuracy: 0.6789 - val_loss: 0.9705 - val_accuracy: 0.7312\n",
      "Epoch 6/100\n",
      " - 101s - loss: 1.0634 - accuracy: 0.6993 - val_loss: 0.9308 - val_accuracy: 0.7456\n",
      "Epoch 7/100\n",
      " - 98s - loss: 1.0262 - accuracy: 0.7143 - val_loss: 0.9040 - val_accuracy: 0.7551\n",
      "Epoch 8/100\n",
      " - 98s - loss: 0.9995 - accuracy: 0.7239 - val_loss: 0.8830 - val_accuracy: 0.7639\n",
      "Epoch 9/100\n",
      " - 98s - loss: 0.9804 - accuracy: 0.7314 - val_loss: 0.8683 - val_accuracy: 0.7685\n",
      "Epoch 10/100\n",
      " - 98s - loss: 0.9657 - accuracy: 0.7373 - val_loss: 0.8579 - val_accuracy: 0.7734\n",
      "Epoch 11/100\n",
      " - 98s - loss: 0.9550 - accuracy: 0.7419 - val_loss: 0.8482 - val_accuracy: 0.7768\n",
      "Epoch 12/100\n",
      " - 98s - loss: 0.9455 - accuracy: 0.7461 - val_loss: 0.8391 - val_accuracy: 0.7808\n",
      "Epoch 13/100\n",
      " - 98s - loss: 0.9380 - accuracy: 0.7502 - val_loss: 0.8321 - val_accuracy: 0.7835\n",
      "Epoch 14/100\n",
      " - 98s - loss: 0.9325 - accuracy: 0.7521 - val_loss: 0.8239 - val_accuracy: 0.7865\n",
      "Epoch 15/100\n",
      " - 98s - loss: 0.9268 - accuracy: 0.7547 - val_loss: 0.8265 - val_accuracy: 0.7879\n",
      "Epoch 16/100\n",
      " - 98s - loss: 0.9225 - accuracy: 0.7574 - val_loss: 0.8154 - val_accuracy: 0.7905\n",
      "Epoch 17/100\n",
      " - 98s - loss: 0.9198 - accuracy: 0.7597 - val_loss: 0.8171 - val_accuracy: 0.7923\n",
      "Epoch 18/100\n",
      " - 98s - loss: 0.9181 - accuracy: 0.7612 - val_loss: 0.8138 - val_accuracy: 0.7942\n",
      "Epoch 19/100\n",
      " - 98s - loss: 0.9158 - accuracy: 0.7627 - val_loss: 0.8091 - val_accuracy: 0.7958\n",
      "Epoch 20/100\n",
      " - 98s - loss: 0.9133 - accuracy: 0.7644 - val_loss: 0.8099 - val_accuracy: 0.7970\n",
      "Epoch 21/100\n",
      " - 98s - loss: 0.9135 - accuracy: 0.7659 - val_loss: 0.8060 - val_accuracy: 0.7986\n",
      "Epoch 22/100\n",
      " - 98s - loss: 0.9124 - accuracy: 0.7671 - val_loss: 0.8045 - val_accuracy: 0.7998\n",
      "Epoch 23/100\n",
      " - 98s - loss: 0.9130 - accuracy: 0.7688 - val_loss: 0.8102 - val_accuracy: 0.8005\n",
      "Epoch 24/100\n",
      " - 98s - loss: 0.9127 - accuracy: 0.7692 - val_loss: 0.8085 - val_accuracy: 0.8014\n",
      "Epoch 25/100\n",
      " - 98s - loss: 0.9135 - accuracy: 0.7707 - val_loss: 0.8046 - val_accuracy: 0.8025\n",
      "Epoch 26/100\n",
      " - 98s - loss: 0.9142 - accuracy: 0.7707 - val_loss: 0.8037 - val_accuracy: 0.8039\n",
      "Epoch 27/100\n",
      " - 99s - loss: 0.9152 - accuracy: 0.7720 - val_loss: 0.8072 - val_accuracy: 0.8039\n",
      "Epoch 28/100\n",
      " - 104s - loss: 0.9153 - accuracy: 0.7727 - val_loss: 0.8059 - val_accuracy: 0.8049\n",
      "Epoch 29/100\n",
      " - 104s - loss: 0.9188 - accuracy: 0.7733 - val_loss: 0.8101 - val_accuracy: 0.8059\n",
      "Epoch 30/100\n",
      " - 102s - loss: 0.9195 - accuracy: 0.7738 - val_loss: 0.8027 - val_accuracy: 0.8063\n",
      "Epoch 31/100\n",
      " - 102s - loss: 0.9211 - accuracy: 0.7744 - val_loss: 0.8105 - val_accuracy: 0.8069\n",
      "Epoch 32/100\n",
      " - 98s - loss: 0.9217 - accuracy: 0.7754 - val_loss: 0.8123 - val_accuracy: 0.8075\n",
      "Epoch 33/100\n",
      " - 98s - loss: 0.9250 - accuracy: 0.7758 - val_loss: 0.8131 - val_accuracy: 0.8080\n",
      "Epoch 34/100\n",
      " - 98s - loss: 0.9278 - accuracy: 0.7759 - val_loss: 0.8127 - val_accuracy: 0.8086\n",
      "Epoch 35/100\n",
      " - 98s - loss: 0.9301 - accuracy: 0.7770 - val_loss: 0.8169 - val_accuracy: 0.8086\n",
      "Epoch 36/100\n",
      " - 98s - loss: 0.9311 - accuracy: 0.7769 - val_loss: 0.8168 - val_accuracy: 0.8098\n",
      "Epoch 37/100\n",
      " - 98s - loss: 0.9356 - accuracy: 0.7770 - val_loss: 0.8169 - val_accuracy: 0.8095\n",
      "Epoch 38/100\n",
      " - 99s - loss: 0.9371 - accuracy: 0.7775 - val_loss: 0.8157 - val_accuracy: 0.8106\n",
      "Epoch 39/100\n",
      " - 102s - loss: 0.9405 - accuracy: 0.7777 - val_loss: 0.8242 - val_accuracy: 0.8106\n",
      "Epoch 40/100\n",
      " - 102s - loss: 0.9440 - accuracy: 0.7776 - val_loss: 0.8209 - val_accuracy: 0.8111\n",
      "CPU times: user 44min 57s, sys: 31.5 s, total: 45min 28s\n",
      "Wall time: 1h 6min 25s\n"
     ]
    }
   ],
   "source": [
    "%%time\n",
    "from keras.callbacks import EarlyStopping\n",
    "\n",
    "early_stopping = EarlyStopping(monitor='val_loss', patience=10, min_delta=1e-7, restore_best_weights=True)\n",
    "X_train_rs = X_train.reshape(X_train.shape[0], X_train.shape[1], 1)\n",
    "history = ann_model.fit(X_train_rs, \n",
    "                        y_train, \n",
    "                        epochs = 100, \n",
    "                        batch_size = 2000, \n",
    "                        validation_split= 0.2, \n",
    "                        callbacks=[early_stopping],\n",
    "                        verbose=2)"
   ]
  },
  {
   "cell_type": "code",
   "execution_count": 30,
   "metadata": {},
   "outputs": [
    {
     "data": {
      "image/png": "[encoded data removed]",
      "text/plain": [
       "<Figure size 1152x576 with 2 Axes>"
      ]
     },
     "metadata": {
      "needs_background": "light"
     },
     "output_type": "display_data"
    }
   ],
   "source": [
    "plot_history(history, \n",
    "             acc='accuracy', \n",
    "             val_acc='val_accuracy', \n",
    "             loss='loss', \n",
    "             val_loss='val_loss')"
   ]
  },
  {
   "cell_type": "markdown",
   "metadata": {},
   "source": [
    "The resulting model looks good, it has $0.811$ or $81\\%$ of accuracy in the validation set which is better than the manually constructed. And it requires significantly less parameters than the original one. So we will keep this model."
   ]
  },
  {
   "cell_type": "code",
   "execution_count": 80,
   "metadata": {},
   "outputs": [
    {
     "data": {
      "text/plain": [
       "(1087534, 10)"
      ]
     },
     "execution_count": 80,
     "metadata": {},
     "output_type": "execute_result"
    }
   ],
   "source": [
    "y_train.shape"
   ]
  },
  {
   "cell_type": "markdown",
   "metadata": {},
   "source": [
    "### Persist the model for further usage"
   ]
  },
  {
   "cell_type": "code",
   "execution_count": 34,
   "metadata": {},
   "outputs": [],
   "source": [
    "base_path = \"../../../models/keras/products\"\n",
    "definition_path = f\"{base_path}/ann_products_definition.yaml\"\n",
    "weights_path = f\"{base_path}/ann_products_definition.h5\"\n",
    "category_encoder_path = f\"../../../models/sklearn/categories_encoder.sav\""
   ]
  },
  {
   "cell_type": "code",
   "execution_count": 32,
   "metadata": {},
   "outputs": [],
   "source": [
    "ann_model_definition = ann_model.to_yaml()\n",
    "with open(definition_path, 'w') as file:\n",
    "    file.write(ann_model_definition)\n",
    "\n",
    "ann_mode_weights = ann_model.save_weights(weights_path)"
   ]
  },
  {
   "cell_type": "code",
   "execution_count": 33,
   "metadata": {},
   "outputs": [],
   "source": [
    "from keras.models import model_from_yaml\n",
    "with open(definition_path, 'r') as file:\n",
    "    product_class_predictor = model_from_yaml(file.read())\n",
    "\n",
    "product_class_predictor.load_weights(weights_path)"
   ]
  },
  {
   "cell_type": "code",
   "execution_count": 35,
   "metadata": {},
   "outputs": [],
   "source": [
    "import pickle\n",
    "with open(category_encoder_path, 'wb') as model_file:\n",
    "    pickle.dump(categories_encoder, model_file)"
   ]
  },
  {
   "cell_type": "code",
   "execution_count": 36,
   "metadata": {},
   "outputs": [],
   "source": [
    "cats = categories_encoder.classes_.tolist()"
   ]
  },
  {
   "cell_type": "markdown",
   "metadata": {},
   "source": [
    "### Validate against the test set"
   ]
  },
  {
   "cell_type": "code",
   "execution_count": 37,
   "metadata": {},
   "outputs": [],
   "source": [
    "X_test_rs = X_test.reshape(X_test.shape[0], X_test.shape[1], 1)\n",
    "y_pred = np.where(product_class_predictor.predict(X_test_rs) > 0.5, 1., 0.)"
   ]
  },
  {
   "cell_type": "code",
   "execution_count": 38,
   "metadata": {},
   "outputs": [
    {
     "name": "stderr",
     "output_type": "stream",
     "text": [
      "UndefinedMetricWarning: Precision and F-score are ill-defined and being set to 0.0 in samples with no predicted labels. Use `zero_division` parameter to control this behavior.\n"
     ]
    },
    {
     "name": "stdout",
     "output_type": "stream",
     "text": [
      "Accuracy:\n",
      "0.7429422896203705\n",
      "\n",
      "Classification Report:\n",
      "              precision    recall  f1-score   support\n",
      "\n",
      "           0       0.95      0.93      0.94    137672\n",
      "           1       0.87      0.80      0.83     48530\n",
      "           2       0.85      0.63      0.72     37623\n",
      "           3       0.80      0.60      0.69     74889\n",
      "           4       0.87      0.71      0.78     24037\n",
      "           5       0.92      0.86      0.89     24689\n",
      "           6       0.82      0.44      0.57      8429\n",
      "           7       0.68      0.25      0.37     31483\n",
      "           8       0.87      0.84      0.85     80553\n",
      "           9       0.87      0.73      0.79     35317\n",
      "\n",
      "   micro avg       0.88      0.75      0.81    503222\n",
      "   macro avg       0.85      0.68      0.74    503222\n",
      "weighted avg       0.87      0.75      0.80    503222\n",
      " samples avg       0.81      0.78      0.79    503222\n",
      "\n"
     ]
    }
   ],
   "source": [
    "from sklearn.metrics import accuracy_score, confusion_matrix, classification_report\n",
    "\n",
    "acc = accuracy_score(y_test, y_pred)\n",
    "cr = classification_report(y_test, y_pred)\n",
    "\n",
    "\n",
    "print(f\"Accuracy:\\n{acc}\\n\")\n",
    "print(f\"Classification Report:\\n{cr}\")"
   ]
  },
  {
   "cell_type": "markdown",
   "metadata": {},
   "source": [
    "Indeed it looks pretty good!. almost all the categories are predicted with an f1-score above the 50% except for category #7 (Sports & Outdoors).\n",
    "\n",
    "Let's take a look at some individual instances.\n",
    "\n",
    "### Looking at individual instances"
   ]
  },
  {
   "cell_type": "code",
   "execution_count": 55,
   "metadata": {},
   "outputs": [],
   "source": [
    "from nltk.tokenize import RegexpTokenizer\n",
    "\n",
    "tokenizer = RegexpTokenizer(r'\\w+')\n",
    "\n",
    "def featurize_text(text: str):\n",
    "    return d2v_model.infer_vector([word.lower() for word in tokenizer.tokenize(text)])"
   ]
  },
  {
   "cell_type": "code",
   "execution_count": 58,
   "metadata": {},
   "outputs": [],
   "source": [
    "i = 0\n",
    "featurized_document = featurize_text(reviews.iloc[i]['document']).reshape(1, -1, 1)\n",
    "categories = reviews.iloc[i]['categories']\n",
    "prediction = product_class_predictor.predict(featurized_document)"
   ]
  },
  {
   "cell_type": "code",
   "execution_count": 59,
   "metadata": {},
   "outputs": [
    {
     "data": {
      "text/plain": [
       "array([[8.4469275e-04],\n",
       "       [2.8135465e-03],\n",
       "       [1.0223718e-01],\n",
       "       [2.4201906e-01],\n",
       "       [7.7650611e-06],\n",
       "       [2.1948947e-06],\n",
       "       [2.7645112e-03],\n",
       "       [6.3492106e-03],\n",
       "       [6.4163697e-01],\n",
       "       [1.3248643e-03]], dtype=float32)"
      ]
     },
     "execution_count": 59,
     "metadata": {},
     "output_type": "execute_result"
    }
   ],
   "source": [
    "prediction.T"
   ]
  },
  {
   "cell_type": "code",
   "execution_count": 65,
   "metadata": {},
   "outputs": [],
   "source": [
    "pred = prediction.T.tolist()\n",
    "pred_w_categories = list(zip(cats, pred))"
   ]
  },
  {
   "cell_type": "code",
   "execution_count": 68,
   "metadata": {},
   "outputs": [
    {
     "name": "stdout",
     "output_type": "stream",
     "text": [
      "Actual categories: Home & Kitchen;Technology, Electronics & Accessories\n",
      "\n"
     ]
    },
    {
     "data": {
      "text/plain": [
       "[('Health & Personal Care', [0.10223717987537384]),\n",
       " ('Home & Kitchen', [0.24201905727386475]),\n",
       " ('Technology, Electronics & Accessories', [0.6416369676589966])]"
      ]
     },
     "execution_count": 68,
     "metadata": {},
     "output_type": "execute_result"
    }
   ],
   "source": [
    "final_predictions = list(filter(lambda x: x[1][0] > 0.1, pred_w_categories))\n",
    "print(f\"Actual categories: {categories}\\n\")\n",
    "final_predictions"
   ]
  },
  {
   "cell_type": "code",
   "execution_count": 70,
   "metadata": {},
   "outputs": [
    {
     "name": "stdout",
     "output_type": "stream",
     "text": [
      "Text: Jim from Ocala, Fl.\n",
      "great replacement product. Has been in use for several months with no problem. This is a very good replacement battery. would order again inthe future.\n"
     ]
    }
   ],
   "source": [
    "print(f\"Text: {reviews.iloc[0]['document']}\")"
   ]
  },
  {
   "cell_type": "markdown",
   "metadata": {},
   "source": [
    "Not bat at all! Let's try one at random."
   ]
  },
  {
   "cell_type": "code",
   "execution_count": 73,
   "metadata": {},
   "outputs": [
    {
     "name": "stdout",
     "output_type": "stream",
     "text": [
      "####################\n",
      "Actual categories: \n",
      " Home & Kitchen\n",
      "\n",
      "Predicted categories: \n",
      " [('Home & Kitchen', [0.8230400681495667])]\n",
      "\n",
      "Text: \n",
      "OEM carburetor\n",
      "This product was the exact fit for the engine that is on my tractor. so far the part performance is flawless no leaks and problems.\n",
      "####################\n",
      "####################\n",
      "Actual categories: \n",
      " Books\n",
      "\n",
      "Predicted categories: \n",
      " [('Books', [0.9937159419059753])]\n",
      "\n",
      "Text: \n",
      "Great information all in one place!\n",
      "I would recommend this book to anyone already in network marketing and considering network marketing. Having 75 of the top in the industry share their experiences is priceless. Two things I love: is you see the reality of the success that can be had with consistency; and secondly that everyone started out with a vision and a dream and through consistency and perseverancegot to where they are today. Its an easy read and not one that you have to read from front to back in sequence. I have dogeared almost every page for a quick reference back. Margie, this is a wonderful book I have gifted to many others.\n",
      "####################\n",
      "####################\n",
      "Actual categories: \n",
      " Technology, Electronics & Accessories\n",
      "\n",
      "Predicted categories: \n",
      " [('Home & Kitchen', [0.3739405572414398]), ('Technology, Electronics & Accessories', [0.3765299618244171]), ('Toys & Games', [0.18562950193881989])]\n",
      "\n",
      "Text: \n",
      "Disappointed\n",
      "Plastic is too flimsy.  Its not rubber outer core, its slick.  Thought it wouldnt slide off tables, counters, dash.  It does!\n",
      "####################\n",
      "####################\n",
      "Actual categories: \n",
      " Books\n",
      "\n",
      "Predicted categories: \n",
      " [('Books', [0.9927510023117065])]\n",
      "\n",
      "Text: \n",
      "Enlightening and Heartfelt\n",
      "Within Jonathan Rauchs short volume, I discovered much to reflect upon. This is the only book of this type Ive ever read, so I have nothing to compare it to. I absolutely admire his courage. That may seem trite or predictable to say, but I think writing about ones life is always vulnerable and risky, and hes sharing a highly personal journey in a very public way. I think its always appropriate to acknowledge the strength that takes.I was reading it through the filter of my straightmarriedfemale experience, and it might sound odd, but Id never really thought about the fact that Id never really thought about my orientation! It was something I took for granted. That said, there are other aspects of my personality and history that I did have to work through, so Jonathans message about understanding and owning who you are resonated. The moment when he finally broke through was such a relief... its like someone opened up the curtains to the light after only knowing the darkness. I think anyone whos ever lived with a secret or feeling of shame will identify with that moment of freedom.The star off is because I felt the narrative grew a bit repetitive at times. Otherwise, I found the writing engaging, insightful and definitely thoughtprovoking.\n",
      "####################\n",
      "####################\n",
      "Actual categories: \n",
      " Health & Personal Care\n",
      "\n",
      "Predicted categories: \n",
      " [('Health & Personal Care', [0.998279333114624])]\n",
      "\n",
      "Text: \n",
      "Effective, expensive product...\n",
      "There is a lot to like about this sunscreen: free of chemical sunscreen ingredients, fragrance free, SPF 40 (UVA/B), and gentle nonsting formula. It uses a 20 sinc oxide formula to achieve the sunscreen effectiveness. However, I think that this product is simply too expensive for most families. While a good product you could easily go through on tube of this in a day at the beach or the park!\n",
      "####################\n"
     ]
    }
   ],
   "source": [
    "import random\n",
    "\n",
    "samples = [random.randint(0, reviews.shape[0]) for _ in range(5)]\n",
    "\n",
    "for i in samples:\n",
    "    featurized_document = featurize_text(reviews.iloc[i]['document']).reshape(1, -1, 1)\n",
    "    categories = reviews.iloc[i]['categories']\n",
    "    prediction = product_class_predictor.predict(featurized_document)\n",
    "    pred = prediction.T.tolist()\n",
    "    pred_w_categories = list(zip(cats, pred))\n",
    "    final_predictions = list(filter(lambda x: x[1][0] > 0.1, pred_w_categories))\n",
    "    print(\"#\" * 20)\n",
    "    print(f\"Actual categories: \\n {categories}\\n\")\n",
    "    print(f\"Predicted categories: \\n {final_predictions}\\n\")\n",
    "    print(f\"Text: \\n{reviews.iloc[i]['document']}\")\n",
    "    print(\"#\" * 20)"
   ]
  },
  {
   "cell_type": "markdown",
   "metadata": {},
   "source": [
    "Definitely not bad!. Few misses so we'll keep this model."
   ]
  },
  {
   "cell_type": "code",
   "execution_count": 47,
   "metadata": {},
   "outputs": [
    {
     "data": {
      "text/plain": [
       "['Books',\n",
       " 'Clothing, Shoes & Jewelry',\n",
       " 'Health & Personal Care',\n",
       " 'Health, Fitness & Dieting',\n",
       " 'Home & Kitchen',\n",
       " 'Movies & TV',\n",
       " 'Music',\n",
       " 'Office & School Supplies',\n",
       " 'Technology, Electronics & Accessories',\n",
       " 'Toys & Games']"
      ]
     },
     "execution_count": 47,
     "metadata": {},
     "output_type": "execute_result"
    }
   ],
   "source": [
    "categories_encoder.classes_.tolist()"
   ]
  },
  {
   "cell_type": "markdown",
   "metadata": {},
   "source": [
    "## Using the models to predict new entries\n",
    "And here let's fabricate a review and submit it to the classifier and see that happens.\n",
    "\n",
    "We took a real review from Amazon from [here](https://www.amazon.com/Support-Breathable-Neoprene-Sleeve-Adjustable/dp/B01LXAGV0H/ref=sr_1_24?dchild=1&fst=as%3Aoff&pf_rd_i=16225014011&pf_rd_m=ATVPDKIKX0DER&pf_rd_p=a3460e00-9eac-4cab-9814-093998a3f6d8&pf_rd_r=VKWG5JEAZB9TECRKBH10&pf_rd_s=merchandised-search-4&pf_rd_t=101&qid=1591042478&s=sporting-goods&sr=1-24) which is about a Workout related item, which says:\n",
    "\n",
    "\"This ankle support brace rocks! I have been recovering from a fractured ankle and have been beside myself as to what kind of brace or bandage I can wear to give me support and also act as a compression. This also needed to fit under my tennis shoe so I could wear it wherever I went. I couldn’t fit compression socks over my foot, and they were so very tight anyway. And all other ankle braces wouldn’t fit under the shoe. So for weeks and weeks I wore ace bandages which didn’t really do the job either. VOILA! This fantastic ankle brace does it all! It gives me really good, controlable compression and also supports my ankle AND goes under my tennis shoe comfortably! Yay!!!\""
   ]
  },
  {
   "cell_type": "code",
   "execution_count": 75,
   "metadata": {},
   "outputs": [],
   "source": [
    "new_entry = \"This ankle support brace rocks! I have been recovering from a fractured ankle and have been beside myself as to what kind of brace or bandage I can wear to give me support and also act as a compression. This also needed to fit under my tennis shoe so I could wear it wherever I went. I couldn’t fit compression socks over my foot, and they were so very tight anyway. And all other ankle braces wouldn’t fit under the shoe. So for weeks and weeks I wore ace bandages which didn’t really do the job either. VOILA! This fantastic ankle brace does it all! It gives me really good, controlable compression and also supports my ankle AND goes under my tennis shoe comfortably! Yay!!!\""
   ]
  },
  {
   "cell_type": "code",
   "execution_count": 78,
   "metadata": {},
   "outputs": [
    {
     "name": "stdout",
     "output_type": "stream",
     "text": [
      "####################\n",
      "Predicted categories: \n",
      " [('Clothing, Shoes & Jewelry', [0.8032526969909668]), ('Sports & Outdoors', [0.19674719870090485])]\n",
      "\n",
      "Text: \n",
      "This ankle support brace rocks! I have been recovering from a fractured ankle and have been beside myself as to what kind of brace or bandage I can wear to give me support and also act as a compression. This also needed to fit under my tennis shoe so I could wear it wherever I went. I couldn’t fit compression socks over my foot, and they were so very tight anyway. And all other ankle braces wouldn’t fit under the shoe. So for weeks and weeks I wore ace bandages which didn’t really do the job either. VOILA! This fantastic ankle brace does it all! It gives me really good, controlable compression and also supports my ankle AND goes under my tennis shoe comfortably! Yay!!!\n",
      "####################\n"
     ]
    }
   ],
   "source": [
    "from nltk import word_tokenize\n",
    "features = featurize_text(new_entry).reshape(1, -1, 1)\n",
    "prediction = product_class_predictor.predict(features)\n",
    "pred = prediction.T.tolist()\n",
    "pred_w_categories = list(zip(cats, pred))\n",
    "final_predictions = list(filter(lambda x: x[1][0] > 0.1, pred_w_categories))\n",
    "print(\"#\" * 20)\n",
    "print(f\"Predicted categories: \\n {final_predictions}\\n\")\n",
    "print(f\"Text: \\n{new_entry}\")\n",
    "print(\"#\" * 20)"
   ]
  },
  {
   "cell_type": "markdown",
   "metadata": {},
   "source": [
    "Not bad at all, despite Sports & Outdoors had a small score compared with Clothing, it is true that the item selected is indeed some sort of object to wear, so it would be interesting to observe the multilabel result to derive the actual category."
   ]
  },
  {
   "cell_type": "code",
   "execution_count": 79,
   "metadata": {},
   "outputs": [
    {
     "data": {
      "text/plain": [
       "[('Clothing, Shoes & Jewelry', [0.8032526969909668]),\n",
       " ('Sports & Outdoors', [0.19674719870090485])]"
      ]
     },
     "execution_count": 79,
     "metadata": {},
     "output_type": "execute_result"
    }
   ],
   "source": [
    "from operator import itemgetter\n",
    "final_predictions.sort(key=itemgetter(1), reverse=True)\n",
    "final_predictions"
   ]
  },
  {
   "cell_type": "markdown",
   "metadata": {},
   "source": [
    "It was predicted as `Clothing` with $80\\%$ of probability, and `Sports & Outdoors` with $19\\%$ of probability. It is not bad."
   ]
  },
  {
   "cell_type": "code",
   "execution_count": null,
   "metadata": {},
   "outputs": [],
   "source": []
  }
 ],
 "metadata": {
  "kernelspec": {
   "display_name": "Python 3",
   "language": "python",
   "name": "python3"
  },
  "language_info": {
   "codemirror_mode": {
    "name": "ipython",
    "version": 3
   },
   "file_extension": ".py",
   "mimetype": "text/x-python",
   "name": "python",
   "nbconvert_exporter": "python",
   "pygments_lexer": "ipython3",
   "version": "3.7.7"
  }
 },
 "nbformat": 4,
 "nbformat_minor": 4
}
