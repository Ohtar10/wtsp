{
 "cells": [
  {
   "cell_type": "markdown",
   "metadata": {},
   "source": [
    "# Product Classifier - Complete\n",
    "## Author: Luis Eduardo Ferro Diez, <a href=\"mailto:luisedof10@gmail.com\">luisedof10@gmail.com</a>\n",
    "This notebook contains the process of training the product classifier from scratch, i.e., from the raw document corpus. This is to validate the process of embeddings and classifier in general. For exploration and hyperparameter tuning for the neural network see the 'product-reviews-doc2vec' notebook."
   ]
  },
  {
   "cell_type": "code",
   "execution_count": 1,
   "metadata": {},
   "outputs": [],
   "source": [
    "dataset_path =\"<path-to-documents>\""
   ]
  },
  {
   "cell_type": "code",
   "execution_count": 2,
   "metadata": {},
   "outputs": [
    {
     "data": {
      "text/html": [
       "<div>\n",
       "<style scoped>\n",
       "    .dataframe tbody tr th:only-of-type {\n",
       "        vertical-align: middle;\n",
       "    }\n",
       "\n",
       "    .dataframe tbody tr th {\n",
       "        vertical-align: top;\n",
       "    }\n",
       "\n",
       "    .dataframe thead th {\n",
       "        text-align: right;\n",
       "    }\n",
       "</style>\n",
       "<table border=\"1\" class=\"dataframe\">\n",
       "  <thead>\n",
       "    <tr style=\"text-align: right;\">\n",
       "      <th></th>\n",
       "      <th>categories</th>\n",
       "      <th>document</th>\n",
       "    </tr>\n",
       "  </thead>\n",
       "  <tbody>\n",
       "    <tr>\n",
       "      <th>0</th>\n",
       "      <td>Health &amp; Personal Care</td>\n",
       "      <td>Great for sensitive skin\\nThis lotion is gentl...</td>\n",
       "    </tr>\n",
       "    <tr>\n",
       "      <th>1</th>\n",
       "      <td>Books</td>\n",
       "      <td>Poorly Written\\nI was very interested in the s...</td>\n",
       "    </tr>\n",
       "    <tr>\n",
       "      <th>2</th>\n",
       "      <td>Toys &amp; Games</td>\n",
       "      <td>worst product ever!\\nThese  bubbles are neithe...</td>\n",
       "    </tr>\n",
       "    <tr>\n",
       "      <th>3</th>\n",
       "      <td>Books</td>\n",
       "      <td>If I could unread this book, I would\\nThis boo...</td>\n",
       "    </tr>\n",
       "    <tr>\n",
       "      <th>4</th>\n",
       "      <td>Books</td>\n",
       "      <td>Another Manny Williams book!\\nMy mom got me st...</td>\n",
       "    </tr>\n",
       "  </tbody>\n",
       "</table>\n",
       "</div>"
      ],
      "text/plain": [
       "               categories                                           document\n",
       "0  Health & Personal Care  Great for sensitive skin\\nThis lotion is gentl...\n",
       "1                   Books  Poorly Written\\nI was very interested in the s...\n",
       "2            Toys & Games  worst product ever!\\nThese  bubbles are neithe...\n",
       "3                   Books  If I could unread this book, I would\\nThis boo...\n",
       "4                   Books  Another Manny Williams book!\\nMy mom got me st..."
      ]
     },
     "execution_count": 2,
     "metadata": {},
     "output_type": "execute_result"
    }
   ],
   "source": [
    "import modin.pandas as pd\n",
    "\n",
    "documents = pd.read_parquet(dataset_path, engine='pyarrow')\n",
    "documents.head()"
   ]
  },
  {
   "cell_type": "code",
   "execution_count": 3,
   "metadata": {},
   "outputs": [
    {
     "data": {
      "text/plain": [
       "(155715, 2)"
      ]
     },
     "execution_count": 3,
     "metadata": {},
     "output_type": "execute_result"
    }
   ],
   "source": [
    "documents.shape"
   ]
  },
  {
   "cell_type": "code",
   "execution_count": 4,
   "metadata": {},
   "outputs": [
    {
     "name": "stderr",
     "output_type": "stream",
     "text": [
      "UserWarning: `Series.explode` defaulting to pandas implementation.\n",
      "To request implementation, send an email to feature_requests@modin.org.\n",
      "UserWarning: Distributing <class 'pandas.core.series.Series'> object. This may take some time.\n",
      "UserWarning: `Series.value_counts` defaulting to pandas implementation.\n"
     ]
    },
    {
     "data": {
      "text/plain": [
       "Books                                    45552\n",
       "Technology, Electronics & Accessories    26801\n",
       "Home & Kitchen                           25259\n",
       "Clothing, Shoes & Jewelry                16481\n",
       "Health & Personal Care                   12414\n",
       "Toys & Games                             11856\n",
       "Sports & Outdoors                        10694\n",
       "Music                                     8185\n",
       "Movies & TV                               8147\n",
       "Office & School Supplies                  2955\n",
       "dtype: int64"
      ]
     },
     "execution_count": 4,
     "metadata": {},
     "output_type": "execute_result"
    }
   ],
   "source": [
    "categories = documents['categories'].str.split(';').explode().value_counts()\n",
    "categories"
   ]
  },
  {
   "cell_type": "markdown",
   "metadata": {},
   "source": [
    "### Baseline"
   ]
  },
  {
   "cell_type": "code",
   "execution_count": 5,
   "metadata": {},
   "outputs": [
    {
     "name": "stdout",
     "output_type": "stream",
     "text": [
      "Baseline: 0.2706\n"
     ]
    }
   ],
   "source": [
    "baseline = categories['Books'] / categories.sum()\n",
    "print(f\"Baseline: {baseline:.4f}\")"
   ]
  },
  {
   "cell_type": "code",
   "execution_count": 35,
   "metadata": {},
   "outputs": [
    {
     "name": "stderr",
     "output_type": "stream",
     "text": [
      "UserWarning: User-defined function verification is still under development in Modin. The function provided is not verified.\n"
     ]
    },
    {
     "name": "stdout",
     "output_type": "stream",
     "text": [
      "CPU times: user 8.29 s, sys: 770 ms, total: 9.06 s\n",
      "Wall time: 23 s\n"
     ]
    },
    {
     "data": {
      "text/html": [
       "<div>\n",
       "<style scoped>\n",
       "    .dataframe tbody tr th:only-of-type {\n",
       "        vertical-align: middle;\n",
       "    }\n",
       "\n",
       "    .dataframe tbody tr th {\n",
       "        vertical-align: top;\n",
       "    }\n",
       "\n",
       "    .dataframe thead th {\n",
       "        text-align: right;\n",
       "    }\n",
       "</style>\n",
       "<table border=\"1\" class=\"dataframe\">\n",
       "  <thead>\n",
       "    <tr style=\"text-align: right;\">\n",
       "      <th></th>\n",
       "      <th>categories</th>\n",
       "      <th>document</th>\n",
       "      <th>tagged_documents</th>\n",
       "      <th>embedding</th>\n",
       "    </tr>\n",
       "  </thead>\n",
       "  <tbody>\n",
       "    <tr>\n",
       "      <th>0</th>\n",
       "      <td>Health &amp; Personal Care</td>\n",
       "      <td>Great for sensitive skin\\nThis lotion is gentl...</td>\n",
       "      <td>([great, for, sensitive, skin, this, lotion, i...</td>\n",
       "      <td>[-0.25634664, -0.11685726, 0.1432516, -0.05929...</td>\n",
       "    </tr>\n",
       "    <tr>\n",
       "      <th>1</th>\n",
       "      <td>Books</td>\n",
       "      <td>Poorly Written\\nI was very interested in the s...</td>\n",
       "      <td>([poorly, written, i, was, very, interested, i...</td>\n",
       "      <td>[-0.17627177, -0.108491816, 0.030481316, -0.17...</td>\n",
       "    </tr>\n",
       "    <tr>\n",
       "      <th>2</th>\n",
       "      <td>Toys &amp; Games</td>\n",
       "      <td>worst product ever!\\nThese  bubbles are neithe...</td>\n",
       "      <td>([worst, product, ever, these, bubbles, are, n...</td>\n",
       "      <td>[0.17021847, 0.15107383, 0.24789697, -0.246634...</td>\n",
       "    </tr>\n",
       "    <tr>\n",
       "      <th>3</th>\n",
       "      <td>Books</td>\n",
       "      <td>If I could unread this book, I would\\nThis boo...</td>\n",
       "      <td>([if, i, could, unread, this, book, i, would, ...</td>\n",
       "      <td>[-0.24603297, -0.038587045, 0.15024066, -0.241...</td>\n",
       "    </tr>\n",
       "    <tr>\n",
       "      <th>4</th>\n",
       "      <td>Books</td>\n",
       "      <td>Another Manny Williams book!\\nMy mom got me st...</td>\n",
       "      <td>([another, manny, williams, book, my, mom, got...</td>\n",
       "      <td>[-0.0976955, -0.0157045, -0.11014321, -0.36113...</td>\n",
       "    </tr>\n",
       "  </tbody>\n",
       "</table>\n",
       "</div>"
      ],
      "text/plain": [
       "               categories                                           document  \\\n",
       "0  Health & Personal Care  Great for sensitive skin\\nThis lotion is gentl...   \n",
       "1                   Books  Poorly Written\\nI was very interested in the s...   \n",
       "2            Toys & Games  worst product ever!\\nThese  bubbles are neithe...   \n",
       "3                   Books  If I could unread this book, I would\\nThis boo...   \n",
       "4                   Books  Another Manny Williams book!\\nMy mom got me st...   \n",
       "\n",
       "                                    tagged_documents  \\\n",
       "0  ([great, for, sensitive, skin, this, lotion, i...   \n",
       "1  ([poorly, written, i, was, very, interested, i...   \n",
       "2  ([worst, product, ever, these, bubbles, are, n...   \n",
       "3  ([if, i, could, unread, this, book, i, would, ...   \n",
       "4  ([another, manny, williams, book, my, mom, got...   \n",
       "\n",
       "                                           embedding  \n",
       "0  [-0.25634664, -0.11685726, 0.1432516, -0.05929...  \n",
       "1  [-0.17627177, -0.108491816, 0.030481316, -0.17...  \n",
       "2  [0.17021847, 0.15107383, 0.24789697, -0.246634...  \n",
       "3  [-0.24603297, -0.038587045, 0.15024066, -0.241...  \n",
       "4  [-0.0976955, -0.0157045, -0.11014321, -0.36113...  "
      ]
     },
     "execution_count": 35,
     "metadata": {},
     "output_type": "execute_result"
    }
   ],
   "source": [
    "%%time\n",
    "from gensim.models.doc2vec import TaggedDocument\n",
    "from nltk.tokenize import word_tokenize, RegexpTokenizer\n",
    "\n",
    "tokenizer = RegexpTokenizer(r'\\w+')\n",
    "\n",
    "#documents['tagged_documents'] = documents.apply(lambda row: TaggedDocument(words=word_tokenize(row['document']), tags=row['categories'].split(';')), axis=1)\n",
    "#documents['tagged_documents'] = documents.apply(lambda row: TaggedDocument(words=[word.lower() for word in word_tokenize(row['document'])], tags=row['categories'].split(';')), axis=1)\n",
    "#documents['tagged_documents'] = documents.apply(lambda row: TaggedDocument(words=tokenizer.tokenize(row['document']), tags=row['categories'].split(';')), axis=1)\n",
    "documents['tagged_documents'] = documents.apply(lambda row: TaggedDocument(words=[word.lower() for word in tokenizer.tokenize(row['document'])], tags=row['categories'].split(';')), axis=1)\n",
    "documents.head()"
   ]
  },
  {
   "cell_type": "code",
   "execution_count": 36,
   "metadata": {},
   "outputs": [
    {
     "name": "stdout",
     "output_type": "stream",
     "text": [
      "Total words: 13809254\n"
     ]
    }
   ],
   "source": [
    "total_words = documents['tagged_documents'].apply(lambda x: len(x.words)).sum()\n",
    "print(f\"Total words: {total_words}\")"
   ]
  },
  {
   "cell_type": "code",
   "execution_count": 49,
   "metadata": {},
   "outputs": [
    {
     "data": {
      "text/plain": [
       "gensim.models.doc2vec.TaggedDocument"
      ]
     },
     "execution_count": 49,
     "metadata": {},
     "output_type": "execute_result"
    }
   ],
   "source": [
    "type(documents['tagged_documents'][0])"
   ]
  },
  {
   "cell_type": "code",
   "execution_count": 37,
   "metadata": {},
   "outputs": [
    {
     "name": "stdout",
     "output_type": "stream",
     "text": [
      "CPU times: user 35 s, sys: 1.13 s, total: 36.2 s\n",
      "Wall time: 39 s\n"
     ]
    }
   ],
   "source": [
    "%%time\n",
    "from gensim.models.doc2vec import Doc2Vec\n",
    "\n",
    "d2v_model = Doc2Vec(vector_size=300,\n",
    "                   alpha=0.025,\n",
    "                   min_alpha=0.00025,\n",
    "                   min_count=1,\n",
    "                   dm=0,\n",
    "                   workers=10)\n",
    "\n",
    "d2v_model.build_vocab(documents['tagged_documents'])"
   ]
  },
  {
   "cell_type": "code",
   "execution_count": 38,
   "metadata": {},
   "outputs": [
    {
     "name": "stdout",
     "output_type": "stream",
     "text": [
      "CPU times: user 17min 42s, sys: 49.2 s, total: 18min 31s\n",
      "Wall time: 8min 9s\n"
     ]
    }
   ],
   "source": [
    "%%time\n",
    "for epoch in range(5):\n",
    "    d2v_model.train(documents['tagged_documents'],\n",
    "                    total_examples=d2v_model.corpus_count,\n",
    "                    epochs=d2v_model.epochs,\n",
    "                    total_words=total_words)\n",
    "    d2v_model.alpha -= 0.0002\n",
    "    d2v_model.min_alpha = d2v_model.alpha"
   ]
  },
  {
   "cell_type": "code",
   "execution_count": 39,
   "metadata": {},
   "outputs": [
    {
     "name": "stdout",
     "output_type": "stream",
     "text": [
      "CPU times: user 523 ms, sys: 226 ms, total: 749 ms\n",
      "Wall time: 521 ms\n"
     ]
    },
    {
     "data": {
      "text/html": [
       "<div>\n",
       "<style scoped>\n",
       "    .dataframe tbody tr th:only-of-type {\n",
       "        vertical-align: middle;\n",
       "    }\n",
       "\n",
       "    .dataframe tbody tr th {\n",
       "        vertical-align: top;\n",
       "    }\n",
       "\n",
       "    .dataframe thead th {\n",
       "        text-align: right;\n",
       "    }\n",
       "</style>\n",
       "<table border=\"1\" class=\"dataframe\">\n",
       "  <thead>\n",
       "    <tr style=\"text-align: right;\">\n",
       "      <th></th>\n",
       "      <th>categories</th>\n",
       "      <th>document</th>\n",
       "      <th>tagged_documents</th>\n",
       "      <th>embedding</th>\n",
       "    </tr>\n",
       "  </thead>\n",
       "  <tbody>\n",
       "    <tr>\n",
       "      <th>0</th>\n",
       "      <td>Health &amp; Personal Care</td>\n",
       "      <td>Great for sensitive skin\\nThis lotion is gentl...</td>\n",
       "      <td>([great, for, sensitive, skin, this, lotion, i...</td>\n",
       "      <td>[-0.305324, -0.12095416, 0.024939802, -0.15858...</td>\n",
       "    </tr>\n",
       "    <tr>\n",
       "      <th>1</th>\n",
       "      <td>Books</td>\n",
       "      <td>Poorly Written\\nI was very interested in the s...</td>\n",
       "      <td>([poorly, written, i, was, very, interested, i...</td>\n",
       "      <td>[-0.13264447, -0.124034345, 0.017727409, 0.015...</td>\n",
       "    </tr>\n",
       "    <tr>\n",
       "      <th>2</th>\n",
       "      <td>Toys &amp; Games</td>\n",
       "      <td>worst product ever!\\nThese  bubbles are neithe...</td>\n",
       "      <td>([worst, product, ever, these, bubbles, are, n...</td>\n",
       "      <td>[-0.19003437, -0.016289726, -0.182856, -0.1171...</td>\n",
       "    </tr>\n",
       "    <tr>\n",
       "      <th>3</th>\n",
       "      <td>Books</td>\n",
       "      <td>If I could unread this book, I would\\nThis boo...</td>\n",
       "      <td>([if, i, could, unread, this, book, i, would, ...</td>\n",
       "      <td>[-0.19307962, -0.21498355, -0.13654096, -0.186...</td>\n",
       "    </tr>\n",
       "    <tr>\n",
       "      <th>4</th>\n",
       "      <td>Books</td>\n",
       "      <td>Another Manny Williams book!\\nMy mom got me st...</td>\n",
       "      <td>([another, manny, williams, book, my, mom, got...</td>\n",
       "      <td>[-0.34602425, 0.023076577, 0.16358316, -0.2296...</td>\n",
       "    </tr>\n",
       "  </tbody>\n",
       "</table>\n",
       "</div>"
      ],
      "text/plain": [
       "               categories                                           document  \\\n",
       "0  Health & Personal Care  Great for sensitive skin\\nThis lotion is gentl...   \n",
       "1                   Books  Poorly Written\\nI was very interested in the s...   \n",
       "2            Toys & Games  worst product ever!\\nThese  bubbles are neithe...   \n",
       "3                   Books  If I could unread this book, I would\\nThis boo...   \n",
       "4                   Books  Another Manny Williams book!\\nMy mom got me st...   \n",
       "\n",
       "                                    tagged_documents  \\\n",
       "0  ([great, for, sensitive, skin, this, lotion, i...   \n",
       "1  ([poorly, written, i, was, very, interested, i...   \n",
       "2  ([worst, product, ever, these, bubbles, are, n...   \n",
       "3  ([if, i, could, unread, this, book, i, would, ...   \n",
       "4  ([another, manny, williams, book, my, mom, got...   \n",
       "\n",
       "                                           embedding  \n",
       "0  [-0.305324, -0.12095416, 0.024939802, -0.15858...  \n",
       "1  [-0.13264447, -0.124034345, 0.017727409, 0.015...  \n",
       "2  [-0.19003437, -0.016289726, -0.182856, -0.1171...  \n",
       "3  [-0.19307962, -0.21498355, -0.13654096, -0.186...  \n",
       "4  [-0.34602425, 0.023076577, 0.16358316, -0.2296...  "
      ]
     },
     "execution_count": 39,
     "metadata": {},
     "output_type": "execute_result"
    }
   ],
   "source": [
    "%%time\n",
    "documents['embedding'] = documents['tagged_documents'].apply(lambda x: d2v_model.infer_vector(x.words))\n",
    "documents.head()"
   ]
  },
  {
   "cell_type": "code",
   "execution_count": 40,
   "metadata": {},
   "outputs": [
    {
     "data": {
      "text/plain": [
       "MultiLabelBinarizer(classes=None, sparse_output=False)"
      ]
     },
     "execution_count": 40,
     "metadata": {},
     "output_type": "execute_result"
    }
   ],
   "source": [
    "from sklearn.preprocessing import MultiLabelBinarizer\n",
    "\n",
    "categories = documents.categories.apply(lambda cat: cat.split(\";\")).values.tolist()\n",
    "categories_encoder = MultiLabelBinarizer()\n",
    "categories_encoder.fit(categories)"
   ]
  },
  {
   "cell_type": "code",
   "execution_count": 41,
   "metadata": {},
   "outputs": [
    {
     "name": "stdout",
     "output_type": "stream",
     "text": [
      "CPU times: user 17.6 s, sys: 311 ms, total: 17.9 s\n",
      "Wall time: 23 s\n"
     ]
    }
   ],
   "source": [
    "%%time\n",
    "y = categories_encoder.transform(categories)\n",
    "# pure pandas\n",
    "#X = documents.apply(lambda row: row['embedding'], axis=1, result_type='expand').values\n",
    "# modin requires a _to_pandas() call to enable the expand feature\n",
    "X = documents._to_pandas().apply(lambda row: row['embedding'], axis=1, result_type='expand').values"
   ]
  },
  {
   "cell_type": "code",
   "execution_count": 42,
   "metadata": {},
   "outputs": [
    {
     "data": {
      "text/plain": [
       "(155715, 300)"
      ]
     },
     "execution_count": 42,
     "metadata": {},
     "output_type": "execute_result"
    }
   ],
   "source": [
    "X.shape"
   ]
  },
  {
   "cell_type": "code",
   "execution_count": 43,
   "metadata": {},
   "outputs": [],
   "source": [
    "from sklearn.model_selection import train_test_split\n",
    "\n",
    "X_train, X_test, y_train, y_test = train_test_split(X, y, test_size=0.3)"
   ]
  },
  {
   "cell_type": "code",
   "execution_count": 15,
   "metadata": {},
   "outputs": [],
   "source": [
    "import tensorflow as tf\n",
    "from tensorflow.compat.v1 import ConfigProto, InteractiveSession\n",
    "from tensorflow.python.client import device_lib\n",
    "                                                                     \n",
    "config = ConfigProto()\n",
    "config.gpu_options.allow_growth = True\n",
    "config.gpu_options.per_process_gpu_memory_fraction = 0.6\n",
    "session = InteractiveSession(config=config)\n",
    "\n",
    "\n",
    "def show_framework_devices():\n",
    "    \"\"\"Just prints the devices the frameworks are using\n",
    "    at the moment. It will help us to tell if they are indeed\n",
    "    using GPU's or not\"\"\"\n",
    "    print(\"Tensorflow registered devices:\", device_lib.list_local_devices())"
   ]
  },
  {
   "cell_type": "code",
   "execution_count": 16,
   "metadata": {},
   "outputs": [
    {
     "name": "stdout",
     "output_type": "stream",
     "text": [
      "Tensorflow registered devices: [name: \"/device:CPU:0\"\n",
      "device_type: \"CPU\"\n",
      "memory_limit: 268435456\n",
      "locality {\n",
      "}\n",
      "incarnation: 12707577291254263360\n",
      ", name: \"/device:XLA_CPU:0\"\n",
      "device_type: \"XLA_CPU\"\n",
      "memory_limit: 17179869184\n",
      "locality {\n",
      "}\n",
      "incarnation: 10111586122986221174\n",
      "physical_device_desc: \"device: XLA_CPU device\"\n",
      ", name: \"/device:GPU:0\"\n",
      "device_type: \"GPU\"\n",
      "memory_limit: 5022036787\n",
      "locality {\n",
      "  bus_id: 1\n",
      "  links {\n",
      "  }\n",
      "}\n",
      "incarnation: 14571089323051039823\n",
      "physical_device_desc: \"device: 0, name: GeForce RTX 2070, pci bus id: 0000:01:00.0, compute capability: 7.5\"\n",
      ", name: \"/device:XLA_GPU:0\"\n",
      "device_type: \"XLA_GPU\"\n",
      "memory_limit: 17179869184\n",
      "locality {\n",
      "}\n",
      "incarnation: 943261027866306499\n",
      "physical_device_desc: \"device: XLA_GPU device\"\n",
      "]\n"
     ]
    }
   ],
   "source": [
    "show_framework_devices()"
   ]
  },
  {
   "cell_type": "code",
   "execution_count": 17,
   "metadata": {},
   "outputs": [],
   "source": [
    "vec_size = 300\n",
    "classes = y.shape[1]"
   ]
  },
  {
   "cell_type": "code",
   "execution_count": 44,
   "metadata": {},
   "outputs": [
    {
     "name": "stdout",
     "output_type": "stream",
     "text": [
      "Model: \"model_3\"\n",
      "_________________________________________________________________\n",
      "Layer (type)                 Output Shape              Param #   \n",
      "=================================================================\n",
      "comment_text (InputLayer)    (None, 300, 1)            0         \n",
      "_________________________________________________________________\n",
      "conv1d_7 (Conv1D)            (None, 296, 256)          1536      \n",
      "_________________________________________________________________\n",
      "max_pooling1d_7 (MaxPooling1 (None, 295, 256)          0         \n",
      "_________________________________________________________________\n",
      "conv1d_8 (Conv1D)            (None, 292, 128)          131200    \n",
      "_________________________________________________________________\n",
      "spatial_dropout1d_5 (Spatial (None, 292, 128)          0         \n",
      "_________________________________________________________________\n",
      "max_pooling1d_8 (MaxPooling1 (None, 291, 128)          0         \n",
      "_________________________________________________________________\n",
      "conv1d_9 (Conv1D)            (None, 288, 64)           32832     \n",
      "_________________________________________________________________\n",
      "max_pooling1d_9 (MaxPooling1 (None, 144, 64)           0         \n",
      "_________________________________________________________________\n",
      "spatial_dropout1d_6 (Spatial (None, 144, 64)           0         \n",
      "_________________________________________________________________\n",
      "flatten_3 (Flatten)          (None, 9216)              0         \n",
      "_________________________________________________________________\n",
      "dense_6 (Dense)              (None, 128)               1179776   \n",
      "_________________________________________________________________\n",
      "dropout_3 (Dropout)          (None, 128)               0         \n",
      "_________________________________________________________________\n",
      "prediction (Dense)           (None, 10)                1290      \n",
      "=================================================================\n",
      "Total params: 1,346,634\n",
      "Trainable params: 1,346,634\n",
      "Non-trainable params: 0\n",
      "_________________________________________________________________\n"
     ]
    }
   ],
   "source": [
    "from keras.layers import Input, Embedding, Bidirectional, Dense, Conv1D, Flatten, MaxPool1D, concatenate, BatchNormalization, Dropout, SpatialDropout1D\n",
    "from keras.models import Model\n",
    "from keras import regularizers\n",
    "from keras.optimizers import Adam\n",
    "\n",
    "#Define the inputs\n",
    "comment_input = Input(shape=(vec_size,1), dtype='float32', name='comment_text')\n",
    "\n",
    "# Put here ->  kernel_regularizer=regularizers.l1_l2(l1=0.1, l2=0.2\n",
    "# Add l2 first, evaluate if there is improvement \n",
    "conv = Conv1D(256, 5, activation='tanh', input_shape=(vec_size,), kernel_regularizer=regularizers.l2())(comment_input)\n",
    "conv = MaxPool1D(2, strides=1, padding='valid')(conv)\n",
    "conv = Conv1D(128, 4, activation='tanh')(conv)\n",
    "conv = SpatialDropout1D(0.2)(conv)\n",
    "conv = MaxPool1D(2, strides=1, padding='valid')(conv)\n",
    "conv = Conv1D(64, 4, activation='tanh')(conv)\n",
    "conv = MaxPool1D(2, strides=2, padding='valid')(conv)\n",
    "conv = SpatialDropout1D(0.1)(conv)\n",
    "conv_output = Flatten()(conv)\n",
    "\n",
    "\n",
    "#Apply a dense layers\n",
    "# minimize the dense layers - maybe add one of 64\n",
    "x = Dense(512, activation='relu', kernel_regularizer=regularizers.l2())(conv_output)\n",
    "x = Dense(128, activation='relu')(conv_output)\n",
    "x = Dropout(0.5)(x)\n",
    "\n",
    "#And finally make the predictions using the previous layer as input\n",
    "main_output = Dense(classes, activation='softmax', name='prediction')(x)\n",
    "\n",
    "ann_model = Model(inputs=comment_input, outputs=main_output)\n",
    "optimizer = Adam(learning_rate=0.00001)\n",
    "ann_model.compile(optimizer=optimizer, loss='categorical_crossentropy', metrics=['accuracy'])\n",
    "ann_model.summary()"
   ]
  },
  {
   "cell_type": "code",
   "execution_count": 45,
   "metadata": {},
   "outputs": [
    {
     "name": "stdout",
     "output_type": "stream",
     "text": [
      "Train on 87200 samples, validate on 21800 samples\n",
      "Epoch 1/100\n",
      "87200/87200 [==============================] - 11s 127us/step - loss: 2.4384 - accuracy: 0.2860 - val_loss: 2.3586 - val_accuracy: 0.2919\n",
      "Epoch 2/100\n",
      "87200/87200 [==============================] - 11s 125us/step - loss: 2.2906 - accuracy: 0.2945 - val_loss: 2.2137 - val_accuracy: 0.2919\n",
      "Epoch 3/100\n",
      "87200/87200 [==============================] - 11s 126us/step - loss: 2.1930 - accuracy: 0.3154 - val_loss: 2.1182 - val_accuracy: 0.2988\n",
      "Epoch 4/100\n",
      "87200/87200 [==============================] - 11s 127us/step - loss: 2.0957 - accuracy: 0.3710 - val_loss: 1.9892 - val_accuracy: 0.4240\n",
      "Epoch 5/100\n",
      "87200/87200 [==============================] - 11s 127us/step - loss: 1.9579 - accuracy: 0.4421 - val_loss: 1.8210 - val_accuracy: 0.5228\n",
      "Epoch 6/100\n",
      "87200/87200 [==============================] - 11s 127us/step - loss: 1.7910 - accuracy: 0.5112 - val_loss: 1.6242 - val_accuracy: 0.5910\n",
      "Epoch 7/100\n",
      "87200/87200 [==============================] - 11s 127us/step - loss: 1.6082 - accuracy: 0.5737 - val_loss: 1.4202 - val_accuracy: 0.6631\n",
      "Epoch 8/100\n",
      "87200/87200 [==============================] - 11s 127us/step - loss: 1.4321 - accuracy: 0.6305 - val_loss: 1.2310 - val_accuracy: 0.7160\n",
      "Epoch 9/100\n",
      "87200/87200 [==============================] - 11s 127us/step - loss: 1.2882 - accuracy: 0.6690 - val_loss: 1.0852 - val_accuracy: 0.7478\n",
      "Epoch 10/100\n",
      "87200/87200 [==============================] - 11s 127us/step - loss: 1.1772 - accuracy: 0.6960 - val_loss: 0.9834 - val_accuracy: 0.7632\n",
      "Epoch 11/100\n",
      "87200/87200 [==============================] - 11s 128us/step - loss: 1.1053 - accuracy: 0.7124 - val_loss: 0.9154 - val_accuracy: 0.7753\n",
      "Epoch 12/100\n",
      "87200/87200 [==============================] - 11s 128us/step - loss: 1.0633 - accuracy: 0.7180 - val_loss: 0.8724 - val_accuracy: 0.7806\n",
      "Epoch 13/100\n",
      "87200/87200 [==============================] - 11s 127us/step - loss: 1.0453 - accuracy: 0.7234 - val_loss: 0.8438 - val_accuracy: 0.7864\n",
      "Epoch 14/100\n",
      "87200/87200 [==============================] - 11s 128us/step - loss: 1.0275 - accuracy: 0.7285 - val_loss: 0.8263 - val_accuracy: 0.7894\n",
      "Epoch 15/100\n",
      "87200/87200 [==============================] - 11s 128us/step - loss: 1.0264 - accuracy: 0.7303 - val_loss: 0.8207 - val_accuracy: 0.7918\n",
      "Epoch 16/100\n",
      "87200/87200 [==============================] - 11s 128us/step - loss: 1.0338 - accuracy: 0.7327 - val_loss: 0.8149 - val_accuracy: 0.7935\n",
      "Epoch 17/100\n",
      "87200/87200 [==============================] - 11s 128us/step - loss: 1.0467 - accuracy: 0.7347 - val_loss: 0.8173 - val_accuracy: 0.7958\n",
      "Epoch 18/100\n",
      "87200/87200 [==============================] - 11s 128us/step - loss: 1.0672 - accuracy: 0.7342 - val_loss: 0.8251 - val_accuracy: 0.7964\n",
      "Epoch 19/100\n",
      "87200/87200 [==============================] - 11s 128us/step - loss: 1.0864 - accuracy: 0.7353 - val_loss: 0.8330 - val_accuracy: 0.7989\n",
      "Epoch 20/100\n",
      "87200/87200 [==============================] - 11s 128us/step - loss: 1.1103 - accuracy: 0.7353 - val_loss: 0.8420 - val_accuracy: 0.7994\n",
      "Epoch 21/100\n",
      "87200/87200 [==============================] - 11s 128us/step - loss: 1.1429 - accuracy: 0.7354 - val_loss: 0.8585 - val_accuracy: 0.8000\n",
      "CPU times: user 2min 35s, sys: 1.78 s, total: 2min 37s\n",
      "Wall time: 3min 53s\n"
     ]
    }
   ],
   "source": [
    "%%time\n",
    "from keras.callbacks import EarlyStopping\n",
    "\n",
    "early_stopping = EarlyStopping(monitor='val_loss', patience=5, min_delta=1e-7, restore_best_weights=True)\n",
    "sample_size = 10000\n",
    "X_train_rs = X_train.reshape(X_train.shape[0], X_train.shape[1], 1)\n",
    "history = ann_model.fit(X_train_rs, \n",
    "                        y_train, \n",
    "                        epochs = 100, \n",
    "                        batch_size = 2000, \n",
    "                        validation_split= 0.2, \n",
    "                        callbacks=[early_stopping])"
   ]
  },
  {
   "cell_type": "code",
   "execution_count": 46,
   "metadata": {},
   "outputs": [],
   "source": [
    "import matplotlib.pyplot as plt\n",
    "\n",
    "def plot_history(cnn, acc= 'acc', val_acc = 'val_acc', loss = 'loss', val_loss = 'val_loss'):\n",
    "    fig = plt.figure(figsize = (16, 8))\n",
    "    plt.subplot(1, 2, 1)\n",
    "    plt.title('Accuracy in training Vs validation')\n",
    "    plt.ylabel('Accuracy')\n",
    "    plt.xlabel('Epoch')\n",
    "    plt.plot(cnn.history[acc], 'r')\n",
    "    plt.plot(cnn.history[val_acc], 'b')\n",
    "    plt.legend(['training', 'validation'])\n",
    "    \n",
    "    plt.subplot(1, 2, 2)\n",
    "    plt.title('Loss in training Vs validation')\n",
    "    plt.ylabel('Loss')\n",
    "    plt.xlabel('Epoch')\n",
    "    plt.plot(cnn.history[loss], 'r')\n",
    "    plt.plot(cnn.history[val_loss], 'b')\n",
    "    plt.legend(['training', 'validation'])\n",
    "    \n",
    "    plt.show()"
   ]
  },
  {
   "cell_type": "code",
   "execution_count": 47,
   "metadata": {},
   "outputs": [
    {
     "data": {
      "image/png": "[encoded data removed]",
      "text/plain": [
       "<Figure size 1152x576 with 2 Axes>"
      ]
     },
     "metadata": {
      "needs_background": "light"
     },
     "output_type": "display_data"
    }
   ],
   "source": [
    "plot_history(history, \n",
    "             acc='accuracy', \n",
    "             val_acc='val_accuracy', \n",
    "             loss='loss', \n",
    "             val_loss='val_loss')"
   ]
  },
  {
   "cell_type": "code",
   "execution_count": null,
   "metadata": {},
   "outputs": [],
   "source": []
  }
 ],
 "metadata": {
  "kernelspec": {
   "display_name": "Python 3",
   "language": "python",
   "name": "python3"
  },
  "language_info": {
   "codemirror_mode": {
    "name": "ipython",
    "version": 3
   },
   "file_extension": ".py",
   "mimetype": "text/x-python",
   "name": "python",
   "nbconvert_exporter": "python",
   "pygments_lexer": "ipython3",
   "version": "3.7.7"
  }
 },
 "nbformat": 4,
 "nbformat_minor": 4
}
