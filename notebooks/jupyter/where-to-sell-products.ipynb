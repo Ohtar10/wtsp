{
 "cells": [
  {
   "cell_type": "markdown",
   "metadata": {},
   "source": [
    "# Where to sell products\n",
    "## Author: Luis Eduardo Ferro Diez, <a href=\"mailto:luis.ferro1@correo.icesi.edu.co\">luis.ferro1@correo.icesi.edu.co</a>\n",
    "\n",
    "This notebook contains the main work and contribution of the project, exploiting geo tagged social network data to predict where to sell specific products depending on the content being posted by the users.\n"
   ]
  },
  {
   "cell_type": "code",
   "execution_count": 1,
   "metadata": {},
   "outputs": [
    {
     "data": {
      "text/html": [
       "<div>\n",
       "<style scoped>\n",
       "    .dataframe tbody tr th:only-of-type {\n",
       "        vertical-align: middle;\n",
       "    }\n",
       "\n",
       "    .dataframe tbody tr th {\n",
       "        vertical-align: top;\n",
       "    }\n",
       "\n",
       "    .dataframe thead th {\n",
       "        text-align: right;\n",
       "    }\n",
       "</style>\n",
       "<table border=\"1\" class=\"dataframe\">\n",
       "  <thead>\n",
       "    <tr style=\"text-align: right;\">\n",
       "      <th></th>\n",
       "      <th>id</th>\n",
       "      <th>tweet</th>\n",
       "      <th>lang</th>\n",
       "      <th>favorite_count</th>\n",
       "      <th>retweet_count</th>\n",
       "      <th>is_retweet</th>\n",
       "      <th>user_id</th>\n",
       "      <th>user_name</th>\n",
       "      <th>user_followers_count</th>\n",
       "      <th>user_following_count</th>\n",
       "      <th>...</th>\n",
       "      <th>place_name</th>\n",
       "      <th>place_full_name</th>\n",
       "      <th>country</th>\n",
       "      <th>country_code</th>\n",
       "      <th>place_type</th>\n",
       "      <th>place_url</th>\n",
       "      <th>year</th>\n",
       "      <th>month</th>\n",
       "      <th>day</th>\n",
       "      <th>hour</th>\n",
       "    </tr>\n",
       "  </thead>\n",
       "  <tbody>\n",
       "    <tr>\n",
       "      <td>0</td>\n",
       "      <td>384905527706542080</td>\n",
       "      <td>I'm at Mahatma Gading Nasional Plus School (Ja...</td>\n",
       "      <td>id</td>\n",
       "      <td>0.0</td>\n",
       "      <td>0.0</td>\n",
       "      <td>0.0</td>\n",
       "      <td>234670148</td>\n",
       "      <td>richardgbt</td>\n",
       "      <td>306.0</td>\n",
       "      <td>280.0</td>\n",
       "      <td>...</td>\n",
       "      <td>Pulo Gadung</td>\n",
       "      <td>Pulo Gadung, Jakarta Timur</td>\n",
       "      <td>Indonesia</td>\n",
       "      <td>ID</td>\n",
       "      <td>city</td>\n",
       "      <td>https://api.twitter.com/1.1/geo/id/8496c55fb5d...</td>\n",
       "      <td>2013</td>\n",
       "      <td>10</td>\n",
       "      <td>1</td>\n",
       "      <td>0</td>\n",
       "    </tr>\n",
       "    <tr>\n",
       "      <td>1</td>\n",
       "      <td>384905536107319296</td>\n",
       "      <td>But I honestly don't give a fuck, because I di...</td>\n",
       "      <td>en</td>\n",
       "      <td>0.0</td>\n",
       "      <td>0.0</td>\n",
       "      <td>0.0</td>\n",
       "      <td>28929946</td>\n",
       "      <td>rachelzerber</td>\n",
       "      <td>344.0</td>\n",
       "      <td>124.0</td>\n",
       "      <td>...</td>\n",
       "      <td>Arizona</td>\n",
       "      <td>Arizona, US</td>\n",
       "      <td>United States</td>\n",
       "      <td>US</td>\n",
       "      <td>admin</td>\n",
       "      <td>https://api.twitter.com/1.1/geo/id/a612c69b44b...</td>\n",
       "      <td>2013</td>\n",
       "      <td>10</td>\n",
       "      <td>1</td>\n",
       "      <td>0</td>\n",
       "    </tr>\n",
       "    <tr>\n",
       "      <td>2</td>\n",
       "      <td>384905548690653184</td>\n",
       "      <td>Metcalfe / Sainte-Catherine: 01:00 - Disponibl...</td>\n",
       "      <td>de</td>\n",
       "      <td>0.0</td>\n",
       "      <td>0.0</td>\n",
       "      <td>0.0</td>\n",
       "      <td>162780830</td>\n",
       "      <td>BixTweet057</td>\n",
       "      <td>3.0</td>\n",
       "      <td>0.0</td>\n",
       "      <td>...</td>\n",
       "      <td>Montréal</td>\n",
       "      <td>Montréal, Québec</td>\n",
       "      <td>Canada</td>\n",
       "      <td>CA</td>\n",
       "      <td>city</td>\n",
       "      <td>https://api.twitter.com/1.1/geo/id/378a442883b...</td>\n",
       "      <td>2013</td>\n",
       "      <td>10</td>\n",
       "      <td>1</td>\n",
       "      <td>0</td>\n",
       "    </tr>\n",
       "    <tr>\n",
       "      <td>3</td>\n",
       "      <td>384905548690255872</td>\n",
       "      <td>Ask te odio pero a la ves te amo :)</td>\n",
       "      <td>es</td>\n",
       "      <td>0.0</td>\n",
       "      <td>0.0</td>\n",
       "      <td>0.0</td>\n",
       "      <td>38001073</td>\n",
       "      <td>bernageek</td>\n",
       "      <td>728.0</td>\n",
       "      <td>469.0</td>\n",
       "      <td>...</td>\n",
       "      <td>Pachuca de Soto</td>\n",
       "      <td>Pachuca de Soto, Hidalgo</td>\n",
       "      <td>México</td>\n",
       "      <td>MX</td>\n",
       "      <td>city</td>\n",
       "      <td>https://api.twitter.com/1.1/geo/id/8747ffc9cc7...</td>\n",
       "      <td>2013</td>\n",
       "      <td>10</td>\n",
       "      <td>1</td>\n",
       "      <td>0</td>\n",
       "    </tr>\n",
       "    <tr>\n",
       "      <td>4</td>\n",
       "      <td>384905552855592961</td>\n",
       "      <td>\"@ThelIluminati: The #governmentshutdown but t...</td>\n",
       "      <td>en</td>\n",
       "      <td>0.0</td>\n",
       "      <td>0.0</td>\n",
       "      <td>0.0</td>\n",
       "      <td>297722693</td>\n",
       "      <td>wifi_whor3</td>\n",
       "      <td>372.0</td>\n",
       "      <td>708.0</td>\n",
       "      <td>...</td>\n",
       "      <td>Pasadena</td>\n",
       "      <td>Pasadena, TX</td>\n",
       "      <td>United States</td>\n",
       "      <td>US</td>\n",
       "      <td>city</td>\n",
       "      <td>https://api.twitter.com/1.1/geo/id/3e82edc94d5...</td>\n",
       "      <td>2013</td>\n",
       "      <td>10</td>\n",
       "      <td>1</td>\n",
       "      <td>0</td>\n",
       "    </tr>\n",
       "  </tbody>\n",
       "</table>\n",
       "<p>5 rows × 29 columns</p>\n",
       "</div>"
      ],
      "text/plain": [
       "                   id                                              tweet lang  \\\n",
       "0  384905527706542080  I'm at Mahatma Gading Nasional Plus School (Ja...   id   \n",
       "1  384905536107319296  But I honestly don't give a fuck, because I di...   en   \n",
       "2  384905548690653184  Metcalfe / Sainte-Catherine: 01:00 - Disponibl...   de   \n",
       "3  384905548690255872                Ask te odio pero a la ves te amo :)   es   \n",
       "4  384905552855592961  \"@ThelIluminati: The #governmentshutdown but t...   en   \n",
       "\n",
       "   favorite_count  retweet_count  is_retweet    user_id     user_name  \\\n",
       "0             0.0            0.0         0.0  234670148    richardgbt   \n",
       "1             0.0            0.0         0.0   28929946  rachelzerber   \n",
       "2             0.0            0.0         0.0  162780830   BixTweet057   \n",
       "3             0.0            0.0         0.0   38001073     bernageek   \n",
       "4             0.0            0.0         0.0  297722693    wifi_whor3   \n",
       "\n",
       "   user_followers_count  user_following_count  ...       place_name  \\\n",
       "0                 306.0                 280.0  ...      Pulo Gadung   \n",
       "1                 344.0                 124.0  ...          Arizona   \n",
       "2                   3.0                   0.0  ...         Montréal   \n",
       "3                 728.0                 469.0  ...  Pachuca de Soto   \n",
       "4                 372.0                 708.0  ...         Pasadena   \n",
       "\n",
       "              place_full_name        country country_code place_type  \\\n",
       "0  Pulo Gadung, Jakarta Timur      Indonesia           ID       city   \n",
       "1                 Arizona, US  United States           US      admin   \n",
       "2            Montréal, Québec         Canada           CA       city   \n",
       "3    Pachuca de Soto, Hidalgo         México           MX       city   \n",
       "4                Pasadena, TX  United States           US       city   \n",
       "\n",
       "                                           place_url  year month day hour  \n",
       "0  https://api.twitter.com/1.1/geo/id/8496c55fb5d...  2013    10   1    0  \n",
       "1  https://api.twitter.com/1.1/geo/id/a612c69b44b...  2013    10   1    0  \n",
       "2  https://api.twitter.com/1.1/geo/id/378a442883b...  2013    10   1    0  \n",
       "3  https://api.twitter.com/1.1/geo/id/8747ffc9cc7...  2013    10   1    0  \n",
       "4  https://api.twitter.com/1.1/geo/id/3e82edc94d5...  2013    10   1    0  \n",
       "\n",
       "[5 rows x 29 columns]"
      ]
     },
     "execution_count": 1,
     "metadata": {},
     "output_type": "execute_result"
    }
   ],
   "source": [
    "import pandas as pd\n",
    "\n",
    "base_path = \"/media/ohtar10/Adder-Storage/datasets/twitter\"\n",
    "tweets_path = base_path + \"/pruned/tweets/\"\n",
    "tweets = pd.read_parquet(tweets_path, engine=\"pyarrow\")\n",
    "tweets.head()"
   ]
  },
  {
   "cell_type": "code",
   "execution_count": 2,
   "metadata": {},
   "outputs": [
    {
     "data": {
      "text/plain": [
       "Index(['id', 'tweet', 'lang', 'favorite_count', 'retweet_count', 'is_retweet',\n",
       "       'user_id', 'user_name', 'user_followers_count', 'user_following_count',\n",
       "       'user_location', 'created_timestamp', 'hashtags', 'user_mentions',\n",
       "       'user_id_mentions', 'expanded_urls', 'location_geometry',\n",
       "       'place_geometry', 'place_id', 'place_name', 'place_full_name',\n",
       "       'country', 'country_code', 'place_type', 'place_url', 'year', 'month',\n",
       "       'day', 'hour'],\n",
       "      dtype='object')"
      ]
     },
     "execution_count": 2,
     "metadata": {},
     "output_type": "execute_result"
    }
   ],
   "source": [
    "tweets.columns"
   ]
  },
  {
   "cell_type": "markdown",
   "metadata": {},
   "source": [
    "### TODO Filter by language\n",
    "\n",
    "We are interested only in tweets written in english language, primarily because that is the language in which the product reviews are written hence to preserve the semantic relation, only english tweets will be taken into account. However, the amount of tweets without a language can significant, hence we need to predict the language of the tweets. We already pre-trained an ANN for this purpose.\n",
    "\n"
   ]
  },
  {
   "cell_type": "markdown",
   "metadata": {},
   "source": [
    "Let's visualize the tweets on a map.\n",
    "\n",
    "First, we will create a geopandas dataframe from the original data."
   ]
  },
  {
   "cell_type": "code",
   "execution_count": 3,
   "metadata": {},
   "outputs": [
    {
     "data": {
      "text/html": [
       "<div>\n",
       "<style scoped>\n",
       "    .dataframe tbody tr th:only-of-type {\n",
       "        vertical-align: middle;\n",
       "    }\n",
       "\n",
       "    .dataframe tbody tr th {\n",
       "        vertical-align: top;\n",
       "    }\n",
       "\n",
       "    .dataframe thead th {\n",
       "        text-align: right;\n",
       "    }\n",
       "</style>\n",
       "<table border=\"1\" class=\"dataframe\">\n",
       "  <thead>\n",
       "    <tr style=\"text-align: right;\">\n",
       "      <th></th>\n",
       "      <th>id</th>\n",
       "      <th>tweet</th>\n",
       "      <th>lang</th>\n",
       "      <th>favorite_count</th>\n",
       "      <th>retweet_count</th>\n",
       "      <th>is_retweet</th>\n",
       "      <th>user_id</th>\n",
       "      <th>user_name</th>\n",
       "      <th>user_followers_count</th>\n",
       "      <th>user_following_count</th>\n",
       "      <th>...</th>\n",
       "      <th>place_name</th>\n",
       "      <th>place_full_name</th>\n",
       "      <th>country</th>\n",
       "      <th>country_code</th>\n",
       "      <th>place_type</th>\n",
       "      <th>place_url</th>\n",
       "      <th>year</th>\n",
       "      <th>month</th>\n",
       "      <th>day</th>\n",
       "      <th>hour</th>\n",
       "    </tr>\n",
       "  </thead>\n",
       "  <tbody>\n",
       "    <tr>\n",
       "      <td>0</td>\n",
       "      <td>384905527706542080</td>\n",
       "      <td>I'm at Mahatma Gading Nasional Plus School (Ja...</td>\n",
       "      <td>id</td>\n",
       "      <td>0.0</td>\n",
       "      <td>0.0</td>\n",
       "      <td>0.0</td>\n",
       "      <td>234670148</td>\n",
       "      <td>richardgbt</td>\n",
       "      <td>306.0</td>\n",
       "      <td>280.0</td>\n",
       "      <td>...</td>\n",
       "      <td>Pulo Gadung</td>\n",
       "      <td>Pulo Gadung, Jakarta Timur</td>\n",
       "      <td>Indonesia</td>\n",
       "      <td>ID</td>\n",
       "      <td>city</td>\n",
       "      <td>https://api.twitter.com/1.1/geo/id/8496c55fb5d...</td>\n",
       "      <td>2013</td>\n",
       "      <td>10</td>\n",
       "      <td>1</td>\n",
       "      <td>0</td>\n",
       "    </tr>\n",
       "    <tr>\n",
       "      <td>1</td>\n",
       "      <td>384905536107319296</td>\n",
       "      <td>But I honestly don't give a fuck, because I di...</td>\n",
       "      <td>en</td>\n",
       "      <td>0.0</td>\n",
       "      <td>0.0</td>\n",
       "      <td>0.0</td>\n",
       "      <td>28929946</td>\n",
       "      <td>rachelzerber</td>\n",
       "      <td>344.0</td>\n",
       "      <td>124.0</td>\n",
       "      <td>...</td>\n",
       "      <td>Arizona</td>\n",
       "      <td>Arizona, US</td>\n",
       "      <td>United States</td>\n",
       "      <td>US</td>\n",
       "      <td>admin</td>\n",
       "      <td>https://api.twitter.com/1.1/geo/id/a612c69b44b...</td>\n",
       "      <td>2013</td>\n",
       "      <td>10</td>\n",
       "      <td>1</td>\n",
       "      <td>0</td>\n",
       "    </tr>\n",
       "    <tr>\n",
       "      <td>2</td>\n",
       "      <td>384905548690653184</td>\n",
       "      <td>Metcalfe / Sainte-Catherine: 01:00 - Disponibl...</td>\n",
       "      <td>de</td>\n",
       "      <td>0.0</td>\n",
       "      <td>0.0</td>\n",
       "      <td>0.0</td>\n",
       "      <td>162780830</td>\n",
       "      <td>BixTweet057</td>\n",
       "      <td>3.0</td>\n",
       "      <td>0.0</td>\n",
       "      <td>...</td>\n",
       "      <td>Montréal</td>\n",
       "      <td>Montréal, Québec</td>\n",
       "      <td>Canada</td>\n",
       "      <td>CA</td>\n",
       "      <td>city</td>\n",
       "      <td>https://api.twitter.com/1.1/geo/id/378a442883b...</td>\n",
       "      <td>2013</td>\n",
       "      <td>10</td>\n",
       "      <td>1</td>\n",
       "      <td>0</td>\n",
       "    </tr>\n",
       "    <tr>\n",
       "      <td>3</td>\n",
       "      <td>384905548690255872</td>\n",
       "      <td>Ask te odio pero a la ves te amo :)</td>\n",
       "      <td>es</td>\n",
       "      <td>0.0</td>\n",
       "      <td>0.0</td>\n",
       "      <td>0.0</td>\n",
       "      <td>38001073</td>\n",
       "      <td>bernageek</td>\n",
       "      <td>728.0</td>\n",
       "      <td>469.0</td>\n",
       "      <td>...</td>\n",
       "      <td>Pachuca de Soto</td>\n",
       "      <td>Pachuca de Soto, Hidalgo</td>\n",
       "      <td>México</td>\n",
       "      <td>MX</td>\n",
       "      <td>city</td>\n",
       "      <td>https://api.twitter.com/1.1/geo/id/8747ffc9cc7...</td>\n",
       "      <td>2013</td>\n",
       "      <td>10</td>\n",
       "      <td>1</td>\n",
       "      <td>0</td>\n",
       "    </tr>\n",
       "    <tr>\n",
       "      <td>4</td>\n",
       "      <td>384905552855592961</td>\n",
       "      <td>\"@ThelIluminati: The #governmentshutdown but t...</td>\n",
       "      <td>en</td>\n",
       "      <td>0.0</td>\n",
       "      <td>0.0</td>\n",
       "      <td>0.0</td>\n",
       "      <td>297722693</td>\n",
       "      <td>wifi_whor3</td>\n",
       "      <td>372.0</td>\n",
       "      <td>708.0</td>\n",
       "      <td>...</td>\n",
       "      <td>Pasadena</td>\n",
       "      <td>Pasadena, TX</td>\n",
       "      <td>United States</td>\n",
       "      <td>US</td>\n",
       "      <td>city</td>\n",
       "      <td>https://api.twitter.com/1.1/geo/id/3e82edc94d5...</td>\n",
       "      <td>2013</td>\n",
       "      <td>10</td>\n",
       "      <td>1</td>\n",
       "      <td>0</td>\n",
       "    </tr>\n",
       "  </tbody>\n",
       "</table>\n",
       "<p>5 rows × 29 columns</p>\n",
       "</div>"
      ],
      "text/plain": [
       "                   id                                              tweet lang  \\\n",
       "0  384905527706542080  I'm at Mahatma Gading Nasional Plus School (Ja...   id   \n",
       "1  384905536107319296  But I honestly don't give a fuck, because I di...   en   \n",
       "2  384905548690653184  Metcalfe / Sainte-Catherine: 01:00 - Disponibl...   de   \n",
       "3  384905548690255872                Ask te odio pero a la ves te amo :)   es   \n",
       "4  384905552855592961  \"@ThelIluminati: The #governmentshutdown but t...   en   \n",
       "\n",
       "   favorite_count  retweet_count  is_retweet    user_id     user_name  \\\n",
       "0             0.0            0.0         0.0  234670148    richardgbt   \n",
       "1             0.0            0.0         0.0   28929946  rachelzerber   \n",
       "2             0.0            0.0         0.0  162780830   BixTweet057   \n",
       "3             0.0            0.0         0.0   38001073     bernageek   \n",
       "4             0.0            0.0         0.0  297722693    wifi_whor3   \n",
       "\n",
       "   user_followers_count  user_following_count  ...       place_name  \\\n",
       "0                 306.0                 280.0  ...      Pulo Gadung   \n",
       "1                 344.0                 124.0  ...          Arizona   \n",
       "2                   3.0                   0.0  ...         Montréal   \n",
       "3                 728.0                 469.0  ...  Pachuca de Soto   \n",
       "4                 372.0                 708.0  ...         Pasadena   \n",
       "\n",
       "              place_full_name        country country_code place_type  \\\n",
       "0  Pulo Gadung, Jakarta Timur      Indonesia           ID       city   \n",
       "1                 Arizona, US  United States           US      admin   \n",
       "2            Montréal, Québec         Canada           CA       city   \n",
       "3    Pachuca de Soto, Hidalgo         México           MX       city   \n",
       "4                Pasadena, TX  United States           US       city   \n",
       "\n",
       "                                           place_url  year month day hour  \n",
       "0  https://api.twitter.com/1.1/geo/id/8496c55fb5d...  2013    10   1    0  \n",
       "1  https://api.twitter.com/1.1/geo/id/a612c69b44b...  2013    10   1    0  \n",
       "2  https://api.twitter.com/1.1/geo/id/378a442883b...  2013    10   1    0  \n",
       "3  https://api.twitter.com/1.1/geo/id/8747ffc9cc7...  2013    10   1    0  \n",
       "4  https://api.twitter.com/1.1/geo/id/3e82edc94d5...  2013    10   1    0  \n",
       "\n",
       "[5 rows x 29 columns]"
      ]
     },
     "execution_count": 3,
     "metadata": {},
     "output_type": "execute_result"
    }
   ],
   "source": [
    "from shapely import wkt\n",
    "import geopandas as gpd\n",
    "\n",
    "# Some tweets might have appear without place or location geometry\n",
    "tweets = tweets[(tweets.place_geometry.notnull()) | (tweets.location_geometry.notnull())]\n",
    "\n",
    "def parse_geometry(geom):\n",
    "    if geom:\n",
    "        return wkt.loads(geom)\n",
    "    else:\n",
    "        return None\n",
    "\n",
    "tweets.location_geometry = tweets.location_geometry.apply(parse_geometry)\n",
    "tweets.place_geometry = tweets.place_geometry.apply(parse_geometry)\n",
    "\n",
    "# Let's work first with the location geometry first\n",
    "geo_tweets = gpd.GeoDataFrame(tweets, geometry='location_geometry')\n",
    "geo_tweets.head()"
   ]
  },
  {
   "cell_type": "markdown",
   "metadata": {},
   "source": [
    "## Visualize the tweets in the map\n",
    "Now let's visualize this information on a map"
   ]
  },
  {
   "cell_type": "code",
   "execution_count": 5,
   "metadata": {},
   "outputs": [
    {
     "data": {
      "application/vnd.jupyter.widget-view+json": {
       "model_id": "28a4a83d227b4ce58f0531adaf23bc4d",
       "version_major": 2,
       "version_minor": 0
      },
      "text/plain": [
       "Map(basemap={'url': 'http://server.arcgisonline.com/ArcGIS/rest/services/World_Topo_Map/MapServer/tile/{z}/{y}…"
      ]
     },
     "metadata": {},
     "output_type": "display_data"
    }
   ],
   "source": [
    "import ipyleaflet as ipy\n",
    "\n",
    "gtdf = geo_tweets.iloc[:200][[\"id\", \"location_geometry\"]]\n",
    "geo_data = ipy.GeoData(geo_dataframe=gtdf,\n",
    "                       style={'properties': {'marker-size': 'small'}},\n",
    "                       icon=\"https://upload.wikimedia.org/wikipedia/commons/thumb/3/35/Location_dot_blue.svg/64px-Location_dot_blue.svg.png\",\n",
    "                       name=\"Geo Tweets\")\n",
    "\n",
    "tweets_map = ipy.Map(center=(52.3, 8.0), \n",
    "            zoom=2,\n",
    "            scroll_wheel_zoom=True,\n",
    "            basemap=ipy.basemaps.Esri.WorldTopoMap)\n",
    "\n",
    "tweets_map.add_layer(geo_data)\n",
    "tweets_map.add_control(ipy.LayersControl())\n",
    "tweets_map"
   ]
  },
  {
   "cell_type": "markdown",
   "metadata": {},
   "source": [
    "## As Heatmap\n",
    "With heatmaps visualization we can easily observe where are the highest concentration of tweets. This is useful to further select an area of interest."
   ]
  },
  {
   "cell_type": "code",
   "execution_count": 6,
   "metadata": {},
   "outputs": [
    {
     "data": {
      "application/vnd.jupyter.widget-view+json": {
       "model_id": "6e485d9575124e5f8b5dee8318316ba5",
       "version_major": 2,
       "version_minor": 0
      },
      "text/plain": [
       "Map(basemap={'url': 'http://server.arcgisonline.com/ArcGIS/rest/services/World_Topo_Map/MapServer/tile/{z}/{y}…"
      ]
     },
     "metadata": {},
     "output_type": "display_data"
    }
   ],
   "source": [
    "import ipyleaflet as ipy\n",
    "\n",
    "def display_heatmap(center, zoom, geom, radius=20, blur=10):    \n",
    "    point_list = [(p.y, p.x) for p in geom.values if p]\n",
    "    heatmap = ipy.Heatmap(\n",
    "        locations = point_list,\n",
    "        radius=radius,\n",
    "        blur=blur\n",
    "    )\n",
    "\n",
    "    m = ipy.Map(center=center,\n",
    "              zoom=zoom,\n",
    "              scroll_wheel_zoom=True,\n",
    "              basemap=ipy.basemaps.Esri.WorldTopoMap)\n",
    "\n",
    "    m.add_layer(heatmap)\n",
    "    return m\n",
    "\n",
    "w_heatmap = display_heatmap(center=(52.3, 8.0),\n",
    "               zoom=3,\n",
    "               geom=geo_tweets[\"location_geometry\"])\n",
    "w_heatmap"
   ]
  },
  {
   "cell_type": "markdown",
   "metadata": {},
   "source": [
    "It is expected to have North America as one of areas with highest twitter activity.\n",
    "\n",
    "Let's work with North America first, let's observe in numbers how much tweets we have there."
   ]
  },
  {
   "cell_type": "code",
   "execution_count": 7,
   "metadata": {},
   "outputs": [
    {
     "data": {
      "text/plain": [
       "array(['city', 'admin', 'country', 'neighborhood', 'poi'], dtype=object)"
      ]
     },
     "execution_count": 7,
     "metadata": {},
     "output_type": "execute_result"
    }
   ],
   "source": [
    "geo_tweets.place_type.unique()"
   ]
  },
  {
   "cell_type": "markdown",
   "metadata": {},
   "source": [
    "First, we observe the place types we have, let's filter by all the tweets within the US."
   ]
  },
  {
   "cell_type": "code",
   "execution_count": 8,
   "metadata": {},
   "outputs": [],
   "source": [
    "tweet_count_by_country = geo_tweets.groupby('country').count()"
   ]
  },
  {
   "cell_type": "code",
   "execution_count": 9,
   "metadata": {},
   "outputs": [
    {
     "name": "stdout",
     "output_type": "stream",
     "text": [
      "Total tweets in the US 618226\n"
     ]
    }
   ],
   "source": [
    "us_tweet_count = tweet_count_by_country.loc['United States']['tweet']\n",
    "print(f'Total tweets in the US {us_tweet_count}')"
   ]
  },
  {
   "cell_type": "code",
   "execution_count": 10,
   "metadata": {},
   "outputs": [
    {
     "data": {
      "text/html": [
       "<div>\n",
       "<style scoped>\n",
       "    .dataframe tbody tr th:only-of-type {\n",
       "        vertical-align: middle;\n",
       "    }\n",
       "\n",
       "    .dataframe tbody tr th {\n",
       "        vertical-align: top;\n",
       "    }\n",
       "\n",
       "    .dataframe thead th {\n",
       "        text-align: right;\n",
       "    }\n",
       "</style>\n",
       "<table border=\"1\" class=\"dataframe\">\n",
       "  <thead>\n",
       "    <tr style=\"text-align: right;\">\n",
       "      <th></th>\n",
       "      <th>id</th>\n",
       "      <th>tweet</th>\n",
       "      <th>lang</th>\n",
       "      <th>favorite_count</th>\n",
       "      <th>retweet_count</th>\n",
       "      <th>is_retweet</th>\n",
       "      <th>user_id</th>\n",
       "      <th>user_name</th>\n",
       "      <th>user_followers_count</th>\n",
       "      <th>user_following_count</th>\n",
       "      <th>...</th>\n",
       "      <th>place_name</th>\n",
       "      <th>place_full_name</th>\n",
       "      <th>country</th>\n",
       "      <th>country_code</th>\n",
       "      <th>place_type</th>\n",
       "      <th>place_url</th>\n",
       "      <th>year</th>\n",
       "      <th>month</th>\n",
       "      <th>day</th>\n",
       "      <th>hour</th>\n",
       "    </tr>\n",
       "  </thead>\n",
       "  <tbody>\n",
       "    <tr>\n",
       "      <td>1</td>\n",
       "      <td>384905536107319296</td>\n",
       "      <td>But I honestly don't give a fuck, because I di...</td>\n",
       "      <td>en</td>\n",
       "      <td>0.0</td>\n",
       "      <td>0.0</td>\n",
       "      <td>0.0</td>\n",
       "      <td>28929946</td>\n",
       "      <td>rachelzerber</td>\n",
       "      <td>344.0</td>\n",
       "      <td>124.0</td>\n",
       "      <td>...</td>\n",
       "      <td>Arizona</td>\n",
       "      <td>Arizona, US</td>\n",
       "      <td>United States</td>\n",
       "      <td>US</td>\n",
       "      <td>admin</td>\n",
       "      <td>https://api.twitter.com/1.1/geo/id/a612c69b44b...</td>\n",
       "      <td>2013</td>\n",
       "      <td>10</td>\n",
       "      <td>1</td>\n",
       "      <td>0</td>\n",
       "    </tr>\n",
       "    <tr>\n",
       "      <td>4</td>\n",
       "      <td>384905552855592961</td>\n",
       "      <td>\"@ThelIluminati: The #governmentshutdown but t...</td>\n",
       "      <td>en</td>\n",
       "      <td>0.0</td>\n",
       "      <td>0.0</td>\n",
       "      <td>0.0</td>\n",
       "      <td>297722693</td>\n",
       "      <td>wifi_whor3</td>\n",
       "      <td>372.0</td>\n",
       "      <td>708.0</td>\n",
       "      <td>...</td>\n",
       "      <td>Pasadena</td>\n",
       "      <td>Pasadena, TX</td>\n",
       "      <td>United States</td>\n",
       "      <td>US</td>\n",
       "      <td>city</td>\n",
       "      <td>https://api.twitter.com/1.1/geo/id/3e82edc94d5...</td>\n",
       "      <td>2013</td>\n",
       "      <td>10</td>\n",
       "      <td>1</td>\n",
       "      <td>0</td>\n",
       "    </tr>\n",
       "    <tr>\n",
       "      <td>5</td>\n",
       "      <td>384905569653358592</td>\n",
       "      <td>Magic mike on TV? I think yes</td>\n",
       "      <td>en</td>\n",
       "      <td>0.0</td>\n",
       "      <td>0.0</td>\n",
       "      <td>0.0</td>\n",
       "      <td>1124221580</td>\n",
       "      <td>Gabers22</td>\n",
       "      <td>35.0</td>\n",
       "      <td>88.0</td>\n",
       "      <td>...</td>\n",
       "      <td>Anaheim</td>\n",
       "      <td>Anaheim, CA</td>\n",
       "      <td>United States</td>\n",
       "      <td>US</td>\n",
       "      <td>city</td>\n",
       "      <td>https://api.twitter.com/1.1/geo/id/0c2e6999105...</td>\n",
       "      <td>2013</td>\n",
       "      <td>10</td>\n",
       "      <td>1</td>\n",
       "      <td>0</td>\n",
       "    </tr>\n",
       "    <tr>\n",
       "      <td>6</td>\n",
       "      <td>384905586438971392</td>\n",
       "      <td>@emilyparkhurst Yes! Thank you!</td>\n",
       "      <td>en</td>\n",
       "      <td>0.0</td>\n",
       "      <td>0.0</td>\n",
       "      <td>0.0</td>\n",
       "      <td>17953151</td>\n",
       "      <td>WhitneyT</td>\n",
       "      <td>1555.0</td>\n",
       "      <td>1202.0</td>\n",
       "      <td>...</td>\n",
       "      <td>Edmonds</td>\n",
       "      <td>Edmonds, WA</td>\n",
       "      <td>United States</td>\n",
       "      <td>US</td>\n",
       "      <td>city</td>\n",
       "      <td>https://api.twitter.com/1.1/geo/id/eaa5a4f94dc...</td>\n",
       "      <td>2013</td>\n",
       "      <td>10</td>\n",
       "      <td>1</td>\n",
       "      <td>0</td>\n",
       "    </tr>\n",
       "    <tr>\n",
       "      <td>7</td>\n",
       "      <td>384905586435190785</td>\n",
       "      <td>@AndrewJerdonek don't forget about meeeee</td>\n",
       "      <td>en</td>\n",
       "      <td>0.0</td>\n",
       "      <td>0.0</td>\n",
       "      <td>0.0</td>\n",
       "      <td>330831579</td>\n",
       "      <td>AustinRich61</td>\n",
       "      <td>221.0</td>\n",
       "      <td>319.0</td>\n",
       "      <td>...</td>\n",
       "      <td>New Albany</td>\n",
       "      <td>New Albany, IN</td>\n",
       "      <td>United States</td>\n",
       "      <td>US</td>\n",
       "      <td>city</td>\n",
       "      <td>https://api.twitter.com/1.1/geo/id/ec5febdaca1...</td>\n",
       "      <td>2013</td>\n",
       "      <td>10</td>\n",
       "      <td>1</td>\n",
       "      <td>0</td>\n",
       "    </tr>\n",
       "  </tbody>\n",
       "</table>\n",
       "<p>5 rows × 29 columns</p>\n",
       "</div>"
      ],
      "text/plain": [
       "                   id                                              tweet lang  \\\n",
       "1  384905536107319296  But I honestly don't give a fuck, because I di...   en   \n",
       "4  384905552855592961  \"@ThelIluminati: The #governmentshutdown but t...   en   \n",
       "5  384905569653358592                      Magic mike on TV? I think yes   en   \n",
       "6  384905586438971392                    @emilyparkhurst Yes! Thank you!   en   \n",
       "7  384905586435190785          @AndrewJerdonek don't forget about meeeee   en   \n",
       "\n",
       "   favorite_count  retweet_count  is_retweet     user_id     user_name  \\\n",
       "1             0.0            0.0         0.0    28929946  rachelzerber   \n",
       "4             0.0            0.0         0.0   297722693    wifi_whor3   \n",
       "5             0.0            0.0         0.0  1124221580      Gabers22   \n",
       "6             0.0            0.0         0.0    17953151      WhitneyT   \n",
       "7             0.0            0.0         0.0   330831579  AustinRich61   \n",
       "\n",
       "   user_followers_count  user_following_count  ...  place_name  \\\n",
       "1                 344.0                 124.0  ...     Arizona   \n",
       "4                 372.0                 708.0  ...    Pasadena   \n",
       "5                  35.0                  88.0  ...     Anaheim   \n",
       "6                1555.0                1202.0  ...     Edmonds   \n",
       "7                 221.0                 319.0  ...  New Albany   \n",
       "\n",
       "  place_full_name        country country_code place_type  \\\n",
       "1     Arizona, US  United States           US      admin   \n",
       "4    Pasadena, TX  United States           US       city   \n",
       "5     Anaheim, CA  United States           US       city   \n",
       "6     Edmonds, WA  United States           US       city   \n",
       "7  New Albany, IN  United States           US       city   \n",
       "\n",
       "                                           place_url  year month day hour  \n",
       "1  https://api.twitter.com/1.1/geo/id/a612c69b44b...  2013    10   1    0  \n",
       "4  https://api.twitter.com/1.1/geo/id/3e82edc94d5...  2013    10   1    0  \n",
       "5  https://api.twitter.com/1.1/geo/id/0c2e6999105...  2013    10   1    0  \n",
       "6  https://api.twitter.com/1.1/geo/id/eaa5a4f94dc...  2013    10   1    0  \n",
       "7  https://api.twitter.com/1.1/geo/id/ec5febdaca1...  2013    10   1    0  \n",
       "\n",
       "[5 rows x 29 columns]"
      ]
     },
     "execution_count": 10,
     "metadata": {},
     "output_type": "execute_result"
    }
   ],
   "source": [
    "us_tweets = geo_tweets[geo_tweets.country == 'United States']\n",
    "us_tweets.head()"
   ]
  },
  {
   "cell_type": "code",
   "execution_count": 11,
   "metadata": {},
   "outputs": [
    {
     "data": {
      "application/vnd.jupyter.widget-view+json": {
       "model_id": "888c784aa611485f90451a64d03a6fb6",
       "version_major": 2,
       "version_minor": 0
      },
      "text/plain": [
       "Map(basemap={'url': 'http://server.arcgisonline.com/ArcGIS/rest/services/World_Topo_Map/MapServer/tile/{z}/{y}…"
      ]
     },
     "metadata": {},
     "output_type": "display_data"
    }
   ],
   "source": [
    "us_heatmap = display_heatmap(center=(39, -97),\n",
    "               zoom=4,\n",
    "               geom=us_tweets['location_geometry'])\n",
    "us_heatmap"
   ]
  },
  {
   "cell_type": "markdown",
   "metadata": {},
   "source": [
    "### Find clusters in the US\n",
    "\n",
    "The idea is to detect clusters among these geo-tagged tweets, then perform a LDA topic detection and finally measure the relevance of each topic against a product or service to characterize each geographic cluster as per the product relationship.\n",
    "\n",
    "For this, we need to first compute the clusters. We are going to use DBSCAN since one of it's properties is that it does not depend on a central tendency measurement and it is not constrained by the shape of the clusters.\n",
    "\n",
    "Since we just want to detect clusters based on the geographic position, we just need the geometry.\n",
    "\n",
    "#### Simplyfying\n",
    "For simplicity, we prefer to apply the clustering on a particular state, let's explore them."
   ]
  },
  {
   "cell_type": "code",
   "execution_count": 12,
   "metadata": {},
   "outputs": [
    {
     "data": {
      "text/html": [
       "<div>\n",
       "<style scoped>\n",
       "    .dataframe tbody tr th:only-of-type {\n",
       "        vertical-align: middle;\n",
       "    }\n",
       "\n",
       "    .dataframe tbody tr th {\n",
       "        vertical-align: top;\n",
       "    }\n",
       "\n",
       "    .dataframe thead th {\n",
       "        text-align: right;\n",
       "    }\n",
       "</style>\n",
       "<table border=\"1\" class=\"dataframe\">\n",
       "  <thead>\n",
       "    <tr style=\"text-align: right;\">\n",
       "      <th></th>\n",
       "      <th>id</th>\n",
       "      <th>tweet</th>\n",
       "      <th>lang</th>\n",
       "      <th>favorite_count</th>\n",
       "      <th>retweet_count</th>\n",
       "      <th>is_retweet</th>\n",
       "      <th>user_id</th>\n",
       "      <th>user_name</th>\n",
       "      <th>user_followers_count</th>\n",
       "      <th>user_following_count</th>\n",
       "      <th>...</th>\n",
       "      <th>place_id</th>\n",
       "      <th>place_full_name</th>\n",
       "      <th>country</th>\n",
       "      <th>country_code</th>\n",
       "      <th>place_type</th>\n",
       "      <th>place_url</th>\n",
       "      <th>year</th>\n",
       "      <th>month</th>\n",
       "      <th>day</th>\n",
       "      <th>hour</th>\n",
       "    </tr>\n",
       "    <tr>\n",
       "      <th>place_name</th>\n",
       "      <th></th>\n",
       "      <th></th>\n",
       "      <th></th>\n",
       "      <th></th>\n",
       "      <th></th>\n",
       "      <th></th>\n",
       "      <th></th>\n",
       "      <th></th>\n",
       "      <th></th>\n",
       "      <th></th>\n",
       "      <th></th>\n",
       "      <th></th>\n",
       "      <th></th>\n",
       "      <th></th>\n",
       "      <th></th>\n",
       "      <th></th>\n",
       "      <th></th>\n",
       "      <th></th>\n",
       "      <th></th>\n",
       "      <th></th>\n",
       "      <th></th>\n",
       "    </tr>\n",
       "  </thead>\n",
       "  <tbody>\n",
       "    <tr>\n",
       "      <td>Los Angeles</td>\n",
       "      <td>10780</td>\n",
       "      <td>10780</td>\n",
       "      <td>10780</td>\n",
       "      <td>10780</td>\n",
       "      <td>10780</td>\n",
       "      <td>10780</td>\n",
       "      <td>10780</td>\n",
       "      <td>10780</td>\n",
       "      <td>10780</td>\n",
       "      <td>10780</td>\n",
       "      <td>...</td>\n",
       "      <td>10780</td>\n",
       "      <td>10780</td>\n",
       "      <td>10780</td>\n",
       "      <td>10780</td>\n",
       "      <td>10780</td>\n",
       "      <td>10780</td>\n",
       "      <td>10780</td>\n",
       "      <td>10780</td>\n",
       "      <td>10780</td>\n",
       "      <td>10780</td>\n",
       "    </tr>\n",
       "    <tr>\n",
       "      <td>New York</td>\n",
       "      <td>8297</td>\n",
       "      <td>8297</td>\n",
       "      <td>8297</td>\n",
       "      <td>8297</td>\n",
       "      <td>8297</td>\n",
       "      <td>8297</td>\n",
       "      <td>8297</td>\n",
       "      <td>8297</td>\n",
       "      <td>8297</td>\n",
       "      <td>8297</td>\n",
       "      <td>...</td>\n",
       "      <td>8297</td>\n",
       "      <td>8297</td>\n",
       "      <td>8297</td>\n",
       "      <td>8297</td>\n",
       "      <td>8297</td>\n",
       "      <td>8297</td>\n",
       "      <td>8297</td>\n",
       "      <td>8297</td>\n",
       "      <td>8297</td>\n",
       "      <td>8297</td>\n",
       "    </tr>\n",
       "    <tr>\n",
       "      <td>Texas</td>\n",
       "      <td>7656</td>\n",
       "      <td>7656</td>\n",
       "      <td>7656</td>\n",
       "      <td>7656</td>\n",
       "      <td>7656</td>\n",
       "      <td>7656</td>\n",
       "      <td>7656</td>\n",
       "      <td>7656</td>\n",
       "      <td>7656</td>\n",
       "      <td>7656</td>\n",
       "      <td>...</td>\n",
       "      <td>7656</td>\n",
       "      <td>7656</td>\n",
       "      <td>7656</td>\n",
       "      <td>7656</td>\n",
       "      <td>7656</td>\n",
       "      <td>7656</td>\n",
       "      <td>7656</td>\n",
       "      <td>7656</td>\n",
       "      <td>7656</td>\n",
       "      <td>7656</td>\n",
       "    </tr>\n",
       "    <tr>\n",
       "      <td>Manhattan</td>\n",
       "      <td>7449</td>\n",
       "      <td>7449</td>\n",
       "      <td>7449</td>\n",
       "      <td>7449</td>\n",
       "      <td>7449</td>\n",
       "      <td>7449</td>\n",
       "      <td>7449</td>\n",
       "      <td>7449</td>\n",
       "      <td>7449</td>\n",
       "      <td>7449</td>\n",
       "      <td>...</td>\n",
       "      <td>7449</td>\n",
       "      <td>7449</td>\n",
       "      <td>7449</td>\n",
       "      <td>7449</td>\n",
       "      <td>7449</td>\n",
       "      <td>7449</td>\n",
       "      <td>7449</td>\n",
       "      <td>7449</td>\n",
       "      <td>7449</td>\n",
       "      <td>7449</td>\n",
       "    </tr>\n",
       "    <tr>\n",
       "      <td>Georgia</td>\n",
       "      <td>6816</td>\n",
       "      <td>6816</td>\n",
       "      <td>6816</td>\n",
       "      <td>6816</td>\n",
       "      <td>6816</td>\n",
       "      <td>6816</td>\n",
       "      <td>6816</td>\n",
       "      <td>6816</td>\n",
       "      <td>6816</td>\n",
       "      <td>6816</td>\n",
       "      <td>...</td>\n",
       "      <td>6816</td>\n",
       "      <td>6816</td>\n",
       "      <td>6816</td>\n",
       "      <td>6816</td>\n",
       "      <td>6816</td>\n",
       "      <td>6816</td>\n",
       "      <td>6816</td>\n",
       "      <td>6816</td>\n",
       "      <td>6816</td>\n",
       "      <td>6816</td>\n",
       "    </tr>\n",
       "  </tbody>\n",
       "</table>\n",
       "<p>5 rows × 28 columns</p>\n",
       "</div>"
      ],
      "text/plain": [
       "                id  tweet   lang  favorite_count  retweet_count  is_retweet  \\\n",
       "place_name                                                                    \n",
       "Los Angeles  10780  10780  10780           10780          10780       10780   \n",
       "New York      8297   8297   8297            8297           8297        8297   \n",
       "Texas         7656   7656   7656            7656           7656        7656   \n",
       "Manhattan     7449   7449   7449            7449           7449        7449   \n",
       "Georgia       6816   6816   6816            6816           6816        6816   \n",
       "\n",
       "             user_id  user_name  user_followers_count  user_following_count  \\\n",
       "place_name                                                                    \n",
       "Los Angeles    10780      10780                 10780                 10780   \n",
       "New York        8297       8297                  8297                  8297   \n",
       "Texas           7656       7656                  7656                  7656   \n",
       "Manhattan       7449       7449                  7449                  7449   \n",
       "Georgia         6816       6816                  6816                  6816   \n",
       "\n",
       "             ...  place_id  place_full_name  country  country_code  \\\n",
       "place_name   ...                                                     \n",
       "Los Angeles  ...     10780            10780    10780         10780   \n",
       "New York     ...      8297             8297     8297          8297   \n",
       "Texas        ...      7656             7656     7656          7656   \n",
       "Manhattan    ...      7449             7449     7449          7449   \n",
       "Georgia      ...      6816             6816     6816          6816   \n",
       "\n",
       "             place_type  place_url   year  month    day   hour  \n",
       "place_name                                                      \n",
       "Los Angeles       10780      10780  10780  10780  10780  10780  \n",
       "New York           8297       8297   8297   8297   8297   8297  \n",
       "Texas              7656       7656   7656   7656   7656   7656  \n",
       "Manhattan          7449       7449   7449   7449   7449   7449  \n",
       "Georgia            6816       6816   6816   6816   6816   6816  \n",
       "\n",
       "[5 rows x 28 columns]"
      ]
     },
     "execution_count": 12,
     "metadata": {},
     "output_type": "execute_result"
    }
   ],
   "source": [
    "us_tweets_place_count = us_tweets.groupby('place_name').count()\n",
    "us_tweets_place_count.sort_values('tweet', ascending=False).head()"
   ]
  },
  {
   "cell_type": "markdown",
   "metadata": {},
   "source": [
    "We can observe that most tweets comes from the city of Los Ageles, let's continue working with this location."
   ]
  },
  {
   "cell_type": "code",
   "execution_count": 13,
   "metadata": {},
   "outputs": [
    {
     "data": {
      "application/vnd.jupyter.widget-view+json": {
       "model_id": "7ebe9602b989451b8371ee498f59591f",
       "version_major": 2,
       "version_minor": 0
      },
      "text/plain": [
       "Map(basemap={'url': 'http://server.arcgisonline.com/ArcGIS/rest/services/World_Topo_Map/MapServer/tile/{z}/{y}…"
      ]
     },
     "metadata": {},
     "output_type": "display_data"
    }
   ],
   "source": [
    "la_tweets = us_tweets[us_tweets.place_name == 'Los Angeles']\n",
    "la_heatmap = display_heatmap(center=(34, -118),\n",
    "               zoom=10,\n",
    "               geom=la_tweets['location_geometry'])\n",
    "la_heatmap"
   ]
  },
  {
   "cell_type": "code",
   "execution_count": 14,
   "metadata": {},
   "outputs": [],
   "source": [
    "from ipywidgets.embed import embed_minimal_html\n",
    "embed_minimal_html('la_tweets.html', views=[la_heatmap], title='LA Tweets heatmap')"
   ]
  },
  {
   "cell_type": "code",
   "execution_count": 15,
   "metadata": {},
   "outputs": [
    {
     "data": {
      "text/plain": [
       "(9025, 2)"
      ]
     },
     "execution_count": 15,
     "metadata": {},
     "output_type": "execute_result"
    }
   ],
   "source": [
    "import numpy as np\n",
    "\n",
    "points = la_tweets[la_tweets.location_geometry.notnull()].location_geometry.apply(lambda p: [p.x, p.y])\n",
    "points = np.array(points.values.tolist())\n",
    "points.shape"
   ]
  },
  {
   "cell_type": "code",
   "execution_count": 16,
   "metadata": {},
   "outputs": [],
   "source": [
    "import random\n",
    "\n",
    "def get_sample_indices(max_value, n_samples=10, random_seed=42):\n",
    "    random.seed(random_seed)\n",
    "    indices = random.sample(range(max_value), n_samples)\n",
    "    return indices\n"
   ]
  },
  {
   "cell_type": "code",
   "execution_count": 17,
   "metadata": {},
   "outputs": [],
   "source": [
    "sample_indices = get_sample_indices(points.shape[0], n_samples=points.shape[0])\n",
    "quick_train_points = points[sample_indices]"
   ]
  },
  {
   "cell_type": "markdown",
   "metadata": {},
   "source": [
    "### Select the best Hyperparameters for DBSCAN\n",
    "\n",
    "Resource: https://towardsdatascience.com/machine-learning-clustering-dbscan-determine-the-optimal-value-for-epsilon-eps-python-example-3100091cfbc\n",
    "\n",
    "The most important parameters in DBSCAN are:\n",
    "* Epsilon (eps): The maxmun distance between points to be considered neighbors.\n",
    "* min_samples: The minimum number of instances for them to be considered as a cluster.\n",
    "\n",
    "We need to validate what are the best values for these properties. For this, we need to train the model several times with different option values and track the results to finally observe what is the best combination.\n",
    "\n",
    "First, let's visualize the points as they are to have an idea of the possible value for $k$ i.e., the number of neighbors for the cluster."
   ]
  },
  {
   "cell_type": "code",
   "execution_count": 18,
   "metadata": {},
   "outputs": [
    {
     "data": {
      "image/png": "[encoded data removed]",
      "text/plain": [
       "<Figure size 720x576 with 1 Axes>"
      ]
     },
     "metadata": {
      "needs_background": "light"
     },
     "output_type": "display_data"
    }
   ],
   "source": [
    "%matplotlib inline\n",
    "\n",
    "import matplotlib.pyplot as plt\n",
    "\n",
    "plt.figure(figsize=(10, 8))\n",
    "plt.scatter(quick_train_points[:, 0], quick_train_points[:, 1])\n",
    "plt.show()"
   ]
  },
  {
   "cell_type": "markdown",
   "metadata": {},
   "source": [
    "We can observe small groups of points, though they are do not seem very well defined. We should not pick a value too high for $k$, hence let's continue with $k=5$.\n",
    "\n",
    "Now, let's evaluate what is the best value for $eps$."
   ]
  },
  {
   "cell_type": "code",
   "execution_count": 17,
   "metadata": {},
   "outputs": [
    {
     "data": {
      "image/png": "[encoded data removed]",
      "text/plain": [
       "<Figure size 720x576 with 1 Axes>"
      ]
     },
     "metadata": {
      "needs_background": "light"
     },
     "output_type": "display_data"
    }
   ],
   "source": [
    "from sklearn.neighbors import NearestNeighbors\n",
    "\n",
    "def plot_nearest_neighbors(X, n_neighbors=2):\n",
    "    neigh = NearestNeighbors(n_neighbors=n_neighbors)\n",
    "    nbrs = neigh.fit(quick_train_points)\n",
    "    distances, indices = nbrs.kneighbors(quick_train_points)\n",
    "    distances = np.sort(distances, axis=0)\n",
    "    distances = distances[:,1]\n",
    "    \n",
    "    plt.figure(figsize=(10, 8))\n",
    "    plt.grid()\n",
    "    axes = plt.gca()\n",
    "    axes.set_ylim([-0.005, 0.02])\n",
    "    plt.yticks(np.arange(-0.005, 0.02, 0.001))\n",
    "    plt.title(\"Nearest Neighbors for Geotagged tweets\")\n",
    "    plt.ylabel(f\"{n_neighbors}th Nearest Neighbor Distance\")\n",
    "    plt.xlabel(f\"Points sorted according to the distance of the {n_neighbors}th Nearest Neighbor\")\n",
    "    plt.plot(distances)\n",
    "    plt.show()\n",
    "\n",
    "plot_nearest_neighbors(quick_train_points, 10)"
   ]
  },
  {
   "cell_type": "markdown",
   "metadata": {},
   "source": [
    "According to the Nearest Neighbor analysis, for `k=10` the best distance would be $0.005$. Let's use these values as eps."
   ]
  },
  {
   "cell_type": "markdown",
   "metadata": {},
   "source": [
    "#### Warning\n",
    "The cell below takes quite some time to execute even in powerful machines, execute it wisely!!"
   ]
  },
  {
   "cell_type": "code",
   "execution_count": 23,
   "metadata": {},
   "outputs": [
    {
     "name": "stdout",
     "output_type": "stream",
     "text": [
      "CPU times: user 1min 47s, sys: 33.8 s, total: 2min 21s\n",
      "Wall time: 16min 32s\n"
     ]
    }
   ],
   "source": [
    "%%time\n",
    "from sklearn.cluster import OPTICS\n",
    "from sklearn import metrics\n",
    "\n",
    "optics = OPTICS(cluster_method=\"dbscan\",\n",
    "                eps=0.003,\n",
    "                min_samples=10,\n",
    "                metric=\"minkowski\",\n",
    "                n_jobs=-1).fit(quick_train_points)"
   ]
  },
  {
   "cell_type": "markdown",
   "metadata": {},
   "source": [
    "Let's save and load back the model so we always have a reference of it without training it again."
   ]
  },
  {
   "cell_type": "code",
   "execution_count": 26,
   "metadata": {},
   "outputs": [],
   "source": [
    "import pickle\n",
    "\n",
    "model_path = '../../models/sklearn/la_dbscan.sav'\n",
    "with open(model_path, 'wb') as model_file:\n",
    "    pickle.dump(optics, model_file)"
   ]
  },
  {
   "cell_type": "code",
   "execution_count": 27,
   "metadata": {},
   "outputs": [],
   "source": [
    "import pickle\n",
    "\n",
    "model_path = '../../models/sklearn/la_dbscan.sav'\n",
    "with open(model_path, 'rb') as model_file:\n",
    "    la_clusters = pickle.load(model_file)"
   ]
  },
  {
   "cell_type": "markdown",
   "metadata": {},
   "source": [
    "Let's calculate some metrics..."
   ]
  },
  {
   "cell_type": "code",
   "execution_count": 28,
   "metadata": {},
   "outputs": [
    {
     "name": "stdout",
     "output_type": "stream",
     "text": [
      "####################\n",
      "Including the noise\n",
      "Estimated number of clusters: 164\n",
      "Estimated number of noise points: 4864\n",
      "Silhouette Coefficient: -0.269\n",
      "####################\n",
      "Excluding the noise\n",
      "Silhouette Coefficient: 0.497\n"
     ]
    }
   ],
   "source": [
    "from sklearn import metrics\n",
    "\n",
    "labels = la_clusters.labels_\n",
    "\n",
    "# Number of clusters in labels, ignoring noise if present.\n",
    "n_clusters_ = len(set(labels)) - (1 if -1 in labels else 0)\n",
    "n_noise_ = list(labels).count(-1)\n",
    "\n",
    "print('#' * 20)\n",
    "print('Including the noise')\n",
    "print('Estimated number of clusters: %d' % n_clusters_)\n",
    "print('Estimated number of noise points: %d' % n_noise_)\n",
    "print(\"Silhouette Coefficient: %0.3f\"\n",
    "      % metrics.silhouette_score(quick_train_points, labels))\n",
    "print('#' * 20)\n",
    "print('Excluding the noise')\n",
    "qpoints, qlabels = list(zip(*[(p, l) for p, l in zip(quick_train_points, labels) if l != -1]))\n",
    "print(\"Silhouette Coefficient: %0.3f\"\n",
    "      % metrics.silhouette_score(qpoints, qlabels))"
   ]
  },
  {
   "cell_type": "code",
   "execution_count": 29,
   "metadata": {},
   "outputs": [
    {
     "name": "stderr",
     "output_type": "stream",
     "text": [
      "/home/ohtar10/miniconda3/envs/wtsp/lib/python3.6/site-packages/ipykernel_launcher.py:7: SettingWithCopyWarning: \n",
      "A value is trying to be set on a copy of a slice from a DataFrame.\n",
      "Try using .loc[row_indexer,col_indexer] = value instead\n",
      "\n",
      "See the caveats in the documentation: http://pandas.pydata.org/pandas-docs/stable/user_guide/indexing.html#returning-a-view-versus-a-copy\n",
      "  import sys\n"
     ]
    },
    {
     "data": {
      "application/vnd.jupyter.widget-view+json": {
       "model_id": "139a5102b33d4ef885faa570d1188b96",
       "version_major": 2,
       "version_minor": 0
      },
      "text/plain": [
       "Map(basemap={'url': 'http://server.arcgisonline.com/ArcGIS/rest/services/World_Topo_Map/MapServer/tile/{z}/{y}…"
      ]
     },
     "metadata": {},
     "output_type": "display_data"
    }
   ],
   "source": [
    "from itertools import cycle\n",
    "import matplotlib\n",
    "import matplotlib.pyplot as plt\n",
    "import numpy as np\n",
    "\n",
    "def display_clusters_on_map(tweets, clusters):\n",
    "    tweets[\"cluster\"] = clusters\n",
    "    n_clusters = np.unique(clusters).shape[0]\n",
    "    colormap = cycle(plt.cm.rainbow(np.linspace(0, 1, n_clusters)))\n",
    "    colors = {k: matplotlib.colors.to_hex(next(colormap)) for k in range(n_clusters)}\n",
    "    colors[-1] = '#000000'\n",
    "    def create_marker(row):\n",
    "        lat_lon = (row[\"location_geometry\"].y, row[\"location_geometry\"].x)\n",
    "        cluster = row[\"cluster\"]\n",
    "        color = colors[cluster]\n",
    "        return ipy.CircleMarker(location=lat_lon,\n",
    "                               draggable=False,\n",
    "                               fill_color=color,\n",
    "                               fill_opacity=0.8 if cluster != -1 else 0.5,\n",
    "                               radius=3,\n",
    "                               stroke=False)\n",
    "    \n",
    "    markers = tweets.apply(create_marker, axis=1)\n",
    "    layer_group = ipy.LayerGroup(layers=tuple(markers.values))\n",
    "    m = ipy.Map(center=(34, -118), \n",
    "                zoom=10,\n",
    "                scroll_wheel_zoom=True,\n",
    "                basemap=ipy.basemaps.Esri.WorldTopoMap)\n",
    "    m.add_layer(layer_group)\n",
    "    return m\n",
    "\n",
    "la_tweets_with_geom = la_tweets[la_tweets.location_geometry.notnull()]\n",
    "la_cl_map = display_clusters_on_map(la_tweets_with_geom.iloc[sample_indices],\n",
    "                        la_clusters.labels_)\n",
    "la_cl_map"
   ]
  },
  {
   "cell_type": "markdown",
   "metadata": {},
   "source": [
    "Now, let's visualize the clusters in the map."
   ]
  },
  {
   "cell_type": "code",
   "execution_count": 30,
   "metadata": {},
   "outputs": [],
   "source": [
    "embed_minimal_html('clusters.html', views=[la_cl_map], title='Tweets Clusters')"
   ]
  },
  {
   "cell_type": "code",
   "execution_count": null,
   "metadata": {},
   "outputs": [],
   "source": []
  },
  {
   "cell_type": "markdown",
   "metadata": {},
   "source": [
    "## Tweets topic modeling\n",
    "Now, we need to perform topic modeling on each cluster. Since every single tweet is too short in content, the aggregated tweets of a cluster will be used as text corpora for the topic modeling analysis."
   ]
  },
  {
   "cell_type": "code",
   "execution_count": 31,
   "metadata": {},
   "outputs": [
    {
     "name": "stderr",
     "output_type": "stream",
     "text": [
      "/home/ohtar10/miniconda3/envs/wtsp/lib/python3.6/site-packages/ipykernel_launcher.py:2: SettingWithCopyWarning: \n",
      "A value is trying to be set on a copy of a slice from a DataFrame.\n",
      "Try using .loc[row_indexer,col_indexer] = value instead\n",
      "\n",
      "See the caveats in the documentation: http://pandas.pydata.org/pandas-docs/stable/user_guide/indexing.html#returning-a-view-versus-a-copy\n",
      "  \n"
     ]
    },
    {
     "data": {
      "text/html": [
       "<div>\n",
       "<style scoped>\n",
       "    .dataframe tbody tr th:only-of-type {\n",
       "        vertical-align: middle;\n",
       "    }\n",
       "\n",
       "    .dataframe tbody tr th {\n",
       "        vertical-align: top;\n",
       "    }\n",
       "\n",
       "    .dataframe thead th {\n",
       "        text-align: right;\n",
       "    }\n",
       "</style>\n",
       "<table border=\"1\" class=\"dataframe\">\n",
       "  <thead>\n",
       "    <tr style=\"text-align: right;\">\n",
       "      <th></th>\n",
       "      <th>tweet</th>\n",
       "      <th>cluster</th>\n",
       "    </tr>\n",
       "  </thead>\n",
       "  <tbody>\n",
       "    <tr>\n",
       "      <td>318</td>\n",
       "      <td>Los Nuevos Rebeldes</td>\n",
       "      <td>-1</td>\n",
       "    </tr>\n",
       "    <tr>\n",
       "      <td>342</td>\n",
       "      <td>I rolled a wonderful joint that smoked so well...</td>\n",
       "      <td>146</td>\n",
       "    </tr>\n",
       "    <tr>\n",
       "      <td>426</td>\n",
       "      <td>@Xx_that_xx if it isn't limited edition, I wou...</td>\n",
       "      <td>-1</td>\n",
       "    </tr>\n",
       "    <tr>\n",
       "      <td>476</td>\n",
       "      <td>Ill be at day of the dead 🙌😌</td>\n",
       "      <td>-1</td>\n",
       "    </tr>\n",
       "    <tr>\n",
       "      <td>477</td>\n",
       "      <td>About to get my face melted by my friends in t...</td>\n",
       "      <td>-1</td>\n",
       "    </tr>\n",
       "  </tbody>\n",
       "</table>\n",
       "</div>"
      ],
      "text/plain": [
       "                                                 tweet  cluster\n",
       "318                                Los Nuevos Rebeldes       -1\n",
       "342  I rolled a wonderful joint that smoked so well...      146\n",
       "426  @Xx_that_xx if it isn't limited edition, I wou...       -1\n",
       "476                       Ill be at day of the dead 🙌😌       -1\n",
       "477  About to get my face melted by my friends in t...       -1"
      ]
     },
     "execution_count": 31,
     "metadata": {},
     "output_type": "execute_result"
    }
   ],
   "source": [
    "la_cluster_tweets = la_tweets[la_tweets.location_geometry.notnull()]\n",
    "la_cluster_tweets['cluster'] = la_clusters.labels_\n",
    "la_cluster_tweets[['tweet', 'cluster']].head()"
   ]
  },
  {
   "cell_type": "code",
   "execution_count": 35,
   "metadata": {},
   "outputs": [
    {
     "data": {
      "text/html": [
       "<div>\n",
       "<style scoped>\n",
       "    .dataframe tbody tr th:only-of-type {\n",
       "        vertical-align: middle;\n",
       "    }\n",
       "\n",
       "    .dataframe tbody tr th {\n",
       "        vertical-align: top;\n",
       "    }\n",
       "\n",
       "    .dataframe thead th {\n",
       "        text-align: right;\n",
       "    }\n",
       "</style>\n",
       "<table border=\"1\" class=\"dataframe\">\n",
       "  <thead>\n",
       "    <tr style=\"text-align: right;\">\n",
       "      <th></th>\n",
       "      <th>tweet</th>\n",
       "    </tr>\n",
       "    <tr>\n",
       "      <th>cluster</th>\n",
       "      <th></th>\n",
       "    </tr>\n",
       "  </thead>\n",
       "  <tbody>\n",
       "    <tr>\n",
       "      <td>-1</td>\n",
       "      <td>4864</td>\n",
       "    </tr>\n",
       "    <tr>\n",
       "      <td>0</td>\n",
       "      <td>13</td>\n",
       "    </tr>\n",
       "    <tr>\n",
       "      <td>1</td>\n",
       "      <td>12</td>\n",
       "    </tr>\n",
       "    <tr>\n",
       "      <td>2</td>\n",
       "      <td>77</td>\n",
       "    </tr>\n",
       "    <tr>\n",
       "      <td>3</td>\n",
       "      <td>5</td>\n",
       "    </tr>\n",
       "    <tr>\n",
       "      <td>4</td>\n",
       "      <td>14</td>\n",
       "    </tr>\n",
       "    <tr>\n",
       "      <td>5</td>\n",
       "      <td>11</td>\n",
       "    </tr>\n",
       "    <tr>\n",
       "      <td>6</td>\n",
       "      <td>27</td>\n",
       "    </tr>\n",
       "    <tr>\n",
       "      <td>7</td>\n",
       "      <td>8</td>\n",
       "    </tr>\n",
       "    <tr>\n",
       "      <td>8</td>\n",
       "      <td>25</td>\n",
       "    </tr>\n",
       "    <tr>\n",
       "      <td>9</td>\n",
       "      <td>12</td>\n",
       "    </tr>\n",
       "    <tr>\n",
       "      <td>10</td>\n",
       "      <td>11</td>\n",
       "    </tr>\n",
       "    <tr>\n",
       "      <td>11</td>\n",
       "      <td>12</td>\n",
       "    </tr>\n",
       "    <tr>\n",
       "      <td>12</td>\n",
       "      <td>10</td>\n",
       "    </tr>\n",
       "    <tr>\n",
       "      <td>13</td>\n",
       "      <td>19</td>\n",
       "    </tr>\n",
       "    <tr>\n",
       "      <td>14</td>\n",
       "      <td>13</td>\n",
       "    </tr>\n",
       "    <tr>\n",
       "      <td>15</td>\n",
       "      <td>13</td>\n",
       "    </tr>\n",
       "    <tr>\n",
       "      <td>16</td>\n",
       "      <td>10</td>\n",
       "    </tr>\n",
       "    <tr>\n",
       "      <td>17</td>\n",
       "      <td>16</td>\n",
       "    </tr>\n",
       "    <tr>\n",
       "      <td>18</td>\n",
       "      <td>10</td>\n",
       "    </tr>\n",
       "  </tbody>\n",
       "</table>\n",
       "</div>"
      ],
      "text/plain": [
       "         tweet\n",
       "cluster       \n",
       "-1        4864\n",
       " 0          13\n",
       " 1          12\n",
       " 2          77\n",
       " 3           5\n",
       " 4          14\n",
       " 5          11\n",
       " 6          27\n",
       " 7           8\n",
       " 8          25\n",
       " 9          12\n",
       " 10         11\n",
       " 11         12\n",
       " 12         10\n",
       " 13         19\n",
       " 14         13\n",
       " 15         13\n",
       " 16         10\n",
       " 17         16\n",
       " 18         10"
      ]
     },
     "execution_count": 35,
     "metadata": {},
     "output_type": "execute_result"
    }
   ],
   "source": [
    "la_cluster_tweets[['tweet', 'cluster']].groupby('cluster').count().head(20)"
   ]
  },
  {
   "cell_type": "markdown",
   "metadata": {},
   "source": [
    "Create corpus with each cluster.\n",
    "\n",
    "Data pre-processing"
   ]
  },
  {
   "cell_type": "code",
   "execution_count": 24,
   "metadata": {},
   "outputs": [],
   "source": [
    "from gensim.utils import simple_preprocess\n",
    "from gensim.parsing.preprocessing import STOPWORDS\n",
    "from nltk.stem import WordNetLemmatizer, SnowballStemmer\n",
    "from nltk.stem.porter import *\n",
    "import numpy as np\n",
    "\n",
    "np.random.seed(1234)\n",
    "stemmer = SnowballStemmer(language='english')\n",
    "\n",
    "def lemmatize_stemming(text):\n",
    "    return stemmer.stem(WordNetLemmatizer().lemmatize(text, pos=\"n\")) # Part of Speech NOUN\n",
    "\n",
    "def preprocess(text):\n",
    "    result = []\n",
    "    for token in simple_preprocess(text):\n",
    "        if token not in STOPWORDS and len(token) > 3:\n",
    "            result.append(lemmatize_stemming(token))\n",
    "    return result"
   ]
  },
  {
   "cell_type": "code",
   "execution_count": 25,
   "metadata": {},
   "outputs": [
    {
     "name": "stderr",
     "output_type": "stream",
     "text": [
      "[nltk_data] Downloading package wordnet to /home/ohtar10/nltk_data...\n",
      "[nltk_data]   Package wordnet is already up-to-date!\n"
     ]
    },
    {
     "data": {
      "text/plain": [
       "True"
      ]
     },
     "execution_count": 25,
     "metadata": {},
     "output_type": "execute_result"
    }
   ],
   "source": [
    "import nltk\n",
    "nltk.download('wordnet')"
   ]
  },
  {
   "cell_type": "code",
   "execution_count": 26,
   "metadata": {},
   "outputs": [
    {
     "name": "stdout",
     "output_type": "stream",
     "text": [
      "Original document: \n",
      " I rolled a wonderful joint that smoked so well. Proud of myself haha #FirstJoint\n",
      "\n",
      "\n",
      "Tokenized & lemmatized document: \n",
      " ['roll', 'wonder', 'joint', 'smoke', 'proud', 'haha', 'firstjoint']\n"
     ]
    }
   ],
   "source": [
    "doc_sample = la_cluster_tweets.iloc[1][\"tweet\"]\n",
    "print(f\"Original document: \\n {doc_sample}\\n\\n\")\n",
    "print(f\"Tokenized & lemmatized document: \\n {preprocess(doc_sample)}\")"
   ]
  },
  {
   "cell_type": "markdown",
   "metadata": {},
   "source": [
    "For our purpose, all the tweets of a cluster makes a single document, hence before applying the preprocess function, we need to aggregate all the clusters into single row."
   ]
  },
  {
   "cell_type": "code",
   "execution_count": 27,
   "metadata": {},
   "outputs": [
    {
     "data": {
      "text/html": [
       "<div>\n",
       "<style scoped>\n",
       "    .dataframe tbody tr th:only-of-type {\n",
       "        vertical-align: middle;\n",
       "    }\n",
       "\n",
       "    .dataframe tbody tr th {\n",
       "        vertical-align: top;\n",
       "    }\n",
       "\n",
       "    .dataframe thead th {\n",
       "        text-align: right;\n",
       "    }\n",
       "</style>\n",
       "<table border=\"1\" class=\"dataframe\">\n",
       "  <thead>\n",
       "    <tr style=\"text-align: right;\">\n",
       "      <th></th>\n",
       "      <th>tweet</th>\n",
       "    </tr>\n",
       "    <tr>\n",
       "      <th>cluster</th>\n",
       "      <th></th>\n",
       "    </tr>\n",
       "  </thead>\n",
       "  <tbody>\n",
       "    <tr>\n",
       "      <td>0</td>\n",
       "      <td>Why do girls say \"can I borrow a pad?\" like bi...</td>\n",
       "    </tr>\n",
       "    <tr>\n",
       "      <td>1</td>\n",
       "      <td>@ShadeeSlim Yessir!.\\nJust ate two bowls of ci...</td>\n",
       "    </tr>\n",
       "    <tr>\n",
       "      <td>2</td>\n",
       "      <td>http://t.co/RRPvskGPE2.\\nganna finally paint m...</td>\n",
       "    </tr>\n",
       "    <tr>\n",
       "      <td>3</td>\n",
       "      <td>Consider a lol as a smile and a hehe as a cute...</td>\n",
       "    </tr>\n",
       "    <tr>\n",
       "      <td>4</td>\n",
       "      <td>Darling of Mine at dress rehearsal w/ Macy's G...</td>\n",
       "    </tr>\n",
       "    <tr>\n",
       "      <td>5</td>\n",
       "      <td>Love my click !!! #CityWalk #Theaters #YourNex...</td>\n",
       "    </tr>\n",
       "    <tr>\n",
       "      <td>6</td>\n",
       "      <td>It's so great that I don't give a fuck☺.\\nGood...</td>\n",
       "    </tr>\n",
       "    <tr>\n",
       "      <td>7</td>\n",
       "      <td>That feeling when you wake up in the middle of...</td>\n",
       "    </tr>\n",
       "    <tr>\n",
       "      <td>8</td>\n",
       "      <td>@KBLXkimmie any turn-off during the \"dating\" p...</td>\n",
       "    </tr>\n",
       "    <tr>\n",
       "      <td>9</td>\n",
       "      <td>How is it September already?🙀.\\nClaire Harmatz...</td>\n",
       "    </tr>\n",
       "  </tbody>\n",
       "</table>\n",
       "</div>"
      ],
      "text/plain": [
       "                                                     tweet\n",
       "cluster                                                   \n",
       "0        Why do girls say \"can I borrow a pad?\" like bi...\n",
       "1        @ShadeeSlim Yessir!.\\nJust ate two bowls of ci...\n",
       "2        http://t.co/RRPvskGPE2.\\nganna finally paint m...\n",
       "3        Consider a lol as a smile and a hehe as a cute...\n",
       "4        Darling of Mine at dress rehearsal w/ Macy's G...\n",
       "5        Love my click !!! #CityWalk #Theaters #YourNex...\n",
       "6        It's so great that I don't give a fuck☺.\\nGood...\n",
       "7        That feeling when you wake up in the middle of...\n",
       "8        @KBLXkimmie any turn-off during the \"dating\" p...\n",
       "9        How is it September already?🙀.\\nClaire Harmatz..."
      ]
     },
     "execution_count": 27,
     "metadata": {},
     "output_type": "execute_result"
    }
   ],
   "source": [
    "import pandas as pd\n",
    "\n",
    "# Aggregate all the tweets for the clusters\n",
    "# omit the noise cluster.\n",
    "cluster_tweets = la_cluster_tweets[la_cluster_tweets.cluster != -1][['tweet', 'cluster']].groupby('cluster').agg(lambda s: '.\\n'.join(s))\n",
    "cluster_tweets.head(10)"
   ]
  },
  {
   "cell_type": "markdown",
   "metadata": {},
   "source": [
    "Apply the pre-processing over the obtained corpus"
   ]
  },
  {
   "cell_type": "code",
   "execution_count": 28,
   "metadata": {},
   "outputs": [],
   "source": [
    "preprocessed_docs = cluster_tweets.tweet.apply(preprocess)\n",
    "preprocessed_docs = preprocessed_docs.apply(lambda w: ' '.join(w))"
   ]
  },
  {
   "cell_type": "code",
   "execution_count": 29,
   "metadata": {},
   "outputs": [
    {
     "data": {
      "text/plain": [
       "<145x2711 sparse matrix of type '<class 'numpy.int64'>'\n",
       "\twith 14091 stored elements in Compressed Sparse Row format>"
      ]
     },
     "execution_count": 29,
     "metadata": {},
     "output_type": "execute_result"
    }
   ],
   "source": [
    "from sklearn.feature_extraction.text import CountVectorizer\n",
    "\n",
    "cv = CountVectorizer(max_df=0.9, min_df=2, stop_words=\"english\")\n",
    "dtm = cv.fit_transform(preprocessed_docs.values)\n",
    "dtm"
   ]
  },
  {
   "cell_type": "raw",
   "metadata": {},
   "source": [
    "Train the LDA"
   ]
  },
  {
   "cell_type": "code",
   "execution_count": 30,
   "metadata": {},
   "outputs": [
    {
     "name": "stdout",
     "output_type": "stream",
     "text": [
      "CPU times: user 3.21 s, sys: 3.74 s, total: 6.95 s\n",
      "Wall time: 718 ms\n"
     ]
    },
    {
     "data": {
      "text/plain": [
       "LatentDirichletAllocation(batch_size=128, doc_topic_prior=None,\n",
       "                          evaluate_every=-1, learning_decay=0.7,\n",
       "                          learning_method='batch', learning_offset=10.0,\n",
       "                          max_doc_update_iter=100, max_iter=10,\n",
       "                          mean_change_tol=0.001, n_components=15, n_jobs=None,\n",
       "                          perp_tol=0.1, random_state=42, topic_word_prior=None,\n",
       "                          total_samples=1000000.0, verbose=0)"
      ]
     },
     "execution_count": 30,
     "metadata": {},
     "output_type": "execute_result"
    }
   ],
   "source": [
    "%%time\n",
    "from sklearn.decomposition import LatentDirichletAllocation\n",
    "\n",
    "LDA = LatentDirichletAllocation(n_components=15, random_state=42)\n",
    "LDA.fit(dtm)"
   ]
  },
  {
   "cell_type": "code",
   "execution_count": 31,
   "metadata": {},
   "outputs": [
    {
     "name": "stdout",
     "output_type": "stream",
     "text": [
      "Number of words: 2711\n"
     ]
    }
   ],
   "source": [
    "print(f\"Number of words: {len(cv.get_feature_names())}\")"
   ]
  },
  {
   "cell_type": "code",
   "execution_count": 32,
   "metadata": {},
   "outputs": [
    {
     "name": "stdout",
     "output_type": "stream",
     "text": [
      "Word index 1856 is: probabl\n"
     ]
    }
   ],
   "source": [
    "import random\n",
    "\n",
    "def print_random_word():\n",
    "    fn = cv.get_feature_names()\n",
    "    random_word_id = random.randint(0, len(fn))\n",
    "    print(f\"Word index {random_word_id} is: {fn[random_word_id]}\")\n",
    "\n",
    "print_random_word()"
   ]
  },
  {
   "cell_type": "code",
   "execution_count": 33,
   "metadata": {},
   "outputs": [],
   "source": [
    "def print_topic_words(top=10):\n",
    "    vocab = cv.get_feature_names()\n",
    "    for topic, lda in enumerate(LDA.components_):\n",
    "        top_n = lda.argsort()[-top:]\n",
    "        print(f\">>>For topic #{topic}, the top {top} words are:\")\n",
    "        words = [vocab[index] for index in top_n]\n",
    "        print(f\"{words}\\n\")"
   ]
  },
  {
   "cell_type": "code",
   "execution_count": 34,
   "metadata": {},
   "outputs": [
    {
     "name": "stdout",
     "output_type": "stream",
     "text": [
      ">>>For topic #0, the top 15 words are:\n",
      "['music', 'morn', 'bore', 'photo', 'littl', 'peopl', 'shit', 'leav', 'time', 'love', 'fuck', 'want', 'world', 'happi', 'like']\n",
      "\n",
      ">>>For topic #1, the top 15 words are:\n",
      "['want', 'time', 'start', 'thing', 'feel', 'hollywood', 'angel', 'come', 'happi', 'know', 'fuck', 'today', 'good', 'love', 'like']\n",
      "\n",
      ">>>For topic #2, the top 15 words are:\n",
      "['school', 'talk', 'perfect', 'girl', 'life', 'littl', 'think', 'shit', 'happi', 'love', 'today', 'bitch', 'feel', 'time', 'like']\n",
      "\n",
      ">>>For topic #3, the top 15 words are:\n",
      "['global', 'gonna', 'feel', 'week', 'think', 'know', 'need', 'angel', 'happi', 'best', 'shit', 'time', 'thank', 'like', 'fuck']\n",
      "\n",
      ">>>For topic #4, the top 15 words are:\n",
      "['work', 'coach', 'know', 'tomorrow', 'good', 'time', 'play', 'feel', 'today', 'break', 'like', 'love', 'lmao', 'fuck', 'life']\n",
      "\n",
      ">>>For topic #5, the top 15 words are:\n",
      "['look', 'miss', 'come', 'peopl', 'thank', 'good', 'need', 'want', 'fuck', 'time', 'shit', 'know', 'angel', 'love', 'like']\n",
      "\n",
      ">>>For topic #6, the top 15 words are:\n",
      "['friend', 'talk', 'need', 'know', 'night', 'good', 'angel', 'miss', 'want', 'pretti', 'haha', 'fuck', 'feel', 'time', 'like']\n",
      "\n",
      ">>>For topic #7, the top 15 words are:\n",
      "['wanna', 'girl', 'angel', 'right', 'night', 'sleep', 'dodger', 'week', 'look', 'feel', 'know', 'want', 'time', 'love', 'like']\n",
      "\n",
      ">>>For topic #8, the top 15 words are:\n",
      "['bitch', 'game', 'photo', 'love', 'friend', 'want', 'school', 'lmao', 'today', 'angel', 'dodger', 'feel', 'good', 'know', 'like']\n",
      "\n",
      ">>>For topic #9, the top 15 words are:\n",
      "['start', 'know', 'better', 'fuck', 'best', 'class', 'come', 'hollywood', 'thank', 'time', 'life', 'like', 'want', 'think', 'love']\n",
      "\n",
      ">>>For topic #10, the top 15 words are:\n",
      "['gonna', 'look', 'shit', 'girl', 'know', 'want', 'good', 'need', 'night', 'school', 'time', 'fuck', 'feel', 'love', 'like']\n",
      "\n",
      ">>>For topic #11, the top 15 words are:\n",
      "['kiss', 'hard', 'said', 'life', 'peopl', 'watch', 'wish', 'final', 'time', 'thing', 'good', 'lmfao', 'need', 'like', 'know']\n",
      "\n",
      ">>>For topic #12, the top 15 words are:\n",
      "['late', 'hard', 'cafe', 'bitch', 'angel', 'night', 'fuck', 'thing', 'happi', 'watch', 'time', 'work', 'today', 'want', 'shit']\n",
      "\n",
      ">>>For topic #13, the top 15 words are:\n",
      "['need', 'think', 'girl', 'home', 'miss', 'peopl', 'good', 'dodger', 'time', 'angel', 'live', 'fuck', 'life', 'love', 'like']\n",
      "\n",
      ">>>For topic #14, the top 15 words are:\n",
      "['peopl', 'calm', 'come', 'wanna', 'stand', 'home', 'gotta', 'tweet', 'like', 'work', 'video', 'test', 'angel', 'valley', 'villag']\n",
      "\n"
     ]
    }
   ],
   "source": [
    "print_topic_words(15)"
   ]
  },
  {
   "cell_type": "markdown",
   "metadata": {},
   "source": [
    "Now we need to create the dictionary"
   ]
  },
  {
   "cell_type": "code",
   "execution_count": 111,
   "metadata": {},
   "outputs": [
    {
     "data": {
      "text/plain": [
       "[(0, 'acano'),\n",
       " (1, 'adiik'),\n",
       " (2, 'afternoon'),\n",
       " (3, 'airport'),\n",
       " (4, 'ais_jbr'),\n",
       " (5, 'aish'),\n",
       " (6, 'akihabara'),\n",
       " (7, 'alasan'),\n",
       " (8, 'alay'),\n",
       " (9, 'aleh')]"
      ]
     },
     "execution_count": 111,
     "metadata": {},
     "output_type": "execute_result"
    }
   ],
   "source": [
    "from gensim.corpora import Dictionary\n",
    "\n",
    "dictionary = Dictionary(preprocessed_docs)\n",
    "words = [(k, v) for k, v in dictionary.items()]\n",
    "words[:10]"
   ]
  },
  {
   "cell_type": "markdown",
   "metadata": {},
   "source": [
    "Now let's filter some terms according to word occurence"
   ]
  },
  {
   "cell_type": "code",
   "execution_count": 112,
   "metadata": {},
   "outputs": [],
   "source": [
    "dictionary.filter_extremes(no_below=1, keep_n=100000)"
   ]
  },
  {
   "cell_type": "markdown",
   "metadata": {},
   "source": [
    "Now for each document we will create a Bag of Words"
   ]
  },
  {
   "cell_type": "code",
   "execution_count": 113,
   "metadata": {},
   "outputs": [
    {
     "data": {
      "text/plain": [
       "[(0, 1),\n",
       " (1, 1),\n",
       " (2, 1),\n",
       " (3, 1),\n",
       " (4, 1),\n",
       " (5, 1),\n",
       " (6, 1),\n",
       " (7, 1),\n",
       " (8, 1),\n",
       " (9, 1)]"
      ]
     },
     "execution_count": 113,
     "metadata": {},
     "output_type": "execute_result"
    }
   ],
   "source": [
    "bow_corpus = [dictionary.doc2bow(doc) for doc in preprocessed_docs]\n",
    "bow_corpus[0][:10]"
   ]
  },
  {
   "cell_type": "code",
   "execution_count": 114,
   "metadata": {},
   "outputs": [
    {
     "name": "stdout",
     "output_type": "stream",
     "text": [
      "Word 0 ('acano') appears 1 times.\n",
      "Word 1 ('adiik') appears 1 times.\n",
      "Word 2 ('afternoon') appears 1 times.\n",
      "Word 3 ('airport') appears 1 times.\n",
      "Word 4 ('ais_jbr') appears 1 times.\n",
      "Word 5 ('aish') appears 1 times.\n",
      "Word 6 ('akihabara') appears 1 times.\n",
      "Word 7 ('alasan') appears 1 times.\n",
      "Word 8 ('alay') appears 1 times.\n",
      "Word 9 ('aleh') appears 1 times.\n"
     ]
    }
   ],
   "source": [
    "bow_corpus_0 = bow_corpus[0]\n",
    "for i in range(len(bow_corpus_0[:10])):\n",
    "    word = bow_corpus_0[i][0]\n",
    "    count = bow_corpus_0[i][1]\n",
    "    print(f\"Word {word} ('{dictionary[word]}') appears {count} times.\")\n",
    "\n"
   ]
  },
  {
   "cell_type": "markdown",
   "metadata": {},
   "source": [
    "As an alternative, we can create a TF-IDF model fromthe bow corpus"
   ]
  },
  {
   "cell_type": "code",
   "execution_count": 115,
   "metadata": {},
   "outputs": [
    {
     "data": {
      "text/plain": [
       "[(0, 0.04538427298976458),\n",
       " (1, 0.04538427298976458),\n",
       " (2, 0.04538427298976458),\n",
       " (3, 0.04538427298976458),\n",
       " (4, 0.04538427298976458),\n",
       " (5, 0.04538427298976458),\n",
       " (6, 0.04538427298976458),\n",
       " (7, 0.04538427298976458),\n",
       " (8, 0.04538427298976458),\n",
       " (9, 0.04538427298976458)]"
      ]
     },
     "execution_count": 115,
     "metadata": {},
     "output_type": "execute_result"
    }
   ],
   "source": [
    "from gensim import corpora, models\n",
    "\n",
    "tfidf = models.TfidfModel(bow_corpus)\n",
    "corpus_tfidf = tfidf[bow_corpus]\n",
    "\n",
    "corpus_tfidf[0][:10]"
   ]
  },
  {
   "cell_type": "markdown",
   "metadata": {},
   "source": [
    "Running LDA with BoW"
   ]
  },
  {
   "cell_type": "code",
   "execution_count": 116,
   "metadata": {},
   "outputs": [
    {
     "name": "stderr",
     "output_type": "stream",
     "text": [
      "/Users/ferro/anaconda3/envs/wtsp/lib/python3.6/site-packages/gensim/models/ldamodel.py:826: DeprecationWarning: Calling np.sum(generator) is deprecated, and in the future will give a different result. Use np.sum(np.fromiter(generator)) or the python sum builtin instead.\n",
      "  score += np.sum(cnt * logsumexp(Elogthetad + Elogbeta[:, int(id)]) for id, cnt in doc)\n",
      "/Users/ferro/anaconda3/envs/wtsp/lib/python3.6/site-packages/gensim/models/ldamodel.py:826: DeprecationWarning: Calling np.sum(generator) is deprecated, and in the future will give a different result. Use np.sum(np.fromiter(generator)) or the python sum builtin instead.\n",
      "  score += np.sum(cnt * logsumexp(Elogthetad + Elogbeta[:, int(id)]) for id, cnt in doc)\n",
      "/Users/ferro/anaconda3/envs/wtsp/lib/python3.6/site-packages/gensim/models/ldamodel.py:826: DeprecationWarning: Calling np.sum(generator) is deprecated, and in the future will give a different result. Use np.sum(np.fromiter(generator)) or the python sum builtin instead.\n",
      "  score += np.sum(cnt * logsumexp(Elogthetad + Elogbeta[:, int(id)]) for id, cnt in doc)\n",
      "/Users/ferro/anaconda3/envs/wtsp/lib/python3.6/site-packages/gensim/models/ldamodel.py:826: DeprecationWarning: Calling np.sum(generator) is deprecated, and in the future will give a different result. Use np.sum(np.fromiter(generator)) or the python sum builtin instead.\n",
      "  score += np.sum(cnt * logsumexp(Elogthetad + Elogbeta[:, int(id)]) for id, cnt in doc)\n",
      "/Users/ferro/anaconda3/envs/wtsp/lib/python3.6/site-packages/gensim/models/ldamodel.py:826: DeprecationWarning: Calling np.sum(generator) is deprecated, and in the future will give a different result. Use np.sum(np.fromiter(generator)) or the python sum builtin instead.\n",
      "  score += np.sum(cnt * logsumexp(Elogthetad + Elogbeta[:, int(id)]) for id, cnt in doc)\n",
      "/Users/ferro/anaconda3/envs/wtsp/lib/python3.6/site-packages/gensim/models/ldamodel.py:826: DeprecationWarning: Calling np.sum(generator) is deprecated, and in the future will give a different result. Use np.sum(np.fromiter(generator)) or the python sum builtin instead.\n",
      "  score += np.sum(cnt * logsumexp(Elogthetad + Elogbeta[:, int(id)]) for id, cnt in doc)\n",
      "/Users/ferro/anaconda3/envs/wtsp/lib/python3.6/site-packages/gensim/models/ldamodel.py:826: DeprecationWarning: Calling np.sum(generator) is deprecated, and in the future will give a different result. Use np.sum(np.fromiter(generator)) or the python sum builtin instead.\n",
      "  score += np.sum(cnt * logsumexp(Elogthetad + Elogbeta[:, int(id)]) for id, cnt in doc)\n",
      "/Users/ferro/anaconda3/envs/wtsp/lib/python3.6/site-packages/gensim/models/ldamodel.py:826: DeprecationWarning: Calling np.sum(generator) is deprecated, and in the future will give a different result. Use np.sum(np.fromiter(generator)) or the python sum builtin instead.\n",
      "  score += np.sum(cnt * logsumexp(Elogthetad + Elogbeta[:, int(id)]) for id, cnt in doc)\n"
     ]
    }
   ],
   "source": [
    "from gensim.models import LdaMulticore\n",
    "\n",
    "lda_model = LdaMulticore(bow_corpus, num_topics=10, id2word=dictionary, passes=2, workers=2)"
   ]
  },
  {
   "cell_type": "code",
   "execution_count": 117,
   "metadata": {},
   "outputs": [
    {
     "name": "stdout",
     "output_type": "stream",
     "text": [
      "Topic 0 \n",
      "Words: 0.015*\"lagi\" + 0.005*\"randik_akew\" + 0.005*\"buat\" + 0.004*\"siang\" + 0.004*\"jadi\" + 0.004*\"wkwk\" + 0.004*\"udah\" + 0.004*\"tahun\" + 0.004*\"kenapa\" + 0.004*\"siap\"\n",
      "Topic 1 \n",
      "Words: 0.004*\"lagi\" + 0.002*\"test\" + 0.002*\"tapi\" + 0.002*\"siang\" + 0.002*\"semua\" + 0.002*\"school\" + 0.002*\"jadi\" + 0.002*\"wkwk\" + 0.002*\"galau\" + 0.002*\"home\"\n",
      "Topic 2 \n",
      "Words: 0.013*\"text\" + 0.010*\"hoe\" + 0.010*\"home\" + 0.009*\"hard\" + 0.009*\"work\" + 0.009*\"come\" + 0.007*\"talk\" + 0.007*\"aint\" + 0.007*\"blast\" + 0.007*\"like\"\n",
      "Topic 3 \n",
      "Words: 0.003*\"today\" + 0.003*\"text\" + 0.003*\"come\" + 0.003*\"удачи\" + 0.003*\"humid\" + 0.003*\"prender\" + 0.003*\"work\" + 0.003*\"fall\" + 0.003*\"rain\" + 0.003*\"worth\"\n",
      "Topic 4 \n",
      "Words: 0.018*\"lagi\" + 0.007*\"jadi\" + 0.005*\"famou\" + 0.005*\"good\" + 0.005*\"kasian\" + 0.005*\"tapi\" + 0.005*\"semua\" + 0.005*\"dessert\" + 0.005*\"school\" + 0.004*\"test\"\n",
      "Topic 5 \n",
      "Words: 0.011*\"asikaqedi\" + 0.011*\"mahunnyb\" + 0.011*\"gusta\" + 0.011*\"minha\" + 0.011*\"koyac\" + 0.011*\"sogra\" + 0.011*\"joda\" + 0.011*\"deprimirno\" + 0.011*\"porfa\" + 0.011*\"mrda\"\n",
      "Topic 6 \n",
      "Words: 0.005*\"lagi\" + 0.003*\"today\" + 0.002*\"humid\" + 0.002*\"night\" + 0.002*\"prender\" + 0.002*\"come\" + 0.002*\"jadi\" + 0.002*\"dessert\" + 0.002*\"удачи\" + 0.002*\"zwoll\"\n",
      "Topic 7 \n",
      "Words: 0.004*\"lagi\" + 0.003*\"jadi\" + 0.002*\"today\" + 0.002*\"prender\" + 0.002*\"удачи\" + 0.002*\"wanita\" + 0.002*\"skilip\" + 0.002*\"randik_akew\" + 0.002*\"rain\" + 0.002*\"humid\"\n",
      "Topic 8 \n",
      "Words: 0.013*\"today\" + 0.009*\"skilip\" + 0.009*\"zwoll\" + 0.009*\"wind\" + 0.009*\"rain\" + 0.009*\"удачи\" + 0.009*\"prender\" + 0.009*\"humid\" + 0.007*\"come\" + 0.007*\"hous\"\n",
      "Topic 9 \n",
      "Words: 0.004*\"lagi\" + 0.003*\"text\" + 0.002*\"home\" + 0.002*\"school\" + 0.002*\"love\" + 0.002*\"hoe\" + 0.002*\"hard\" + 0.002*\"come\" + 0.002*\"jadi\" + 0.002*\"work\"\n"
     ]
    }
   ],
   "source": [
    "for idx, topic in lda_model.print_topics(-1):\n",
    "    print(f\"Topic {idx} \\nWords: {topic}\")"
   ]
  },
  {
   "cell_type": "code",
   "execution_count": 118,
   "metadata": {},
   "outputs": [
    {
     "name": "stderr",
     "output_type": "stream",
     "text": [
      "/Users/ferro/anaconda3/envs/wtsp/lib/python3.6/site-packages/pyLDAvis/_prepare.py:257: FutureWarning: Sorting because non-concatenation axis is not aligned. A future version\n",
      "of pandas will change to not sort by default.\n",
      "\n",
      "To accept the future behavior, pass 'sort=False'.\n",
      "\n",
      "To retain the current behavior and silence the warning, pass 'sort=True'.\n",
      "\n",
      "  return pd.concat([default_term_info] + list(topic_dfs))\n"
     ]
    },
    {
     "data": {
      "text/html": [
       "\n",
       "<link rel=\"stylesheet\" type=\"text/css\" href=\"https://cdn.rawgit.com/bmabey/pyLDAvis/files/ldavis.v1.0.0.css\">\n",
       "\n",
       "\n",
       "<div id=\"ldavis_el4681150609238249430557530\"></div>\n",
       "<script type=\"text/javascript\">\n",
       "\n",
       "var ldavis_el4681150609238249430557530_data = {\"mdsDat\": {\"x\": [-0.1098456428659365, 0.13553333188809893, 0.0766051742460988, -0.007151732666512952, -0.09837137699664827, 0.019882598192016116, -0.002675103866155286, -0.008498522149615127, 0.002814964637368593, -0.008293690418714321], \"y\": [0.018643387634239082, 0.08044438894716113, -0.10693672938593884, 0.014619793537063499, 0.006997382260530838, -0.0037413514111883255, -0.009468649701572044, 0.0005715729114023552, 0.01569498078336214, -0.016824775575059805], \"topics\": [1, 2, 3, 4, 5, 6, 7, 8, 9, 10], \"cluster\": [1, 1, 1, 1, 1, 1, 1, 1, 1, 1], \"Freq\": [48.76210403442383, 31.336557388305664, 15.160679817199707, 2.3323276042938232, 2.1455109119415283, 0.052564509212970734, 0.052564479410648346, 0.05256446823477745, 0.052564457058906555, 0.052564457058906555]}, \"tinfo\": {\"Category\": [\"Default\", \"Default\", \"Default\", \"Default\", \"Default\", \"Default\", \"Default\", \"Default\", \"Default\", \"Default\", \"Default\", \"Default\", \"Default\", \"Default\", \"Default\", \"Default\", \"Default\", \"Default\", \"Default\", \"Default\", \"Default\", \"Default\", \"Default\", \"Default\", \"Default\", \"Default\", \"Default\", \"Default\", \"Default\", \"Default\", \"Topic1\", \"Topic1\", \"Topic1\", \"Topic1\", \"Topic1\", \"Topic1\", \"Topic1\", \"Topic1\", \"Topic1\", \"Topic1\", \"Topic1\", \"Topic1\", \"Topic1\", \"Topic1\", \"Topic1\", \"Topic1\", \"Topic1\", \"Topic1\", \"Topic1\", \"Topic1\", \"Topic1\", \"Topic1\", \"Topic1\", \"Topic1\", \"Topic1\", \"Topic1\", \"Topic1\", \"Topic1\", \"Topic1\", \"Topic1\", \"Topic1\", \"Topic1\", \"Topic1\", \"Topic1\", \"Topic1\", \"Topic1\", \"Topic1\", \"Topic1\", \"Topic1\", \"Topic2\", \"Topic2\", \"Topic2\", \"Topic2\", \"Topic2\", \"Topic2\", \"Topic2\", \"Topic2\", \"Topic2\", \"Topic2\", \"Topic2\", \"Topic2\", \"Topic2\", \"Topic2\", \"Topic2\", \"Topic2\", \"Topic2\", \"Topic2\", \"Topic2\", \"Topic2\", \"Topic2\", \"Topic2\", \"Topic2\", \"Topic2\", \"Topic2\", \"Topic2\", \"Topic2\", \"Topic2\", \"Topic2\", \"Topic2\", \"Topic2\", \"Topic2\", \"Topic2\", \"Topic2\", \"Topic2\", \"Topic2\", \"Topic3\", \"Topic3\", \"Topic3\", \"Topic3\", \"Topic3\", \"Topic3\", \"Topic3\", \"Topic3\", \"Topic3\", \"Topic3\", \"Topic3\", \"Topic3\", \"Topic3\", \"Topic3\", \"Topic3\", \"Topic3\", \"Topic3\", \"Topic3\", \"Topic3\", \"Topic3\", \"Topic3\", \"Topic3\", \"Topic3\", \"Topic3\", \"Topic3\", \"Topic3\", \"Topic3\", \"Topic3\", \"Topic3\", \"Topic3\", \"Topic3\", \"Topic3\", \"Topic3\", \"Topic3\", \"Topic3\", \"Topic4\", \"Topic4\", \"Topic4\", \"Topic4\", \"Topic4\", \"Topic4\", \"Topic4\", \"Topic4\", \"Topic4\", \"Topic4\", \"Topic4\", \"Topic4\", \"Topic4\", \"Topic4\", \"Topic4\", \"Topic4\", \"Topic4\", \"Topic4\", \"Topic4\", \"Topic4\", \"Topic4\", \"Topic4\", \"Topic4\", \"Topic4\", \"Topic4\", \"Topic4\", \"Topic4\", \"Topic4\", \"Topic4\", \"Topic4\", \"Topic4\", \"Topic4\", \"Topic4\", \"Topic4\", \"Topic4\", \"Topic4\", \"Topic4\", \"Topic4\", \"Topic4\", \"Topic4\", \"Topic4\", \"Topic4\", \"Topic4\", \"Topic4\", \"Topic4\", \"Topic4\", \"Topic4\", \"Topic4\", \"Topic5\", \"Topic5\", \"Topic5\", \"Topic5\", \"Topic5\", \"Topic5\", \"Topic5\", \"Topic5\", \"Topic5\", \"Topic5\", \"Topic5\", \"Topic5\", \"Topic5\", \"Topic5\", \"Topic5\", \"Topic5\", \"Topic5\", \"Topic5\", \"Topic5\", \"Topic5\", \"Topic5\", \"Topic5\", \"Topic5\", \"Topic5\", \"Topic5\", \"Topic5\", \"Topic5\", \"Topic5\", \"Topic5\", \"Topic5\", \"Topic5\", \"Topic5\", \"Topic5\", \"Topic5\", \"Topic5\", \"Topic5\", \"Topic5\", \"Topic5\", \"Topic5\", \"Topic5\", \"Topic5\", \"Topic5\", \"Topic5\", \"Topic5\", \"Topic5\", \"Topic5\", \"Topic6\", \"Topic6\", \"Topic6\", \"Topic6\", \"Topic6\", \"Topic6\", \"Topic6\", \"Topic6\", \"Topic6\", \"Topic6\", \"Topic6\", \"Topic6\", \"Topic6\", \"Topic6\", \"Topic6\", \"Topic6\", \"Topic6\", \"Topic6\", \"Topic6\", \"Topic6\", \"Topic6\", \"Topic6\", \"Topic6\", \"Topic6\", \"Topic6\", \"Topic6\", \"Topic6\", \"Topic6\", \"Topic6\", \"Topic6\", \"Topic6\", \"Topic6\", \"Topic6\", \"Topic6\", \"Topic6\", \"Topic6\", \"Topic6\", \"Topic6\", \"Topic6\", \"Topic6\", \"Topic6\", \"Topic6\", \"Topic6\", \"Topic6\", \"Topic6\", \"Topic6\", \"Topic6\", \"Topic6\", \"Topic6\", \"Topic6\", \"Topic6\", \"Topic6\", \"Topic6\", \"Topic6\", \"Topic6\", \"Topic6\", \"Topic6\", \"Topic6\", \"Topic6\", \"Topic6\", \"Topic7\", \"Topic7\", \"Topic7\", \"Topic7\", \"Topic7\", \"Topic7\", \"Topic7\", \"Topic7\", \"Topic7\", \"Topic7\", \"Topic7\", \"Topic7\", \"Topic7\", \"Topic7\", \"Topic7\", \"Topic7\", \"Topic7\", \"Topic7\", \"Topic7\", \"Topic7\", \"Topic7\", \"Topic7\", \"Topic7\", \"Topic7\", \"Topic7\", \"Topic7\", \"Topic7\", \"Topic7\", \"Topic7\", \"Topic7\", \"Topic7\", \"Topic7\", \"Topic7\", \"Topic7\", \"Topic7\", \"Topic7\", \"Topic7\", \"Topic7\", \"Topic7\", \"Topic7\", \"Topic7\", \"Topic7\", \"Topic7\", \"Topic7\", \"Topic7\", \"Topic7\", \"Topic7\", \"Topic7\", \"Topic7\", \"Topic7\", \"Topic7\", \"Topic7\", \"Topic7\", \"Topic7\", \"Topic7\", \"Topic7\", \"Topic7\", \"Topic7\", \"Topic7\", \"Topic7\", \"Topic7\", \"Topic7\", \"Topic7\", \"Topic7\", \"Topic7\", \"Topic7\", \"Topic7\", \"Topic7\", \"Topic7\", \"Topic7\", \"Topic7\", \"Topic7\", \"Topic7\", \"Topic7\", \"Topic7\", \"Topic7\", \"Topic7\", \"Topic7\", \"Topic8\", \"Topic8\", \"Topic8\", \"Topic8\", \"Topic8\", \"Topic8\", \"Topic8\", \"Topic8\", \"Topic8\", \"Topic8\", \"Topic8\", \"Topic8\", \"Topic8\", \"Topic8\", \"Topic8\", \"Topic8\", \"Topic8\", \"Topic8\", \"Topic8\", \"Topic8\", \"Topic8\", \"Topic8\", \"Topic8\", \"Topic8\", \"Topic8\", \"Topic8\", \"Topic8\", \"Topic8\", \"Topic8\", \"Topic8\", \"Topic8\", \"Topic8\", \"Topic8\", \"Topic8\", \"Topic8\", \"Topic8\", \"Topic8\", \"Topic8\", \"Topic8\", \"Topic8\", \"Topic8\", \"Topic8\", \"Topic8\", \"Topic8\", \"Topic8\", \"Topic8\", \"Topic8\", \"Topic8\", \"Topic8\", \"Topic8\", \"Topic8\", \"Topic8\", \"Topic8\", \"Topic8\", \"Topic8\", \"Topic8\", \"Topic8\", \"Topic8\", \"Topic8\", \"Topic8\", \"Topic8\", \"Topic8\", \"Topic8\", \"Topic8\", \"Topic8\", \"Topic8\", \"Topic8\", \"Topic8\", \"Topic8\", \"Topic8\", \"Topic8\", \"Topic8\", \"Topic8\", \"Topic8\", \"Topic8\", \"Topic8\", \"Topic8\", \"Topic8\", \"Topic8\", \"Topic8\", \"Topic9\", \"Topic9\", \"Topic9\", \"Topic9\", \"Topic9\", \"Topic9\", \"Topic9\", \"Topic9\", \"Topic9\", \"Topic9\", \"Topic9\", \"Topic9\", \"Topic9\", \"Topic9\", \"Topic9\", \"Topic9\", \"Topic9\", \"Topic9\", \"Topic9\", \"Topic9\", \"Topic9\", \"Topic9\", \"Topic9\", \"Topic9\", \"Topic9\", \"Topic9\", \"Topic9\", \"Topic9\", \"Topic9\", \"Topic9\", \"Topic9\", \"Topic9\", \"Topic9\", \"Topic9\", \"Topic9\", \"Topic9\", \"Topic9\", \"Topic9\", \"Topic9\", \"Topic9\", \"Topic9\", \"Topic9\", \"Topic9\", \"Topic9\", \"Topic9\", \"Topic9\", \"Topic9\", \"Topic9\", \"Topic9\", \"Topic9\", \"Topic9\", \"Topic9\", \"Topic9\", \"Topic9\", \"Topic9\", \"Topic9\", \"Topic9\", \"Topic9\", \"Topic9\", \"Topic9\", \"Topic9\", \"Topic9\", \"Topic9\", \"Topic9\", \"Topic9\", \"Topic9\", \"Topic9\", \"Topic9\", \"Topic9\", \"Topic9\", \"Topic9\", \"Topic9\", \"Topic9\", \"Topic9\", \"Topic9\", \"Topic9\", \"Topic9\", \"Topic9\", \"Topic9\", \"Topic10\", \"Topic10\", \"Topic10\", \"Topic10\", \"Topic10\", \"Topic10\", \"Topic10\", \"Topic10\", \"Topic10\", \"Topic10\", \"Topic10\", \"Topic10\", \"Topic10\", \"Topic10\", \"Topic10\", \"Topic10\", \"Topic10\", \"Topic10\", \"Topic10\", \"Topic10\", \"Topic10\", \"Topic10\", \"Topic10\", \"Topic10\", \"Topic10\", \"Topic10\", \"Topic10\", \"Topic10\", \"Topic10\", \"Topic10\", \"Topic10\", \"Topic10\", \"Topic10\", \"Topic10\", \"Topic10\", \"Topic10\", \"Topic10\", \"Topic10\", \"Topic10\", \"Topic10\", \"Topic10\", \"Topic10\", \"Topic10\", \"Topic10\", \"Topic10\", \"Topic10\", \"Topic10\", \"Topic10\", \"Topic10\", \"Topic10\", \"Topic10\", \"Topic10\", \"Topic10\", \"Topic10\", \"Topic10\", \"Topic10\", \"Topic10\", \"Topic10\", \"Topic10\", \"Topic10\", \"Topic10\", \"Topic10\", \"Topic10\", \"Topic10\", \"Topic10\", \"Topic10\", \"Topic10\", \"Topic10\", \"Topic10\", \"Topic10\"], \"Freq\": [7.0, 3.0, 2.0, 3.0, 3.0, 2.0, 2.0, 2.0, 2.0, 2.0, 2.0, 1.0, 2.0, 1.0, 1.0, 1.0, 1.0, 2.0, 1.0, 2.0, 1.0, 1.0, 1.0, 1.0, 2.0, 2.0, 1.0, 2.0, 1.0, 1.0, 6.409512042999268, 2.4856252670288086, 1.8791310787200928, 1.7452168464660645, 1.6928670406341553, 1.672896146774292, 1.6877363920211792, 1.6220462322235107, 1.6683604717254639, 1.543386697769165, 1.525575876235962, 1.5461281538009644, 1.1120628118515015, 1.0663337707519531, 1.0574041604995728, 1.081681728363037, 1.4687409400939941, 1.0538946390151978, 1.0579262971878052, 1.0432769060134888, 1.0393178462982178, 1.0428425073623657, 1.3852248191833496, 1.0346540212631226, 1.0337189435958862, 1.0460726022720337, 1.0136929750442505, 1.0114679336547852, 1.0179803371429443, 1.0187938213348389, 1.4049091339111328, 1.2957268953323364, 1.0217646360397339, 1.2115281820297241, 1.1694767475128174, 1.6552497148513794, 1.3177043199539185, 1.1147022247314453, 1.0966887474060059, 3.027172803878784, 2.3781795501708984, 1.5948431491851807, 1.5478523969650269, 1.590323567390442, 2.1766040325164795, 1.5686516761779785, 1.5494191646575928, 1.5396939516067505, 1.5046336650848389, 1.5068209171295166, 1.490835428237915, 1.5028468370437622, 1.5075504779815674, 1.4670571088790894, 1.482261061668396, 1.446608066558838, 2.032059907913208, 1.4149590730667114, 0.8657906651496887, 0.8650338053703308, 0.8702464699745178, 0.8525081276893616, 0.8538858294487, 0.8595482707023621, 0.8540340065956116, 0.8399258852005005, 0.8529784083366394, 0.8545924425125122, 0.852594256401062, 1.351141095161438, 2.0121257305145264, 2.318696975708008, 1.3136156797409058, 1.4153159856796265, 1.1934890747070312, 1.460216999053955, 1.0102622509002686, 1.010182499885559, 1.0013904571533203, 0.9960317015647888, 0.984909176826477, 0.9786763787269592, 0.9715045690536499, 0.5389352440834045, 0.5362971425056458, 0.5353416800498962, 0.5336060523986816, 0.5334615707397461, 0.5326040983200073, 0.532529890537262, 0.5321785807609558, 0.5318619012832642, 0.5309947729110718, 0.5307372212409973, 0.5305893421173096, 0.52985018491745, 0.5294085144996643, 0.529408872127533, 0.5291002988815308, 0.5289803743362427, 0.5287381410598755, 0.5287260413169861, 0.528508722782135, 0.5281803607940674, 0.5279595255851746, 0.8316062092781067, 0.791384220123291, 0.8225265741348267, 0.8501120209693909, 0.7645597457885742, 0.1950402557849884, 0.1950402557849884, 0.19504016637802124, 0.19504010677337646, 0.19504010677337646, 0.19504009187221527, 0.19504009187221527, 0.19504015147686005, 0.19504015147686005, 0.19504010677337646, 0.1950400173664093, 0.1950400173664093, 0.19503997266292572, 0.19503997266292572, 0.1950400322675705, 0.19503995776176453, 0.19503997266292572, 0.1950397491455078, 0.02132098190486431, 0.022519739344716072, 0.02139243669807911, 0.02206643857061863, 0.02153773419559002, 0.02119406685233116, 0.021613851189613342, 0.020382758229970932, 0.021661629900336266, 0.021356141194701195, 0.023334940895438194, 0.022350052371621132, 0.022646186873316765, 0.022215325385332108, 0.029286136850714684, 0.04524822533130646, 0.030134709551930428, 0.03351963683962822, 0.028264574706554413, 0.024068558588624, 0.030674269422888756, 0.03013158030807972, 0.027766946703195572, 0.029847050085663795, 0.027466721832752228, 0.03140434995293617, 0.02912658080458641, 0.02933085709810257, 0.029770055785775185, 0.028406286612153053, 0.06037209555506706, 0.056993141770362854, 0.05601019039750099, 0.05455983802676201, 0.054311443120241165, 0.05458685755729675, 0.05462723597884178, 0.05285423621535301, 0.052270859479904175, 0.05216902121901512, 0.051942966878414154, 0.051392342895269394, 0.04991535469889641, 0.04963141679763794, 0.04973931983113289, 0.04954153299331665, 0.04908072203397751, 0.04940067604184151, 0.0490809828042984, 0.049066346138715744, 0.04821493476629257, 0.04880748316645622, 0.04856909066438675, 0.048825085163116455, 0.04855435714125633, 0.047784704715013504, 0.048031214624643326, 0.04731060564517975, 0.04746043682098389, 0.04716997966170311, 0.07964910566806793, 0.07705043256282806, 0.23966343700885773, 0.06962497532367706, 0.06728570908308029, 0.06592920422554016, 0.06913559883832932, 0.05992746353149414, 0.05970906466245651, 0.057573843747377396, 0.056686170399188995, 0.05699419602751732, 0.053810831159353256, 0.05094444751739502, 0.050687458366155624, 0.05053892359137535, 0.0008224686607718468, 0.0008140973513945937, 0.0008076371159404516, 0.0007985364645719528, 0.0007986130658537149, 0.0007928319973871112, 0.0007889314438216388, 0.0007839418249204755, 0.0007756068953312933, 0.0007772718672640622, 0.0007710938225500286, 0.0007736802799627185, 0.0007684602751396596, 0.0007636818918399513, 0.0007639942923560739, 0.000757024041377008, 0.0007569347508251667, 0.0007542555686086416, 0.0007660483825020492, 0.000749680504668504, 0.0007464109221473336, 0.0007517671911045909, 0.0007547406130470335, 0.0007504776585847139, 0.0007540035876445472, 0.0007509887218475342, 0.0007545737898908556, 0.0007518245256505907, 0.0007499768398702145, 0.0007480339263565838, 0.0013248444302007556, 0.0010430337861180305, 0.0010228096507489681, 0.0010025784140452743, 0.0009974903659895062, 0.0009758417145349085, 0.000949295237660408, 0.0009453924722038209, 0.0009948762599378824, 0.0012986644869670272, 0.0011765612289309502, 0.0009988362435251474, 0.000971491273958236, 0.001000062795355916, 0.0009816959500312805, 0.0008756739553064108, 0.0009194001904688776, 0.0009048578212969005, 0.0008552585495635867, 0.0008541211718693376, 0.0008758021285757422, 0.0008485064608976245, 0.0008383030071854591, 0.0008855856140144169, 0.0008278405293822289, 0.0008284598588943481, 0.0008162767044268548, 0.0008212617831304669, 0.0008180125732906163, 0.0008166857878677547, 0.0006019904394634068, 0.0007145917043089867, 0.0007039285846985877, 0.00044857143075205386, 0.0004485710815060884, 0.00044857096509076655, 0.0004485707904677838, 0.00044857070315629244, 0.0004485709359869361, 0.0004485707904677838, 0.00044857102329842746, 0.00044857076136395335, 0.0004485707904677838, 0.00044857044122181833, 0.00044857029570266604, 0.0004485705285333097, 0.0004485699173528701, 0.00044856983004137874, 0.00044857015018351376, 0.0004485702083911747, 0.0004485699173528701, 0.0006907162605784833, 0.0006952497642487288, 0.0006219347123987973, 0.0006039229920133948, 0.0006856384570710361, 0.0006294785416685045, 0.0006851693033240736, 0.0006836868124082685, 0.0006861332221888006, 0.0006740646786056459, 0.0006833120132796466, 0.0006741748075000942, 0.0006764287245459855, 0.0006702811224386096, 0.0006752160843461752, 0.0006651572766713798, 0.0006713232141919434, 0.0006676834891550243, 0.0006643483066000044, 0.0006620751810260117, 0.0006186380051076412, 0.0006598301115445793, 0.0006604305235669017, 0.00065898074535653, 0.0006303905392996967, 0.0006513720727525651, 0.000651970156468451, 0.0009348815074190497, 0.0006569705437868834, 0.0008689089445397258, 0.001005079597234726, 0.0008345887181349099, 0.0018069098005071282, 0.000817075720988214, 0.0007949433638714254, 0.0007769922958686948, 0.0009272481547668576, 0.0008452605688944459, 0.000735002220608294, 0.0007706462638452649, 0.0008579298737458885, 0.0008641547756269574, 0.0007713865488767624, 0.0007410245016217232, 0.0007813637494109571, 0.0007431355770677328, 0.0007855342119000852, 0.0007550980662927032, 0.0007328852079808712, 0.0007326358463615179, 0.0007690033526159823, 0.0007336948765441775, 0.0007143602124415338, 0.0007217648671939969, 0.0007224134169518948, 0.0007157532963901758, 0.0007061507203616202, 0.0006389745976775885, 0.0004678831319324672, 0.0004678824043367058, 0.00046788257895968854, 0.0004678824625443667, 0.0004678824625443667, 0.0004678824916481972, 0.00046788211329840124, 0.0004678823461290449, 0.0004678820841945708, 0.00046788170584477484, 0.0004678819386754185, 0.0004678819968830794, 0.0004678816767409444, 0.0004678817931562662, 0.0004678817931562662, 0.0004678815312217921, 0.000467881269287318, 0.00046788161853328347, 0.0006583303911611438, 0.00061684416141361, 0.0006191490101628006, 0.0006463790778070688, 0.0006263323011808097, 0.0006625006208196282, 0.0006511714891530573, 0.0006469192449003458, 0.0006444898317568004, 0.0006427646731026471, 0.0006111356196925044, 0.0006557988817803562, 0.0006493485998362303, 0.0006603467045351863, 0.0006819440168328583, 0.0006553736748173833, 0.0006462776800617576, 0.000645675347186625, 0.0006624053348787129, 0.0006805749144405127, 0.000667216198053211, 0.0006491566891781986, 0.0006563565111719072, 0.0006400240818038583, 0.0006302088149823248, 0.0006539705209434032, 0.0006568842218257487, 0.0006625475944019854, 0.0006667085690423846, 0.0008644293993711472, 0.001677245949395001, 0.0008984209853224456, 0.0008067169692367315, 0.0007211390766315162, 0.000839931599330157, 0.0008703813655301929, 0.0007944499375298619, 0.0008496345253661275, 0.0008180664153769612, 0.0007123207906261086, 0.0007980413502082229, 0.0006926262867636979, 0.0007980880327522755, 0.0007905482780188322, 0.0007994449697434902, 0.0007106460398063064, 0.0008479690877720714, 0.0008463823469355702, 0.000710909313056618, 0.0007786317146383226, 0.0007700120331719518, 0.0006778198294341564, 0.000693607609719038, 0.0007386523066088557, 0.0008077040547505021, 0.0006947492365725338, 0.0007295441464520991, 0.0006825453019700944, 0.0007015806622803211, 0.0006862985319457948, 0.0006860932917334139, 0.0006025324109941721, 0.00047107262071222067, 0.0004710729408543557, 0.00047107262071222067, 0.000471072387881577, 0.0004710722132585943, 0.0004710722132585943, 0.00047107230057008564, 0.0004710722714662552, 0.00047107235877774656, 0.00047107195132412016, 0.0004710721259471029, 0.00047107174759730697, 0.00047107183490879834, 0.000471072067739442, 0.0004710715729743242, 0.0004710716602858156, 0.00047107142745517194, 0.0004710716020781547, 0.0006111141992732882, 0.0006021253066137433, 0.0005849895533174276, 0.0005725165829062462, 0.000592137046623975, 0.000605100067332387, 0.0006455709808506072, 0.0005886430153623223, 0.0006296569481492043, 0.0005713183782063425, 0.0005952248466201127, 0.0006239539361558855, 0.0006261349772103131, 0.0006281161331571639, 0.0006240244838409126, 0.0006073638796806335, 0.0006304411217570305, 0.0006013725651428103, 0.0006032317178323865, 0.0005825437838211656, 0.0006196050671860576, 0.0006683100946247578, 0.0006106261280365288, 0.0007997528882697225, 0.0006203089142218232, 0.0006191909196786582, 0.0005994007224217057, 0.0005942015559412539, 0.0006390716298483312, 0.0015372609486803412, 0.0006174699519760907, 0.00074879260500893, 0.0009170963894575834, 0.0009113841806538403, 0.000997105147689581, 0.0007839108002372086, 0.000648458139039576, 0.0008768239058554173, 0.0008821774390526116, 0.0007848730310797691, 0.0007565512205474079, 0.0009366696467623115, 0.000852117023896426, 0.0007692307699471712, 0.0007696355460211635, 0.0008317240281030536, 0.0008588047348894179, 0.0007547208806499839, 0.0007539119105786085, 0.0007556226919405162, 0.0007523560780100524, 0.0007741488516330719, 0.0007814394775778055, 0.0007379623712040484, 0.0007215845980681479, 0.0007369263330474496, 0.0007397146546281874, 0.0007355115376412868, 0.000731395382899791, 0.0007319882861338556, 0.0006033384706825018, 0.0004845403309445828, 0.00048454070929437876, 0.00048454024363309145, 0.00048453998169861734, 0.0004845398652832955, 0.00048453998169861734, 0.00048453969066031277, 0.0004845400108024478, 0.00048454009811393917, 0.0004845399234909564, 0.0004845399234909564, 0.00048453937051817775, 0.0004845397488679737, 0.0004845397488679737, 0.0004845395451411605, 0.00048453977797180414, 0.0004845395451411605, 0.00048453922499902546, 0.0007529238937422633, 0.0007421296904794872, 0.0007456840248778462, 0.0007338996510952711, 0.0007249686750583351, 0.0006308970041573048, 0.0007226895540952682, 0.0007167673902586102, 0.0006350495968945324, 0.0007040384807623923, 0.0007028314284980297, 0.0007051141001284122, 0.0007123004179447889, 0.0006981212645769119, 0.0006992400158196688, 0.0006911918753758073, 0.0006930651143193245, 0.0006923270411789417, 0.0006955256103537977, 0.0006850732606835663, 0.0006869512144476175, 0.0006873599486425519, 0.0006934485281817615, 0.0006805579178035259, 0.0006911843665875494, 0.0006895824335515499, 0.0006898728897795081, 0.00068304204614833, 0.0006891675293445587, 0.0006848328048363328, 0.0009021424339152873, 0.0006867470219731331, 0.0008510681800544262, 0.0009609450935386121, 0.0008397761266678572, 0.0008437796495854855, 0.0008272933773696423, 0.0016615140484645963, 0.0008069064351730049, 0.0008433908806182444, 0.0009929465595632792, 0.0008505884325131774, 0.0008100209524855018, 0.0007470421842299402, 0.0007524398970417678, 0.0007544172694906592, 0.0007443965296261013, 0.000748555117752403, 0.000734240107703954, 0.0007307587657123804, 0.0007092072628438473], \"Term\": [\"lagi\", \"text\", \"jadi\", \"home\", \"come\", \"hoe\", \"school\", \"hard\", \"love\", \"work\", \"famou\", \"tapi\", \"good\", \"kasian\", \"semua\", \"dessert\", \"test\", \"fall\", \"wanita\", \"night\", \"galau\", \"siap\", \"kenapa\", \"today\", \"music\", \"talk\", \"wkwk\", \"aint\", \"udah\", \"lazi\", \"lagi\", \"jadi\", \"famou\", \"good\", \"kasian\", \"semua\", \"tapi\", \"test\", \"dessert\", \"siap\", \"galau\", \"wanita\", \"lbir\", \"uzsuqztgjd\", \"aish\", \"ilovey\", \"kenapa\", \"bang\", \"member\", \"dararhn\", \"pada\", \"ybye\", \"wkwk\", \"judulnya\", \"guebangettweet\", \"ngantuk\", \"dimana\", \"bilingu\", \"johandadinata\", \"prote\", \"udah\", \"siang\", \"\\u30e6\\u30c0\\u30e4\\u3068\\u8ecd\\u7523\\u8907\\u5408\\u4f53\\u306b\\u8ca0\\u3051\\u305f\", \"buat\", \"randik_akew\", \"school\", \"home\", \"music\", \"happi\", \"text\", \"hoe\", \"talk\", \"lazi\", \"aint\", \"hard\", \"blast\", \"like\", \"aqu\\u00ed\", \"shit\", \"stuff\", \"hate\", \"sooo\", \"birthday\", \"tire\", \"lmao\", \"want\", \"work\", \"say\", \"robbyyrayi\", \"coupl\", \"age\", \"french\", \"antoin\", \"dispon\", \"saint\", \"year\", \"asleep\", \"great\", \"clon\", \"fuck\", \"come\", \"home\", \"fall\", \"love\", \"night\", \"today\", \"skilip\", \"zwoll\", \"wind\", \"rain\", \"\\u0443\\u0434\\u0430\\u0447\\u0438\", \"prender\", \"humid\", \"\\u0434\\u043e\\u0431\\u0440\\u043e\\u0435\", \"jaredvampir\", \"konutlar\\u0131\", \"tugbalata\", \"\\u043b\\u0435\\u043d\\u0442\\u0430\", \"\\u0444\\u0443\\u0442\\u0431\\u043e\\u043b\\u0430\", \"nestl\", \"park\", \"baromet\", \"k\\u0131z\\u0131l\\u0131rmak\", \"t_crane\", \"ibrajug\", \"shadowgoldxx\", \"adult\", \"jlthfc\", \"\\u0447\\u0443\\u0432\\u0430\\u043a\", \"time\", \"temp\", \"exet\", \"yine\", \"hustler\", \"vado\", \"hous\", \"worth\", \"night\", \"come\", \"fall\", \"asikaqedi\", \"mahunnyb\", \"gusta\", \"deprimirno\", \"joda\", \"porfa\", \"mrda\", \"minha\", \"koyac\", \"sogra\", \"perfeita\", \"lindo\", \"ahora\", \"aniversario\", \"pued\", \"hor\\u00f3scopo\", \"amiga\", \"amanha\", \"tahun\", \"golongan\", \"fikri\", \"niiiiiih\", \"miul_kahcrut\", \"hemmm\", \"widih\", \"flight\", \"selat\", \"misscupidnanya\", \"smash\", \"ganteng\", \"beach\", \"alay\", \"galau\", \"lagi\", \"night\", \"text\", \"talk\", \"djdrama\", \"hard\", \"school\", \"sooo\", \"jadi\", \"blast\", \"home\", \"work\", \"hoe\", \"come\", \"love\", \"tahun\", \"golongan\", \"fikri\", \"flight\", \"hemmm\", \"miul_kahcrut\", \"niiiiiih\", \"widih\", \"misscupidnanya\", \"pandai\", \"european\", \"selat\", \"fatih\", \"ganteng\", \"uongkep\", \"beach\", \"\\u54c0\\u308c\\u306a\\u5927\\u7d71\\u9818\", \"shope\", \"\\u30aa\\u30d0\\u30de\\u6c7a\\u65ad\", \"amen\", \"alay\", \"nobar\", \"burukkkk\", \"lcct\", \"ikutan\", \"\\u7c73\\u56fd\\u306e\\u7406\\u6027\\u306e\\u7d42\\u7109\\u306f\", \"smash\", \"dimanako\", \"feat\", \"jckggpi\", \"randik_akew\", \"buat\", \"lagi\", \"siang\", \"wkwk\", \"udah\", \"jadi\", \"kenapa\", \"siap\", \"galau\", \"wanita\", \"school\", \"test\", \"kasian\", \"dessert\", \"semua\", \"\\u0441\\u0430\\u043c\\u043e\\u0435\", \"chill\", \"erikli\", \"collect\", \"dprint\", \"brigitte_ba\", \"\\u0443\\u0442\\u0440\\u043e\", \"start\", \"ankara\", \"slowli\", \"kenar\\u0131\", \"cheltenham\", \"devo\", \"key\", \"g\\u00fcng\\u00f6ren\", \"\\u0431\\u043e\\u044e\\u0441\\u044c\", \"earli\", \"robot\", \"park\", \"scottnyood\", \"eymir\", \"anch\", \"brun\", \"oggi\", \"warlecilson\", \"opqfhmp\", \"steadi\", \"\\u043d\\u0435\\u043c\\u043d\\u043e\\u0433\\u043e\", \"kadikoy\", \"stronzetta\", \"today\", \"\\u0443\\u0434\\u0430\\u0447\\u0438\", \"humid\", \"prender\", \"rain\", \"wind\", \"zwoll\", \"skilip\", \"worth\", \"text\", \"come\", \"fall\", \"night\", \"work\", \"home\", \"stuff\", \"hoe\", \"love\", \"lazi\", \"talk\", \"hard\", \"hate\", \"aqu\\u00ed\", \"lagi\", \"tire\", \"blast\", \"hous\", \"fuck\", \"want\", \"lmao\", \"tahun\", \"buzz\", \"teaser\", \"porfa\", \"perfeita\", \"gusta\", \"ahora\", \"joda\", \"sogra\", \"lindo\", \"amanha\", \"aniversario\", \"hor\\u00f3scopo\", \"mrda\", \"deprimirno\", \"amiga\", \"mahunnyb\", \"asikaqedi\", \"koyac\", \"pued\", \"minha\", \"trip\", \"drewbeatsuk\", \"fikri\", \"golongan\", \"cool\", \"flight\", \"\\u00e9galement\", \"zeu\", \"mxho\", \"ankara\", \"pre\", \"\\u0443\\u0442\\u0440\\u043e\", \"quietest\", \"scottnyood\", \"t\\u00fcrkiy\", \"\\u0441\\u0430\\u043c\\u043e\\u0435\", \"bursa\", \"dersanesi\", \"kavgas\\u0131\", \"biglietti\", \"hemmm\", \"\\u0431\\u043e\\u044e\\u0441\\u044c\", \"oggi\", \"ukweath\", \"widih\", \"eymir\", \"machin\", \"humid\", \"time\", \"prender\", \"today\", \"\\u0443\\u0434\\u0430\\u0447\\u0438\", \"lagi\", \"zwoll\", \"wind\", \"rain\", \"night\", \"dessert\", \"skilip\", \"siang\", \"jadi\", \"come\", \"kenapa\", \"buat\", \"fall\", \"wkwk\", \"school\", \"tapi\", \"udah\", \"test\", \"home\", \"good\", \"hous\", \"caf\\u00e9\", \"kasian\", \"semua\", \"randik_akew\", \"tahun\", \"amanha\", \"porfa\", \"aniversario\", \"deprimirno\", \"ahora\", \"amiga\", \"joda\", \"hor\\u00f3scopo\", \"perfeita\", \"asikaqedi\", \"koyac\", \"pued\", \"gusta\", \"lindo\", \"minha\", \"mrda\", \"mahunnyb\", \"sogra\", \"hemmm\", \"golongan\", \"fikri\", \"niiiiiih\", \"flight\", \"misscupidnanya\", \"widih\", \"selat\", \"european\", \"pandai\", \"miul_kahcrut\", \"uongkep\", \"alay\", \"dimanako\", \"\\u79c1\\u306f\\u4fe1\\u3058\\u308b\\u3088\\u3093\", \"\\u7c73\\u56fd\\u306e\\u7406\\u6027\\u306e\\u7d42\\u7109\\u306f\", \"\\u54c0\\u308c\\u306a\\u5927\\u7d71\\u9818\", \"\\u30aa\\u30d0\\u30de\\u6c7a\\u65ad\", \"acano\", \"reason\", \"show\", \"jckggpi\", \"\\u717d\\u3089\\u308c\\u305f\\u304b\", \"lcct\", \"shope\", \"\\u3072\\u3068\\u3063\\u98a8\\u5442\", \"maxebr\", \"\\u4e16\\u754c\\u306f\\u5927\\u52d5\\u4e71\\u6642\\u4ee3\\u306b\\u306a\\u308b\", \"lunchyyi\", \"siang\", \"lagi\", \"test\", \"randik_akew\", \"english\", \"wkwk\", \"tapi\", \"buat\", \"semua\", \"galau\", \"footbal\", \"udah\", \"dwiik_da\", \"siap\", \"kenapa\", \"kasian\", \"alasan\", \"school\", \"jadi\", \"dimana\", \"good\", \"dessert\", \"kotu\", \"begadang\", \"wanita\", \"home\", \"kecil\", \"famou\", \"akihabara\", \"music\", \"hahaha\", \"love\", \"tahun\", \"mrda\", \"amanha\", \"amiga\", \"aniversario\", \"ahora\", \"perfeita\", \"minha\", \"lindo\", \"hor\\u00f3scopo\", \"porfa\", \"koyac\", \"mahunnyb\", \"deprimirno\", \"pued\", \"asikaqedi\", \"joda\", \"gusta\", \"sogra\", \"golongan\", \"hemmm\", \"flight\", \"fikri\", \"miul_kahcrut\", \"misscupidnanya\", \"\\u54c0\\u308c\\u306a\\u5927\\u7d71\\u9818\", \"widih\", \"fatih\", \"niiiiiih\", \"selat\", \"alay\", \"amen\", \"dimanako\", \"\\u7c73\\u56fd\\u306e\\u7406\\u6027\\u306e\\u7d42\\u7109\\u306f\", \"ganteng\", \"weekend\", \"shope\", \"nobar\", \"pandai\", \"wendi\", \"tspot\", \"maxebr\", \"siang\", \"sept\", \"cover\", \"orang\", \"smash\", \"ughsd\", \"lagi\", \"hihi\", \"buat\", \"school\", \"love\", \"text\", \"wanita\", \"hat\", \"hard\", \"hoe\", \"happi\", \"galau\", \"home\", \"jadi\", \"kasian\", \"tire\", \"work\", \"come\", \"say\", \"lazi\", \"sooo\", \"stuff\", \"night\", \"fall\", \"haha\", \"wkwk\", \"fuck\", \"like\", \"aqu\\u00ed\", \"birthday\", \"talk\", \"tahun\", \"ahora\", \"amanha\", \"perfeita\", \"mrda\", \"porfa\", \"deprimirno\", \"mahunnyb\", \"aniversario\", \"amiga\", \"pued\", \"hor\\u00f3scopo\", \"asikaqedi\", \"minha\", \"lindo\", \"gusta\", \"sogra\", \"koyac\", \"joda\", \"fab\", \"cool\", \"nehri\", \"erikli\", \"ukweath\", \"golongan\", \"water\", \"starbuck\", \"fikri\", \"biglietti\", \"key\", \"definit\", \"jaredvampir\", \"zeu\", \"luwzsrotzg\", \"eymir\", \"earli\", \"\\u00e9galement\", \"qsaymf\", \"ankara\", \"trip\", \"buzz\", \"fitbit\", \"chill\", \"silverston\", \"bursa\", \"paynard\", \"anch\", \"\\u0447\\u0443\\u0432\\u0430\\u043a\", \"temperatur\", \"prender\", \"t_crane\", \"\\u0443\\u0434\\u0430\\u0447\\u0438\", \"today\", \"rain\", \"skilip\", \"humid\", \"lagi\", \"wind\", \"randik_akew\", \"jadi\", \"wanita\", \"kenapa\", \"zwoll\", \"siang\", \"galau\", \"tapi\", \"famou\", \"semua\", \"school\", \"good\"], \"Total\": [7.0, 3.0, 2.0, 3.0, 3.0, 2.0, 2.0, 2.0, 2.0, 2.0, 2.0, 1.0, 2.0, 1.0, 1.0, 1.0, 1.0, 2.0, 1.0, 2.0, 1.0, 1.0, 1.0, 1.0, 2.0, 2.0, 1.0, 2.0, 1.0, 1.0, 7.132488250732422, 2.8192317485809326, 2.1639750003814697, 2.034963846206665, 1.9767251014709473, 1.9613926410675049, 1.9792392253875732, 1.9064947366714478, 1.9609732627868652, 1.8382357358932495, 1.8238393068313599, 1.8491261005401611, 1.3425335884094238, 1.2919610738754272, 1.2823814153671265, 1.3119828701019287, 1.7815747261047363, 1.282248854637146, 1.287306308746338, 1.2714495658874512, 1.2675426006317139, 1.2726203203201294, 1.6918092966079712, 1.2645013332366943, 1.2643344402313232, 1.2795720100402832, 1.2404512166976929, 1.2379640340805054, 1.246443271636963, 1.247677206993103, 1.726025104522705, 1.6013058423995972, 1.2515654563903809, 1.5301202535629272, 1.4875956773757935, 2.7045319080352783, 3.91908860206604, 2.1173698902130127, 2.0449328422546387, 3.6998207569122314, 2.921889305114746, 2.040471076965332, 1.9870164394378662, 2.0463707447052, 2.8277597427368164, 2.048285722732544, 2.0309910774230957, 2.023064136505127, 1.9930102825164795, 1.9968595504760742, 1.9920878410339355, 2.0095133781433105, 2.0176308155059814, 1.985058307647705, 2.0145483016967773, 1.9679452180862427, 2.7943079471588135, 1.9467910528182983, 1.1957639455795288, 1.1949793100357056, 1.2041215896606445, 1.1798681020736694, 1.182098150253296, 1.1905031204223633, 1.1837093830108643, 1.16672945022583, 1.1859453916549683, 1.1883246898651123, 1.187609314918518, 1.947095274925232, 3.228757619857788, 3.91908860206604, 2.4114816188812256, 2.76255202293396, 2.3010528087615967, 1.7326507568359375, 1.2818512916564941, 1.2817649841308594, 1.2730481624603271, 1.267735242843628, 1.2567009925842285, 1.2505240440368652, 1.243406057357788, 0.8098434805870056, 0.807235598564148, 0.806280791759491, 0.804556667804718, 0.8044179677963257, 0.8035632371902466, 0.8034878373146057, 0.8031376004219055, 0.8028283715248108, 0.8019701242446899, 0.8017156720161438, 0.8015689253807068, 0.8008332252502441, 0.8003945350646973, 0.8003983497619629, 0.8000924587249756, 0.7999733090400696, 0.7997324466705322, 0.799717366695404, 0.7995012998580933, 0.7991751432418823, 0.7989564538002014, 1.4606772661209106, 1.4717495441436768, 2.3010528087615967, 3.228757619857788, 2.4114816188812256, 0.5030593276023865, 0.5030593872070312, 0.5030595660209656, 0.5030596256256104, 0.5030595660209656, 0.5030595064163208, 0.5030595660209656, 0.5030597448348999, 0.5030597448348999, 0.5030598640441895, 0.5030596256256104, 0.5030597448348999, 0.5030596256256104, 0.5030597448348999, 0.5030598640441895, 0.5030598044395447, 0.5030598640441895, 0.503059983253479, 0.6216850876808167, 0.689283549785614, 0.7080109715461731, 0.739285409450531, 0.738528311252594, 0.729767918586731, 0.751013457775116, 0.719638466835022, 0.771350085735321, 0.7626068592071533, 0.8423120379447937, 0.8076512217521667, 0.8221912384033203, 0.8172531127929688, 1.8238393068313599, 7.132488250732422, 2.3010528087615967, 3.6998207569122314, 2.040471076965332, 1.1009708642959595, 2.8277597427368164, 2.7045319080352783, 2.0095133781433105, 2.8192317485809326, 2.048285722732544, 3.91908860206604, 2.7943079471588135, 2.921889305114746, 3.228757619857788, 2.76255202293396, 0.6216850876808167, 0.689283549785614, 0.7080109715461731, 0.719638466835022, 0.729767918586731, 0.738528311252594, 0.739285409450531, 0.751013457775116, 0.7626068592071533, 0.7749568223953247, 0.77460777759552, 0.771350085735321, 0.8068243265151978, 0.8076512217521667, 0.8159301280975342, 0.8221912384033203, 0.8150869607925415, 0.8206369876861572, 0.8261979222297668, 0.8310474157333374, 0.8172531127929688, 0.8280205130577087, 0.8331337571144104, 0.8408171534538269, 0.8430056571960449, 0.832207977771759, 0.8423120379447937, 0.8402365446090698, 0.8486065864562988, 0.8496744632720947, 1.4875956773757935, 1.5301202535629272, 7.132488250732422, 1.6013058423995972, 1.6918092966079712, 1.726025104522705, 2.8192317485809326, 1.7815747261047363, 1.8382357358932495, 1.8238393068313599, 1.8491261005401611, 2.7045319080352783, 1.9064947366714478, 1.9767251014709473, 1.9609732627868652, 1.9613926410675049, 0.7852945923805237, 0.7802627682685852, 0.7840543985366821, 0.7834247350692749, 0.7910786867141724, 0.7880209684371948, 0.7851247787475586, 0.7858000993728638, 0.7791615724563599, 0.7930319905281067, 0.7899966835975647, 0.7938228845596313, 0.7948824763298035, 0.7912436723709106, 0.7917308211326599, 0.7866174578666687, 0.786954939365387, 0.7905828356742859, 0.8031376004219055, 0.7861610651016235, 0.7828642129898071, 0.7888479232788086, 0.7926650047302246, 0.7882307767868042, 0.7926480174064636, 0.7909390926361084, 0.7961304187774658, 0.7964900135993958, 0.7957320809364319, 0.7963746786117554, 1.7326507568359375, 1.2567009925842285, 1.243406057357788, 1.2505240440368652, 1.267735242843628, 1.2730481624603271, 1.2817649841308594, 1.2818512916564941, 1.4717495441436768, 3.6998207569122314, 3.228757619857788, 2.4114816188812256, 2.3010528087615967, 2.7943079471588135, 3.91908860206604, 1.9968595504760742, 2.921889305114746, 2.76255202293396, 1.9870164394378662, 2.040471076965332, 2.8277597427368164, 1.9920878410339355, 2.023064136505127, 7.132488250732422, 1.985058307647705, 2.048285722732544, 1.4606772661209106, 1.947095274925232, 1.9679452180862427, 2.0145483016967773, 0.6216850876808167, 0.7834970951080322, 0.7889684438705444, 0.5030595064163208, 0.5030596256256104, 0.5030595660209656, 0.5030596256256104, 0.5030595660209656, 0.5030598640441895, 0.5030597448348999, 0.503059983253479, 0.5030597448348999, 0.5030598044395447, 0.5030595660209656, 0.5030596256256104, 0.5030598640441895, 0.5030593872070312, 0.5030593276023865, 0.5030597448348999, 0.5030598640441895, 0.5030597448348999, 0.782604992389679, 0.7907350063323975, 0.7080109715461731, 0.689283549785614, 0.7829722166061401, 0.719638466835022, 0.7864775657653809, 0.787611186504364, 0.7909928560256958, 0.7791615724563599, 0.7910124063491821, 0.7851247787475586, 0.7924079298973083, 0.7861610651016235, 0.795947253704071, 0.7852945923805237, 0.7962395548820496, 0.7967239618301392, 0.7921169400215149, 0.7893741726875305, 0.729767918586731, 0.7866174578666687, 0.7882307767868042, 0.7873152494430542, 0.751013457775116, 0.7828642129898071, 0.7912368774414062, 1.243406057357788, 0.7999733090400696, 1.2505240440368652, 1.7326507568359375, 1.2567009925842285, 7.132488250732422, 1.2817649841308594, 1.2730481624603271, 1.267735242843628, 2.3010528087615967, 1.9609732627868652, 1.2818512916564941, 1.6013058423995972, 2.8192317485809326, 3.228757619857788, 1.7815747261047363, 1.5301202535629272, 2.4114816188812256, 1.6918092966079712, 2.7045319080352783, 1.9792392253875732, 1.726025104522705, 1.9064947366714478, 3.91908860206604, 2.034963846206665, 1.4606772661209106, 1.8676104545593262, 1.9767251014709473, 1.9613926410675049, 1.4875956773757935, 0.6216850876808167, 0.503059983253479, 0.5030595064163208, 0.5030597448348999, 0.5030596256256104, 0.5030596256256104, 0.5030598640441895, 0.5030595660209656, 0.5030598044395447, 0.5030596256256104, 0.5030593276023865, 0.5030597448348999, 0.5030598640441895, 0.5030595660209656, 0.5030597448348999, 0.5030597448348999, 0.5030595660209656, 0.5030593872070312, 0.5030598640441895, 0.729767918586731, 0.689283549785614, 0.7080109715461731, 0.739285409450531, 0.719638466835022, 0.7626068592071533, 0.751013457775116, 0.771350085735321, 0.77460777759552, 0.7749568223953247, 0.738528311252594, 0.8159301280975342, 0.8172531127929688, 0.8402365446090698, 0.8824757933616638, 0.832207977771759, 0.8150869607925415, 0.8261979222297668, 0.8613606095314026, 0.9016035199165344, 0.8756840825080872, 0.8496744632720947, 0.8690024018287659, 0.8408171534538269, 0.8206369876861572, 0.8746311664581299, 0.8824153542518616, 0.8960837721824646, 0.9220180511474609, 1.6013058423995972, 7.132488250732422, 1.9064947366714478, 1.4875956773757935, 1.130116581916809, 1.6918092966079712, 1.9792392253875732, 1.5301202535629272, 1.9613926410675049, 1.8238393068313599, 1.1450421810150146, 1.726025104522705, 1.053068995475769, 1.8382357358932495, 1.7815747261047363, 1.9767251014709473, 1.2042124271392822, 2.7045319080352783, 2.8192317485809326, 1.2404512166976929, 2.034963846206665, 1.9609732627868652, 0.9800543785095215, 1.1441450119018555, 1.8491261005401611, 3.91908860206604, 1.2285221815109253, 2.1639750003814697, 1.0748249292373657, 2.1173698902130127, 1.2358380556106567, 2.76255202293396, 0.6216850876808167, 0.5030595660209656, 0.503059983253479, 0.5030598640441895, 0.5030597448348999, 0.5030596256256104, 0.5030596256256104, 0.5030597448348999, 0.5030597448348999, 0.5030598044395447, 0.5030595064163208, 0.5030597448348999, 0.5030593872070312, 0.5030596256256104, 0.5030598640441895, 0.5030593276023865, 0.5030595660209656, 0.5030595660209656, 0.5030598640441895, 0.689283549785614, 0.729767918586731, 0.719638466835022, 0.7080109715461731, 0.738528311252594, 0.7626068592071533, 0.8150869607925415, 0.751013457775116, 0.8068243265151978, 0.739285409450531, 0.771350085735321, 0.8172531127929688, 0.8310474157333374, 0.8402365446090698, 0.832207977771759, 0.8076512217521667, 0.9025815725326538, 0.8206369876861572, 0.8280205130577087, 0.7749568223953247, 0.8957021236419678, 1.053902268409729, 0.8824153542518616, 1.6013058423995972, 0.9213468432426453, 0.9181881546974182, 0.8572142720222473, 0.8423120379447937, 0.9903561472892761, 7.132488250732422, 0.9181236624717712, 1.5301202535629272, 2.7045319080352783, 2.76255202293396, 3.6998207569122314, 1.8491261005401611, 1.0594823360443115, 2.8277597427368164, 2.921889305114746, 2.0449328422546387, 1.8238393068313599, 3.91908860206604, 2.8192317485809326, 1.9767251014709473, 1.985058307647705, 2.7943079471588135, 3.228757619857788, 1.9467910528182983, 1.9870164394378662, 2.0095133781433105, 1.9968595504760742, 2.3010528087615967, 2.4114816188812256, 1.8785884380340576, 1.6918092966079712, 1.947095274925232, 2.0309910774230957, 2.023064136505127, 2.0176308155059814, 2.040471076965332, 0.6216850876808167, 0.5030596256256104, 0.503059983253479, 0.5030596256256104, 0.5030595660209656, 0.5030595064163208, 0.5030596256256104, 0.5030593872070312, 0.5030597448348999, 0.5030598640441895, 0.5030598640441895, 0.5030598044395447, 0.5030593276023865, 0.5030597448348999, 0.5030597448348999, 0.5030595660209656, 0.5030598640441895, 0.5030597448348999, 0.5030595660209656, 0.7858129739761353, 0.7829722166061401, 0.7932937145233154, 0.7840543985366821, 0.7873152494430542, 0.689283549785614, 0.7908244132995605, 0.7965288162231445, 0.7080109715461731, 0.7893741726875305, 0.7912436723709106, 0.795686662197113, 0.807235598564148, 0.787611186504364, 0.7936820387840271, 0.7828642129898071, 0.786954939365387, 0.7864775657653809, 0.7921479344367981, 0.7791615724563599, 0.782604992389679, 0.7834970951080322, 0.797788679599762, 0.7802627682685852, 0.7968072891235352, 0.7962395548820496, 0.798841118812561, 0.7888479232788086, 0.8000924587249756, 0.7948852181434631, 1.2505240440368652, 0.8017156720161438, 1.2567009925842285, 1.7326507568359375, 1.267735242843628, 1.2818512916564941, 1.243406057357788, 7.132488250732422, 1.2730481624603271, 1.4875956773757935, 2.8192317485809326, 1.8491261005401611, 1.7815747261047363, 1.2817649841308594, 1.6013058423995972, 1.8238393068313599, 1.9792392253875732, 2.1639750003814697, 1.9613926410675049, 2.7045319080352783, 2.034963846206665], \"loglift\": [30.0, 29.0, 28.0, 27.0, 26.0, 25.0, 24.0, 23.0, 22.0, 21.0, 20.0, 19.0, 18.0, 17.0, 16.0, 15.0, 14.0, 13.0, 12.0, 11.0, 10.0, 9.0, 8.0, 7.0, 6.0, 5.0, 4.0, 3.0, 2.0, 1.0, 0.611299991607666, 0.5922999978065491, 0.5770999789237976, 0.5645999908447266, 0.5631999969482422, 0.5590999722480774, 0.558899998664856, 0.5565999746322632, 0.5565999746322632, 0.54339998960495, 0.5396000146865845, 0.5393000245094299, 0.5299000144004822, 0.5263000130653381, 0.5253000259399414, 0.5252000093460083, 0.5250999927520752, 0.5220999717712402, 0.5220000147819519, 0.5203999876976013, 0.5196999907493591, 0.51910001039505, 0.5182999968528748, 0.5175999999046326, 0.5167999863624573, 0.516700029373169, 0.5163000226020813, 0.5162000060081482, 0.5156999826431274, 0.5156000256538391, 0.5123999714851379, 0.5065000057220459, 0.5153999924659729, 0.4848000109195709, 0.47760000824928284, 0.2272000014781952, -0.3718000054359436, 0.07660000026226044, 0.09510000050067902, 0.9596999883651733, 0.9545000195503235, 0.9139999747276306, 0.9106000065803528, 0.90829998254776, 0.8986999988555908, 0.8935999870300293, 0.8896999955177307, 0.8873999714851379, 0.8792999982833862, 0.8787999749183655, 0.8705000281333923, 0.8698999881744385, 0.8689000010490417, 0.8579999804496765, 0.853600025177002, 0.8525999784469604, 0.8418999910354614, 0.8413000106811523, 0.8374999761581421, 0.8373000025749207, 0.8356999754905701, 0.8353999853134155, 0.835099995136261, 0.8346999883651733, 0.833899974822998, 0.8317000269889832, 0.8307999968528748, 0.8306999802589417, 0.8289999961853027, 0.7950000166893005, 0.6875, 0.6355000138282776, 0.5529000163078308, 0.49160000681877136, 0.5038999915122986, 1.715399980545044, 1.6483999490737915, 1.6483999490737915, 1.646399974822998, 1.645300030708313, 1.642799973487854, 1.6412999629974365, 1.6397000551223755, 1.479200005531311, 1.4774999618530273, 1.4768999814987183, 1.4758000373840332, 1.4757000207901, 1.4752000570297241, 1.475100040435791, 1.4749000072479248, 1.4746999740600586, 1.4740999937057495, 1.4739999771118164, 1.4738999605178833, 1.4733999967575073, 1.473099946975708, 1.473099946975708, 1.4729000329971313, 1.4728000164031982, 1.4726999998092651, 1.4726999998092651, 1.472499966621399, 1.4723000526428223, 1.4722000360488892, 1.323199987411499, 1.2660000324249268, 0.857699990272522, 0.5519999861717224, 0.7378000020980835, 2.810800075531006, 2.810800075531006, 2.810800075531006, 2.810800075531006, 2.810800075531006, 2.810800075531006, 2.810800075531006, 2.810800075531006, 2.810800075531006, 2.810800075531006, 2.810800075531006, 2.810800075531006, 2.810800075531006, 2.810800075531006, 2.810800075531006, 2.810800075531006, 2.810800075531006, 2.810800075531006, 0.3856000006198883, 0.3370000123977661, 0.258899986743927, 0.2467000037431717, 0.22349999845027924, 0.21930000185966492, 0.2101999968290329, 0.19419999420642853, 0.18569999933242798, 0.18289999663829803, 0.1720999926328659, 0.17100000381469727, 0.1662999987602234, 0.15309999883174896, -0.3732999861240387, -1.301900029182434, -0.5770999789237976, -0.9455999732017517, -0.5210000276565552, -0.06469999998807907, -0.765500009059906, -0.7387999892234802, -0.5235000252723694, -0.7897999882698059, -0.5534999966621399, -1.0684000253677368, -0.805400013923645, -0.8429999947547913, -0.9279999732971191, -0.8190000057220459, 1.5098999738693237, 1.3490999937057495, 1.304900050163269, 1.2623000144958496, 1.2438000440597534, 1.236899971961975, 1.2366000413894653, 1.1878999471664429, 1.1614999771118164, 1.1434999704360962, 1.1396000385284424, 1.1331000328063965, 1.059000015258789, 1.052299976348877, 1.0442999601364136, 1.0326000452041626, 1.031999945640564, 1.0317000150680542, 1.018399953842163, 1.0123000144958496, 1.0115000009536743, 1.010599970817566, 0.9995999932289124, 0.9957000017166138, 0.987500011920929, 0.9843999743461609, 0.9775000214576721, 0.9648000001907349, 0.9581000208854675, 0.9506999850273132, 0.9144999980926514, 0.8532000184059143, 0.44859999418258667, 0.7063000202178955, 0.6172000169754028, 0.5767999887466431, 0.13359999656677246, 0.4496999979019165, 0.4147000014781952, 0.3862000107765198, 0.35690000653266907, -0.017899999395012856, 0.2741999924182892, 0.18330000340938568, 0.18629999458789825, 0.18310000002384186, 0.6894000172615051, 0.6855999827384949, 0.6728000044822693, 0.6621999740600586, 0.6525999903678894, 0.6492000222206116, 0.6480000019073486, 0.6407999992370605, 0.6385999917984009, 0.6230999827384949, 0.6189000010490417, 0.6173999905586243, 0.6093000173568726, 0.607699990272522, 0.6075000166893005, 0.6047999858856201, 0.604200005531311, 0.5960999727249146, 0.59579998254776, 0.5956000089645386, 0.5953999757766724, 0.5950000286102295, 0.5940999984741211, 0.593999981880188, 0.5931000113487244, 0.5913000106811523, 0.5895000100135803, 0.5853999853134155, 0.583899974822998, 0.5805000066757202, 0.3747999966144562, 0.45680001378059387, 0.44780001044273376, 0.4221000075340271, 0.4034000039100647, 0.3772999942302704, 0.34290000796318054, 0.33869999647140503, 0.2515000104904175, -0.40380001068115234, -0.36640000343322754, -0.23829999566078186, -0.219200000166893, -0.38440001010894775, -0.7411999702453613, -0.18119999766349792, -0.5131000280380249, -0.4729999899864197, -0.19990000128746033, -0.22769999504089355, -0.5289999842643738, -0.2102999985218048, -0.2379000037908554, -1.4429999589920044, -0.23149999976158142, -0.2621000111103058, 0.06120000034570694, -0.22010000050067902, -0.23469999432563782, -0.259799987077713, 0.6108999848365784, 0.5511000156402588, 0.5291000008583069, 0.5285000205039978, 0.5285000205039978, 0.5285000205039978, 0.5285000205039978, 0.5285000205039978, 0.5285000205039978, 0.5285000205039978, 0.5285000205039978, 0.5285000205039978, 0.5285000205039978, 0.5285000205039978, 0.5285000205039978, 0.5285000205039978, 0.5285000205039978, 0.5285000205039978, 0.5285000205039978, 0.5285000205039978, 0.5285000205039978, 0.5181999802589417, 0.5144000053405762, 0.5134999752044678, 0.5109000205993652, 0.5103999972343445, 0.5092999935150146, 0.5052000284194946, 0.5016000270843506, 0.5008999705314636, 0.498199999332428, 0.4968000054359436, 0.49079999327659607, 0.48489999771118164, 0.4837000072002411, 0.47859999537467957, 0.4771000146865845, 0.4724999964237213, 0.46639999747276306, 0.46720001101493835, 0.4672999978065491, 0.4778999984264374, 0.4674000144004822, 0.46619999408721924, 0.4652000069618225, 0.46799999475479126, 0.4593000113964081, 0.4494999945163727, 0.3578999936580658, 0.44620001316070557, 0.2791000008583069, 0.09849999845027924, 0.2337999939918518, -0.7299000024795532, 0.19290000200271606, 0.17219999432563782, 0.15360000729560852, -0.26579999923706055, -0.19840000569820404, 0.0869000032544136, -0.08820000290870667, -0.5465999841690063, -0.675000011920929, -0.193900004029274, -0.08190000057220459, -0.4837999939918518, -0.17949999868869781, -0.5932000279426575, -0.320499986410141, -0.2134999930858612, -0.3131999969482422, -0.9854000210762024, -0.37700000405311584, -0.07209999859333038, -0.3075999915599823, -0.3634999990463257, -0.36489999294281006, -0.10199999809265137, 0.6705999970436096, 0.5705999732017517, 0.5705999732017517, 0.5705999732017517, 0.5705999732017517, 0.5705999732017517, 0.5705999732017517, 0.5705999732017517, 0.5705999732017517, 0.5705999732017517, 0.5705999732017517, 0.5705999732017517, 0.5705999732017517, 0.5705999732017517, 0.5705999732017517, 0.5705999732017517, 0.5705999732017517, 0.5705999732017517, 0.5705999732017517, 0.5400999784469604, 0.5321000218391418, 0.5090000033378601, 0.5088000297546387, 0.5042999982833862, 0.5023999810218811, 0.5005000233650208, 0.46720001101493835, 0.459199994802475, 0.4560999870300293, 0.4537999927997589, 0.424699991941452, 0.4131999909877777, 0.40220001339912415, 0.38530001044273376, 0.4043000042438507, 0.41110000014305115, 0.39660000801086426, 0.3804999887943268, 0.3619000017642975, 0.37119999527931213, 0.37400001287460327, 0.36250001192092896, 0.3702999949455261, 0.3790999948978424, 0.352400004863739, 0.3479999899864197, 0.34119999408721924, 0.3188999891281128, 0.026599999517202377, -0.8044000267982483, -0.10930000245571136, 0.031199999153614044, 0.193900004029274, -0.057100001722574234, -0.17839999496936798, -0.012299999594688416, -0.19349999725818634, -0.15860000252723694, 0.16850000619888306, -0.1282999962568283, 0.22419999539852142, -0.19120000302791595, -0.16940000653266907, -0.2621000111103058, 0.11569999903440475, -0.516700029373169, -0.5601000189781189, 0.08640000224113464, -0.3176000118255615, -0.29170000553131104, 0.274399995803833, 0.14259999990463257, -0.2745000123977661, -0.9362999796867371, 0.0731000006198883, -0.4442000091075897, 0.1889999955892563, -0.46149998903274536, 0.05490000173449516, -0.7498000264167786, 0.6118000149726868, 0.5774000287055969, 0.5774000287055969, 0.5774000287055969, 0.5774000287055969, 0.5774000287055969, 0.5774000287055969, 0.5774000287055969, 0.5774000287055969, 0.5774000287055969, 0.5774000287055969, 0.5774000287055969, 0.5774000287055969, 0.5774000287055969, 0.5774000287055969, 0.5774000287055969, 0.5774000287055969, 0.5774000287055969, 0.5774000287055969, 0.5228000283241272, 0.45089998841285706, 0.4359999895095825, 0.43070000410079956, 0.4221999943256378, 0.41179999709129333, 0.4099999964237213, 0.3995000123977661, 0.3952000141143799, 0.3853999972343445, 0.383899986743927, 0.3732999861240387, 0.36000001430511475, 0.3522000014781952, 0.35519999265670776, 0.3580999970436096, 0.2842999994754791, 0.33230000734329224, 0.3264000117778778, 0.357699990272522, 0.27459999918937683, 0.1876000016927719, 0.2750000059604645, -0.051100000739097595, 0.2475000023841858, 0.249099999666214, 0.28540000319480896, 0.29420000314712524, 0.20509999990463257, -0.8914999961853027, 0.24639999866485596, -0.07150000333786011, -0.4383000135421753, -0.4657999873161316, -0.6680999994277954, -0.2150000035762787, 0.15219999849796295, -0.5278000235557556, -0.5544999837875366, -0.31450000405311584, -0.23680000007152557, -0.7882000207901001, -0.5533999800682068, -0.30070000886917114, -0.3043999969959259, -0.5687000155448914, -0.6812000274658203, -0.304500013589859, -0.32600000500679016, -0.33500000834465027, -0.3330000042915344, -0.44620001316070557, -0.4837000072002411, -0.2912999987602234, -0.20900000631809235, -0.32850000262260437, -0.3668999969959259, -0.3686999976634979, -0.3716000020503998, -0.38199999928474426, 0.6132000088691711, 0.6055999994277954, 0.6055999994277954, 0.6055999994277954, 0.6055999994277954, 0.6055999994277954, 0.6055999994277954, 0.6055999994277954, 0.6055999994277954, 0.6055999994277954, 0.6055999994277954, 0.6055999994277954, 0.6055999994277954, 0.6055999994277954, 0.6055999994277954, 0.6055999994277954, 0.6055999994277954, 0.6055999994277954, 0.6055999994277954, 0.6003999710083008, 0.5896000266075134, 0.5812000036239624, 0.5770000219345093, 0.5605999827384949, 0.5546000003814697, 0.5529999732971191, 0.5375999808311462, 0.5343999862670898, 0.5286999940872192, 0.5246000289916992, 0.5223000049591064, 0.5180000066757202, 0.5224999785423279, 0.5163999795913696, 0.5185999870300293, 0.5160999894142151, 0.5156000256538391, 0.5130000114440918, 0.5144000053405762, 0.5127999782562256, 0.5121999979019165, 0.503000020980835, 0.5063999891281128, 0.5008999705314636, 0.4993000030517578, 0.4964999854564667, 0.499099999666214, 0.49390000104904175, 0.49410000443458557, 0.3165999948978424, 0.48829999566078186, 0.2533999979496002, 0.053599998354911804, 0.2312999963760376, 0.22499999403953552, 0.23569999635219574, -0.8137999773025513, 0.18719999492168427, 0.07559999823570251, -0.4004000127315521, -0.13339999318122864, -0.14509999752044678, 0.10329999774694443, -0.11209999769926071, -0.23960000276565552, -0.33480000495910645, -0.41839998960494995, -0.3393999934196472, -0.6654999852180481, -0.41100001335144043], \"logprob\": [30.0, 29.0, 28.0, 27.0, 26.0, 25.0, 24.0, 23.0, 22.0, 21.0, 20.0, 19.0, 18.0, 17.0, 16.0, 15.0, 14.0, 13.0, 12.0, 11.0, 10.0, 9.0, 8.0, 7.0, 6.0, 5.0, 4.0, 3.0, 2.0, 1.0, -4.041399955749512, -4.988699913024902, -5.268400192260742, -5.342299938201904, -5.372799873352051, -5.3846001625061035, -5.375800132751465, -5.415500164031982, -5.38730001449585, -5.465199947357178, -5.476799964904785, -5.463399887084961, -5.793000221252441, -5.835000038146973, -5.843400001525879, -5.820700168609619, -5.514800071716309, -5.846700191497803, -5.842899799346924, -5.856800079345703, -5.860599994659424, -5.8572001457214355, -5.573299884796143, -5.865099906921387, -5.866000175476074, -5.854100227355957, -5.8856000900268555, -5.887800216674805, -5.881400108337402, -5.8805999755859375, -5.559199810028076, -5.640100002288818, -5.877699851989746, -5.707300186157227, -5.742599964141846, -5.395199775695801, -5.623300075531006, -5.790599822998047, -5.8069000244140625, -4.349400043487549, -4.590700149536133, -4.990200042724609, -5.020100116729736, -4.993100166320801, -4.679299831390381, -5.006800174713135, -5.019100189208984, -5.025400161743164, -5.048500061035156, -5.046999931335449, -5.057700157165527, -5.049699783325195, -5.046500205993652, -5.073800086975098, -5.063399791717529, -5.087800025939941, -4.748000144958496, -5.109899997711182, -5.601099967956543, -5.6020002365112305, -5.5960001945495605, -5.616600036621094, -5.614999771118164, -5.608399868011475, -5.614799976348877, -5.631499767303467, -5.616000175476074, -5.614099979400635, -5.616499900817871, -5.156099796295166, -4.757800102233887, -4.616000175476074, -5.184199810028076, -5.1097002029418945, -5.280099868774414, -4.352399826049805, -4.720699787139893, -4.720799922943115, -4.729499816894531, -4.734899997711182, -4.746099948883057, -4.752500057220459, -4.759799957275391, -5.349100112915039, -5.354000091552734, -5.355800151824951, -5.359000205993652, -5.359300136566162, -5.360899925231934, -5.361100196838379, -5.361700057983398, -5.362299919128418, -5.363900184631348, -5.3643999099731445, -5.364699840545654, -5.366099834442139, -5.3668999671936035, -5.3668999671936035, -5.367499828338623, -5.367700099945068, -5.368199825286865, -5.368199825286865, -5.368599891662598, -5.36929988861084, -5.369699954986572, -4.915299892425537, -4.964900016784668, -4.926300048828125, -4.8933000564575195, -4.9994001388549805, -4.493599891662598, -4.493599891662598, -4.493599891662598, -4.493599891662598, -4.493599891662598, -4.493599891662598, -4.493599891662598, -4.493599891662598, -4.493599891662598, -4.493599891662598, -4.493599891662598, -4.493599891662598, -4.49370002746582, -4.49370002746582, -4.493599891662598, -4.49370002746582, -4.49370002746582, -4.49370002746582, -6.707200050354004, -6.652500152587891, -6.703800201416016, -6.672800064086914, -6.697000026702881, -6.713099956512451, -6.69350004196167, -6.752200126647949, -6.691299915313721, -6.70550012588501, -6.6168999671936035, -6.659999847412109, -6.646900177001953, -6.666100025177002, -6.389699935913086, -5.954699993133545, -6.361199855804443, -6.254700183868408, -6.42519998550415, -6.585899829864502, -6.343400001525879, -6.361299991607666, -6.442999839782715, -6.370800018310547, -6.45389986038208, -6.319900035858154, -6.395199775695801, -6.388199806213379, -6.3734002113342285, -6.420199871063232, -5.582799911499023, -5.640399932861328, -5.657800197601318, -5.684100151062012, -5.688600063323975, -5.683599948883057, -5.682799816131592, -5.715799808502197, -5.726900100708008, -5.728899955749512, -5.7332000732421875, -5.743899822235107, -5.7729997634887695, -5.77869987487793, -5.776599884033203, -5.780600070953369, -5.789899826049805, -5.783400058746338, -5.789899826049805, -5.790200233459473, -5.807700157165527, -5.795499801635742, -5.8003997802734375, -5.795100212097168, -5.8007001876831055, -5.816699981689453, -5.811500072479248, -5.826600074768066, -5.823500156402588, -5.829599857330322, -5.305699825286865, -5.338900089263916, -4.204100131988525, -5.440199851989746, -5.474400043487549, -5.494800090789795, -5.447299957275391, -5.590199947357178, -5.593900203704834, -5.630300045013428, -5.6458001136779785, -5.640399932861328, -5.69789981842041, -5.752600193023682, -5.757699966430664, -5.7606000900268555, -6.1697001457214355, -6.179900169372559, -6.187900066375732, -6.19920015335083, -6.19920015335083, -6.206399917602539, -6.211299896240234, -6.217700004577637, -6.228400230407715, -6.226200103759766, -6.2342000007629395, -6.230899810791016, -6.237599849700928, -6.243899822235107, -6.243500232696533, -6.252600193023682, -6.252799987792969, -6.25629997253418, -6.240799903869629, -6.262400150299072, -6.2667999267578125, -6.2596001625061035, -6.25570011138916, -6.261300086975098, -6.2565999031066895, -6.2606000900268555, -6.255899906158447, -6.259500026702881, -6.26200008392334, -6.264599800109863, -5.692999839782715, -5.93209981918335, -5.951700210571289, -5.971700191497803, -5.976799964904785, -5.998700141906738, -6.026299953460693, -6.030399799346924, -5.979400157928467, -5.712900161743164, -5.811699867248535, -5.975399971008301, -6.003200054168701, -5.9741997718811035, -5.992700099945068, -6.10699987411499, -6.058300018310547, -6.0742998123168945, -6.1305999755859375, -6.131999969482422, -6.106900215148926, -6.138599872589111, -6.150599956512451, -6.095799922943115, -6.1631999015808105, -6.162499904632568, -6.177299976348877, -6.171199798583984, -6.17519998550415, -6.176799774169922, -6.481800079345703, -6.310299873352051, -6.325399875640869, -6.776000022888184, -6.776000022888184, -6.776000022888184, -6.776000022888184, -6.776000022888184, -6.776000022888184, -6.776000022888184, -6.776000022888184, -6.776000022888184, -6.776000022888184, -6.776000022888184, -6.776000022888184, -6.776000022888184, -6.776000022888184, -6.776000022888184, -6.776000022888184, -6.776000022888184, -6.776000022888184, -6.344299793243408, -6.337800025939941, -6.44920015335083, -6.478600025177002, -6.3516998291015625, -6.437099933624268, -6.352399826049805, -6.354499816894531, -6.35099983215332, -6.36870002746582, -6.355100154876709, -6.368500232696533, -6.365200042724609, -6.374300003051758, -6.367000102996826, -6.381999969482422, -6.372799873352051, -6.378200054168701, -6.383200168609619, -6.386600017547607, -6.454500198364258, -6.389999866485596, -6.389100074768066, -6.391300201416016, -6.435699939727783, -6.402900218963623, -6.4019999504089355, -6.041600227355957, -6.394400119781494, -6.114799976348877, -5.969200134277344, -6.155099868774414, -5.382699966430664, -6.176300048828125, -6.203800201416016, -6.226600170135498, -6.049799919128418, -6.142399787902832, -6.282199859619141, -6.234799861907959, -6.127500057220459, -6.120299816131592, -6.233799934387207, -6.27400016784668, -6.2210001945495605, -6.271200180053711, -6.215700149536133, -6.255199909210205, -6.284999847412109, -6.285399913787842, -6.2368998527526855, -6.283899784088135, -6.3105998039245605, -6.300300121307373, -6.2993998527526855, -6.308700084686279, -6.322199821472168, -6.4222002029418945, -6.733799934387207, -6.733799934387207, -6.733799934387207, -6.733799934387207, -6.733799934387207, -6.733799934387207, -6.733799934387207, -6.733799934387207, -6.733799934387207, -6.733799934387207, -6.733799934387207, -6.733799934387207, -6.733799934387207, -6.733799934387207, -6.733799934387207, -6.733799934387207, -6.733799934387207, -6.733799934387207, -6.392300128936768, -6.457399845123291, -6.453700065612793, -6.410600185394287, -6.4421000480651855, -6.386000156402588, -6.403299808502197, -6.409800052642822, -6.413599967956543, -6.416200160980225, -6.466700077056885, -6.396200180053711, -6.406099796295166, -6.3892998695373535, -6.357100009918213, -6.3968000411987305, -6.410799980163574, -6.4116997718811035, -6.386199951171875, -6.359099864959717, -6.378900051116943, -6.406400203704834, -6.395299911499023, -6.420499801635742, -6.435999870300293, -6.39900016784668, -6.394499778747559, -6.385900020599365, -6.379700183868408, -6.119999885559082, -5.457099914550781, -6.081399917602539, -6.1890997886657715, -6.301199913024902, -6.14870023727417, -6.113100051879883, -6.204400062561035, -6.137199878692627, -6.175099849700928, -6.313499927520752, -6.199900150299072, -6.3414998054504395, -6.19980001449585, -6.2093000411987305, -6.1981000900268555, -6.315899848937988, -6.139200210571289, -6.14109992980957, -6.315499782562256, -6.2245001792907715, -6.235599994659424, -6.363100051879883, -6.340099811553955, -6.277200222015381, -6.18779993057251, -6.338500022888184, -6.289599895477295, -6.356200218200684, -6.328700065612793, -6.3506999015808105, -6.35099983215332, -6.480899810791016, -6.7270002365112305, -6.7270002365112305, -6.7270002365112305, -6.7270002365112305, -6.7270002365112305, -6.7270002365112305, -6.7270002365112305, -6.7270002365112305, -6.7270002365112305, -6.7270002365112305, -6.7270002365112305, -6.7270002365112305, -6.7270002365112305, -6.7270002365112305, -6.7270002365112305, -6.7270002365112305, -6.7270002365112305, -6.7270002365112305, -6.466700077056885, -6.481599807739258, -6.51039981842041, -6.5320000648498535, -6.498300075531006, -6.476600170135498, -6.411900043487549, -6.504199981689453, -6.4369001388549805, -6.53410005569458, -6.493100166320801, -6.446000099182129, -6.442500114440918, -6.439300060272217, -6.445799827575684, -6.472899913787842, -6.4355998039245605, -6.482800006866455, -6.479700088500977, -6.514599800109863, -6.452899932861328, -6.377299785614014, -6.46750020980835, -6.197700023651123, -6.4517998695373535, -6.45359992980957, -6.486100196838379, -6.494800090789795, -6.421999931335449, -5.544300079345703, -6.456399917602539, -6.263599872589111, -6.060800075531006, -6.0671000480651855, -5.977200031280518, -6.217700004577637, -6.407400131225586, -6.1057000160217285, -6.099599838256836, -6.2164998054504395, -6.253300189971924, -6.039700031280518, -6.134300231933594, -6.236599922180176, -6.236100196838379, -6.1585001945495605, -6.126500129699707, -6.25570011138916, -6.256800174713135, -6.254499912261963, -6.258800029754639, -6.230299949645996, -6.220900058746338, -6.27810001373291, -6.300600051879883, -6.2795000076293945, -6.2758002281188965, -6.281499862670898, -6.287099838256836, -6.286300182342529, -6.479599952697754, -6.698800086975098, -6.698800086975098, -6.698800086975098, -6.698800086975098, -6.698800086975098, -6.698800086975098, -6.698800086975098, -6.698800086975098, -6.698800086975098, -6.698800086975098, -6.698800086975098, -6.698800086975098, -6.698800086975098, -6.698800086975098, -6.698800086975098, -6.698800086975098, -6.698800086975098, -6.698800086975098, -6.2581000328063965, -6.272500038146973, -6.2677001953125, -6.283699989318848, -6.295899868011475, -6.434899806976318, -6.298999786376953, -6.307300090789795, -6.428299903869629, -6.325200080871582, -6.326900005340576, -6.323699951171875, -6.313499927520752, -6.333600044250488, -6.331999778747559, -6.343599796295166, -6.34089994430542, -6.3420000076293945, -6.337399959564209, -6.352499961853027, -6.349800109863281, -6.3491997718811035, -6.340400218963623, -6.359099864959717, -6.343599796295166, -6.345900058746338, -6.3454999923706055, -6.355500221252441, -6.346499919891357, -6.35290002822876, -6.077300071716309, -6.350100040435791, -6.135499954223633, -6.014100074768066, -6.148900032043457, -6.144100189208984, -6.163899898529053, -5.4664998054504395, -6.188799858093262, -6.144599914550781, -5.981400012969971, -6.136099815368652, -6.184999942779541, -6.265900135040283, -6.258699893951416, -6.256100177764893, -6.269499778747559, -6.263899803161621, -6.283199787139893, -6.287899971008301, -6.31790018081665]}, \"token.table\": {\"Topic\": [1, 3, 2, 2, 1, 1, 1, 1, 1, 3, 3, 2, 2, 2, 1, 3, 1, 1, 3, 1, 2, 2, 3, 3, 1, 3, 1, 3, 1, 2, 3, 3, 2, 3, 2, 3, 3, 2, 1, 1, 3, 3, 1, 3, 1, 1, 2, 2, 3, 3, 1, 3, 1, 3, 1, 3, 3, 3, 2, 3, 1, 1, 1, 3, 1, 2, 2, 1, 1, 1, 2, 1, 3, 1, 2, 1, 1, 2, 2, 2, 2, 1, 2, 1, 2, 3, 3, 3, 3, 1, 1, 1, 3, 1, 3, 1, 1, 3, 1, 3, 1, 1, 3, 3, 3, 1, 3, 1, 2, 1, 1, 2, 2, 1, 2, 1, 3, 3, 1, 1, 1, 2, 3, 3, 3, 1, 2, 3, 1, 3, 3, 1, 1, 1, 3, 3, 3, 3, 1, 3, 3, 3, 1, 1, 2, 3, 2, 2, 1, 2, 3, 1, 1, 1, 3, 2, 1, 1, 1, 1, 3, 3, 3, 1, 2, 3, 3, 3, 3, 2, 3, 2, 1, 3, 3, 3, 1, 2, 3, 2, 3, 3, 1, 3, 3, 1, 1, 3, 1, 1, 3, 1, 2, 3, 3, 1, 1, 3, 1, 2, 3, 1, 2, 3, 3, 3, 3, 3, 3, 3, 3, 3, 3, 3, 3, 3, 1, 1, 1, 1, 1, 1, 1, 1], \"Freq\": [1.1609539985656738, 1.249383807182312, 0.8304809331893921, 0.9773399829864502, 0.779799222946167, 0.93038409948349, 0.8304182887077332, 1.2236111164093018, 1.2033008337020874, 1.2676714658737183, 1.283430814743042, 0.8459534645080566, 0.988599419593811, 0.8432091474533081, 0.7798798084259033, 1.2455962896347046, 1.2162621021270752, 0.8740150928497314, 1.2668263912200928, 0.8077778816223145, 0.9912616014480591, 0.9764263033866882, 1.2690017223358154, 1.2615669965744019, 0.6535434126853943, 1.2559034824371338, 1.2002874612808228, 1.2763289213180542, 0.5354435443878174, 0.5354435443878174, 1.259726881980896, 1.2816195487976074, 0.8420277237892151, 1.27644681930542, 0.6194332838058472, 0.3097166419029236, 1.2771844863891602, 0.8368345499038696, 1.0891014337539673, 0.7865038514137268, 1.2567760944366455, 1.2551398277282715, 1.0199017524719238, 1.2580475807189941, 0.8061582446098328, 1.1901410818099976, 0.8399810194969177, 0.9082892537117004, 1.264096736907959, 1.2646461725234985, 0.949605405330658, 1.2707208395004272, 0.8848644495010376, 1.2754217386245728, 1.2909759283065796, 1.2504417896270752, 1.2773606777191162, 1.2725673913955688, 0.4146828353404999, 0.4146828353404999, 0.9242250919342041, 1.2394272089004517, 1.178402304649353, 1.2534648180007935, 0.873330295085907, 0.8475523591041565, 0.5135855674743652, 1.0965877771377563, 1.2381582260131836, 0.9828184247016907, 0.8415208458900452, 0.7909299731254578, 1.2630555629730225, 0.5323145985603333, 0.5323145985603333, 0.8091675043106079, 0.4890136122703552, 0.4890136122703552, 0.7072736620903015, 0.9438571929931641, 0.5019859075546265, 1.0891778469085693, 0.6844886541366577, 0.2551613748073578, 0.5103227496147156, 0.6846139430999756, 0.8042424917221069, 1.251290202140808, 1.2475533485412598, 1.1862316131591797, 0.7622050642967224, 0.7094131112098694, 1.2387957572937012, 1.1769213676452637, 1.2493778467178345, 0.8022828102111816, 0.790825605392456, 1.2567044496536255, 1.0117744207382202, 1.2624398469924927, 0.8139861226081848, 0.5613011717796326, 1.2658281326293945, 1.2638331651687622, 1.240262746810913, 1.020351529121399, 1.2469292879104614, 0.8412211537361145, 1.006534218788147, 0.7448603510856628, 1.1893192529678345, 0.9847409129142761, 0.4963891804218292, 0.36198413372039795, 0.36198413372039795, 1.0845774412155151, 1.2599503993988037, 1.2638440132141113, 1.1332532167434692, 0.7768158912658691, 0.4722840487957001, 0.4722840487957001, 1.264233946800232, 1.2605671882629395, 1.244573950767517, 0.7815113067626953, 0.4345836937427521, 0.4345836937427521, 1.2076995372772217, 1.268664002418518, 1.264319896697998, 1.166569471359253, 0.7889280915260315, 1.2903944253921509, 1.2451167106628418, 1.2518134117126465, 1.2642027139663696, 0.7996647357940674, 0.8014893531799316, 1.2623904943466187, 1.2619762420654297, 0.7888082265853882, 0.6722256541252136, 1.1091350317001343, 0.8362854719161987, 1.2648895978927612, 0.8448019623756409, 0.5136657953262329, 0.7394995093345642, 0.3697497546672821, 1.2720040082931519, 1.2964282035827637, 1.019683599472046, 1.0853675603866577, 1.248699426651001, 1.003507137298584, 1.218565583229065, 1.141964316368103, 0.6244903206825256, 1.087999701499939, 1.255008578300476, 0.7801216840744019, 1.2609832286834717, 1.1872085332870483, 0.9952658414840698, 1.2554473876953125, 1.2725882530212402, 1.2560756206512451, 1.255690336227417, 1.0015727281570435, 1.2473249435424805, 0.9801658391952515, 1.0104892253875732, 1.2674778699874878, 1.2504181861877441, 1.2580432891845703, 1.0490456819534302, 0.8108500838279724, 1.2500417232513428, 0.5037635564804077, 0.5771503448486328, 1.2777838706970215, 0.9488545656204224, 1.2429205179214478, 1.2563647031784058, 0.5793658494949341, 1.0097377300262451, 1.270139217376709, 1.2255951166152954, 0.7740171551704407, 1.2516326904296875, 1.0815919637680054, 0.508144199848175, 1.2615940570831299, 1.2645032405853271, 1.1079330444335938, 1.1164425611495972, 0.7855162620544434, 0.5910831689834595, 0.7157407402992249, 0.6794634461402893, 0.7857803106307983, 0.8570967316627502, 1.2507797479629517, 1.2696620225906372, 0.780174195766449, 1.2714921236038208, 1.271265983581543, 1.2348065376281738, 1.24313485622406, 1.255508542060852, 1.2734074592590332, 0.7957342267036438, 1.273682951927185, 1.2444571256637573, 1.2498555183410645, 1.1433390378952026, 1.210363745689392, 0.7989993691444397, 1.115967035293579, 1.226862907409668, 1.1507447957992554, 1.1331756114959717, 1.201622724533081], \"Term\": [\"acano\", \"adult\", \"age\", \"aint\", \"aish\", \"akihabara\", \"alasan\", \"alay\", \"amen\", \"anch\", \"ankara\", \"antoin\", \"aqu\\u00ed\", \"asleep\", \"bang\", \"baromet\", \"beach\", \"begadang\", \"biglietti\", \"bilingu\", \"birthday\", \"blast\", \"brigitte_ba\", \"brun\", \"buat\", \"bursa\", \"burukkkk\", \"buzz\", \"caf\\u00e9\", \"caf\\u00e9\", \"cheltenham\", \"chill\", \"clon\", \"collect\", \"come\", \"come\", \"cool\", \"coupl\", \"cover\", \"dararhn\", \"definit\", \"dersanesi\", \"dessert\", \"devo\", \"dimana\", \"dimanako\", \"dispon\", \"djdrama\", \"dprint\", \"drewbeatsuk\", \"dwiik_da\", \"earli\", \"english\", \"erikli\", \"european\", \"exet\", \"eymir\", \"fab\", \"fall\", \"fall\", \"famou\", \"fatih\", \"feat\", \"fitbit\", \"footbal\", \"french\", \"fuck\", \"galau\", \"ganteng\", \"good\", \"great\", \"guebangettweet\", \"g\\u00fcng\\u00f6ren\", \"haha\", \"haha\", \"hahaha\", \"happi\", \"happi\", \"hard\", \"hat\", \"hate\", \"hihi\", \"hoe\", \"home\", \"home\", \"hous\", \"humid\", \"hustler\", \"ibrajug\", \"ikutan\", \"ilovey\", \"jadi\", \"jaredvampir\", \"jckggpi\", \"jlthfc\", \"johandadinata\", \"judulnya\", \"kadikoy\", \"kasian\", \"kavgas\\u0131\", \"kecil\", \"kenapa\", \"kenar\\u0131\", \"key\", \"konutlar\\u0131\", \"kotu\", \"k\\u0131z\\u0131l\\u0131rmak\", \"lagi\", \"lazi\", \"lbir\", \"lcct\", \"like\", \"lmao\", \"love\", \"love\", \"lunchyyi\", \"luwzsrotzg\", \"machin\", \"maxebr\", \"member\", \"music\", \"music\", \"mxho\", \"nehri\", \"nestl\", \"ngantuk\", \"night\", \"night\", \"nobar\", \"oggi\", \"opqfhmp\", \"orang\", \"pada\", \"pandai\", \"park\", \"paynard\", \"pre\", \"prender\", \"prote\", \"qsaymf\", \"quietest\", \"rain\", \"randik_akew\", \"reason\", \"robbyyrayi\", \"robot\", \"saint\", \"say\", \"school\", \"school\", \"scottnyood\", \"selat\", \"semua\", \"sept\", \"shadowgoldxx\", \"shit\", \"shope\", \"show\", \"siang\", \"siap\", \"silverston\", \"skilip\", \"slowli\", \"smash\", \"sooo\", \"starbuck\", \"start\", \"steadi\", \"stronzetta\", \"stuff\", \"t_crane\", \"talk\", \"tapi\", \"teaser\", \"temp\", \"temperatur\", \"test\", \"text\", \"time\", \"tire\", \"today\", \"trip\", \"tspot\", \"tugbalata\", \"t\\u00fcrkiy\", \"udah\", \"ughsd\", \"ukweath\", \"uongkep\", \"uzsuqztgjd\", \"vado\", \"wanita\", \"want\", \"warlecilson\", \"water\", \"weekend\", \"wendi\", \"wind\", \"wkwk\", \"work\", \"worth\", \"ybye\", \"year\", \"yine\", \"zeu\", \"zwoll\", \"\\u00e9galement\", \"\\u0431\\u043e\\u044e\\u0441\\u044c\", \"\\u0434\\u043e\\u0431\\u0440\\u043e\\u0435\", \"\\u043b\\u0435\\u043d\\u0442\\u0430\", \"\\u043d\\u0435\\u043c\\u043d\\u043e\\u0433\\u043e\", \"\\u0441\\u0430\\u043c\\u043e\\u0435\", \"\\u0443\\u0434\\u0430\\u0447\\u0438\", \"\\u0443\\u0442\\u0440\\u043e\", \"\\u0444\\u0443\\u0442\\u0431\\u043e\\u043b\\u0430\", \"\\u0447\\u0443\\u0432\\u0430\\u043a\", \"\\u3072\\u3068\\u3063\\u98a8\\u5442\", \"\\u30aa\\u30d0\\u30de\\u6c7a\\u65ad\", \"\\u30e6\\u30c0\\u30e4\\u3068\\u8ecd\\u7523\\u8907\\u5408\\u4f53\\u306b\\u8ca0\\u3051\\u305f\", \"\\u4e16\\u754c\\u306f\\u5927\\u52d5\\u4e71\\u6642\\u4ee3\\u306b\\u306a\\u308b\", \"\\u54c0\\u308c\\u306a\\u5927\\u7d71\\u9818\", \"\\u717d\\u3089\\u308c\\u305f\\u304b\", \"\\u79c1\\u306f\\u4fe1\\u3058\\u308b\\u3088\\u3093\", \"\\u7c73\\u56fd\\u306e\\u7406\\u6027\\u306e\\u7d42\\u7109\\u306f\"]}, \"R\": 30, \"lambda.step\": 0.01, \"plot.opts\": {\"xlab\": \"PC1\", \"ylab\": \"PC2\"}, \"topic.order\": [5, 3, 9, 6, 1, 4, 7, 2, 10, 8]};\n",
       "\n",
       "function LDAvis_load_lib(url, callback){\n",
       "  var s = document.createElement('script');\n",
       "  s.src = url;\n",
       "  s.async = true;\n",
       "  s.onreadystatechange = s.onload = callback;\n",
       "  s.onerror = function(){console.warn(\"failed to load library \" + url);};\n",
       "  document.getElementsByTagName(\"head\")[0].appendChild(s);\n",
       "}\n",
       "\n",
       "if(typeof(LDAvis) !== \"undefined\"){\n",
       "   // already loaded: just create the visualization\n",
       "   !function(LDAvis){\n",
       "       new LDAvis(\"#\" + \"ldavis_el4681150609238249430557530\", ldavis_el4681150609238249430557530_data);\n",
       "   }(LDAvis);\n",
       "}else if(typeof define === \"function\" && define.amd){\n",
       "   // require.js is available: use it to load d3/LDAvis\n",
       "   require.config({paths: {d3: \"https://cdnjs.cloudflare.com/ajax/libs/d3/3.5.5/d3.min\"}});\n",
       "   require([\"d3\"], function(d3){\n",
       "      window.d3 = d3;\n",
       "      LDAvis_load_lib(\"https://cdn.rawgit.com/bmabey/pyLDAvis/files/ldavis.v1.0.0.js\", function(){\n",
       "        new LDAvis(\"#\" + \"ldavis_el4681150609238249430557530\", ldavis_el4681150609238249430557530_data);\n",
       "      });\n",
       "    });\n",
       "}else{\n",
       "    // require.js not available: dynamically load d3 & LDAvis\n",
       "    LDAvis_load_lib(\"https://cdnjs.cloudflare.com/ajax/libs/d3/3.5.5/d3.min.js\", function(){\n",
       "         LDAvis_load_lib(\"https://cdn.rawgit.com/bmabey/pyLDAvis/files/ldavis.v1.0.0.js\", function(){\n",
       "                 new LDAvis(\"#\" + \"ldavis_el4681150609238249430557530\", ldavis_el4681150609238249430557530_data);\n",
       "            })\n",
       "         });\n",
       "}\n",
       "</script>"
      ],
      "text/plain": [
       "<IPython.core.display.HTML object>"
      ]
     },
     "execution_count": 118,
     "metadata": {},
     "output_type": "execute_result"
    }
   ],
   "source": [
    "import pyLDAvis.gensim\n",
    "lda_display = pyLDAvis.gensim.prepare(lda_model, bow_corpus, dictionary)\n",
    "pyLDAvis.display(lda_display)"
   ]
  },
  {
   "cell_type": "code",
   "execution_count": null,
   "metadata": {},
   "outputs": [],
   "source": []
  }
 ],
 "metadata": {
  "kernelspec": {
   "display_name": "Python 3",
   "language": "python",
   "name": "python3"
  },
  "language_info": {
   "codemirror_mode": {
    "name": "ipython",
    "version": 3
   },
   "file_extension": ".py",
   "mimetype": "text/x-python",
   "name": "python",
   "nbconvert_exporter": "python",
   "pygments_lexer": "ipython3",
   "version": "3.6.9"
  }
 },
 "nbformat": 4,
 "nbformat_minor": 4
}
