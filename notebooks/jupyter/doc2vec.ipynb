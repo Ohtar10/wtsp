{
 "cells": [
  {
   "cell_type": "markdown",
   "metadata": {},
   "source": [
    "# Document Vectors\n",
    "This notebook is a playground on how to use gensim and the Doc2Vec model and use it to classify documents\n",
    "\n",
    "## Resources\n",
    "* https://medium.com/@mishra.thedeepak/doc2vec-simple-implementation-example-df2afbbfbad5\n",
    "* https://medium.com/wisio/a-gentle-introduction-to-doc2vec-db3e8c0cce5e\n",
    "* http://yaronvazana.com/2018/01/20/training-doc2vec-model-with-gensim/\n",
    "* https://towardsdatascience.com/understand-how-to-transfer-your-paragraph-to-vector-by-doc2vec-1e225ccf102\n",
    "* https://github.com/RaRe-Technologies/gensim/blob/ca0dcaa1eca8b1764f6456adac5719309e0d8e6d/docs/notebooks/doc2vec-IMDB.ipynb\n",
    "\n",
    "## Basic example\n",
    "This example is very basic and serve as a reference on how to use gensim and train a doc2vec model."
   ]
  },
  {
   "cell_type": "code",
   "execution_count": 1,
   "metadata": {},
   "outputs": [
    {
     "name": "stderr",
     "output_type": "stream",
     "text": [
      "[nltk_data] Error loading punkt: <urlopen error [Errno -2] Name or\n",
      "[nltk_data]     service not known>\n"
     ]
    },
    {
     "data": {
      "text/plain": [
       "[TaggedDocument(words=['i', 'love', 'machine', 'learning', '.', 'it', \"'s\", 'awesome'], tags=['0']),\n",
       " TaggedDocument(words=['i', 'love', 'coding', 'in', 'python'], tags=['1']),\n",
       " TaggedDocument(words=['i', 'love', 'building', 'software'], tags=['2']),\n",
       " TaggedDocument(words=['they', 'chat', 'amagingly', 'well'], tags=['3'])]"
      ]
     },
     "execution_count": 1,
     "metadata": {},
     "output_type": "execute_result"
    }
   ],
   "source": [
    "from gensim.models.doc2vec import Doc2Vec, TaggedDocument\n",
    "import nltk\n",
    "from nltk.tokenize import word_tokenize\n",
    "\n",
    "nltk.download('punkt')\n",
    "\n",
    "# Simple dataset\n",
    "data = [\"I love machine learning. It's awesome\",\n",
    "       \"I love coding in python\",\n",
    "       \"I love building software\",\n",
    "       \"they chat amagingly well\"]\n",
    "\n",
    "# create tagged version of the documents\n",
    "tagged_data = [TaggedDocument(words=word_tokenize(_d.lower()), tags=[str(i)]) for i, _d in enumerate(data)]\n",
    "tagged_data"
   ]
  },
  {
   "cell_type": "markdown",
   "metadata": {},
   "source": [
    "Notice each document was split in tokens and a dummy tag was assigned to it.\n",
    "\n",
    "Now let's train a model with this dummy data."
   ]
  },
  {
   "cell_type": "code",
   "execution_count": 2,
   "metadata": {},
   "outputs": [],
   "source": [
    "max_epochs = 100\n",
    "vec_size = 20\n",
    "alpha = 0.025\n",
    "\n",
    "# dm = 1 : Distributed Memory PV-DM\n",
    "# dm = 0: Distributed BoW PV-DBOW\n",
    "model = Doc2Vec(vector_size=vec_size,\n",
    "               alpha=alpha,\n",
    "               min_alpha=0.00025,\n",
    "               min_count=1,\n",
    "               dm=1)\n",
    "\n",
    "model.build_vocab(tagged_data)\n",
    "\n",
    "for each in range(max_epochs):\n",
    "    model.train(tagged_data,\n",
    "               total_examples=model.corpus_count,\n",
    "               epochs=model.epochs)\n",
    "    # decrease the learning rate\n",
    "    model.alpha -= 0.0002\n",
    "    # fix the learning rate, no decay\n",
    "    model.min_alpha = model.alpha\n",
    "    \n",
    "model.save(\"/tmp/d2v.model\")"
   ]
  },
  {
   "cell_type": "markdown",
   "metadata": {},
   "source": [
    "The model is trained, now it's time to test it.\n",
    "\n",
    "### Find the vector of a document that is no in the training data"
   ]
  },
  {
   "cell_type": "code",
   "execution_count": 3,
   "metadata": {},
   "outputs": [
    {
     "name": "stdout",
     "output_type": "stream",
     "text": [
      "Vector for ['i', 'love', 'chatbots']: [-0.01910627 -0.00333953  0.01483052  0.01896009  0.00247258  0.02179898\n",
      " -0.02117966 -0.02387159  0.01754193 -0.00556776  0.02283072 -0.01007717\n",
      "  0.00454835  0.01267928 -0.02109297 -0.00803433  0.0121988  -0.02231351\n",
      "  0.00245329 -0.02363222]\n"
     ]
    }
   ],
   "source": [
    "model = Doc2Vec.load(\"/tmp/d2v.model\")\n",
    "# Find the vector of a document which is not in the training data\n",
    "test_data = word_tokenize(\"I love chatbots\".lower())\n",
    "v1 = model.infer_vector(test_data)\n",
    "print(f\"Vector for {test_data}: {v1}\")"
   ]
  },
  {
   "cell_type": "markdown",
   "metadata": {},
   "source": [
    "### Find the most similar documents by tag"
   ]
  },
  {
   "cell_type": "code",
   "execution_count": 4,
   "metadata": {},
   "outputs": [
    {
     "name": "stdout",
     "output_type": "stream",
     "text": [
      "('0', 0.9877084493637085)\n",
      "('2', 0.9780044555664062)\n",
      "('3', 0.9771534204483032)\n"
     ]
    }
   ],
   "source": [
    "similar_doc = model.docvecs.most_similar(\"1\")\n",
    "for doc in similar_doc:\n",
    "    print(doc)"
   ]
  },
  {
   "cell_type": "markdown",
   "metadata": {},
   "source": [
    "Here we are saying that the most similar document to document with tag '1' is the document with tag 0"
   ]
  },
  {
   "cell_type": "markdown",
   "metadata": {},
   "source": [
    "### Find the vector of a document in training data using tags"
   ]
  },
  {
   "cell_type": "code",
   "execution_count": 5,
   "metadata": {},
   "outputs": [
    {
     "name": "stdout",
     "output_type": "stream",
     "text": [
      "[-0.19321805  0.00946209 -0.05093003  0.0928799   0.00715169  0.30724257\n",
      " -0.2375986  -0.18978545 -0.38762224  0.19610381 -0.18942718 -0.0821055\n",
      "  0.2865829   0.19896929 -0.45409027 -0.23266909  0.22833878 -0.23132966\n",
      "  0.27640578  0.04928726]\n"
     ]
    }
   ],
   "source": [
    "print(model.docvecs['1'])"
   ]
  },
  {
   "cell_type": "markdown",
   "metadata": {},
   "source": [
    "What happens if we infer the vector of a document present in the training set?"
   ]
  },
  {
   "cell_type": "code",
   "execution_count": 6,
   "metadata": {},
   "outputs": [
    {
     "name": "stdout",
     "output_type": "stream",
     "text": [
      "Document 0:\n",
      ": [-0.39761454 -0.06999756 -0.11957027  0.22177477 -0.02460292  0.4354446\n",
      " -0.4971364  -0.30891037 -0.604521    0.4129672  -0.25927463 -0.2116895\n",
      "  0.49157202  0.2882661  -0.7294147  -0.44775984  0.39479092 -0.43647406\n",
      "  0.37135702  0.11414798]\n",
      "\n",
      "\n",
      "Inferred Document 0:\n",
      " [ 0.00837728 -0.01548042 -0.01219468  0.00750487  0.01823507 -0.00643426\n",
      "  0.01237598  0.0109191  -0.03218371  0.00695342  0.0048641  -0.01628949\n",
      " -0.01639973  0.02248956 -0.01832936 -0.02789452  0.02293639  0.00057574\n",
      "  0.02003899 -0.02163959]\n"
     ]
    }
   ],
   "source": [
    "doc_0 = model.docvecs['0']\n",
    "sample = \"I love machine learning. It's awesome\"\n",
    "sample_inferred = model.infer_vector(word_tokenize(sample.lower()))\n",
    "print(f\"Document 0:\\n: {doc_0}\")\n",
    "print(f\"\\n\\nInferred Document 0:\\n {sample_inferred}\")"
   ]
  },
  {
   "cell_type": "markdown",
   "metadata": {},
   "source": [
    "These documents seem different, this is because the first document 0 vector is the one we obtained after training phase, and the one we obtained via `infer_vector` is reconstructing again that vector using the learned weights during training. So it is expected that both vectors does not look \"similar\" in appearance. However, they might be indeed similar geometrically speaking. \n",
    "\n",
    "Let's find the most similar tag for the new trained vector of tag 0. The tags in Doc2Vec are meant for document localization and easy access not as a class label, so we can't obtain something like a \"label\" for a new document. That would be the job of a supervised learning algorithm. (https://datascience.stackexchange.com/questions/10612/doc2vecgensim-how-can-i-infer-unseen-sentences-label)\n",
    "\n",
    "Whe then will iterate over all the documents in the model and compare the similarities and sort them accordingly to get the most similar documents. This is only for ullustrative purposes, in real life this is not the best use for the doc vecs."
   ]
  },
  {
   "cell_type": "code",
   "execution_count": 7,
   "metadata": {},
   "outputs": [
    {
     "data": {
      "text/plain": [
       "[(0.5987949073314667,\n",
       "  '1',\n",
       "  array([-0.19321805,  0.00946209, -0.05093003,  0.0928799 ,  0.00715169,\n",
       "          0.30724257, -0.2375986 , -0.18978545, -0.38762224,  0.19610381,\n",
       "         -0.18942718, -0.0821055 ,  0.2865829 ,  0.19896929, -0.45409027,\n",
       "         -0.23266909,  0.22833878, -0.23132966,  0.27640578,  0.04928726],\n",
       "        dtype=float32)),\n",
       " (0.6140504479408264,\n",
       "  '0',\n",
       "  array([-0.39761454, -0.06999756, -0.11957027,  0.22177477, -0.02460292,\n",
       "          0.4354446 , -0.4971364 , -0.30891037, -0.604521  ,  0.4129672 ,\n",
       "         -0.25927463, -0.2116895 ,  0.49157202,  0.2882661 , -0.7294147 ,\n",
       "         -0.44775984,  0.39479092, -0.43647406,  0.37135702,  0.11414798],\n",
       "        dtype=float32)),\n",
       " (0.6179295480251312,\n",
       "  '3',\n",
       "  array([-0.2828797 , -0.05064224, -0.14457929,  0.06179384, -0.07319915,\n",
       "          0.30967024, -0.36827534, -0.14090566, -0.42585784,  0.277424  ,\n",
       "         -0.22145745, -0.19932462,  0.35378993,  0.21061432, -0.50000393,\n",
       "         -0.3242548 ,  0.19954048, -0.33676913,  0.31933954,  0.06075443],\n",
       "        dtype=float32)),\n",
       " (0.6706647276878357,\n",
       "  '2',\n",
       "  array([-0.18245704,  0.02317899, -0.05099685,  0.08561507, -0.03265153,\n",
       "          0.23538703, -0.22592573, -0.10894197, -0.23199555,  0.2065154 ,\n",
       "         -0.15911505, -0.11627214,  0.2317445 ,  0.14417802, -0.28546342,\n",
       "         -0.21703044,  0.16743326, -0.22026469,  0.17865147,  0.07461441],\n",
       "        dtype=float32))]"
      ]
     },
     "execution_count": 7,
     "metadata": {},
     "output_type": "execute_result"
    }
   ],
   "source": [
    "from scipy import spatial\n",
    "import operator\n",
    "\n",
    "def similarity_to(sample, model):\n",
    "    tag_docs = zip(model.docvecs.doctags.keys(), model.docvecs)\n",
    "    similar_docs = [(spatial.distance.cosine(sample, doc), tag, doc) for tag, doc in tag_docs]\n",
    "    similar_docs = sorted(similar_docs, key=operator.itemgetter(0))\n",
    "    return similar_docs\n",
    "\n",
    "similarity_to(sample_inferred, model)"
   ]
  },
  {
   "cell_type": "markdown",
   "metadata": {},
   "source": [
    "So apparently in this case, despite reconstructing one of the training document vectors, the most similar document is #2 which is different. This might be due to the small dataset.\n",
    "\n",
    "What happens if we use the same document vector after the training?"
   ]
  },
  {
   "cell_type": "code",
   "execution_count": 8,
   "metadata": {},
   "outputs": [
    {
     "data": {
      "text/plain": [
       "[(0.0,\n",
       "  '0',\n",
       "  array([-0.39761454, -0.06999756, -0.11957027,  0.22177477, -0.02460292,\n",
       "          0.4354446 , -0.4971364 , -0.30891037, -0.604521  ,  0.4129672 ,\n",
       "         -0.25927463, -0.2116895 ,  0.49157202,  0.2882661 , -0.7294147 ,\n",
       "         -0.44775984,  0.39479092, -0.43647406,  0.37135702,  0.11414798],\n",
       "        dtype=float32)),\n",
       " (0.011561870574951172,\n",
       "  '2',\n",
       "  array([-0.18245704,  0.02317899, -0.05099685,  0.08561507, -0.03265153,\n",
       "          0.23538703, -0.22592573, -0.10894197, -0.23199555,  0.2065154 ,\n",
       "         -0.15911505, -0.11627214,  0.2317445 ,  0.14417802, -0.28546342,\n",
       "         -0.21703044,  0.16743326, -0.22026469,  0.17865147,  0.07461441],\n",
       "        dtype=float32)),\n",
       " (0.012291491031646729,\n",
       "  '1',\n",
       "  array([-0.19321805,  0.00946209, -0.05093003,  0.0928799 ,  0.00715169,\n",
       "          0.30724257, -0.2375986 , -0.18978545, -0.38762224,  0.19610381,\n",
       "         -0.18942718, -0.0821055 ,  0.2865829 ,  0.19896929, -0.45409027,\n",
       "         -0.23266909,  0.22833878, -0.23132966,  0.27640578,  0.04928726],\n",
       "        dtype=float32)),\n",
       " (0.012531042098999023,\n",
       "  '3',\n",
       "  array([-0.2828797 , -0.05064224, -0.14457929,  0.06179384, -0.07319915,\n",
       "          0.30967024, -0.36827534, -0.14090566, -0.42585784,  0.277424  ,\n",
       "         -0.22145745, -0.19932462,  0.35378993,  0.21061432, -0.50000393,\n",
       "         -0.3242548 ,  0.19954048, -0.33676913,  0.31933954,  0.06075443],\n",
       "        dtype=float32))]"
      ]
     },
     "execution_count": 8,
     "metadata": {},
     "output_type": "execute_result"
    }
   ],
   "source": [
    "similarity_to(doc_0, model)"
   ]
  },
  {
   "cell_type": "markdown",
   "metadata": {},
   "source": [
    "As expected, if we compare with the exact same document, we get a perfect similarity with the same document.\n",
    "\n",
    "If we were to compare with each of the model's current vectors using the built-int functions we can do it like this:"
   ]
  },
  {
   "cell_type": "code",
   "execution_count": 9,
   "metadata": {},
   "outputs": [
    {
     "data": {
      "text/plain": [
       "[('1', 0.40120506286621094),\n",
       " ('0', 0.3859495520591736),\n",
       " ('3', 0.3820703625679016),\n",
       " ('2', 0.3293352723121643)]"
      ]
     },
     "execution_count": 9,
     "metadata": {},
     "output_type": "execute_result"
    }
   ],
   "source": [
    "model.docvecs.most_similar(positive=[sample_inferred])"
   ]
  },
  {
   "cell_type": "markdown",
   "metadata": {},
   "source": [
    "We obtained the same ordering (though not the same comparison measure) as the manual compirison using the consine similarity index."
   ]
  },
  {
   "cell_type": "markdown",
   "metadata": {},
   "source": [
    "### Classifying new documents\n",
    "In this section we are going to build a classifier using the generated Document vectors and the corresponding tag.\n",
    "\n",
    "#### Resources\n",
    "* https://towardsdatascience.com/multi-class-text-classification-with-doc2vec-logistic-regression-9da9947b43f4\n",
    "* https://fzr72725.github.io/2018/01/14/genism-guide.html\n",
    "\n",
    "\n",
    "#### Using unique tags vs grouped tags\n",
    "Essentially, if we provide unique tags for each document, gensim's Doc2Vec will generate a different document vector for each document. And if we provide $n$ duplicate tags for similar documents (like a class), we will obtain $n$ document vectors (https://fzr72725.github.io/2018/01/14/genism-guide.html) So depending of the goals and how do we want to train, we might want to use one or the other. The second option will naturally use less memory than the first one.\n",
    "\n",
    "This example uses the customer complaints dataset from data.gov in the us."
   ]
  },
  {
   "cell_type": "code",
   "execution_count": 3,
   "metadata": {},
   "outputs": [
    {
     "name": "stderr",
     "output_type": "stream",
     "text": [
      "/home/ohtar10/miniconda3/envs/wtsp/lib/python3.6/importlib/_bootstrap.py:219: RuntimeWarning: numpy.ufunc size changed, may indicate binary incompatibility. Expected 192 from C header, got 216 from PyObject\n",
      "  return f(*args, **kwds)\n",
      "/home/ohtar10/miniconda3/envs/wtsp/lib/python3.6/importlib/_bootstrap.py:219: RuntimeWarning: numpy.ufunc size changed, may indicate binary incompatibility. Expected 192 from C header, got 216 from PyObject\n",
      "  return f(*args, **kwds)\n"
     ]
    },
    {
     "data": {
      "text/html": [
       "<div>\n",
       "<style scoped>\n",
       "    .dataframe tbody tr th:only-of-type {\n",
       "        vertical-align: middle;\n",
       "    }\n",
       "\n",
       "    .dataframe tbody tr th {\n",
       "        vertical-align: top;\n",
       "    }\n",
       "\n",
       "    .dataframe thead th {\n",
       "        text-align: right;\n",
       "    }\n",
       "</style>\n",
       "<table border=\"1\" class=\"dataframe\">\n",
       "  <thead>\n",
       "    <tr style=\"text-align: right;\">\n",
       "      <th></th>\n",
       "      <th>narrative</th>\n",
       "      <th>Product</th>\n",
       "    </tr>\n",
       "  </thead>\n",
       "  <tbody>\n",
       "    <tr>\n",
       "      <td>3</td>\n",
       "      <td>I am dissatisfied with the current outcome of ...</td>\n",
       "      <td>Credit card</td>\n",
       "    </tr>\n",
       "    <tr>\n",
       "      <td>7</td>\n",
       "      <td>On XX/XX/18 an item showed up on my credit rep...</td>\n",
       "      <td>Credit reporting, credit repair services, or o...</td>\n",
       "    </tr>\n",
       "    <tr>\n",
       "      <td>8</td>\n",
       "      <td>Saw on my credit report that there is a collec...</td>\n",
       "      <td>Debt collection</td>\n",
       "    </tr>\n",
       "    <tr>\n",
       "      <td>9</td>\n",
       "      <td>Capital one auto finacing XX/XX/2018 unknown i...</td>\n",
       "      <td>Credit reporting, credit repair services, or o...</td>\n",
       "    </tr>\n",
       "    <tr>\n",
       "      <td>11</td>\n",
       "      <td>I own a small trucking company. One of my truc...</td>\n",
       "      <td>Credit card or prepaid card</td>\n",
       "    </tr>\n",
       "  </tbody>\n",
       "</table>\n",
       "</div>"
      ],
      "text/plain": [
       "                                            narrative  \\\n",
       "3   I am dissatisfied with the current outcome of ...   \n",
       "7   On XX/XX/18 an item showed up on my credit rep...   \n",
       "8   Saw on my credit report that there is a collec...   \n",
       "9   Capital one auto finacing XX/XX/2018 unknown i...   \n",
       "11  I own a small trucking company. One of my truc...   \n",
       "\n",
       "                                              Product  \n",
       "3                                         Credit card  \n",
       "7   Credit reporting, credit repair services, or o...  \n",
       "8                                     Debt collection  \n",
       "9   Credit reporting, credit repair services, or o...  \n",
       "11                        Credit card or prepaid card  "
      ]
     },
     "execution_count": 3,
     "metadata": {},
     "output_type": "execute_result"
    }
   ],
   "source": [
    "import pandas as pd\n",
    "import numpy as np\n",
    "\n",
    "df = pd.read_csv(\"/media/ohtar10/Adder-Storage/datasets/customer_compalints/Consumer_Complaints.csv\")\n",
    "df.rename(columns={'Consumer complaint narrative':'narrative'}, inplace=True)\n",
    "df = df[['narrative', 'Product']]\n",
    "df.dropna(inplace=True)\n",
    "df.head()"
   ]
  },
  {
   "cell_type": "code",
   "execution_count": 4,
   "metadata": {},
   "outputs": [
    {
     "data": {
      "text/plain": [
       "(457289, 2)"
      ]
     },
     "execution_count": 4,
     "metadata": {},
     "output_type": "execute_result"
    }
   ],
   "source": [
    "df.shape"
   ]
  },
  {
   "cell_type": "markdown",
   "metadata": {},
   "source": [
    "For simplicity, let's work with the first 100,000 records first."
   ]
  },
  {
   "cell_type": "code",
   "execution_count": 5,
   "metadata": {},
   "outputs": [],
   "source": [
    "df = df.iloc[:100000]"
   ]
  },
  {
   "cell_type": "markdown",
   "metadata": {},
   "source": [
    "Determine how many words do we have in the dataset"
   ]
  },
  {
   "cell_type": "code",
   "execution_count": 6,
   "metadata": {},
   "outputs": [
    {
     "name": "stdout",
     "output_type": "stream",
     "text": [
      "Total non-unique words: 19,523,498\n"
     ]
    }
   ],
   "source": [
    "total_words = df.narrative.apply(lambda x: len(x.split())).sum()\n",
    "print(f\"Total non-unique words: {total_words:,}\")"
   ]
  },
  {
   "cell_type": "markdown",
   "metadata": {},
   "source": [
    "### Exploring"
   ]
  },
  {
   "cell_type": "code",
   "execution_count": 7,
   "metadata": {},
   "outputs": [
    {
     "name": "stderr",
     "output_type": "stream",
     "text": [
      "/home/ohtar10/miniconda3/envs/wtsp/lib/python3.6/importlib/_bootstrap.py:219: RuntimeWarning: numpy.ufunc size changed, may indicate binary incompatibility. Expected 192 from C header, got 216 from PyObject\n",
      "  return f(*args, **kwds)\n"
     ]
    },
    {
     "data": {
      "image/png": "[encoded data removed]",
      "text/plain": [
       "<Figure size 864x576 with 1 Axes>"
      ]
     },
     "metadata": {
      "needs_background": "light"
     },
     "output_type": "display_data"
    }
   ],
   "source": [
    "%matplotlib inline\n",
    "\n",
    "import matplotlib.pyplot as plt\n",
    "import seaborn as sns\n",
    "\n",
    "cnt_pro = df.Product.value_counts()\n",
    "\n",
    "plt.figure(figsize=(12, 8))\n",
    "sns.barplot(cnt_pro.index, cnt_pro.values, alpha=0.8)\n",
    "plt.ylabel('Number of occurrences', fontsize=12)\n",
    "plt.xlabel('Product', fontsize=12)\n",
    "plt.xticks(rotation=90)\n",
    "plt.show()"
   ]
  },
  {
   "cell_type": "code",
   "execution_count": 8,
   "metadata": {},
   "outputs": [
    {
     "name": "stdout",
     "output_type": "stream",
     "text": [
      "Naive Accuracy 0.26\n"
     ]
    }
   ],
   "source": [
    "predominant_class = cnt_pro[0]\n",
    "total_docs = df.shape[0]\n",
    "naive_accuracy = predominant_class / total_docs\n",
    "print(f\"Naive Accuracy {naive_accuracy:.2f}\")"
   ]
  },
  {
   "cell_type": "markdown",
   "metadata": {},
   "source": [
    "We have imbalanced classes, but despite this, a naive classifier predicting for Credit reporting will have an accuracy of $28\\%$. This is our baseline.\n",
    "\n",
    "Now let's have a look at some examples:"
   ]
  },
  {
   "cell_type": "code",
   "execution_count": 9,
   "metadata": {},
   "outputs": [
    {
     "name": "stdout",
     "output_type": "stream",
     "text": [
      "Sample with index 0:\n",
      "\n",
      "Category: Credit card\n",
      "Text:\n",
      "I am dissatisfied with the current outcome of a dispute that was initiated with Discover Card regarding a single transaction that occurred on XXXX/XXXX/2015 in the amount of {$280.00}. I have corresponded with Discover Card at least four times since XXXX/XXXX/2015 ( which I have enclosed as an attachment to this complaint ). I believe that the credit card issuer has violated consumer protection laws by failing to implement the Special Rule for Credit Card Purchase protection despite overwhelming paperwork evidence submitted by me that shows the merchant has conducted business in bad faith less favorable to the consumer. I have sustained a monetary loss as a result of merchants bad faith and intent. I have patiently utilized the internal Discover Card dispute process over the past three months with the credit card issuer always favoring the merchant ; I have repeatedly submitted irrefutable paperwork evidence that has shown that the merchant has conducted business in bad faith. I have tried in good faith to address my complaint with the merchant and Discover Card but believe that I will not receive a favorable outcome.\n"
     ]
    }
   ],
   "source": [
    "def print_sample(df, content_col, label_col, index):\n",
    "    sample = df.iloc[index][content_col]\n",
    "    category = df.iloc[index][label_col]\n",
    "    print(f\"Sample with index {index}:\\n\")\n",
    "    print(f\"Category: {category}\")\n",
    "    print(f\"Text:\\n{sample}\")\n",
    "\n",
    "print_sample(df, 'narrative', 'Product', 0)"
   ]
  },
  {
   "cell_type": "markdown",
   "metadata": {},
   "source": [
    "### Text processing\n",
    "Now we will proceed with the text processing part"
   ]
  },
  {
   "cell_type": "code",
   "execution_count": 10,
   "metadata": {},
   "outputs": [
    {
     "data": {
      "text/html": [
       "<div>\n",
       "<style scoped>\n",
       "    .dataframe tbody tr th:only-of-type {\n",
       "        vertical-align: middle;\n",
       "    }\n",
       "\n",
       "    .dataframe tbody tr th {\n",
       "        vertical-align: top;\n",
       "    }\n",
       "\n",
       "    .dataframe thead th {\n",
       "        text-align: right;\n",
       "    }\n",
       "</style>\n",
       "<table border=\"1\" class=\"dataframe\">\n",
       "  <thead>\n",
       "    <tr style=\"text-align: right;\">\n",
       "      <th></th>\n",
       "      <th>narrative</th>\n",
       "      <th>Product</th>\n",
       "    </tr>\n",
       "  </thead>\n",
       "  <tbody>\n",
       "    <tr>\n",
       "      <td>3</td>\n",
       "      <td>i am dissatisfied with the current outcome of ...</td>\n",
       "      <td>Credit card</td>\n",
       "    </tr>\n",
       "    <tr>\n",
       "      <td>7</td>\n",
       "      <td>on //18 an item showed up on my credit report ...</td>\n",
       "      <td>Credit reporting, credit repair services, or o...</td>\n",
       "    </tr>\n",
       "    <tr>\n",
       "      <td>8</td>\n",
       "      <td>saw on my credit report that there is a collec...</td>\n",
       "      <td>Debt collection</td>\n",
       "    </tr>\n",
       "    <tr>\n",
       "      <td>9</td>\n",
       "      <td>capital one auto finacing //2018 unknown inqui...</td>\n",
       "      <td>Credit reporting, credit repair services, or o...</td>\n",
       "    </tr>\n",
       "    <tr>\n",
       "      <td>11</td>\n",
       "      <td>i own a small trucking company. one of my truc...</td>\n",
       "      <td>Credit card or prepaid card</td>\n",
       "    </tr>\n",
       "  </tbody>\n",
       "</table>\n",
       "</div>"
      ],
      "text/plain": [
       "                                            narrative  \\\n",
       "3   i am dissatisfied with the current outcome of ...   \n",
       "7   on //18 an item showed up on my credit report ...   \n",
       "8   saw on my credit report that there is a collec...   \n",
       "9   capital one auto finacing //2018 unknown inqui...   \n",
       "11  i own a small trucking company. one of my truc...   \n",
       "\n",
       "                                              Product  \n",
       "3                                         Credit card  \n",
       "7   Credit reporting, credit repair services, or o...  \n",
       "8                                     Debt collection  \n",
       "9   Credit reporting, credit repair services, or o...  \n",
       "11                        Credit card or prepaid card  "
      ]
     },
     "execution_count": 10,
     "metadata": {},
     "output_type": "execute_result"
    }
   ],
   "source": [
    "from bs4 import BeautifulSoup\n",
    "import re\n",
    "\n",
    "def clear_text(text):\n",
    "    text = BeautifulSoup(text, \"lxml\").text\n",
    "    text = re.sub(r'\\|\\|\\|', r' ', text) \n",
    "    text = re.sub(r'http\\S+', r'<URL>', text)\n",
    "    text = text.lower()\n",
    "    text = text.replace('x', '')\n",
    "    return text\n",
    "\n",
    "df.narrative = df.narrative.apply(clear_text)\n",
    "df.head()"
   ]
  },
  {
   "cell_type": "code",
   "execution_count": 11,
   "metadata": {},
   "outputs": [
    {
     "name": "stderr",
     "output_type": "stream",
     "text": [
      "/home/ohtar10/miniconda3/envs/wtsp/lib/python3.6/importlib/_bootstrap.py:219: RuntimeWarning: numpy.ufunc size changed, may indicate binary incompatibility. Expected 192 from C header, got 216 from PyObject\n",
      "  return f(*args, **kwds)\n",
      "/home/ohtar10/miniconda3/envs/wtsp/lib/python3.6/importlib/_bootstrap.py:219: RuntimeWarning: numpy.ufunc size changed, may indicate binary incompatibility. Expected 192 from C header, got 216 from PyObject\n",
      "  return f(*args, **kwds)\n"
     ]
    },
    {
     "name": "stdout",
     "output_type": "stream",
     "text": [
      "CPU times: user 2min 16s, sys: 0 ns, total: 2min 16s\n",
      "Wall time: 2min 16s\n"
     ]
    }
   ],
   "source": [
    "%%time\n",
    "import nltk\n",
    "from sklearn.model_selection import train_test_split\n",
    "from gensim.models.doc2vec import Doc2Vec, TaggedDocument\n",
    "from nltk.corpus import stopwords \n",
    "\n",
    "train, test = train_test_split(df, test_size=0.3, random_state=42)\n",
    "\n",
    "# We could use word tokenize instead\n",
    "def tokenize_text(text):\n",
    "    tokens = []\n",
    "    for sent in nltk.sent_tokenize(text):\n",
    "        for word in nltk.word_tokenize(sent):\n",
    "            # omit words less than 2 characters\n",
    "            if len(word) < 2:\n",
    "                continue\n",
    "            tokens.append(word.lower())\n",
    "    return tokens\n",
    "\n",
    "train_tagged = train.apply(lambda r: TaggedDocument(words = tokenize_text(r.narrative), tags=[r.Product]), axis=1)\n",
    "test_tagged = test.apply(lambda r: TaggedDocument(words = tokenize_text(r.narrative), tags=[r.Product]), axis=1)"
   ]
  },
  {
   "cell_type": "code",
   "execution_count": 12,
   "metadata": {},
   "outputs": [
    {
     "data": {
      "text/plain": [
       "TaggedDocument(words=['this', 'is', 'the', 'second', 'cfpb', 'complaint', 'am', 'filing', 'because', 'have', 'not', 'heard', 'from', 'american', 'epress', 'and', 'my', 'second', 'try', 'at', 'coming', 'to', 'resolution', 'with', 'customer', 'service', 'was', 'unsuccessful', 'recently', 'tried', 'to', 'transfer', 'membership', 'rewards', 'points', 'to', 'partner', 'airline', 'program', 'but', 'my', 'request', 'was', 'rejected', 'by', 'the', 'system', 'the', 'system', 'notified', 'me', 'that', 'my', 'point', 'transfer', 'was', 'denied', 'because', 'my', 'account', 'was', 'membership', 'rewards', 'were', 'under', 'review', 'contacted', 'membership', 'rewards', 'and', 'representative', 'tried', 'to', 'help', 'me', 'transfer', 'the', 'points', 'over', 'the', 'phone', 'they', 'were', 'unable', 'to', 'transfer', 'the', 'points', 'and', 'received', 'the', 'same', 'message', 'about', 'review', 'so', 'they', 'transferred', 'me', 'to', 'customer', 'service', 'customer', 'service', 'representative', 'then', 'told', 'me', 'that', 'membership', 'rewards', 'had', 'to', 'help', 'me', 'with', 'membership', 'rewards-related', 'issues', 'so', 'they', 'transferred', 'me', 'back', 'to', 'membership', 'rewards', 'the', 'new', 'membership', 'rewards', 'representative', 'again', 'tried', 'to', 'transfer', 'the', 'point', 'over', 'the', 'phone', 'only', 'to', 'be', 'met', 'by', 'the', 'same', 'notification', 'that', 'my', 'points', 'were', 'under', 'review', 'after', 'lengthy', 'hold', 'the', 'representative', 'was', 'able', 'to', 'eplain', 'to', 'me', 'that', 'my', 'membership', 'rewards', 'were', 'undergoing', '``', 'standard', 'review', '``', 'and', 'that', 'this', 'was', 'normal', 'have', 'never', 'heard', 'of', 'this', 'happening', 'to', 'anyone', 'else', 'personally', 'know', 'who', 'has', 'american', 'epress', 'membership', 'rewards', 'for', 'contet', 'earned', 'the', 'membership', 'rewards', 'after', 'meeting', 'minimum', 'spend', 'requirements', 'as', 'part', 'of', 'promotional', 'sign-up', 'bonus', 'all', 'of', 'my', 'spending', 'has', 'been', 'through', 'legitimate', 'purchases', 'and', 'have', 'never', 'participated', 'in', 'manufactured', 'spending', 'my', 'understanding', 'is', 'that', 'american', 'epress', 'has', 'stated', 'in', 'its', 'promotion', 'terms', 'that', 'it', 'reserves', 'the', 'right', 'to', 'review', 'the', 'promotional', 'bonus', 'in', 'the', '6-8', 'weeks', 'after', 'the', 'bonus', 'posts', 'to', 'the', 'account', 'my', 'membership', 'rewards', 'bonus', 'posted', 'on', '//', 'it', 'is', 'now', '//', 'we', 'are', 'well', 'beyond', 'that', '6-8', 'week', 'period', 'find', 'it', 'etremely', 'unfair', 'and', 'disturbing', 'that', 'american', 'epress', 'would', 'arbitrarily', 'choose', 'to', 'freeze', 'what', 'customer', 'does', 'with', 'their', 'legitimately', 'earned', 'membership', 'rewards', 'after', 'the', 'standard', 'review', 'period', 'has', 'passed', 'under', 'the', 'guise', 'of', '``', 'standard', 'review', '``', 'am', 'very', 'disappointed', 'in', 'american', 'epress', 'business', 'practices', 'regarding', 'this', 'issue', 'especially', 'considering', 'that', 'wanted', 'to', 'transfer', 'these', 'points', 'before', 'significant', 'loyalty', 'program', 'point', 'devaluation', 'american', 'epress', 'was', 'unable', 'to', 'provide', 'me', 'timeline', 'as', 'to', 'when', 'the', '``', 'standard', 'review', '``', 'would', 'be', 'completed', 'but', 'have', 'read', 'online', 'from', 'other', 'victims', 'eperiences', 'that', 'this', 'process', 'can', 'take', 'up', 'to', 'months', 'the', 'only', 'reason', 'even', 'signed', 'up', 'for', 'the', 'american', 'epress', 'card', 'in', 'question', 'was', 'to', 'use', 'the', 'promotional', 'sign-up', 'bonus', 'to', 'transfer', 'to', 'points', 'to', 'the', 'loyalty', 'program', 'before', 'the', 'devaluation', 'clearly', 'that', 'is', 'no', 'longer', 'possibility', 'and', 'feel', 'as', 'if', 'have', 'been', 'duped', 'by', 'american', 'epress', 'into', 'signing', 'up', 'for', 'one', 'of', 'its', 'high', 'annual', 'fee', 'credit', 'cards', 'after', 'being', 'offered', 'misleadingly', 'restrictive', 'rewards', 'program'], tags=['Credit card or prepaid card'])"
      ]
     },
     "execution_count": 12,
     "metadata": {},
     "output_type": "execute_result"
    }
   ],
   "source": [
    "train_tagged.values[30]"
   ]
  },
  {
   "cell_type": "markdown",
   "metadata": {},
   "source": [
    "### Train the Doc2Vec Model"
   ]
  },
  {
   "cell_type": "code",
   "execution_count": 13,
   "metadata": {},
   "outputs": [],
   "source": [
    "vector_size = 1000"
   ]
  },
  {
   "cell_type": "code",
   "execution_count": 14,
   "metadata": {},
   "outputs": [
    {
     "name": "stderr",
     "output_type": "stream",
     "text": [
      "100%|██████████| 70000/70000 [00:00<00:00, 4586874.97it/s]\n"
     ]
    },
    {
     "name": "stdout",
     "output_type": "stream",
     "text": [
      "CPU times: user 7.51 s, sys: 0 ns, total: 7.51 s\n",
      "Wall time: 7.51 s\n"
     ]
    }
   ],
   "source": [
    "%%time\n",
    "import multiprocessing\n",
    "from tqdm import tqdm\n",
    "\n",
    "cores = multiprocessing.cpu_count()\n",
    "model_dbow = Doc2Vec(dm=1, vector_size=vector_size, negative=5, hs=1, min_count=2, sample=0, workers=cores)\n",
    "model_dbow.build_vocab([x for x in tqdm(train_tagged.values)])"
   ]
  },
  {
   "cell_type": "code",
   "execution_count": 123,
   "metadata": {},
   "outputs": [
    {
     "name": "stderr",
     "output_type": "stream",
     "text": [
      "100%|██████████| 70000/70000 [00:00<00:00, 4270936.81it/s]\n",
      "100%|██████████| 70000/70000 [00:00<00:00, 3283836.79it/s]\n",
      "100%|██████████| 70000/70000 [00:00<00:00, 4239484.80it/s]\n",
      "100%|██████████| 70000/70000 [00:00<00:00, 3165785.51it/s]\n",
      "100%|██████████| 70000/70000 [00:00<00:00, 4553581.59it/s]\n",
      "100%|██████████| 70000/70000 [00:00<00:00, 4306330.10it/s]\n",
      "100%|██████████| 70000/70000 [00:00<00:00, 4263742.09it/s]\n",
      "100%|██████████| 70000/70000 [00:00<00:00, 4299645.31it/s]\n",
      "100%|██████████| 70000/70000 [00:00<00:00, 2269329.25it/s]\n",
      "100%|██████████| 70000/70000 [00:00<00:00, 4141412.25it/s]\n",
      "100%|██████████| 70000/70000 [00:00<00:00, 4270005.09it/s]\n",
      "100%|██████████| 70000/70000 [00:00<00:00, 4154127.65it/s]\n",
      "100%|██████████| 70000/70000 [00:00<00:00, 3879048.21it/s]\n",
      "100%|██████████| 70000/70000 [00:00<00:00, 3033071.07it/s]\n",
      "100%|██████████| 70000/70000 [00:00<00:00, 3765180.95it/s]\n",
      "100%|██████████| 70000/70000 [00:00<00:00, 3688319.28it/s]\n",
      "100%|██████████| 70000/70000 [00:00<00:00, 4324725.36it/s]\n",
      "100%|██████████| 70000/70000 [00:00<00:00, 3628021.65it/s]\n",
      "100%|██████████| 70000/70000 [00:00<00:00, 3832264.50it/s]\n",
      "100%|██████████| 70000/70000 [00:00<00:00, 3786400.48it/s]\n",
      "100%|██████████| 70000/70000 [00:00<00:00, 3734815.04it/s]\n",
      "100%|██████████| 70000/70000 [00:00<00:00, 3646949.05it/s]\n",
      "100%|██████████| 70000/70000 [00:00<00:00, 3613776.60it/s]\n",
      "100%|██████████| 70000/70000 [00:00<00:00, 3935568.48it/s]\n",
      "100%|██████████| 70000/70000 [00:00<00:00, 3740572.55it/s]\n",
      "100%|██████████| 70000/70000 [00:00<00:00, 4345914.33it/s]\n",
      "100%|██████████| 70000/70000 [00:00<00:00, 3701571.90it/s]\n",
      "100%|██████████| 70000/70000 [00:00<00:00, 3764794.71it/s]\n",
      "100%|██████████| 70000/70000 [00:00<00:00, 3949598.18it/s]\n",
      "100%|██████████| 70000/70000 [00:00<00:00, 3711163.53it/s]\n"
     ]
    },
    {
     "name": "stdout",
     "output_type": "stream",
     "text": [
      "CPU times: user 1h 26min 34s, sys: 55.2 s, total: 1h 27min 29s\n",
      "Wall time: 11min 13s\n"
     ]
    }
   ],
   "source": [
    "%%time\n",
    "from sklearn import utils\n",
    "\n",
    "for epoch in range(30):\n",
    "    model_dbow.train(utils.shuffle([x for x in tqdm(train_tagged.values)]),\n",
    "                    total_examples=len(train_tagged.values), epochs=1)\n",
    "    model_dbow.alpha -= 0.002\n",
    "    model_dbow.min_alpha = model_dbow.alpha"
   ]
  },
  {
   "cell_type": "code",
   "execution_count": 124,
   "metadata": {},
   "outputs": [],
   "source": [
    "model_dbow.save(\"../../models/gensim/customer_complain_sm.model\")"
   ]
  },
  {
   "cell_type": "code",
   "execution_count": 15,
   "metadata": {},
   "outputs": [],
   "source": [
    "from gensim.models import Doc2Vec\n",
    "model_dbow = Doc2Vec.load(\"../../models/gensim/customer_complain_sm.model\")"
   ]
  },
  {
   "cell_type": "markdown",
   "metadata": {},
   "source": [
    "Now let's obtain the final vectors for the classification model"
   ]
  },
  {
   "cell_type": "code",
   "execution_count": 16,
   "metadata": {},
   "outputs": [],
   "source": [
    "def vec_for_learning(model, tagged_docs):\n",
    "    sents = tagged_docs.values\n",
    "    targets, regressors = zip(*[(doc.tags[0], model.infer_vector(doc.words, steps=20)) for doc in sents])\n",
    "    return targets, regressors"
   ]
  },
  {
   "cell_type": "code",
   "execution_count": 17,
   "metadata": {},
   "outputs": [
    {
     "name": "stdout",
     "output_type": "stream",
     "text": [
      "CPU times: user 22min 18s, sys: 151 ms, total: 22min 18s\n",
      "Wall time: 22min 19s\n"
     ]
    }
   ],
   "source": [
    "%%time\n",
    "\n",
    "y_train, X_train = vec_for_learning(model_dbow, train_tagged)\n",
    "y_test, X_test = vec_for_learning(model_dbow, test_tagged)"
   ]
  },
  {
   "cell_type": "code",
   "execution_count": 37,
   "metadata": {},
   "outputs": [
    {
     "name": "stderr",
     "output_type": "stream",
     "text": [
      "[Parallel(n_jobs=12)]: Using backend ThreadingBackend with 12 concurrent workers.\n"
     ]
    },
    {
     "name": "stdout",
     "output_type": "stream",
     "text": [
      "convergence after 190 epochs took 35 seconds\n",
      "CPU times: user 35.2 s, sys: 0 ns, total: 35.2 s\n",
      "Wall time: 35.2 s\n"
     ]
    },
    {
     "name": "stderr",
     "output_type": "stream",
     "text": [
      "[Parallel(n_jobs=12)]: Done   1 out of   1 | elapsed:   35.1s finished\n"
     ]
    },
    {
     "data": {
      "text/plain": [
       "LogisticRegression(C=0.1, class_weight=None, dual=False, fit_intercept=True,\n",
       "                   intercept_scaling=1, l1_ratio=0.3, max_iter=500,\n",
       "                   multi_class='multinomial', n_jobs=12, penalty='elasticnet',\n",
       "                   random_state=42, solver='saga', tol=0.0001, verbose=1,\n",
       "                   warm_start=False)"
      ]
     },
     "execution_count": 37,
     "metadata": {},
     "output_type": "execute_result"
    }
   ],
   "source": [
    "%%time\n",
    "\n",
    "from sklearn.linear_model import LogisticRegression\n",
    "\n",
    "logreg = LogisticRegression(n_jobs=cores, \n",
    "                            solver=\"saga\", \n",
    "                            multi_class=\"multinomial\", \n",
    "                            C=0.1,\n",
    "                            max_iter=500,\n",
    "                            l1_ratio=0.3,\n",
    "                            penalty='elasticnet',\n",
    "                            verbose=1,\n",
    "                            random_state=42)\n",
    "logreg.fit(X_train, y_train)"
   ]
  },
  {
   "cell_type": "code",
   "execution_count": 38,
   "metadata": {},
   "outputs": [
    {
     "name": "stdout",
     "output_type": "stream",
     "text": [
      "Training Accuracy 0.27014285714285713\n",
      "Training f1-score 0.11496346187850634\n"
     ]
    },
    {
     "name": "stderr",
     "output_type": "stream",
     "text": [
      "/home/ohtar10/miniconda3/envs/wtsp/lib/python3.6/site-packages/sklearn/metrics/classification.py:1437: UndefinedMetricWarning: F-score is ill-defined and being set to 0.0 in labels with no predicted samples.\n",
      "  'precision', 'predicted', average, warn_for)\n"
     ]
    }
   ],
   "source": [
    "from sklearn.metrics import accuracy_score, f1_score\n",
    "\n",
    "y_pred = logreg.predict(X_train)\n",
    "training_acc = accuracy_score(y_train, y_pred)\n",
    "training_f1 = f1_score(y_train, y_pred, average='weighted')\n",
    "\n",
    "print(f\"Training Accuracy {training_acc}\")\n",
    "print(f\"Training f1-score {training_f1}\")"
   ]
  },
  {
   "cell_type": "markdown",
   "metadata": {},
   "source": [
    "### Classification with ANN"
   ]
  },
  {
   "cell_type": "code",
   "execution_count": 18,
   "metadata": {},
   "outputs": [
    {
     "name": "stderr",
     "output_type": "stream",
     "text": [
      "/home/ohtar10/miniconda3/envs/wtsp/lib/python3.6/site-packages/tensorflow/python/framework/dtypes.py:523: FutureWarning: Passing (type, 1) or '1type' as a synonym of type is deprecated; in a future version of numpy, it will be understood as (type, (1,)) / '(1,)type'.\n",
      "  _np_qint8 = np.dtype([(\"qint8\", np.int8, 1)])\n",
      "/home/ohtar10/miniconda3/envs/wtsp/lib/python3.6/site-packages/tensorflow/python/framework/dtypes.py:524: FutureWarning: Passing (type, 1) or '1type' as a synonym of type is deprecated; in a future version of numpy, it will be understood as (type, (1,)) / '(1,)type'.\n",
      "  _np_quint8 = np.dtype([(\"quint8\", np.uint8, 1)])\n",
      "/home/ohtar10/miniconda3/envs/wtsp/lib/python3.6/site-packages/tensorflow/python/framework/dtypes.py:525: FutureWarning: Passing (type, 1) or '1type' as a synonym of type is deprecated; in a future version of numpy, it will be understood as (type, (1,)) / '(1,)type'.\n",
      "  _np_qint16 = np.dtype([(\"qint16\", np.int16, 1)])\n",
      "/home/ohtar10/miniconda3/envs/wtsp/lib/python3.6/site-packages/tensorflow/python/framework/dtypes.py:526: FutureWarning: Passing (type, 1) or '1type' as a synonym of type is deprecated; in a future version of numpy, it will be understood as (type, (1,)) / '(1,)type'.\n",
      "  _np_quint16 = np.dtype([(\"quint16\", np.uint16, 1)])\n",
      "/home/ohtar10/miniconda3/envs/wtsp/lib/python3.6/site-packages/tensorflow/python/framework/dtypes.py:527: FutureWarning: Passing (type, 1) or '1type' as a synonym of type is deprecated; in a future version of numpy, it will be understood as (type, (1,)) / '(1,)type'.\n",
      "  _np_qint32 = np.dtype([(\"qint32\", np.int32, 1)])\n",
      "/home/ohtar10/miniconda3/envs/wtsp/lib/python3.6/site-packages/tensorflow/python/framework/dtypes.py:532: FutureWarning: Passing (type, 1) or '1type' as a synonym of type is deprecated; in a future version of numpy, it will be understood as (type, (1,)) / '(1,)type'.\n",
      "  np_resource = np.dtype([(\"resource\", np.ubyte, 1)])\n",
      "/home/ohtar10/miniconda3/envs/wtsp/lib/python3.6/importlib/_bootstrap.py:219: RuntimeWarning: numpy.ufunc size changed, may indicate binary incompatibility. Expected 216, got 192\n",
      "  return f(*args, **kwds)\n",
      "/home/ohtar10/miniconda3/envs/wtsp/lib/python3.6/importlib/_bootstrap.py:219: RuntimeWarning: numpy.ufunc size changed, may indicate binary incompatibility. Expected 192 from C header, got 216 from PyObject\n",
      "  return f(*args, **kwds)\n",
      "Using TensorFlow backend.\n"
     ]
    }
   ],
   "source": [
    "import tensorflow as tf\n",
    "from tensorflow.python.client import device_lib\n",
    "from keras import backend as K\n",
    "\n",
    "s_config = tf.ConfigProto()\n",
    "#s_config.gpu_options.allow_growth = True\n",
    "s_config.gpu_options.per_process_gpu_memory_fraction = 0.6\n",
    "tf.keras.backend.set_session(tf.Session(config=s_config))\n",
    "\n",
    "\n",
    "def show_framework_devices():\n",
    "    \"\"\"Just prints the devices the frameworks are using\n",
    "    at the moment. It will help us to tell if they are indeed\n",
    "    using GPU's or not\"\"\"\n",
    "    print(\"Tensorflow registered devices:\", device_lib.list_local_devices())\n",
    "    print(\"Keras registered GPUs\", K.tensorflow_backend._get_available_gpus())\n"
   ]
  },
  {
   "cell_type": "code",
   "execution_count": 19,
   "metadata": {},
   "outputs": [
    {
     "name": "stdout",
     "output_type": "stream",
     "text": [
      "Tensorflow registered devices: [name: \"/device:CPU:0\"\n",
      "device_type: \"CPU\"\n",
      "memory_limit: 268435456\n",
      "locality {\n",
      "}\n",
      "incarnation: 1680999168545174885\n",
      ", name: \"/device:XLA_CPU:0\"\n",
      "device_type: \"XLA_CPU\"\n",
      "memory_limit: 17179869184\n",
      "locality {\n",
      "}\n",
      "incarnation: 10792346118958937518\n",
      "physical_device_desc: \"device: XLA_CPU device\"\n",
      ", name: \"/device:GPU:0\"\n",
      "device_type: \"GPU\"\n",
      "memory_limit: 5022036787\n",
      "locality {\n",
      "  bus_id: 1\n",
      "  links {\n",
      "  }\n",
      "}\n",
      "incarnation: 17542396880290598833\n",
      "physical_device_desc: \"device: 0, name: GeForce RTX 2070, pci bus id: 0000:01:00.0, compute capability: 7.5\"\n",
      ", name: \"/device:XLA_GPU:0\"\n",
      "device_type: \"XLA_GPU\"\n",
      "memory_limit: 17179869184\n",
      "locality {\n",
      "}\n",
      "incarnation: 14547508406937195473\n",
      "physical_device_desc: \"device: XLA_GPU device\"\n",
      "]\n",
      "Keras registered GPUs ['/job:localhost/replica:0/task:0/device:GPU:0']\n"
     ]
    }
   ],
   "source": [
    "show_framework_devices()"
   ]
  },
  {
   "cell_type": "code",
   "execution_count": 20,
   "metadata": {},
   "outputs": [
    {
     "data": {
      "text/plain": [
       "(70000, 1000)"
      ]
     },
     "execution_count": 20,
     "metadata": {},
     "output_type": "execute_result"
    }
   ],
   "source": [
    "np.array(X_train).shape"
   ]
  },
  {
   "cell_type": "code",
   "execution_count": 21,
   "metadata": {},
   "outputs": [],
   "source": [
    "from keras.utils import to_categorical\n",
    "from sklearn.preprocessing import LabelEncoder\n",
    "\n",
    "le = LabelEncoder()\n",
    "y_train_ann = le.fit_transform(y_train)\n",
    "\n",
    "X_train_ann = np.array(X_train)\n",
    "y_train_ann = to_categorical(y_train_ann)"
   ]
  },
  {
   "cell_type": "markdown",
   "metadata": {},
   "source": [
    "#### LSTM based model"
   ]
  },
  {
   "cell_type": "code",
   "execution_count": 170,
   "metadata": {},
   "outputs": [
    {
     "name": "stdout",
     "output_type": "stream",
     "text": [
      "_________________________________________________________________\n",
      "Layer (type)                 Output Shape              Param #   \n",
      "=================================================================\n",
      "comment_text (InputLayer)    (None, 1000, 1)           0         \n",
      "_________________________________________________________________\n",
      "comment_lstm (LSTM)          (None, 30)                3840      \n",
      "_________________________________________________________________\n",
      "dense_79 (Dense)             (None, 200)               6200      \n",
      "_________________________________________________________________\n",
      "batch_normalization_22 (Batc (None, 200)               800       \n",
      "_________________________________________________________________\n",
      "dense_80 (Dense)             (None, 100)               20100     \n",
      "_________________________________________________________________\n",
      "dropout_32 (Dropout)         (None, 100)               0         \n",
      "_________________________________________________________________\n",
      "dense_81 (Dense)             (None, 100)               10100     \n",
      "_________________________________________________________________\n",
      "dropout_33 (Dropout)         (None, 100)               0         \n",
      "_________________________________________________________________\n",
      "dense_82 (Dense)             (None, 100)               10100     \n",
      "_________________________________________________________________\n",
      "dense_83 (Dense)             (None, 50)                5050      \n",
      "_________________________________________________________________\n",
      "dropout_34 (Dropout)         (None, 50)                0         \n",
      "_________________________________________________________________\n",
      "dense_84 (Dense)             (None, 25)                1275      \n",
      "_________________________________________________________________\n",
      "prediction (Dense)           (None, 18)                468       \n",
      "=================================================================\n",
      "Total params: 57,933\n",
      "Trainable params: 57,533\n",
      "Non-trainable params: 400\n",
      "_________________________________________________________________\n"
     ]
    }
   ],
   "source": [
    "from keras.layers import Input, Bidirectional, Dense, LSTM, concatenate, BatchNormalization, Dropout, Embedding\n",
    "from keras.models import Model\n",
    "from keras import regularizers\n",
    "\n",
    "#Define the inputs\n",
    "comment_input = Input(shape=(vector_size,1), dtype='float32', name='comment_text')\n",
    "\n",
    "#emb = Embedding(input_dim=vector_size, output_dim=300, input_length=vector_size, name=\"comment_embedding\")(comment_input)\n",
    "\n",
    "#Define the LSTM layer with the embedding input\n",
    "x = LSTM(units=100, dropout=0.3, recurrent_dropout=0.3, kernel_regularizer=regularizers.l2(0.01), name=\"comment_lstm\")(comment_input)\n",
    "\n",
    "#Apply a dense layers\n",
    "x = Dense(200, activation='relu')(x)\n",
    "x = BatchNormalization()(x)\n",
    "x = Dense(100, activation='relu')(x)\n",
    "x = Dropout(0.2)(x)\n",
    "x = Dense(100, activation='relu')(x)\n",
    "x = Dropout(0.4)(x)\n",
    "x = Dense(100, activation='relu')(x)\n",
    "x = Dense(50, activation='relu')(x)\n",
    "x = Dropout(0.2)(x)\n",
    "x = Dense(25, activation='relu')(x)\n",
    "\n",
    "#And finally make the predictions using the previous layer as input\n",
    "main_output = Dense(18, activation='softmax', name='prediction')(x)\n",
    "\n",
    "model = Model(inputs=comment_input, outputs=main_output)\n",
    "model.compile(optimizer='adam', loss='categorical_crossentropy', metrics=['accuracy'])\n",
    "model.summary()"
   ]
  },
  {
   "cell_type": "code",
   "execution_count": 171,
   "metadata": {},
   "outputs": [
    {
     "name": "stdout",
     "output_type": "stream",
     "text": [
      "Train on 56000 samples, validate on 14000 samples\n",
      "Epoch 1/50\n",
      "56000/56000 [==============================] - 104s 2ms/step - loss: 2.3891 - acc: 0.2458 - val_loss: 2.1790 - val_acc: 0.2681\n",
      "Epoch 2/50\n",
      "56000/56000 [==============================] - 100s 2ms/step - loss: 2.2086 - acc: 0.2617 - val_loss: 2.1707 - val_acc: 0.2709\n",
      "Epoch 3/50\n",
      "56000/56000 [==============================] - 99s 2ms/step - loss: 2.1932 - acc: 0.2652 - val_loss: 2.1604 - val_acc: 0.2694\n",
      "Epoch 4/50\n",
      "56000/56000 [==============================] - 99s 2ms/step - loss: 2.1862 - acc: 0.2673 - val_loss: 2.1669 - val_acc: 0.2664\n",
      "Epoch 5/50\n",
      "56000/56000 [==============================] - 99s 2ms/step - loss: 2.1841 - acc: 0.2668 - val_loss: 2.1610 - val_acc: 0.2693\n",
      "Epoch 6/50\n",
      "56000/56000 [==============================] - 100s 2ms/step - loss: 2.1811 - acc: 0.2680 - val_loss: 2.1567 - val_acc: 0.2689\n",
      "Epoch 7/50\n",
      "56000/56000 [==============================] - 99s 2ms/step - loss: 2.1781 - acc: 0.2680 - val_loss: 2.1695 - val_acc: 0.2642\n",
      "Epoch 8/50\n",
      "56000/56000 [==============================] - 99s 2ms/step - loss: 2.1779 - acc: 0.2681 - val_loss: 2.1658 - val_acc: 0.2725\n",
      "Epoch 9/50\n",
      "56000/56000 [==============================] - 99s 2ms/step - loss: 2.1747 - acc: 0.2698 - val_loss: 2.1673 - val_acc: 0.2649\n",
      "Epoch 10/50\n",
      "56000/56000 [==============================] - 99s 2ms/step - loss: 2.1742 - acc: 0.2706 - val_loss: 2.1648 - val_acc: 0.2641\n",
      "Epoch 11/50\n",
      "56000/56000 [==============================] - 99s 2ms/step - loss: 2.1721 - acc: 0.2686 - val_loss: 2.1491 - val_acc: 0.2771\n",
      "Epoch 12/50\n",
      "56000/56000 [==============================] - 99s 2ms/step - loss: 2.1709 - acc: 0.2717 - val_loss: 2.1514 - val_acc: 0.2746\n",
      "Epoch 13/50\n",
      "56000/56000 [==============================] - 99s 2ms/step - loss: 2.1707 - acc: 0.2706 - val_loss: 2.1520 - val_acc: 0.2688\n",
      "Epoch 14/50\n",
      "56000/56000 [==============================] - 99s 2ms/step - loss: 2.1683 - acc: 0.2718 - val_loss: 2.1691 - val_acc: 0.2639\n",
      "Epoch 15/50\n",
      "56000/56000 [==============================] - 99s 2ms/step - loss: 2.1648 - acc: 0.2728 - val_loss: 2.1471 - val_acc: 0.2681\n",
      "Epoch 16/50\n",
      "56000/56000 [==============================] - 99s 2ms/step - loss: 2.1654 - acc: 0.2736 - val_loss: 2.1554 - val_acc: 0.2681\n",
      "Epoch 17/50\n",
      "56000/56000 [==============================] - 99s 2ms/step - loss: 2.1632 - acc: 0.2740 - val_loss: 2.1447 - val_acc: 0.2765\n",
      "Epoch 18/50\n",
      "56000/56000 [==============================] - 99s 2ms/step - loss: 2.1605 - acc: 0.2764 - val_loss: 2.1412 - val_acc: 0.2756\n",
      "Epoch 19/50\n",
      "56000/56000 [==============================] - 99s 2ms/step - loss: 2.1583 - acc: 0.2775 - val_loss: 2.1653 - val_acc: 0.2671\n",
      "Epoch 20/50\n",
      "56000/56000 [==============================] - 99s 2ms/step - loss: 2.1567 - acc: 0.2771 - val_loss: 2.1466 - val_acc: 0.2734\n",
      "Epoch 21/50\n",
      "56000/56000 [==============================] - 99s 2ms/step - loss: 2.1543 - acc: 0.2780 - val_loss: 2.1401 - val_acc: 0.2761\n",
      "Epoch 22/50\n",
      "56000/56000 [==============================] - 99s 2ms/step - loss: 2.1518 - acc: 0.2794 - val_loss: 2.1338 - val_acc: 0.2884\n",
      "Epoch 23/50\n",
      "56000/56000 [==============================] - 99s 2ms/step - loss: 2.1497 - acc: 0.2821 - val_loss: 2.1445 - val_acc: 0.2761\n",
      "Epoch 24/50\n",
      "56000/56000 [==============================] - 99s 2ms/step - loss: 2.1483 - acc: 0.2822 - val_loss: 2.1432 - val_acc: 0.2776\n",
      "Epoch 25/50\n",
      "56000/56000 [==============================] - 100s 2ms/step - loss: 2.1460 - acc: 0.2842 - val_loss: 2.1524 - val_acc: 0.2705\n",
      "Epoch 26/50\n",
      "56000/56000 [==============================] - 99s 2ms/step - loss: 2.1455 - acc: 0.2843 - val_loss: 2.1563 - val_acc: 0.2690\n",
      "Epoch 27/50\n",
      "56000/56000 [==============================] - 100s 2ms/step - loss: 2.1446 - acc: 0.2834 - val_loss: 2.1591 - val_acc: 0.2689\n",
      "CPU times: user 1h 38min 41s, sys: 10min, total: 1h 48min 42s\n",
      "Wall time: 44min 49s\n"
     ]
    }
   ],
   "source": [
    "%%time\n",
    "from keras.callbacks import EarlyStopping\n",
    "\n",
    "early_stopping = EarlyStopping(monitor='val_loss', patience=5, min_delta=1e-3, restore_best_weights=True)\n",
    "\n",
    "X_train_ann_rs = X_train_ann.reshape(X_train_ann.shape[0], X_train_ann.shape[1], 1)\n",
    "history = model.fit(X_train_ann_rs, y_train_ann, epochs = 50, batch_size = 500, validation_split= 0.2, callbacks=[early_stopping])"
   ]
  },
  {
   "cell_type": "code",
   "execution_count": 25,
   "metadata": {},
   "outputs": [],
   "source": [
    "import matplotlib.pyplot as plt\n",
    "\n",
    "def plot_history(cnn, acc= 'acc', val_acc = 'val_acc', loss = 'loss', val_loss = 'val_loss'):\n",
    "    fig = plt.figure(figsize = (16, 8))\n",
    "    plt.subplot(1, 2, 1)\n",
    "    plt.title('Accuracy in training Vs validation')\n",
    "    plt.ylabel('Accuracy')\n",
    "    plt.xlabel('Epoch')\n",
    "    plt.plot(cnn.history[acc], 'r')\n",
    "    plt.plot(cnn.history[val_acc], 'b')\n",
    "    plt.legend(['training', 'validation'])\n",
    "    \n",
    "    plt.subplot(1, 2, 2)\n",
    "    plt.title('Loss in training Vs validation')\n",
    "    plt.ylabel('Loss')\n",
    "    plt.xlabel('Epoch')\n",
    "    plt.plot(cnn.history[loss], 'r')\n",
    "    plt.plot(cnn.history[val_loss], 'b')\n",
    "    plt.legend(['training', 'validation'])\n",
    "    \n",
    "    plt.show()"
   ]
  },
  {
   "cell_type": "code",
   "execution_count": 173,
   "metadata": {},
   "outputs": [
    {
     "data": {
      "image/png": "[encoded data removed]",
      "text/plain": [
       "<Figure size 1152x576 with 2 Axes>"
      ]
     },
     "metadata": {
      "needs_background": "light"
     },
     "output_type": "display_data"
    }
   ],
   "source": [
    "plot_history(history, \n",
    "             acc='acc', \n",
    "             val_acc='val_acc', \n",
    "             loss='loss', \n",
    "             val_loss='val_loss')"
   ]
  },
  {
   "cell_type": "markdown",
   "metadata": {},
   "source": [
    "#### Convolutional based model"
   ]
  },
  {
   "cell_type": "code",
   "execution_count": 37,
   "metadata": {},
   "outputs": [
    {
     "name": "stdout",
     "output_type": "stream",
     "text": [
      "_________________________________________________________________\n",
      "Layer (type)                 Output Shape              Param #   \n",
      "=================================================================\n",
      "comment_text (InputLayer)    (None, 1000, 1)           0         \n",
      "_________________________________________________________________\n",
      "conv1d_14 (Conv1D)           (None, 998, 64)           256       \n",
      "_________________________________________________________________\n",
      "max_pooling1d_13 (MaxPooling (None, 499, 64)           0         \n",
      "_________________________________________________________________\n",
      "conv1d_15 (Conv1D)           (None, 497, 128)          24704     \n",
      "_________________________________________________________________\n",
      "spatial_dropout1d_7 (Spatial (None, 497, 128)          0         \n",
      "_________________________________________________________________\n",
      "max_pooling1d_14 (MaxPooling (None, 248, 128)          0         \n",
      "_________________________________________________________________\n",
      "conv1d_16 (Conv1D)           (None, 246, 128)          49280     \n",
      "_________________________________________________________________\n",
      "max_pooling1d_15 (MaxPooling (None, 123, 128)          0         \n",
      "_________________________________________________________________\n",
      "spatial_dropout1d_8 (Spatial (None, 123, 128)          0         \n",
      "_________________________________________________________________\n",
      "conv1d_17 (Conv1D)           (None, 121, 64)           24640     \n",
      "_________________________________________________________________\n",
      "max_pooling1d_16 (MaxPooling (None, 60, 64)            0         \n",
      "_________________________________________________________________\n",
      "flatten_4 (Flatten)          (None, 3840)              0         \n",
      "_________________________________________________________________\n",
      "dense_4 (Dense)              (None, 128)               491648    \n",
      "_________________________________________________________________\n",
      "dropout_4 (Dropout)          (None, 128)               0         \n",
      "_________________________________________________________________\n",
      "prediction (Dense)           (None, 18)                2322      \n",
      "=================================================================\n",
      "Total params: 592,850\n",
      "Trainable params: 592,850\n",
      "Non-trainable params: 0\n",
      "_________________________________________________________________\n"
     ]
    }
   ],
   "source": [
    "from keras.layers import Input, Embedding, Bidirectional, Dense, Conv1D, Flatten, MaxPool1D, concatenate, BatchNormalization, Dropout, SpatialDropout1D\n",
    "from keras.models import Model\n",
    "from keras import regularizers\n",
    "\n",
    "#Define the inputs\n",
    "comment_input = Input(shape=(vector_size,1), dtype='float32', name='comment_text')\n",
    "\n",
    "# Put here ->  kernel_regularizer=regularizers.l1_l2(l1=0.1, l2=0.2\n",
    "# Add l2 first, evaluate if there is improvement \n",
    "conv = Conv1D(64, 3, activation='tanh', input_shape=(vector_size,), kernel_regularizer=regularizers.l2())(comment_input)\n",
    "conv = MaxPool1D(2, strides=None, padding='valid')(conv)\n",
    "conv = Conv1D(128, 3, activation='tanh')(conv)\n",
    "conv = SpatialDropout1D(0.2)(conv)\n",
    "conv = MaxPool1D(2, strides=None, padding='valid')(conv)\n",
    "conv = Conv1D(128, 3, activation='tanh')(conv)\n",
    "conv = MaxPool1D(2, strides=None, padding='valid')(conv)\n",
    "conv = SpatialDropout1D(0.1)(conv)\n",
    "conv = Conv1D(64, 3, activation='tanh')(conv)\n",
    "conv = MaxPool1D(2, strides=None, padding='valid')(conv)\n",
    "conv_output = Flatten()(conv)\n",
    "\n",
    "\n",
    "#Apply a dense layers\n",
    "# minimize the dense layers - maybe add one of 64\n",
    "x = Dense(128, activation='relu')(conv_output)\n",
    "#x = BatchNormalization()(x)\n",
    "#x = Dense(100, activation='tanh')(x)\n",
    "x = Dropout(0.5)(x)\n",
    "#x = Dense(100, activation='tanh')(x)\n",
    "#x = Dropout(0.4)(x)\n",
    "#x = Dense(100, activation='tanh')(x)\n",
    "#x = Dense(50, activation='tanh')(x)\n",
    "#x = Dropout(0.2)(x)\n",
    "#x = Dense(25, activation='tanh')(x)\n",
    "\n",
    "#And finally make the predictions using the previous layer as input\n",
    "main_output = Dense(18, activation='softmax', name='prediction')(x)\n",
    "\n",
    "model = Model(inputs=comment_input, outputs=main_output)\n",
    "model.compile(optimizer='adam', loss='categorical_crossentropy', metrics=['accuracy'])\n",
    "model.summary()"
   ]
  },
  {
   "cell_type": "code",
   "execution_count": 38,
   "metadata": {},
   "outputs": [
    {
     "name": "stdout",
     "output_type": "stream",
     "text": [
      "Train on 56000 samples, validate on 14000 samples\n",
      "Epoch 1/100\n",
      "56000/56000 [==============================] - 7s 121us/step - loss: 2.2491 - acc: 0.2910 - val_loss: 1.9052 - val_acc: 0.4091\n",
      "Epoch 2/100\n",
      "56000/56000 [==============================] - 6s 112us/step - loss: 1.8975 - acc: 0.4113 - val_loss: 1.7267 - val_acc: 0.4687\n",
      "Epoch 3/100\n",
      "56000/56000 [==============================] - 6s 112us/step - loss: 1.7575 - acc: 0.4547 - val_loss: 1.6295 - val_acc: 0.4918\n",
      "Epoch 4/100\n",
      "56000/56000 [==============================] - 6s 113us/step - loss: 1.6913 - acc: 0.4731 - val_loss: 1.5866 - val_acc: 0.5027\n",
      "Epoch 5/100\n",
      "56000/56000 [==============================] - 6s 113us/step - loss: 1.6432 - acc: 0.4844 - val_loss: 1.5630 - val_acc: 0.5079\n",
      "Epoch 6/100\n",
      "56000/56000 [==============================] - 6s 114us/step - loss: 1.6087 - acc: 0.4930 - val_loss: 1.5423 - val_acc: 0.5082\n",
      "Epoch 7/100\n",
      "56000/56000 [==============================] - 6s 114us/step - loss: 1.5824 - acc: 0.5008 - val_loss: 1.5136 - val_acc: 0.5231\n",
      "Epoch 8/100\n",
      "56000/56000 [==============================] - 6s 115us/step - loss: 1.5612 - acc: 0.5049 - val_loss: 1.5013 - val_acc: 0.5207\n",
      "Epoch 9/100\n",
      "56000/56000 [==============================] - 6s 116us/step - loss: 1.5436 - acc: 0.5086 - val_loss: 1.5005 - val_acc: 0.5277\n",
      "Epoch 10/100\n",
      "56000/56000 [==============================] - 7s 117us/step - loss: 1.5247 - acc: 0.5150 - val_loss: 1.4839 - val_acc: 0.5285\n",
      "Epoch 11/100\n",
      "56000/56000 [==============================] - 7s 117us/step - loss: 1.5096 - acc: 0.5199 - val_loss: 1.4823 - val_acc: 0.5271\n",
      "Epoch 12/100\n",
      "56000/56000 [==============================] - 7s 118us/step - loss: 1.4956 - acc: 0.5210 - val_loss: 1.4671 - val_acc: 0.5342\n",
      "Epoch 13/100\n",
      "56000/56000 [==============================] - 7s 118us/step - loss: 1.4843 - acc: 0.5255 - val_loss: 1.4764 - val_acc: 0.5284\n",
      "Epoch 14/100\n",
      "56000/56000 [==============================] - 7s 118us/step - loss: 1.4732 - acc: 0.5299 - val_loss: 1.4579 - val_acc: 0.5354\n",
      "Epoch 15/100\n",
      "56000/56000 [==============================] - 7s 118us/step - loss: 1.4604 - acc: 0.5306 - val_loss: 1.4714 - val_acc: 0.5311\n",
      "Epoch 16/100\n",
      "56000/56000 [==============================] - 7s 119us/step - loss: 1.4479 - acc: 0.5355 - val_loss: 1.4575 - val_acc: 0.5354\n",
      "Epoch 17/100\n",
      "56000/56000 [==============================] - 7s 118us/step - loss: 1.4430 - acc: 0.5372 - val_loss: 1.4605 - val_acc: 0.5342\n",
      "Epoch 18/100\n",
      "56000/56000 [==============================] - 7s 118us/step - loss: 1.4258 - acc: 0.5391 - val_loss: 1.4761 - val_acc: 0.5357\n",
      "Epoch 19/100\n",
      "56000/56000 [==============================] - 7s 119us/step - loss: 1.4117 - acc: 0.5439 - val_loss: 1.4605 - val_acc: 0.5371\n",
      "Epoch 20/100\n",
      "56000/56000 [==============================] - 7s 118us/step - loss: 1.4137 - acc: 0.5439 - val_loss: 1.4549 - val_acc: 0.5359\n",
      "Epoch 21/100\n",
      "56000/56000 [==============================] - 7s 118us/step - loss: 1.3991 - acc: 0.5463 - val_loss: 1.4534 - val_acc: 0.5374\n",
      "Epoch 22/100\n",
      "56000/56000 [==============================] - 7s 118us/step - loss: 1.3879 - acc: 0.5519 - val_loss: 1.4534 - val_acc: 0.5390\n",
      "Epoch 23/100\n",
      "56000/56000 [==============================] - 7s 118us/step - loss: 1.3781 - acc: 0.5522 - val_loss: 1.4566 - val_acc: 0.5386\n",
      "Epoch 24/100\n",
      "56000/56000 [==============================] - 7s 118us/step - loss: 1.3680 - acc: 0.5518 - val_loss: 1.4591 - val_acc: 0.5361\n",
      "Epoch 25/100\n",
      "56000/56000 [==============================] - 7s 119us/step - loss: 1.3591 - acc: 0.5557 - val_loss: 1.4604 - val_acc: 0.5382\n",
      "Epoch 26/100\n",
      "56000/56000 [==============================] - 7s 118us/step - loss: 1.3551 - acc: 0.5581 - val_loss: 1.4660 - val_acc: 0.5416\n",
      "Epoch 27/100\n",
      "56000/56000 [==============================] - 7s 118us/step - loss: 1.3464 - acc: 0.5580 - val_loss: 1.4607 - val_acc: 0.5361\n",
      "Epoch 28/100\n",
      "56000/56000 [==============================] - 7s 118us/step - loss: 1.3402 - acc: 0.5608 - val_loss: 1.4678 - val_acc: 0.5384\n",
      "Epoch 29/100\n",
      "56000/56000 [==============================] - 7s 119us/step - loss: 1.3333 - acc: 0.5592 - val_loss: 1.4772 - val_acc: 0.5358\n",
      "Epoch 30/100\n",
      "56000/56000 [==============================] - 7s 119us/step - loss: 1.3266 - acc: 0.5639 - val_loss: 1.4769 - val_acc: 0.5386\n",
      "Epoch 31/100\n",
      "56000/56000 [==============================] - 7s 119us/step - loss: 1.3116 - acc: 0.5670 - val_loss: 1.4855 - val_acc: 0.5351\n",
      "Epoch 32/100\n",
      "56000/56000 [==============================] - 7s 118us/step - loss: 1.3095 - acc: 0.5666 - val_loss: 1.4745 - val_acc: 0.5325\n",
      "Epoch 33/100\n",
      "56000/56000 [==============================] - 7s 118us/step - loss: 1.2926 - acc: 0.5701 - val_loss: 1.4746 - val_acc: 0.5326\n",
      "Epoch 34/100\n",
      "56000/56000 [==============================] - 7s 119us/step - loss: 1.2910 - acc: 0.5713 - val_loss: 1.4823 - val_acc: 0.5344\n",
      "Epoch 35/100\n",
      "56000/56000 [==============================] - 7s 118us/step - loss: 1.2832 - acc: 0.5712 - val_loss: 1.4892 - val_acc: 0.5349\n",
      "Epoch 36/100\n",
      "56000/56000 [==============================] - 7s 118us/step - loss: 1.2801 - acc: 0.5724 - val_loss: 1.4870 - val_acc: 0.5361\n",
      "Epoch 37/100\n",
      "56000/56000 [==============================] - 7s 119us/step - loss: 1.2711 - acc: 0.5745 - val_loss: 1.4954 - val_acc: 0.5365\n",
      "CPU times: user 2min 38s, sys: 3.1 s, total: 2min 41s\n",
      "Wall time: 4min 3s\n"
     ]
    }
   ],
   "source": [
    "%%time\n",
    "from keras.callbacks import EarlyStopping\n",
    "\n",
    "early_stopping = EarlyStopping(monitor='val_loss', patience=15, min_delta=1e-7, restore_best_weights=True)\n",
    "\n",
    "X_train_ann_rs = X_train_ann.reshape(X_train_ann.shape[0], X_train_ann.shape[1], 1)\n",
    "history = model.fit(X_train_ann_rs, y_train_ann, epochs = 100, batch_size = 1000, validation_split= 0.2, callbacks=[early_stopping])"
   ]
  },
  {
   "cell_type": "code",
   "execution_count": 39,
   "metadata": {},
   "outputs": [
    {
     "data": {
      "image/png": "[encoded data removed]",
      "text/plain": [
       "<Figure size 1152x576 with 2 Axes>"
      ]
     },
     "metadata": {
      "needs_background": "light"
     },
     "output_type": "display_data"
    }
   ],
   "source": [
    "plot_history(history, \n",
    "             acc='acc', \n",
    "             val_acc='val_acc', \n",
    "             loss='loss', \n",
    "             val_loss='val_loss')"
   ]
  },
  {
   "cell_type": "code",
   "execution_count": 168,
   "metadata": {},
   "outputs": [
    {
     "data": {
      "text/plain": [
       "dict_keys(['val_loss', 'val_acc', 'loss', 'acc'])"
      ]
     },
     "execution_count": 168,
     "metadata": {},
     "output_type": "execute_result"
    }
   ],
   "source": [
    "history.history.keys()"
   ]
  },
  {
   "cell_type": "code",
   "execution_count": null,
   "metadata": {},
   "outputs": [],
   "source": []
  }
 ],
 "metadata": {
  "kernelspec": {
   "display_name": "Python 3",
   "language": "python",
   "name": "python3"
  },
  "language_info": {
   "codemirror_mode": {
    "name": "ipython",
    "version": 3
   },
   "file_extension": ".py",
   "mimetype": "text/x-python",
   "name": "python",
   "nbconvert_exporter": "python",
   "pygments_lexer": "ipython3",
   "version": "3.6.9"
  }
 },
 "nbformat": 4,
 "nbformat_minor": 4
}
