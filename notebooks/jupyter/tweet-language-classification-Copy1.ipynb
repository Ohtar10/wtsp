{
 "cells": [
  {
   "cell_type": "markdown",
   "metadata": {},
   "source": [
    "# Tweets Language Classification\n",
    "\n",
    "## Author: Luis Eduardo Ferro Diez <a href=\"mailto:luis.ferro1@correo.icesi.edu.co\">luis.ferro1@correo.icesi.edu.co</a>\n",
    "\n",
    "This notebook contains the model training preparation for classifying the tweets language.\n",
    "\n",
    "## Dataset\n",
    "* Tweets dataset in parquet format (After executing the first transformation spark pipeline)\n",
    "\n",
    "## Resources\n",
    "* https://machinelearningmastery.com/best-practices-document-classification-deep-learning/\n",
    "\n",
    "## Objective\n",
    "A large number of tweets lack of language identification which is needed in later stages of the project when trying to classify tweets as spam or ham, and furthemore, for simplicity the intention is only to consider english tweets for the analysis of where to sell products geographically speaking.\n",
    "\n",
    "Depending on the tweet year collection, an important number of tweets does not have language tag, or Twitter itself was not able to identify the language and tagged the `lang` value as `und` for `undefined`. The objective in this notebook is to model two deep learning pipelines with keras to classify if a tweet is either written in english or not. We are not interested for now in the other languages hence we can deem this as a binary classification problem.\n",
    "\n",
    "### Prepare the data"
   ]
  },
  {
   "cell_type": "code",
   "execution_count": 1,
   "metadata": {},
   "outputs": [],
   "source": [
    "base_path = \"/media/ohtar10/Adder-Storage/datasets/twitter\"\n",
    "tweets_path = base_path + \"/pruned/tweets/\""
   ]
  },
  {
   "cell_type": "code",
   "execution_count": 2,
   "metadata": {},
   "outputs": [
    {
     "data": {
      "text/html": [
       "<div>\n",
       "<style scoped>\n",
       "    .dataframe tbody tr th:only-of-type {\n",
       "        vertical-align: middle;\n",
       "    }\n",
       "\n",
       "    .dataframe tbody tr th {\n",
       "        vertical-align: top;\n",
       "    }\n",
       "\n",
       "    .dataframe thead th {\n",
       "        text-align: right;\n",
       "    }\n",
       "</style>\n",
       "<table border=\"1\" class=\"dataframe\">\n",
       "  <thead>\n",
       "    <tr style=\"text-align: right;\">\n",
       "      <th></th>\n",
       "      <th>id</th>\n",
       "      <th>tweet</th>\n",
       "      <th>lang</th>\n",
       "      <th>favorite_count</th>\n",
       "      <th>retweet_count</th>\n",
       "      <th>is_retweet</th>\n",
       "      <th>user_id</th>\n",
       "      <th>user_name</th>\n",
       "      <th>user_followers_count</th>\n",
       "      <th>user_following_count</th>\n",
       "      <th>...</th>\n",
       "      <th>place_name</th>\n",
       "      <th>place_full_name</th>\n",
       "      <th>country</th>\n",
       "      <th>country_code</th>\n",
       "      <th>place_type</th>\n",
       "      <th>place_url</th>\n",
       "      <th>year</th>\n",
       "      <th>month</th>\n",
       "      <th>day</th>\n",
       "      <th>hour</th>\n",
       "    </tr>\n",
       "  </thead>\n",
       "  <tbody>\n",
       "    <tr>\n",
       "      <td>0</td>\n",
       "      <td>384905527706542080</td>\n",
       "      <td>I'm at Mahatma Gading Nasional Plus School (Ja...</td>\n",
       "      <td>id</td>\n",
       "      <td>0.0</td>\n",
       "      <td>0.0</td>\n",
       "      <td>0.0</td>\n",
       "      <td>234670148</td>\n",
       "      <td>richardgbt</td>\n",
       "      <td>306.0</td>\n",
       "      <td>280.0</td>\n",
       "      <td>...</td>\n",
       "      <td>Pulo Gadung</td>\n",
       "      <td>Pulo Gadung, Jakarta Timur</td>\n",
       "      <td>Indonesia</td>\n",
       "      <td>ID</td>\n",
       "      <td>city</td>\n",
       "      <td>https://api.twitter.com/1.1/geo/id/8496c55fb5d...</td>\n",
       "      <td>2013</td>\n",
       "      <td>10</td>\n",
       "      <td>1</td>\n",
       "      <td>0</td>\n",
       "    </tr>\n",
       "    <tr>\n",
       "      <td>1</td>\n",
       "      <td>384905536107319296</td>\n",
       "      <td>But I honestly don't give a fuck, because I di...</td>\n",
       "      <td>en</td>\n",
       "      <td>0.0</td>\n",
       "      <td>0.0</td>\n",
       "      <td>0.0</td>\n",
       "      <td>28929946</td>\n",
       "      <td>rachelzerber</td>\n",
       "      <td>344.0</td>\n",
       "      <td>124.0</td>\n",
       "      <td>...</td>\n",
       "      <td>Arizona</td>\n",
       "      <td>Arizona, US</td>\n",
       "      <td>United States</td>\n",
       "      <td>US</td>\n",
       "      <td>admin</td>\n",
       "      <td>https://api.twitter.com/1.1/geo/id/a612c69b44b...</td>\n",
       "      <td>2013</td>\n",
       "      <td>10</td>\n",
       "      <td>1</td>\n",
       "      <td>0</td>\n",
       "    </tr>\n",
       "    <tr>\n",
       "      <td>2</td>\n",
       "      <td>384905548690653184</td>\n",
       "      <td>Metcalfe / Sainte-Catherine: 01:00 - Disponibl...</td>\n",
       "      <td>de</td>\n",
       "      <td>0.0</td>\n",
       "      <td>0.0</td>\n",
       "      <td>0.0</td>\n",
       "      <td>162780830</td>\n",
       "      <td>BixTweet057</td>\n",
       "      <td>3.0</td>\n",
       "      <td>0.0</td>\n",
       "      <td>...</td>\n",
       "      <td>Montréal</td>\n",
       "      <td>Montréal, Québec</td>\n",
       "      <td>Canada</td>\n",
       "      <td>CA</td>\n",
       "      <td>city</td>\n",
       "      <td>https://api.twitter.com/1.1/geo/id/378a442883b...</td>\n",
       "      <td>2013</td>\n",
       "      <td>10</td>\n",
       "      <td>1</td>\n",
       "      <td>0</td>\n",
       "    </tr>\n",
       "    <tr>\n",
       "      <td>3</td>\n",
       "      <td>384905548690255872</td>\n",
       "      <td>Ask te odio pero a la ves te amo :)</td>\n",
       "      <td>es</td>\n",
       "      <td>0.0</td>\n",
       "      <td>0.0</td>\n",
       "      <td>0.0</td>\n",
       "      <td>38001073</td>\n",
       "      <td>bernageek</td>\n",
       "      <td>728.0</td>\n",
       "      <td>469.0</td>\n",
       "      <td>...</td>\n",
       "      <td>Pachuca de Soto</td>\n",
       "      <td>Pachuca de Soto, Hidalgo</td>\n",
       "      <td>México</td>\n",
       "      <td>MX</td>\n",
       "      <td>city</td>\n",
       "      <td>https://api.twitter.com/1.1/geo/id/8747ffc9cc7...</td>\n",
       "      <td>2013</td>\n",
       "      <td>10</td>\n",
       "      <td>1</td>\n",
       "      <td>0</td>\n",
       "    </tr>\n",
       "    <tr>\n",
       "      <td>4</td>\n",
       "      <td>384905552855592961</td>\n",
       "      <td>\"@ThelIluminati: The #governmentshutdown but t...</td>\n",
       "      <td>en</td>\n",
       "      <td>0.0</td>\n",
       "      <td>0.0</td>\n",
       "      <td>0.0</td>\n",
       "      <td>297722693</td>\n",
       "      <td>wifi_whor3</td>\n",
       "      <td>372.0</td>\n",
       "      <td>708.0</td>\n",
       "      <td>...</td>\n",
       "      <td>Pasadena</td>\n",
       "      <td>Pasadena, TX</td>\n",
       "      <td>United States</td>\n",
       "      <td>US</td>\n",
       "      <td>city</td>\n",
       "      <td>https://api.twitter.com/1.1/geo/id/3e82edc94d5...</td>\n",
       "      <td>2013</td>\n",
       "      <td>10</td>\n",
       "      <td>1</td>\n",
       "      <td>0</td>\n",
       "    </tr>\n",
       "  </tbody>\n",
       "</table>\n",
       "<p>5 rows × 29 columns</p>\n",
       "</div>"
      ],
      "text/plain": [
       "                   id                                              tweet lang  \\\n",
       "0  384905527706542080  I'm at Mahatma Gading Nasional Plus School (Ja...   id   \n",
       "1  384905536107319296  But I honestly don't give a fuck, because I di...   en   \n",
       "2  384905548690653184  Metcalfe / Sainte-Catherine: 01:00 - Disponibl...   de   \n",
       "3  384905548690255872                Ask te odio pero a la ves te amo :)   es   \n",
       "4  384905552855592961  \"@ThelIluminati: The #governmentshutdown but t...   en   \n",
       "\n",
       "   favorite_count  retweet_count  is_retweet    user_id     user_name  \\\n",
       "0             0.0            0.0         0.0  234670148    richardgbt   \n",
       "1             0.0            0.0         0.0   28929946  rachelzerber   \n",
       "2             0.0            0.0         0.0  162780830   BixTweet057   \n",
       "3             0.0            0.0         0.0   38001073     bernageek   \n",
       "4             0.0            0.0         0.0  297722693    wifi_whor3   \n",
       "\n",
       "   user_followers_count  user_following_count  ...       place_name  \\\n",
       "0                 306.0                 280.0  ...      Pulo Gadung   \n",
       "1                 344.0                 124.0  ...          Arizona   \n",
       "2                   3.0                   0.0  ...         Montréal   \n",
       "3                 728.0                 469.0  ...  Pachuca de Soto   \n",
       "4                 372.0                 708.0  ...         Pasadena   \n",
       "\n",
       "              place_full_name        country country_code place_type  \\\n",
       "0  Pulo Gadung, Jakarta Timur      Indonesia           ID       city   \n",
       "1                 Arizona, US  United States           US      admin   \n",
       "2            Montréal, Québec         Canada           CA       city   \n",
       "3    Pachuca de Soto, Hidalgo         México           MX       city   \n",
       "4                Pasadena, TX  United States           US       city   \n",
       "\n",
       "                                           place_url  year month day hour  \n",
       "0  https://api.twitter.com/1.1/geo/id/8496c55fb5d...  2013    10   1    0  \n",
       "1  https://api.twitter.com/1.1/geo/id/a612c69b44b...  2013    10   1    0  \n",
       "2  https://api.twitter.com/1.1/geo/id/378a442883b...  2013    10   1    0  \n",
       "3  https://api.twitter.com/1.1/geo/id/8747ffc9cc7...  2013    10   1    0  \n",
       "4  https://api.twitter.com/1.1/geo/id/3e82edc94d5...  2013    10   1    0  \n",
       "\n",
       "[5 rows x 29 columns]"
      ]
     },
     "execution_count": 2,
     "metadata": {},
     "output_type": "execute_result"
    }
   ],
   "source": [
    "import pandas as pd\n",
    "\n",
    "tweets = pd.read_parquet(tweets_path, engine=\"pyarrow\")\n",
    "tweets.head()"
   ]
  },
  {
   "cell_type": "markdown",
   "metadata": {},
   "source": [
    "We consider the most relevant parts to predict the tweet language to be:\n",
    "* The tweet text\n",
    "* The country code\n",
    "\n",
    "The tweet text might contain user mentions, for simplicity, we will first transform the text, replacing the user mention with the text \"@usermention\".\n",
    "\n",
    "Since we are only interested in detecting if a tweet is written in english or not, we would need to transform the `lang` column into a numberic value with `lang=1` for the possitive class, i.e., \"The tweet is in english\" and `lang=0` for the negative class, i.e., \"The tweet is not written in english language.\"\n",
    "\n",
    "#### Note\n",
    "The purpose of this is to train a model to predict the language of the undifined ones, so we need to remove this group from the training set."
   ]
  },
  {
   "cell_type": "code",
   "execution_count": 3,
   "metadata": {},
   "outputs": [
    {
     "data": {
      "text/plain": [
       "array(['id', 'en', 'de', 'es', 'fr', 'ru', 'lt', 'tr', 'ja', 'tl', 'nl',\n",
       "       'da', 'pt', 'und', 'sv', 'sl', 'th', 'vi', 'ht', 'et', 'lv', 'it',\n",
       "       'zh', 'hu', 'is', 'sk', 'ar', 'no', 'pl', 'fi', 'uk', 'el', 'bg',\n",
       "       'ko', 'fa', 'he', 'ne', 'ur', 'lo', 'hi', 'iu', 'ka', 'hy', 'ta',\n",
       "       'km', 'bo', 'pa', 'gu', 'si', 'kn'], dtype=object)"
      ]
     },
     "execution_count": 3,
     "metadata": {},
     "output_type": "execute_result"
    }
   ],
   "source": [
    "tweets.lang.unique()"
   ]
  },
  {
   "cell_type": "code",
   "execution_count": 4,
   "metadata": {},
   "outputs": [
    {
     "data": {
      "text/html": [
       "<div>\n",
       "<style scoped>\n",
       "    .dataframe tbody tr th:only-of-type {\n",
       "        vertical-align: middle;\n",
       "    }\n",
       "\n",
       "    .dataframe tbody tr th {\n",
       "        vertical-align: top;\n",
       "    }\n",
       "\n",
       "    .dataframe thead th {\n",
       "        text-align: right;\n",
       "    }\n",
       "</style>\n",
       "<table border=\"1\" class=\"dataframe\">\n",
       "  <thead>\n",
       "    <tr style=\"text-align: right;\">\n",
       "      <th></th>\n",
       "      <th>tweet</th>\n",
       "      <th>country_code</th>\n",
       "      <th>lang</th>\n",
       "    </tr>\n",
       "  </thead>\n",
       "  <tbody>\n",
       "    <tr>\n",
       "      <td>0</td>\n",
       "      <td>I'm at Mahatma Gading Nasional Plus School (Ja...</td>\n",
       "      <td>ID</td>\n",
       "      <td>0.0</td>\n",
       "    </tr>\n",
       "    <tr>\n",
       "      <td>1</td>\n",
       "      <td>But I honestly don't give a fuck, because I di...</td>\n",
       "      <td>US</td>\n",
       "      <td>1.0</td>\n",
       "    </tr>\n",
       "    <tr>\n",
       "      <td>2</td>\n",
       "      <td>Metcalfe / Sainte-Catherine: 01:00 - Disponibl...</td>\n",
       "      <td>CA</td>\n",
       "      <td>0.0</td>\n",
       "    </tr>\n",
       "    <tr>\n",
       "      <td>3</td>\n",
       "      <td>Ask te odio pero a la ves te amo :)</td>\n",
       "      <td>MX</td>\n",
       "      <td>0.0</td>\n",
       "    </tr>\n",
       "    <tr>\n",
       "      <td>4</td>\n",
       "      <td>\"@usermention: The #governmentshutdown but the...</td>\n",
       "      <td>US</td>\n",
       "      <td>1.0</td>\n",
       "    </tr>\n",
       "  </tbody>\n",
       "</table>\n",
       "</div>"
      ],
      "text/plain": [
       "                                               tweet country_code  lang\n",
       "0  I'm at Mahatma Gading Nasional Plus School (Ja...           ID   0.0\n",
       "1  But I honestly don't give a fuck, because I di...           US   1.0\n",
       "2  Metcalfe / Sainte-Catherine: 01:00 - Disponibl...           CA   0.0\n",
       "3                Ask te odio pero a la ves te amo :)           MX   0.0\n",
       "4  \"@usermention: The #governmentshutdown but the...           US   1.0"
      ]
     },
     "execution_count": 4,
     "metadata": {},
     "output_type": "execute_result"
    }
   ],
   "source": [
    "import re\n",
    "\n",
    "# Keep the undifined language tweets separated\n",
    "und_tweets = tweets[tweets.lang == 'und']\n",
    "tweets = tweets[tweets.lang != 'und']\n",
    "\n",
    "tweets.tweet = tweets.tweet.apply(lambda x: re.sub(r\"@[\\w\\d]+\", \"@usermention\", x))\n",
    "tweets = tweets[[\"tweet\", \"country_code\", \"lang\"]]\n",
    "tweets.lang = tweets.lang.apply(lambda x: 1.0 if x == 'en' else 0.0)\n",
    "tweets.head()"
   ]
  },
  {
   "cell_type": "code",
   "execution_count": 5,
   "metadata": {},
   "outputs": [
    {
     "name": "stdout",
     "output_type": "stream",
     "text": [
      "Amount of tweets with undefined language: 57510\n",
      "Amount of tweets for training language: 2005888\n"
     ]
    }
   ],
   "source": [
    "und_lang_tweets = und_tweets.tweet.count()\n",
    "dataset_tweets = tweets.tweet.count()\n",
    "print(f\"Amount of tweets with undefined language: {und_lang_tweets}\")\n",
    "print(f\"Amount of tweets for training language: {dataset_tweets}\")"
   ]
  },
  {
   "cell_type": "markdown",
   "metadata": {},
   "source": [
    "Now let's convert the country code into a onehot encoding"
   ]
  },
  {
   "cell_type": "code",
   "execution_count": 6,
   "metadata": {},
   "outputs": [
    {
     "data": {
      "text/plain": [
       "array(['ID', 'US', 'CA', 'MX', 'FR', 'RU', 'ES', 'LT', 'MY', 'CL', 'GB',\n",
       "       'TR', 'JP', 'ZA', 'BR', 'NL', 'SE', 'RS', 'DE', 'UA', 'NO', 'BE',\n",
       "       'IT', 'HU', 'CH', 'DK', 'EE', 'PH', 'LV', 'AR', 'SG', 'DO', 'SA',\n",
       "       'PL', '', 'CU', 'BY', 'GR', 'IE', 'FI', 'CO', 'MA', 'KR', 'PT',\n",
       "       'CN', 'AT', 'TH', 'XK', 'BS', 'RO', 'HR', 'CI', 'JM', 'UY', 'AU',\n",
       "       'MZ', 'MK', 'TN', 'AM', 'LU', 'BB', 'ME', 'PE', 'MN', 'CZ', 'NI',\n",
       "       'IQ', 'VE', 'GE', 'PY', 'AZ', 'SK', 'EG', 'MQ', 'IL', 'SV', 'QA',\n",
       "       'GP', 'BF', 'MG', 'DZ', 'YE', 'CY', 'IN', 'EC', 'SM', 'NZ', 'GI',\n",
       "       'GL', 'PF', 'HK', 'GT', 'HN', 'SY', 'BW', 'BO', 'KP', 'AD', 'LK',\n",
       "       'SD', 'GH', 'AQ', 'PK', 'ZW', 'SN', 'BN', 'LB', 'JO', 'VG', 'MD',\n",
       "       'PR', 'HT', 'BG', 'PG', 'PA', 'KM', 'TW', 'VA', 'VN', 'RE', 'CR',\n",
       "       'KZ', 'AE', 'BA', 'SL', 'MT', 'NC', 'NG', 'LI', 'IR', 'KE', 'SI',\n",
       "       'AS', 'MV', 'BM', 'DM', 'KY', 'ZM', 'MM', 'KW', 'TM', 'IS', 'CG',\n",
       "       'FJ', 'TD', 'LR', 'CW', 'TT', 'OM', 'GU', 'TC', 'SZ', 'CV', 'CC',\n",
       "       'KH', 'SO', 'ET', 'BZ', 'ML', 'MW', 'MR', 'YT', 'PS', 'AL', 'CM',\n",
       "       'EH', 'AO', 'KN', 'TZ', 'SH', 'MF', 'NE', 'MP', 'BD', 'NP', 'GS',\n",
       "       'AF', 'NA', 'SB', 'AG', 'MU', 'SR', 'LY', 'GW', 'BQ'], dtype=object)"
      ]
     },
     "execution_count": 6,
     "metadata": {},
     "output_type": "execute_result"
    }
   ],
   "source": [
    "tweets.country_code.unique()"
   ]
  },
  {
   "cell_type": "code",
   "execution_count": 7,
   "metadata": {},
   "outputs": [
    {
     "data": {
      "text/html": [
       "<div>\n",
       "<style scoped>\n",
       "    .dataframe tbody tr th:only-of-type {\n",
       "        vertical-align: middle;\n",
       "    }\n",
       "\n",
       "    .dataframe tbody tr th {\n",
       "        vertical-align: top;\n",
       "    }\n",
       "\n",
       "    .dataframe thead th {\n",
       "        text-align: right;\n",
       "    }\n",
       "</style>\n",
       "<table border=\"1\" class=\"dataframe\">\n",
       "  <thead>\n",
       "    <tr style=\"text-align: right;\">\n",
       "      <th></th>\n",
       "      <th>tweet</th>\n",
       "      <th>country_code</th>\n",
       "      <th>lang</th>\n",
       "      <th>country_encoded</th>\n",
       "    </tr>\n",
       "  </thead>\n",
       "  <tbody>\n",
       "    <tr>\n",
       "      <td>0</td>\n",
       "      <td>I'm at Mahatma Gading Nasional Plus School (Ja...</td>\n",
       "      <td>ID</td>\n",
       "      <td>0.0</td>\n",
       "      <td>74</td>\n",
       "    </tr>\n",
       "    <tr>\n",
       "      <td>1</td>\n",
       "      <td>But I honestly don't give a fuck, because I di...</td>\n",
       "      <td>US</td>\n",
       "      <td>1.0</td>\n",
       "      <td>173</td>\n",
       "    </tr>\n",
       "    <tr>\n",
       "      <td>2</td>\n",
       "      <td>Metcalfe / Sainte-Catherine: 01:00 - Disponibl...</td>\n",
       "      <td>CA</td>\n",
       "      <td>0.0</td>\n",
       "      <td>29</td>\n",
       "    </tr>\n",
       "    <tr>\n",
       "      <td>3</td>\n",
       "      <td>Ask te odio pero a la ves te amo :)</td>\n",
       "      <td>MX</td>\n",
       "      <td>0.0</td>\n",
       "      <td>118</td>\n",
       "    </tr>\n",
       "    <tr>\n",
       "      <td>4</td>\n",
       "      <td>\"@usermention: The #governmentshutdown but the...</td>\n",
       "      <td>US</td>\n",
       "      <td>1.0</td>\n",
       "      <td>173</td>\n",
       "    </tr>\n",
       "    <tr>\n",
       "      <td>5</td>\n",
       "      <td>Magic mike on TV? I think yes</td>\n",
       "      <td>US</td>\n",
       "      <td>1.0</td>\n",
       "      <td>173</td>\n",
       "    </tr>\n",
       "    <tr>\n",
       "      <td>6</td>\n",
       "      <td>@usermention Yes! Thank you!</td>\n",
       "      <td>US</td>\n",
       "      <td>1.0</td>\n",
       "      <td>173</td>\n",
       "    </tr>\n",
       "    <tr>\n",
       "      <td>7</td>\n",
       "      <td>@usermention don't forget about meeeee</td>\n",
       "      <td>US</td>\n",
       "      <td>1.0</td>\n",
       "      <td>173</td>\n",
       "    </tr>\n",
       "    <tr>\n",
       "      <td>8</td>\n",
       "      <td>Trop la flemme d'y aller #on</td>\n",
       "      <td>FR</td>\n",
       "      <td>0.0</td>\n",
       "      <td>57</td>\n",
       "    </tr>\n",
       "    <tr>\n",
       "      <td>9</td>\n",
       "      <td>I'm at ВАВТ Минэкономразвития РФ (Всероссийска...</td>\n",
       "      <td>RU</td>\n",
       "      <td>0.0</td>\n",
       "      <td>146</td>\n",
       "    </tr>\n",
       "  </tbody>\n",
       "</table>\n",
       "</div>"
      ],
      "text/plain": [
       "                                               tweet country_code  lang  \\\n",
       "0  I'm at Mahatma Gading Nasional Plus School (Ja...           ID   0.0   \n",
       "1  But I honestly don't give a fuck, because I di...           US   1.0   \n",
       "2  Metcalfe / Sainte-Catherine: 01:00 - Disponibl...           CA   0.0   \n",
       "3                Ask te odio pero a la ves te amo :)           MX   0.0   \n",
       "4  \"@usermention: The #governmentshutdown but the...           US   1.0   \n",
       "5                      Magic mike on TV? I think yes           US   1.0   \n",
       "6                       @usermention Yes! Thank you!           US   1.0   \n",
       "7             @usermention don't forget about meeeee           US   1.0   \n",
       "8                       Trop la flemme d'y aller #on           FR   0.0   \n",
       "9  I'm at ВАВТ Минэкономразвития РФ (Всероссийска...           RU   0.0   \n",
       "\n",
       "   country_encoded  \n",
       "0               74  \n",
       "1              173  \n",
       "2               29  \n",
       "3              118  \n",
       "4              173  \n",
       "5              173  \n",
       "6              173  \n",
       "7              173  \n",
       "8               57  \n",
       "9              146  "
      ]
     },
     "execution_count": 7,
     "metadata": {},
     "output_type": "execute_result"
    }
   ],
   "source": [
    "from sklearn.preprocessing import LabelEncoder\n",
    "\n",
    "country_encoder = LabelEncoder()\n",
    "country_encoded = country_encoder.fit_transform(tweets.country_code.values).reshape(-1, 1)\n",
    "tweets['country_encoded'] = country_encoded\n",
    "tweets.head(10)"
   ]
  },
  {
   "cell_type": "code",
   "execution_count": 8,
   "metadata": {},
   "outputs": [
    {
     "data": {
      "text/plain": [
       "[('GP', 63),\n",
       " ('PH', 135),\n",
       " ('SE', 150),\n",
       " ('AZ', 13),\n",
       " ('IN', 77),\n",
       " ('JM', 82),\n",
       " ('FR', 57),\n",
       " ('KY', 92),\n",
       " ('TM', 166),\n",
       " ('SL', 155)]"
      ]
     },
     "execution_count": 8,
     "metadata": {},
     "output_type": "execute_result"
    }
   ],
   "source": [
    "c = tweets.country_code.values\n",
    "c_encoded = tweets.country_encoded.values\n",
    "countries = set(zip(c, c_encoded))\n",
    "list(countries)[:10]"
   ]
  },
  {
   "cell_type": "markdown",
   "metadata": {},
   "source": [
    "## Baseline\n",
    "\n",
    "In order to assess if the models are good or not, we'll need to establish a baseline. Since this is a classification problem, and there is no previous reference, our baseline is the most predominant class."
   ]
  },
  {
   "cell_type": "code",
   "execution_count": 9,
   "metadata": {},
   "outputs": [
    {
     "data": {
      "text/plain": [
       "0.0    1201515\n",
       "1.0     804373\n",
       "Name: lang, dtype: int64"
      ]
     },
     "execution_count": 9,
     "metadata": {},
     "output_type": "execute_result"
    }
   ],
   "source": [
    "tweets.lang.value_counts()"
   ]
  },
  {
   "cell_type": "markdown",
   "metadata": {},
   "source": [
    "We can see the majority of tweets are NOT written in english language. Now let's define the baseline"
   ]
  },
  {
   "cell_type": "code",
   "execution_count": 10,
   "metadata": {},
   "outputs": [
    {
     "name": "stdout",
     "output_type": "stream",
     "text": [
      "The baseline is: 0.60\n"
     ]
    }
   ],
   "source": [
    "en = tweets.lang.value_counts()[0]\n",
    "total = tweets.lang.count()\n",
    "baseline = en / total\n",
    "print(f\"The baseline is: {baseline:.2f}\")"
   ]
  },
  {
   "cell_type": "markdown",
   "metadata": {},
   "source": [
    "With \"not english\" as the predominat class, we have a prediction power of $60\\%$. This is what we will try to improve with the models."
   ]
  },
  {
   "cell_type": "markdown",
   "metadata": {},
   "source": [
    "With this information we'll create embeddings to train a CNN + Fully Connected ANN to predict the language.\n",
    "\n",
    "Also for testing, we are going to use a LTSM + Fully Connected ANN and compare the results.\n",
    "\n",
    "Since we are dealing with two types of features, we'll need to prepare a bidirectional NN"
   ]
  },
  {
   "cell_type": "markdown",
   "metadata": {},
   "source": [
    "## Tweet Embeddings\n",
    "\n",
    "First, we'll need to create the embedding representation of the tweet corpus. There are a couple of caveats we must consider:\n",
    "* A tweet might contain urls, this makes necessary to parse or mask them so they get not separated when tokenizing the text."
   ]
  },
  {
   "cell_type": "code",
   "execution_count": 11,
   "metadata": {},
   "outputs": [
    {
     "name": "stdout",
     "output_type": "stream",
     "text": [
      "Replacing with default value: This is a simulated tweet with a url at , plus another one at \n",
      "Replacing with cusom value: This is a simulated tweet with a url at some_url, plus another one at some_url\n"
     ]
    }
   ],
   "source": [
    "from urlextract import URLExtract\n",
    "\n",
    "def replace_url(string, replacement='', url_extract=URLExtract()):\n",
    "    urls = url_extract.find_urls(string)\n",
    "    for url in urls:\n",
    "        string = string.replace(url, replacement)\n",
    "    return string\n",
    "\n",
    "test = \"This is a simulated tweet with a url at https://somedomain.com, plus another one at http://www.google.com\"\n",
    "print(f\"Replacing with default value: {replace_url(test)}\")\n",
    "print(f\"Replacing with cusom value: {replace_url(test, 'some_url')}\")"
   ]
  },
  {
   "cell_type": "code",
   "execution_count": 12,
   "metadata": {},
   "outputs": [
    {
     "data": {
      "application/vnd.jupyter.widget-view+json": {
       "model_id": "df640c2444cd47c2a91da767a161643a",
       "version_major": 2,
       "version_minor": 0
      },
      "text/plain": [
       "HBox(children=(IntProgress(value=0, description='Pandas Apply', max=2005888, style=ProgressStyle(description_w…"
      ]
     },
     "metadata": {},
     "output_type": "display_data"
    },
    {
     "name": "stdout",
     "output_type": "stream",
     "text": [
      "\n",
      "CPU times: user 23.9 s, sys: 0 ns, total: 23.9 s\n",
      "Wall time: 23.8 s\n"
     ]
    }
   ],
   "source": [
    "%%time\n",
    "import swifter\n",
    "\n",
    "url_extract = URLExtract()\n",
    "tweets.tweet = tweets.tweet.swifter.apply(lambda t: replace_url(t, \"sharedurl\", url_extract))"
   ]
  },
  {
   "cell_type": "code",
   "execution_count": 13,
   "metadata": {},
   "outputs": [
    {
     "data": {
      "text/html": [
       "<div>\n",
       "<style scoped>\n",
       "    .dataframe tbody tr th:only-of-type {\n",
       "        vertical-align: middle;\n",
       "    }\n",
       "\n",
       "    .dataframe tbody tr th {\n",
       "        vertical-align: top;\n",
       "    }\n",
       "\n",
       "    .dataframe thead th {\n",
       "        text-align: right;\n",
       "    }\n",
       "</style>\n",
       "<table border=\"1\" class=\"dataframe\">\n",
       "  <thead>\n",
       "    <tr style=\"text-align: right;\">\n",
       "      <th></th>\n",
       "      <th>tweet</th>\n",
       "      <th>country_code</th>\n",
       "      <th>lang</th>\n",
       "      <th>country_encoded</th>\n",
       "    </tr>\n",
       "  </thead>\n",
       "  <tbody>\n",
       "    <tr>\n",
       "      <td>0</td>\n",
       "      <td>I'm at Mahatma Gading Nasional Plus School (Ja...</td>\n",
       "      <td>ID</td>\n",
       "      <td>0.0</td>\n",
       "      <td>74</td>\n",
       "    </tr>\n",
       "    <tr>\n",
       "      <td>1</td>\n",
       "      <td>But I honestly don't give a fuck, because I di...</td>\n",
       "      <td>US</td>\n",
       "      <td>1.0</td>\n",
       "      <td>173</td>\n",
       "    </tr>\n",
       "    <tr>\n",
       "      <td>2</td>\n",
       "      <td>Metcalfe / Sainte-Catherine: 01:00 - Disponibl...</td>\n",
       "      <td>CA</td>\n",
       "      <td>0.0</td>\n",
       "      <td>29</td>\n",
       "    </tr>\n",
       "    <tr>\n",
       "      <td>3</td>\n",
       "      <td>Ask te odio pero a la ves te amo :)</td>\n",
       "      <td>MX</td>\n",
       "      <td>0.0</td>\n",
       "      <td>118</td>\n",
       "    </tr>\n",
       "    <tr>\n",
       "      <td>4</td>\n",
       "      <td>\"@usermention: The #governmentshutdown but the...</td>\n",
       "      <td>US</td>\n",
       "      <td>1.0</td>\n",
       "      <td>173</td>\n",
       "    </tr>\n",
       "  </tbody>\n",
       "</table>\n",
       "</div>"
      ],
      "text/plain": [
       "                                               tweet country_code  lang  \\\n",
       "0  I'm at Mahatma Gading Nasional Plus School (Ja...           ID   0.0   \n",
       "1  But I honestly don't give a fuck, because I di...           US   1.0   \n",
       "2  Metcalfe / Sainte-Catherine: 01:00 - Disponibl...           CA   0.0   \n",
       "3                Ask te odio pero a la ves te amo :)           MX   0.0   \n",
       "4  \"@usermention: The #governmentshutdown but the...           US   1.0   \n",
       "\n",
       "   country_encoded  \n",
       "0               74  \n",
       "1              173  \n",
       "2               29  \n",
       "3              118  \n",
       "4              173  "
      ]
     },
     "execution_count": 13,
     "metadata": {},
     "output_type": "execute_result"
    }
   ],
   "source": [
    "tweets.head()"
   ]
  },
  {
   "cell_type": "code",
   "execution_count": 14,
   "metadata": {},
   "outputs": [
    {
     "name": "stderr",
     "output_type": "stream",
     "text": [
      "/home/ohtar10/miniconda3/envs/wtsp/lib/python3.6/site-packages/tensorflow/python/framework/dtypes.py:523: FutureWarning: Passing (type, 1) or '1type' as a synonym of type is deprecated; in a future version of numpy, it will be understood as (type, (1,)) / '(1,)type'.\n",
      "  _np_qint8 = np.dtype([(\"qint8\", np.int8, 1)])\n",
      "/home/ohtar10/miniconda3/envs/wtsp/lib/python3.6/site-packages/tensorflow/python/framework/dtypes.py:524: FutureWarning: Passing (type, 1) or '1type' as a synonym of type is deprecated; in a future version of numpy, it will be understood as (type, (1,)) / '(1,)type'.\n",
      "  _np_quint8 = np.dtype([(\"quint8\", np.uint8, 1)])\n",
      "/home/ohtar10/miniconda3/envs/wtsp/lib/python3.6/site-packages/tensorflow/python/framework/dtypes.py:525: FutureWarning: Passing (type, 1) or '1type' as a synonym of type is deprecated; in a future version of numpy, it will be understood as (type, (1,)) / '(1,)type'.\n",
      "  _np_qint16 = np.dtype([(\"qint16\", np.int16, 1)])\n",
      "/home/ohtar10/miniconda3/envs/wtsp/lib/python3.6/site-packages/tensorflow/python/framework/dtypes.py:526: FutureWarning: Passing (type, 1) or '1type' as a synonym of type is deprecated; in a future version of numpy, it will be understood as (type, (1,)) / '(1,)type'.\n",
      "  _np_quint16 = np.dtype([(\"quint16\", np.uint16, 1)])\n",
      "/home/ohtar10/miniconda3/envs/wtsp/lib/python3.6/site-packages/tensorflow/python/framework/dtypes.py:527: FutureWarning: Passing (type, 1) or '1type' as a synonym of type is deprecated; in a future version of numpy, it will be understood as (type, (1,)) / '(1,)type'.\n",
      "  _np_qint32 = np.dtype([(\"qint32\", np.int32, 1)])\n",
      "/home/ohtar10/miniconda3/envs/wtsp/lib/python3.6/site-packages/tensorflow/python/framework/dtypes.py:532: FutureWarning: Passing (type, 1) or '1type' as a synonym of type is deprecated; in a future version of numpy, it will be understood as (type, (1,)) / '(1,)type'.\n",
      "  np_resource = np.dtype([(\"resource\", np.ubyte, 1)])\n",
      "Using TensorFlow backend.\n"
     ]
    }
   ],
   "source": [
    "import tensorflow as tf\n",
    "from tensorflow.python.client import device_lib\n",
    "from keras import backend as K\n",
    "\n",
    "s_config = tf.ConfigProto()\n",
    "#s_config.gpu_options.allow_growth = True\n",
    "s_config.gpu_options.per_process_gpu_memory_fraction = 0.6\n",
    "tf.keras.backend.set_session(tf.Session(config=s_config))\n",
    "\n",
    "\n",
    "def show_framework_devices():\n",
    "    \"\"\"Just prints the devices the frameworks are using\n",
    "    at the moment. It will help us to tell if they are indeed\n",
    "    using GPU's or not\"\"\"\n",
    "    print(\"Tensorflow registered devices:\", device_lib.list_local_devices())\n",
    "    print(\"Keras registered GPUs\", K.tensorflow_backend._get_available_gpus())"
   ]
  },
  {
   "cell_type": "code",
   "execution_count": 15,
   "metadata": {},
   "outputs": [
    {
     "name": "stdout",
     "output_type": "stream",
     "text": [
      "Tensorflow registered devices: [name: \"/device:CPU:0\"\n",
      "device_type: \"CPU\"\n",
      "memory_limit: 268435456\n",
      "locality {\n",
      "}\n",
      "incarnation: 11180303426745135473\n",
      ", name: \"/device:XLA_CPU:0\"\n",
      "device_type: \"XLA_CPU\"\n",
      "memory_limit: 17179869184\n",
      "locality {\n",
      "}\n",
      "incarnation: 14589176093161430845\n",
      "physical_device_desc: \"device: XLA_CPU device\"\n",
      ", name: \"/device:GPU:0\"\n",
      "device_type: \"GPU\"\n",
      "memory_limit: 5022036787\n",
      "locality {\n",
      "  bus_id: 1\n",
      "  links {\n",
      "  }\n",
      "}\n",
      "incarnation: 8413261442655900956\n",
      "physical_device_desc: \"device: 0, name: GeForce RTX 2070, pci bus id: 0000:01:00.0, compute capability: 7.5\"\n",
      ", name: \"/device:XLA_GPU:0\"\n",
      "device_type: \"XLA_GPU\"\n",
      "memory_limit: 17179869184\n",
      "locality {\n",
      "}\n",
      "incarnation: 6201651567652453309\n",
      "physical_device_desc: \"device: XLA_GPU device\"\n",
      "]\n",
      "Keras registered GPUs ['/job:localhost/replica:0/task:0/device:GPU:0']\n"
     ]
    }
   ],
   "source": [
    "show_framework_devices()"
   ]
  },
  {
   "cell_type": "code",
   "execution_count": 16,
   "metadata": {},
   "outputs": [
    {
     "name": "stdout",
     "output_type": "stream",
     "text": [
      "Unique tokens: 1144167\n",
      "The first 200 items in the word index are: {'usermention': 1, 'sharedurl': 2, 'i': 3, 'a': 4, 'to': 5, 'the': 6, 'at': 7, 'me': 8, 'de': 9, 'you': 10, \"i'm\": 11, 'my': 12, 'que': 13, 'and': 14, 'in': 15, 'is': 16, 'no': 17, 'for': 18, 'of': 19, 'it': 20, 'on': 21, 'la': 22, 'rt': 23, 'o': 24, 'with': 25, 'so': 26, 'that': 27, '—': 28, 'w': 29, 'this': 30, 'just': 31, 'e': 32, 'do': 33, 'be': 34, 'd': 35, '“': 36, 'like': 37, 'gt': 38, 'y': 39, '3': 40, 'ya': 41, 'en': 42, 'have': 43, 'eu': 44, 'lt': 45, 'others': 46, 'se': 47, 'up': 48, 'love': 49, 'not': 50, 'el': 51, 'but': 52, 'amp': 53, 'haha': 54, 'get': 55, 'your': 56, 'all': 57, 'was': 58, 'lol': 59, 'are': 60, 'p': 61, \"don't\": 62, 'te': 63, '2': 64, 'what': 65, 'aku': 66, 'é': 67, 'da': 68, 'di': 69, 'u': 70, 'if': 71, 'out': 72, 'we': 73, 'by': 74, 'un': 75, 'when': 76, 'go': 77, 'good': 78, \"it's\": 79, 'yg': 80, 'pic': 81, 'now': 82, 'não': 83, 'lo': 84, 'one': 85, 'know': 86, 'can': 87, 'mi': 88, 'day': 89, 'je': 90, 'time': 91, 'por': 92, 'tu': 93, 'as': 94, 'about': 95, 'si': 96, 'es': 97, 'q': 98, \"'\": 99, 'got': 100, 'pra': 101, 'how': 102, 'dia': 103, 'na': 104, 'com': 105, 'today': 106, 'le': 107, 'want': 108, 'para': 109, 'mais': 110, \"can't\": 111, 'back': 112, 'he': 113, 'ini': 114, 'ada': 115, '1': 116, 'too': 117, 'con': 118, 'mas': 119, 'vou': 120, 'will': 121, 'from': 122, 'why': 123, 'hahaha': 124, 'they': 125, 'um': 126, 'need': 127, 'or': 128, 'see': 129, 'meu': 130, 'people': 131, 'yang': 132, '”': 133, 'going': 134, 'night': 135, 'yo': 136, 'aja': 137, 'really': 138, 'itu': 139, 'ta': 140, 'oh': 141, 'shit': 142, 'happy': 143, 'some': 144, 'new': 145, 'an': 146, 'pas': 147, 'think': 148, 'fuck': 149, 'como': 150, 'who': 151, 'em': 152, 'los': 153, 'right': 154, 'home': 155, 'türkiye': 156, '4': 157, 'her': 158, 'apa': 159, 'x': 160, 'ga': 161, 'off': 162, 'n': 163, '5': 164, 'much': 165, 'life': 166, 'never': 167, 'lagi': 168, 'more': 169, 'come': 170, 'she': 171, 'dan': 172, 'minha': 173, 'sama': 174, \"you're\": 175, 'work': 176, 'there': 177, 'ni': 178, 'still': 179, 'make': 180, 'uma': 181, 'gak': 182, 'even': 183, 'am': 184, 'been': 185, 'here': 186, 'im': 187, 'best': 188, 'only': 189, 'would': 190, 'mau': 191, 'una': 192, 'las': 193, 'had': 194, 'then': 195, '0': 196, 'ke': 197, 'miss': 198, \"that's\": 199, 'feel': 200}\n"
     ]
    }
   ],
   "source": [
    "import tensorflow.keras.backend as K\n",
    "from keras.preprocessing.text import Tokenizer\n",
    "\n",
    "words = 1000\n",
    "tokenizer = Tokenizer(num_words=words)\n",
    "tokenizer.fit_on_texts(tweets.tweet)\n",
    "print(f\"Unique tokens: {len(tokenizer.word_index)}\")\n",
    "n = 200\n",
    "firstn = {k:tokenizer.word_index[k] for k in list(tokenizer.word_index)[:n]}\n",
    "print(f\"The first {n} items in the word index are: {firstn}\")"
   ]
  },
  {
   "cell_type": "code",
   "execution_count": 17,
   "metadata": {},
   "outputs": [
    {
     "data": {
      "text/plain": [
       "array([\"I'm at Mahatma Gading Nasional Plus School (Jakarta Utara, Jakarta Capital Region) sharedurl\",\n",
       "       \"But I honestly don't give a fuck, because I didn't do shit to you lol\",\n",
       "       'Metcalfe / Sainte-Catherine: 01:00 - Disponible: 0, Stationnement: 27',\n",
       "       ...,\n",
       "       '#TEAM : Together, Everyone, Achieves, More, *There is no I in TEAM\"!!*',\n",
       "       '@usermention Sí, en ese grupo de WA, que no sé que ha sido de él.',\n",
       "       '@usermention みんなアラフェス外れたからさ(・ε・｀) オレもその一人。そして願ってるよ。新国立で嵐さんがパフォーマンスしてくれる日を。だから当たり前に話すのはナンセンスだけどちょっとは分かってあげてね？ヽ(*´∀｀)ノ'],\n",
       "      dtype=object)"
      ]
     },
     "execution_count": 17,
     "metadata": {},
     "output_type": "execute_result"
    }
   ],
   "source": [
    "tweets.tweet.values"
   ]
  },
  {
   "cell_type": "code",
   "execution_count": 18,
   "metadata": {},
   "outputs": [],
   "source": [
    "from keras.preprocessing.sequence import pad_sequences\n",
    "import numpy as np\n",
    "\n",
    "MAX_TEXT_SEQ_LEN = 280\n",
    "tweet_sequences = np.array(tokenizer.texts_to_sequences(tweets.tweet))\n",
    "tweet_sequences = pad_sequences(tweet_sequences, MAX_TEXT_SEQ_LEN)"
   ]
  },
  {
   "cell_type": "code",
   "execution_count": 19,
   "metadata": {},
   "outputs": [],
   "source": [
    "def print_text_and_sequence(tweets, sequences, n=10):\n",
    "    for i in range(n):\n",
    "        print(f\"Tweet text: {tweets[i]}\")\n",
    "        print(f\"Tweet sequence: {sequences[i]}\")\n",
    "        print(\"#\" * 10)"
   ]
  },
  {
   "cell_type": "code",
   "execution_count": 20,
   "metadata": {},
   "outputs": [
    {
     "name": "stdout",
     "output_type": "stream",
     "text": [
      "Tweet text: I'm at Mahatma Gading Nasional Plus School (Jakarta Utara, Jakarta Capital Region) sharedurl\n",
      "Tweet sequence: [  0   0   0   0   0   0   0   0   0   0   0   0   0   0   0   0   0   0\n",
      "   0   0   0   0   0   0   0   0   0   0   0   0   0   0   0   0   0   0\n",
      "   0   0   0   0   0   0   0   0   0   0   0   0   0   0   0   0   0   0\n",
      "   0   0   0   0   0   0   0   0   0   0   0   0   0   0   0   0   0   0\n",
      "   0   0   0   0   0   0   0   0   0   0   0   0   0   0   0   0   0   0\n",
      "   0   0   0   0   0   0   0   0   0   0   0   0   0   0   0   0   0   0\n",
      "   0   0   0   0   0   0   0   0   0   0   0   0   0   0   0   0   0   0\n",
      "   0   0   0   0   0   0   0   0   0   0   0   0   0   0   0   0   0   0\n",
      "   0   0   0   0   0   0   0   0   0   0   0   0   0   0   0   0   0   0\n",
      "   0   0   0   0   0   0   0   0   0   0   0   0   0   0   0   0   0   0\n",
      "   0   0   0   0   0   0   0   0   0   0   0   0   0   0   0   0   0   0\n",
      "   0   0   0   0   0   0   0   0   0   0   0   0   0   0   0   0   0   0\n",
      "   0   0   0   0   0   0   0   0   0   0   0   0   0   0   0   0   0   0\n",
      "   0   0   0   0   0   0   0   0   0   0   0   0   0   0   0   0   0   0\n",
      "   0   0   0   0   0   0   0   0   0   0   0   0   0   0   0   0   0   0\n",
      "   0   0   0  11   7 491 204 823 823   2]\n",
      "##########\n",
      "Tweet text: But I honestly don't give a fuck, because I didn't do shit to you lol\n",
      "Tweet sequence: [  0   0   0   0   0   0   0   0   0   0   0   0   0   0   0   0   0   0\n",
      "   0   0   0   0   0   0   0   0   0   0   0   0   0   0   0   0   0   0\n",
      "   0   0   0   0   0   0   0   0   0   0   0   0   0   0   0   0   0   0\n",
      "   0   0   0   0   0   0   0   0   0   0   0   0   0   0   0   0   0   0\n",
      "   0   0   0   0   0   0   0   0   0   0   0   0   0   0   0   0   0   0\n",
      "   0   0   0   0   0   0   0   0   0   0   0   0   0   0   0   0   0   0\n",
      "   0   0   0   0   0   0   0   0   0   0   0   0   0   0   0   0   0   0\n",
      "   0   0   0   0   0   0   0   0   0   0   0   0   0   0   0   0   0   0\n",
      "   0   0   0   0   0   0   0   0   0   0   0   0   0   0   0   0   0   0\n",
      "   0   0   0   0   0   0   0   0   0   0   0   0   0   0   0   0   0   0\n",
      "   0   0   0   0   0   0   0   0   0   0   0   0   0   0   0   0   0   0\n",
      "   0   0   0   0   0   0   0   0   0   0   0   0   0   0   0   0   0   0\n",
      "   0   0   0   0   0   0   0   0   0   0   0   0   0   0   0   0   0   0\n",
      "   0   0   0   0   0   0   0   0   0   0   0   0   0   0   0   0   0   0\n",
      "   0   0   0   0   0   0   0   0   0   0   0   0   0   0  52   3  62 372\n",
      "   4 149 287   3 398  33 142   5  10  59]\n",
      "##########\n",
      "Tweet text: Metcalfe / Sainte-Catherine: 01:00 - Disponible: 0, Stationnement: 27\n",
      "Tweet sequence: [  0   0   0   0   0   0   0   0   0   0   0   0   0   0   0   0   0   0\n",
      "   0   0   0   0   0   0   0   0   0   0   0   0   0   0   0   0   0   0\n",
      "   0   0   0   0   0   0   0   0   0   0   0   0   0   0   0   0   0   0\n",
      "   0   0   0   0   0   0   0   0   0   0   0   0   0   0   0   0   0   0\n",
      "   0   0   0   0   0   0   0   0   0   0   0   0   0   0   0   0   0   0\n",
      "   0   0   0   0   0   0   0   0   0   0   0   0   0   0   0   0   0   0\n",
      "   0   0   0   0   0   0   0   0   0   0   0   0   0   0   0   0   0   0\n",
      "   0   0   0   0   0   0   0   0   0   0   0   0   0   0   0   0   0   0\n",
      "   0   0   0   0   0   0   0   0   0   0   0   0   0   0   0   0   0   0\n",
      "   0   0   0   0   0   0   0   0   0   0   0   0   0   0   0   0   0   0\n",
      "   0   0   0   0   0   0   0   0   0   0   0   0   0   0   0   0   0   0\n",
      "   0   0   0   0   0   0   0   0   0   0   0   0   0   0   0   0   0   0\n",
      "   0   0   0   0   0   0   0   0   0   0   0   0   0   0   0   0   0   0\n",
      "   0   0   0   0   0   0   0   0   0   0   0   0   0   0   0   0   0   0\n",
      "   0   0   0   0   0   0   0   0   0   0   0   0   0   0   0   0   0   0\n",
      "   0   0   0   0   0   0   0   0 578 196]\n",
      "##########\n",
      "Tweet text: Ask te odio pero a la ves te amo :)\n",
      "Tweet sequence: [  0   0   0   0   0   0   0   0   0   0   0   0   0   0   0   0   0   0\n",
      "   0   0   0   0   0   0   0   0   0   0   0   0   0   0   0   0   0   0\n",
      "   0   0   0   0   0   0   0   0   0   0   0   0   0   0   0   0   0   0\n",
      "   0   0   0   0   0   0   0   0   0   0   0   0   0   0   0   0   0   0\n",
      "   0   0   0   0   0   0   0   0   0   0   0   0   0   0   0   0   0   0\n",
      "   0   0   0   0   0   0   0   0   0   0   0   0   0   0   0   0   0   0\n",
      "   0   0   0   0   0   0   0   0   0   0   0   0   0   0   0   0   0   0\n",
      "   0   0   0   0   0   0   0   0   0   0   0   0   0   0   0   0   0   0\n",
      "   0   0   0   0   0   0   0   0   0   0   0   0   0   0   0   0   0   0\n",
      "   0   0   0   0   0   0   0   0   0   0   0   0   0   0   0   0   0   0\n",
      "   0   0   0   0   0   0   0   0   0   0   0   0   0   0   0   0   0   0\n",
      "   0   0   0   0   0   0   0   0   0   0   0   0   0   0   0   0   0   0\n",
      "   0   0   0   0   0   0   0   0   0   0   0   0   0   0   0   0   0   0\n",
      "   0   0   0   0   0   0   0   0   0   0   0   0   0   0   0   0   0   0\n",
      "   0   0   0   0   0   0   0   0   0   0   0   0   0   0   0   0   0   0\n",
      "   0   0   0 621  63 266   4  22  63 361]\n",
      "##########\n",
      "Tweet text: \"@usermention: The #governmentshutdown but the CIA continues to monitor your phone, email and social media at your expense.\" answer\n",
      "Tweet sequence: [  0   0   0   0   0   0   0   0   0   0   0   0   0   0   0   0   0   0\n",
      "   0   0   0   0   0   0   0   0   0   0   0   0   0   0   0   0   0   0\n",
      "   0   0   0   0   0   0   0   0   0   0   0   0   0   0   0   0   0   0\n",
      "   0   0   0   0   0   0   0   0   0   0   0   0   0   0   0   0   0   0\n",
      "   0   0   0   0   0   0   0   0   0   0   0   0   0   0   0   0   0   0\n",
      "   0   0   0   0   0   0   0   0   0   0   0   0   0   0   0   0   0   0\n",
      "   0   0   0   0   0   0   0   0   0   0   0   0   0   0   0   0   0   0\n",
      "   0   0   0   0   0   0   0   0   0   0   0   0   0   0   0   0   0   0\n",
      "   0   0   0   0   0   0   0   0   0   0   0   0   0   0   0   0   0   0\n",
      "   0   0   0   0   0   0   0   0   0   0   0   0   0   0   0   0   0   0\n",
      "   0   0   0   0   0   0   0   0   0   0   0   0   0   0   0   0   0   0\n",
      "   0   0   0   0   0   0   0   0   0   0   0   0   0   0   0   0   0   0\n",
      "   0   0   0   0   0   0   0   0   0   0   0   0   0   0   0   0   0   0\n",
      "   0   0   0   0   0   0   0   0   0   0   0   0   0   0   0   0   0   0\n",
      "   0   0   0   0   0   0   0   0   0   0   0   0   0   0   0   0   0   0\n",
      "   1   6  52   6   5  56 392  14   7  56]\n",
      "##########\n",
      "Tweet text: Magic mike on TV? I think yes\n",
      "Tweet sequence: [  0   0   0   0   0   0   0   0   0   0   0   0   0   0   0   0   0   0\n",
      "   0   0   0   0   0   0   0   0   0   0   0   0   0   0   0   0   0   0\n",
      "   0   0   0   0   0   0   0   0   0   0   0   0   0   0   0   0   0   0\n",
      "   0   0   0   0   0   0   0   0   0   0   0   0   0   0   0   0   0   0\n",
      "   0   0   0   0   0   0   0   0   0   0   0   0   0   0   0   0   0   0\n",
      "   0   0   0   0   0   0   0   0   0   0   0   0   0   0   0   0   0   0\n",
      "   0   0   0   0   0   0   0   0   0   0   0   0   0   0   0   0   0   0\n",
      "   0   0   0   0   0   0   0   0   0   0   0   0   0   0   0   0   0   0\n",
      "   0   0   0   0   0   0   0   0   0   0   0   0   0   0   0   0   0   0\n",
      "   0   0   0   0   0   0   0   0   0   0   0   0   0   0   0   0   0   0\n",
      "   0   0   0   0   0   0   0   0   0   0   0   0   0   0   0   0   0   0\n",
      "   0   0   0   0   0   0   0   0   0   0   0   0   0   0   0   0   0   0\n",
      "   0   0   0   0   0   0   0   0   0   0   0   0   0   0   0   0   0   0\n",
      "   0   0   0   0   0   0   0   0   0   0   0   0   0   0   0   0   0   0\n",
      "   0   0   0   0   0   0   0   0   0   0   0   0   0   0   0   0   0   0\n",
      "   0   0   0   0   0  21 729   3 148 329]\n",
      "##########\n",
      "Tweet text: @usermention Yes! Thank you!\n",
      "Tweet sequence: [  0   0   0   0   0   0   0   0   0   0   0   0   0   0   0   0   0   0\n",
      "   0   0   0   0   0   0   0   0   0   0   0   0   0   0   0   0   0   0\n",
      "   0   0   0   0   0   0   0   0   0   0   0   0   0   0   0   0   0   0\n",
      "   0   0   0   0   0   0   0   0   0   0   0   0   0   0   0   0   0   0\n",
      "   0   0   0   0   0   0   0   0   0   0   0   0   0   0   0   0   0   0\n",
      "   0   0   0   0   0   0   0   0   0   0   0   0   0   0   0   0   0   0\n",
      "   0   0   0   0   0   0   0   0   0   0   0   0   0   0   0   0   0   0\n",
      "   0   0   0   0   0   0   0   0   0   0   0   0   0   0   0   0   0   0\n",
      "   0   0   0   0   0   0   0   0   0   0   0   0   0   0   0   0   0   0\n",
      "   0   0   0   0   0   0   0   0   0   0   0   0   0   0   0   0   0   0\n",
      "   0   0   0   0   0   0   0   0   0   0   0   0   0   0   0   0   0   0\n",
      "   0   0   0   0   0   0   0   0   0   0   0   0   0   0   0   0   0   0\n",
      "   0   0   0   0   0   0   0   0   0   0   0   0   0   0   0   0   0   0\n",
      "   0   0   0   0   0   0   0   0   0   0   0   0   0   0   0   0   0   0\n",
      "   0   0   0   0   0   0   0   0   0   0   0   0   0   0   0   0   0   0\n",
      "   0   0   0   0   0   0   1 329 332  10]\n",
      "##########\n",
      "Tweet text: @usermention don't forget about meeeee\n",
      "Tweet sequence: [ 0  0  0  0  0  0  0  0  0  0  0  0  0  0  0  0  0  0  0  0  0  0  0  0\n",
      "  0  0  0  0  0  0  0  0  0  0  0  0  0  0  0  0  0  0  0  0  0  0  0  0\n",
      "  0  0  0  0  0  0  0  0  0  0  0  0  0  0  0  0  0  0  0  0  0  0  0  0\n",
      "  0  0  0  0  0  0  0  0  0  0  0  0  0  0  0  0  0  0  0  0  0  0  0  0\n",
      "  0  0  0  0  0  0  0  0  0  0  0  0  0  0  0  0  0  0  0  0  0  0  0  0\n",
      "  0  0  0  0  0  0  0  0  0  0  0  0  0  0  0  0  0  0  0  0  0  0  0  0\n",
      "  0  0  0  0  0  0  0  0  0  0  0  0  0  0  0  0  0  0  0  0  0  0  0  0\n",
      "  0  0  0  0  0  0  0  0  0  0  0  0  0  0  0  0  0  0  0  0  0  0  0  0\n",
      "  0  0  0  0  0  0  0  0  0  0  0  0  0  0  0  0  0  0  0  0  0  0  0  0\n",
      "  0  0  0  0  0  0  0  0  0  0  0  0  0  0  0  0  0  0  0  0  0  0  0  0\n",
      "  0  0  0  0  0  0  0  0  0  0  0  0  0  0  0  0  0  0  0  0  0  0  0  0\n",
      "  0  0  0  0  0  0  0  0  0  0  0  0  0  1 62 95]\n",
      "##########\n",
      "Tweet text: Trop la flemme d'y aller #on\n",
      "Tweet sequence: [  0   0   0   0   0   0   0   0   0   0   0   0   0   0   0   0   0   0\n",
      "   0   0   0   0   0   0   0   0   0   0   0   0   0   0   0   0   0   0\n",
      "   0   0   0   0   0   0   0   0   0   0   0   0   0   0   0   0   0   0\n",
      "   0   0   0   0   0   0   0   0   0   0   0   0   0   0   0   0   0   0\n",
      "   0   0   0   0   0   0   0   0   0   0   0   0   0   0   0   0   0   0\n",
      "   0   0   0   0   0   0   0   0   0   0   0   0   0   0   0   0   0   0\n",
      "   0   0   0   0   0   0   0   0   0   0   0   0   0   0   0   0   0   0\n",
      "   0   0   0   0   0   0   0   0   0   0   0   0   0   0   0   0   0   0\n",
      "   0   0   0   0   0   0   0   0   0   0   0   0   0   0   0   0   0   0\n",
      "   0   0   0   0   0   0   0   0   0   0   0   0   0   0   0   0   0   0\n",
      "   0   0   0   0   0   0   0   0   0   0   0   0   0   0   0   0   0   0\n",
      "   0   0   0   0   0   0   0   0   0   0   0   0   0   0   0   0   0   0\n",
      "   0   0   0   0   0   0   0   0   0   0   0   0   0   0   0   0   0   0\n",
      "   0   0   0   0   0   0   0   0   0   0   0   0   0   0   0   0   0   0\n",
      "   0   0   0   0   0   0   0   0   0   0   0   0   0   0   0   0   0   0\n",
      "   0   0   0   0   0   0   0 521  22  21]\n",
      "##########\n",
      "Tweet text: I'm at ВАВТ Минэкономразвития РФ (Всероссийская академия внешней торговли) (Москва) w/ 5 others sharedurl\n",
      "Tweet sequence: [  0   0   0   0   0   0   0   0   0   0   0   0   0   0   0   0   0   0\n",
      "   0   0   0   0   0   0   0   0   0   0   0   0   0   0   0   0   0   0\n",
      "   0   0   0   0   0   0   0   0   0   0   0   0   0   0   0   0   0   0\n",
      "   0   0   0   0   0   0   0   0   0   0   0   0   0   0   0   0   0   0\n",
      "   0   0   0   0   0   0   0   0   0   0   0   0   0   0   0   0   0   0\n",
      "   0   0   0   0   0   0   0   0   0   0   0   0   0   0   0   0   0   0\n",
      "   0   0   0   0   0   0   0   0   0   0   0   0   0   0   0   0   0   0\n",
      "   0   0   0   0   0   0   0   0   0   0   0   0   0   0   0   0   0   0\n",
      "   0   0   0   0   0   0   0   0   0   0   0   0   0   0   0   0   0   0\n",
      "   0   0   0   0   0   0   0   0   0   0   0   0   0   0   0   0   0   0\n",
      "   0   0   0   0   0   0   0   0   0   0   0   0   0   0   0   0   0   0\n",
      "   0   0   0   0   0   0   0   0   0   0   0   0   0   0   0   0   0   0\n",
      "   0   0   0   0   0   0   0   0   0   0   0   0   0   0   0   0   0   0\n",
      "   0   0   0   0   0   0   0   0   0   0   0   0   0   0   0   0   0   0\n",
      "   0   0   0   0   0   0   0   0   0   0   0   0   0   0   0   0   0   0\n",
      "   0   0   0   0  11   7  29 164  46   2]\n",
      "##########\n"
     ]
    }
   ],
   "source": [
    "print_text_and_sequence(tweets.tweet, tweet_sequences)"
   ]
  },
  {
   "cell_type": "markdown",
   "metadata": {},
   "source": [
    "`tweet_sequences` contains the indexed text strings which are going to be the input for the NN.\n",
    "\n",
    "Now, let's assemble everything and prepare the train and test sets."
   ]
  },
  {
   "cell_type": "code",
   "execution_count": 21,
   "metadata": {},
   "outputs": [],
   "source": [
    "from sklearn.model_selection import train_test_split\n",
    "\n",
    "X = tweet_sequences\n",
    "X_c = country_encoded\n",
    "y = tweets.lang.values\n",
    "\n",
    "X_train, X_test, y_train, y_test = train_test_split(X, y, test_size=0.2, random_state=1234)\n",
    "X_train_c, X_test_c, _, _ = train_test_split(X_c, y, test_size=0.2, random_state=1234)"
   ]
  },
  {
   "cell_type": "markdown",
   "metadata": {},
   "source": [
    "Now, let's define the models\n",
    "\n",
    "## LSTM based model\n",
    "\n",
    "First, we will train a LSTM based model with the embeddings of each tweet, and make predictions for the tweet language."
   ]
  },
  {
   "cell_type": "code",
   "execution_count": 22,
   "metadata": {},
   "outputs": [
    {
     "name": "stdout",
     "output_type": "stream",
     "text": [
      "__________________________________________________________________________________________________\n",
      "Layer (type)                    Output Shape         Param #     Connected to                     \n",
      "==================================================================================================\n",
      "tweet_text (InputLayer)         (None, 280)          0                                            \n",
      "__________________________________________________________________________________________________\n",
      "embedding_1 (Embedding)         (None, 280, 64)      64000       tweet_text[0][0]                 \n",
      "__________________________________________________________________________________________________\n",
      "bidirectional_1 (Bidirectional) (None, 60)           22800       embedding_1[0][0]                \n",
      "__________________________________________________________________________________________________\n",
      "country_input (InputLayer)      (None, 1)            0                                            \n",
      "__________________________________________________________________________________________________\n",
      "concatenate_1 (Concatenate)     (None, 61)           0           bidirectional_1[0][0]            \n",
      "                                                                 country_input[0][0]              \n",
      "__________________________________________________________________________________________________\n",
      "dense_1 (Dense)                 (None, 100)          6200        concatenate_1[0][0]              \n",
      "__________________________________________________________________________________________________\n",
      "batch_normalization_1 (BatchNor (None, 100)          400         dense_1[0][0]                    \n",
      "__________________________________________________________________________________________________\n",
      "dense_2 (Dense)                 (None, 50)           5050        batch_normalization_1[0][0]      \n",
      "__________________________________________________________________________________________________\n",
      "dropout_1 (Dropout)             (None, 50)           0           dense_2[0][0]                    \n",
      "__________________________________________________________________________________________________\n",
      "dense_3 (Dense)                 (None, 25)           1275        dropout_1[0][0]                  \n",
      "__________________________________________________________________________________________________\n",
      "prediction (Dense)              (None, 1)            26          dense_3[0][0]                    \n",
      "__________________________________________________________________________________________________\n",
      "aux_output (Dense)              (None, 1)            61          bidirectional_1[0][0]            \n",
      "==================================================================================================\n",
      "Total params: 99,812\n",
      "Trainable params: 99,612\n",
      "Non-trainable params: 200\n",
      "__________________________________________________________________________________________________\n"
     ]
    }
   ],
   "source": [
    "from keras.layers import Input, Embedding, Bidirectional, Dense, LSTM, concatenate, BatchNormalization, Dropout\n",
    "from keras.models import Model\n",
    "from keras import regularizers\n",
    "\n",
    "#Define the inputs\n",
    "tweet_input = Input(shape=(MAX_TEXT_SEQ_LEN,), dtype='int32', name='tweet_text')\n",
    "country_input = Input(shape=(1,), name='country_input')\n",
    "\n",
    "#Define the embedding layer consuming the tweet input\n",
    "emb = Embedding(input_dim=tokenizer.num_words, output_dim=64, input_length=MAX_TEXT_SEQ_LEN)(tweet_input)\n",
    "\n",
    "#Define the LSTM layer with the embedding input\n",
    "tweet_output = Bidirectional(\n",
    "        LSTM(units=30, dropout=0.3, recurrent_dropout=0.3, kernel_regularizer=regularizers.l2(0.01))\n",
    "    )(emb)\n",
    "\n",
    "#Define an auxiliary output for the first input\n",
    "aux_output = Dense(1, activation='sigmoid', name='aux_output')(tweet_output)\n",
    "\n",
    "#Concatenate the LSTM output with the country input\n",
    "x = concatenate([tweet_output, country_input])\n",
    "\n",
    "#Apply a dense layers\n",
    "x = Dense(100, activation='relu')(x)\n",
    "x = BatchNormalization()(x)\n",
    "x = Dense(50, activation='relu')(x)\n",
    "x = Dropout(0.2)(x)\n",
    "x = Dense(25, activation='relu')(x)\n",
    "\n",
    "#And finally make the predictions using the previous layer as input\n",
    "main_output = Dense(1, activation='sigmoid', name='prediction')(x)\n",
    "\n",
    "model = Model(inputs=[tweet_input, country_input], outputs=[main_output, aux_output])\n",
    "model.compile(optimizer='adam', loss='binary_crossentropy', metrics=['accuracy'])\n",
    "model.summary()"
   ]
  },
  {
   "cell_type": "code",
   "execution_count": 23,
   "metadata": {},
   "outputs": [
    {
     "data": {
      "text/plain": [
       "(1604710, 280)"
      ]
     },
     "execution_count": 23,
     "metadata": {},
     "output_type": "execute_result"
    }
   ],
   "source": [
    "X_train.shape"
   ]
  },
  {
   "cell_type": "code",
   "execution_count": 24,
   "metadata": {},
   "outputs": [
    {
     "name": "stdout",
     "output_type": "stream",
     "text": [
      "Train on 1283768 samples, validate on 320942 samples\n",
      "Epoch 1/5\n",
      "1283768/1283768 [==============================] - 686s 534us/step - loss: 0.4630 - prediction_loss: 0.1710 - aux_output_loss: 0.2037 - prediction_acc: 0.9326 - aux_output_acc: 0.9193 - val_loss: 0.3139 - val_prediction_loss: 0.1444 - val_aux_output_loss: 0.1618 - val_prediction_acc: 0.9435 - val_aux_output_acc: 0.9377\n",
      "Epoch 2/5\n",
      "1283768/1283768 [==============================] - 679s 529us/step - loss: 0.3152 - prediction_loss: 0.1484 - aux_output_loss: 0.1611 - prediction_acc: 0.9422 - aux_output_acc: 0.9391 - val_loss: 0.3466 - val_prediction_loss: 0.1838 - val_aux_output_loss: 0.1587 - val_prediction_acc: 0.9319 - val_aux_output_acc: 0.9393\n",
      "Epoch 3/5\n",
      "1283768/1283768 [==============================] - 679s 529us/step - loss: 0.3079 - prediction_loss: 0.1454 - aux_output_loss: 0.1589 - prediction_acc: 0.9430 - aux_output_acc: 0.9399 - val_loss: 0.3031 - val_prediction_loss: 0.1418 - val_aux_output_loss: 0.1579 - val_prediction_acc: 0.9452 - val_aux_output_acc: 0.9400\n",
      "Epoch 4/5\n",
      "1283768/1283768 [==============================] - 681s 530us/step - loss: 0.3044 - prediction_loss: 0.1437 - aux_output_loss: 0.1579 - prediction_acc: 0.9435 - aux_output_acc: 0.9403 - val_loss: 0.2990 - val_prediction_loss: 0.1388 - val_aux_output_loss: 0.1578 - val_prediction_acc: 0.9445 - val_aux_output_acc: 0.9398\n",
      "Epoch 5/5\n",
      "1283768/1283768 [==============================] - 690s 537us/step - loss: 0.3016 - prediction_loss: 0.1419 - aux_output_loss: 0.1572 - prediction_acc: 0.9438 - aux_output_acc: 0.9404 - val_loss: 0.3111 - val_prediction_loss: 0.1516 - val_aux_output_loss: 0.1569 - val_prediction_acc: 0.9383 - val_aux_output_acc: 0.9402\n",
      "CPU times: user 2h 53s, sys: 16min 52s, total: 2h 17min 45s\n",
      "Wall time: 56min 56s\n"
     ]
    }
   ],
   "source": [
    "%%time\n",
    "from keras.callbacks import EarlyStopping\n",
    "early_stopping = EarlyStopping(monitor='val_loss', patience=3, restore_best_weights=True)\n",
    "\n",
    "train_data = [X_train, X_train_c]\n",
    "history = model.fit(train_data, [y_train] * 2, epochs = 5, batch_size = 1000, validation_split= 0.2, callbacks=[early_stopping])"
   ]
  },
  {
   "cell_type": "code",
   "execution_count": 26,
   "metadata": {},
   "outputs": [],
   "source": [
    "import matplotlib.pyplot as plt\n",
    "\n",
    "def plot_history(cnn, acc= 'acc', val_acc = 'val_acc', loss = 'loss', val_loss = 'val_loss'):\n",
    "    fig = plt.figure(figsize = (16, 8))\n",
    "    plt.subplot(1, 2, 1)\n",
    "    plt.title('Accuracy in training Vs validation')\n",
    "    plt.ylabel('Accuracy')\n",
    "    plt.xlabel('Epoch')\n",
    "    plt.plot(cnn.history[acc], 'r')\n",
    "    plt.plot(cnn.history[val_acc], 'b')\n",
    "    plt.legend(['training', 'validation'])\n",
    "    \n",
    "    plt.subplot(1, 2, 2)\n",
    "    plt.title('Loss in training Vs validation')\n",
    "    plt.ylabel('Loss')\n",
    "    plt.xlabel('Epoch')\n",
    "    plt.plot(cnn.history[loss], 'r')\n",
    "    plt.plot(cnn.history[val_loss], 'b')\n",
    "    plt.legend(['training', 'validation'])\n",
    "    \n",
    "    plt.show()\n",
    "    "
   ]
  },
  {
   "cell_type": "code",
   "execution_count": 26,
   "metadata": {},
   "outputs": [
    {
     "data": {
      "image/png": "[encoded data removed]",
      "text/plain": [
       "<Figure size 1152x576 with 2 Axes>"
      ]
     },
     "metadata": {
      "needs_background": "light"
     },
     "output_type": "display_data"
    }
   ],
   "source": [
    "plot_history(history, \n",
    "             acc='prediction_acc', \n",
    "             val_acc='val_prediction_acc', \n",
    "             loss='prediction_loss', \n",
    "             val_loss='val_prediction_loss')"
   ]
  },
  {
   "cell_type": "code",
   "execution_count": 27,
   "metadata": {},
   "outputs": [],
   "source": [
    "test_prediction = model.predict([X_test, X_test_c])\n",
    "y_pred = np.where(test_prediction[0]>0.5, 1.0, 0.0)"
   ]
  },
  {
   "cell_type": "code",
   "execution_count": 28,
   "metadata": {},
   "outputs": [
    {
     "name": "stdout",
     "output_type": "stream",
     "text": [
      "Test accuracy: 0.94\n"
     ]
    }
   ],
   "source": [
    "from sklearn.metrics import accuracy_score\n",
    "\n",
    "test_acc = accuracy_score(y_test, y_pred)\n",
    "print(f\"Test accuracy: {test_acc:.2f}\")"
   ]
  },
  {
   "cell_type": "code",
   "execution_count": 29,
   "metadata": {},
   "outputs": [],
   "source": [
    "model.save(\"../../models/keras/tweet-lang-classification-lstm.h5\")"
   ]
  },
  {
   "cell_type": "markdown",
   "metadata": {},
   "source": [
    "With this sample and tiny model we got $94\\%$ of accuracy score within the testing set which is acceptable considering our initial baseline of $64\\%$"
   ]
  },
  {
   "cell_type": "markdown",
   "metadata": {},
   "source": [
    "## CNN Based model\n",
    "Now let's design a model using Convolutional Neural Networks with the same embeddings and see how it performs against our LSTM based model."
   ]
  },
  {
   "cell_type": "code",
   "execution_count": 23,
   "metadata": {},
   "outputs": [
    {
     "name": "stdout",
     "output_type": "stream",
     "text": [
      "__________________________________________________________________________________________________\n",
      "Layer (type)                    Output Shape         Param #     Connected to                     \n",
      "==================================================================================================\n",
      "tweet_text (InputLayer)         (None, 280)          0                                            \n",
      "__________________________________________________________________________________________________\n",
      "embedding_2 (Embedding)         (None, 280, 64)      64000       tweet_text[0][0]                 \n",
      "__________________________________________________________________________________________________\n",
      "conv1d_4 (Conv1D)               (None, 278, 32)      6176        embedding_2[0][0]                \n",
      "__________________________________________________________________________________________________\n",
      "max_pooling1d_4 (MaxPooling1D)  (None, 139, 32)      0           conv1d_4[0][0]                   \n",
      "__________________________________________________________________________________________________\n",
      "conv1d_5 (Conv1D)               (None, 137, 128)     12416       max_pooling1d_4[0][0]            \n",
      "__________________________________________________________________________________________________\n",
      "max_pooling1d_5 (MaxPooling1D)  (None, 68, 128)      0           conv1d_5[0][0]                   \n",
      "__________________________________________________________________________________________________\n",
      "conv1d_6 (Conv1D)               (None, 66, 128)      49280       max_pooling1d_5[0][0]            \n",
      "__________________________________________________________________________________________________\n",
      "max_pooling1d_6 (MaxPooling1D)  (None, 33, 128)      0           conv1d_6[0][0]                   \n",
      "__________________________________________________________________________________________________\n",
      "flatten_2 (Flatten)             (None, 4224)         0           max_pooling1d_6[0][0]            \n",
      "__________________________________________________________________________________________________\n",
      "country_input (InputLayer)      (None, 1)            0                                            \n",
      "__________________________________________________________________________________________________\n",
      "concatenate_2 (Concatenate)     (None, 4225)         0           flatten_2[0][0]                  \n",
      "                                                                 country_input[0][0]              \n",
      "__________________________________________________________________________________________________\n",
      "dense_4 (Dense)                 (None, 50)           211300      concatenate_2[0][0]              \n",
      "__________________________________________________________________________________________________\n",
      "batch_normalization_2 (BatchNor (None, 50)           200         dense_4[0][0]                    \n",
      "__________________________________________________________________________________________________\n",
      "dense_5 (Dense)                 (None, 50)           2550        batch_normalization_2[0][0]      \n",
      "__________________________________________________________________________________________________\n",
      "dropout_2 (Dropout)             (None, 50)           0           dense_5[0][0]                    \n",
      "__________________________________________________________________________________________________\n",
      "dense_6 (Dense)                 (None, 25)           1275        dropout_2[0][0]                  \n",
      "__________________________________________________________________________________________________\n",
      "prediction (Dense)              (None, 1)            26          dense_6[0][0]                    \n",
      "__________________________________________________________________________________________________\n",
      "aux_output (Dense)              (None, 1)            4225        flatten_2[0][0]                  \n",
      "==================================================================================================\n",
      "Total params: 351,448\n",
      "Trainable params: 351,348\n",
      "Non-trainable params: 100\n",
      "__________________________________________________________________________________________________\n"
     ]
    }
   ],
   "source": [
    "from keras.layers import Input, Embedding, Bidirectional, Dense, Conv1D, Flatten, MaxPool1D, concatenate, BatchNormalization, Dropout\n",
    "from keras.models import Model\n",
    "from keras import regularizers\n",
    "\n",
    "#Define the inputs\n",
    "tweet_input = Input(shape=(MAX_TEXT_SEQ_LEN,), dtype='int32', name='tweet_text')\n",
    "country_input = Input(shape=(1,), name='country_input')\n",
    "\n",
    "#Define the embedding layer consuming the tweet input\n",
    "emb = Embedding(input_dim=tokenizer.num_words, \n",
    "                output_dim=64, \n",
    "                input_length=MAX_TEXT_SEQ_LEN)(tweet_input)\n",
    "\n",
    "#Define the convolutional layers consuming the tweet input\n",
    "conv = Conv1D(32, 3, activation='relu', input_shape=(64,))(emb)\n",
    "conv = MaxPool1D(2, strides=None, padding='valid')(conv)\n",
    "conv = Conv1D(128, 3, activation='relu')(conv)\n",
    "conv = MaxPool1D(2, strides=None, padding='valid')(conv)\n",
    "conv = Conv1D(128, 3, activation='relu')(conv)\n",
    "conv = MaxPool1D(2, strides=None, padding='valid')(conv)\n",
    "conv_output = Flatten()(conv)\n",
    "\n",
    "#Define an auxiliary output for the first input\n",
    "aux_output = Dense(1, activation='sigmoid', name='aux_output')(conv_output)\n",
    "\n",
    "#Concatenate the convolutional output with the country input\n",
    "x = concatenate([conv_output, country_input])\n",
    "\n",
    "#Apply a dense layers\n",
    "x = Dense(50, activation='relu')(x)\n",
    "x = BatchNormalization()(x)\n",
    "x = Dense(50, activation='relu')(x)\n",
    "x = Dropout(0.2)(x)\n",
    "x = Dense(25, activation='relu')(x)\n",
    "\n",
    "#And finally make the predictions using the previous layer as input\n",
    "main_output = Dense(1, activation='sigmoid', name='prediction')(x)\n",
    "\n",
    "model = Model(inputs=[tweet_input, country_input], outputs=[main_output, aux_output])\n",
    "model.compile(optimizer='adam', loss='binary_crossentropy', metrics=['accuracy'])\n",
    "model.summary()"
   ]
  },
  {
   "cell_type": "code",
   "execution_count": 24,
   "metadata": {},
   "outputs": [],
   "source": [
    "%%sh\n",
    "TF_FORCE_GPU_ALLOW_GROWTH=true"
   ]
  },
  {
   "cell_type": "code",
   "execution_count": 25,
   "metadata": {},
   "outputs": [
    {
     "name": "stdout",
     "output_type": "stream",
     "text": [
      "Train on 1283768 samples, validate on 320942 samples\n",
      "Epoch 1/5\n",
      "1283768/1283768 [==============================] - 638s 497us/step - loss: 0.4882 - prediction_loss: 0.2342 - aux_output_loss: 0.2539 - prediction_acc: 0.9003 - aux_output_acc: 0.8991 - val_loss: 0.4663 - val_prediction_loss: 0.2159 - val_aux_output_loss: 0.2504 - val_prediction_acc: 0.9078 - val_aux_output_acc: 0.8996\n",
      "Epoch 2/5\n",
      "1283768/1283768 [==============================] - 621s 484us/step - loss: 0.4724 - prediction_loss: 0.2227 - aux_output_loss: 0.2497 - prediction_acc: 0.9048 - aux_output_acc: 0.9009 - val_loss: 0.4654 - val_prediction_loss: 0.2145 - val_aux_output_loss: 0.2509 - val_prediction_acc: 0.9056 - val_aux_output_acc: 0.8997\n",
      "Epoch 3/5\n",
      "1283768/1283768 [==============================] - 590s 459us/step - loss: 0.4670 - prediction_loss: 0.2176 - aux_output_loss: 0.2493 - prediction_acc: 0.9065 - aux_output_acc: 0.9010 - val_loss: 0.4554 - val_prediction_loss: 0.2056 - val_aux_output_loss: 0.2499 - val_prediction_acc: 0.9087 - val_aux_output_acc: 0.9003\n",
      "Epoch 4/5\n",
      "1283768/1283768 [==============================] - 593s 462us/step - loss: 0.4600 - prediction_loss: 0.2111 - aux_output_loss: 0.2488 - prediction_acc: 0.9121 - aux_output_acc: 0.9013 - val_loss: 0.4756 - val_prediction_loss: 0.2152 - val_aux_output_loss: 0.2604 - val_prediction_acc: 0.9074 - val_aux_output_acc: 0.9002\n",
      "Epoch 5/5\n",
      "1283768/1283768 [==============================] - 586s 457us/step - loss: 0.4523 - prediction_loss: 0.2035 - aux_output_loss: 0.2488 - prediction_acc: 0.9188 - aux_output_acc: 0.9013 - val_loss: 0.4660 - val_prediction_loss: 0.2140 - val_aux_output_loss: 0.2520 - val_prediction_acc: 0.9030 - val_aux_output_acc: 0.8998\n",
      "CPU times: user 1h 32min 18s, sys: 9min 43s, total: 1h 42min 1s\n",
      "Wall time: 50min 29s\n"
     ]
    }
   ],
   "source": [
    "%%time\n",
    "from keras.callbacks import EarlyStopping\n",
    "\n",
    "early_stopping = EarlyStopping(monitor='val_loss', patience=5, restore_best_weights=True)\n",
    "\n",
    "train_data = [X_train, X_train_c]\n",
    "history = model.fit(train_data, [y_train] * 2, epochs = 5, batch_size = 10, validation_split= 0.2, callbacks=[early_stopping])"
   ]
  },
  {
   "cell_type": "code",
   "execution_count": 27,
   "metadata": {},
   "outputs": [
    {
     "data": {
      "image/png": "[encoded data removed]",
      "text/plain": [
       "<Figure size 1152x576 with 2 Axes>"
      ]
     },
     "metadata": {
      "needs_background": "light"
     },
     "output_type": "display_data"
    }
   ],
   "source": [
    "plot_history(history, \n",
    "             acc='prediction_acc', \n",
    "             val_acc='val_prediction_acc', \n",
    "             loss='prediction_loss', \n",
    "             val_loss='val_prediction_loss')"
   ]
  },
  {
   "cell_type": "code",
   "execution_count": 28,
   "metadata": {},
   "outputs": [],
   "source": [
    "test_prediction = model.predict([X_test, X_test_c])\n",
    "y_pred = np.where(test_prediction[0]>0.5, 1.0, 0.0)"
   ]
  },
  {
   "cell_type": "code",
   "execution_count": 29,
   "metadata": {},
   "outputs": [
    {
     "name": "stdout",
     "output_type": "stream",
     "text": [
      "Test accuracy: 0.90\n"
     ]
    }
   ],
   "source": [
    "from sklearn.metrics import accuracy_score\n",
    "\n",
    "test_acc = accuracy_score(y_test, y_pred)\n",
    "print(f\"Test accuracy: {test_acc:.2f}\")"
   ]
  },
  {
   "cell_type": "markdown",
   "metadata": {},
   "source": [
    "It seems that with the convolutional based model we get more accurate and with the additional benefit of a faster training. Hence, We will export the CNN based model for later usage in spark."
   ]
  },
  {
   "cell_type": "code",
   "execution_count": 30,
   "metadata": {},
   "outputs": [],
   "source": [
    "model.save(\"../../models/keras/tweet-lang-classification-cnn.h5\")"
   ]
  },
  {
   "cell_type": "code",
   "execution_count": null,
   "metadata": {},
   "outputs": [],
   "source": []
  }
 ],
 "metadata": {
  "kernelspec": {
   "display_name": "Python 3",
   "language": "python",
   "name": "python3"
  },
  "language_info": {
   "codemirror_mode": {
    "name": "ipython",
    "version": 3
   },
   "file_extension": ".py",
   "mimetype": "text/x-python",
   "name": "python",
   "nbconvert_exporter": "python",
   "pygments_lexer": "ipython3",
   "version": "3.6.9"
  }
 },
 "nbformat": 4,
 "nbformat_minor": 4
}
