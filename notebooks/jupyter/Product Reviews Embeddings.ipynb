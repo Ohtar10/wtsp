{
 "cells": [
  {
   "cell_type": "markdown",
   "metadata": {},
   "source": [
    "# Product Review Embeddings\n",
    "## Author: Luis Eduardo Ferro Diez <a href=\"mailto:luis.ferro1@correo.icesi.edu.co\">luis.ferro1@correo.icesi.edu.co</a>\n",
    "\n",
    "This notebook contains the exploratory analysis over the Amazon product review dataset which will serve as ground truth of the semantic representation of the product categories for which we want later to characterize the geographic zones.\n",
    "\n",
    "### Resources\n",
    "* Dataset: http://jmcauley.ucsd.edu/data/amazon/\n",
    "\n",
    "We are going to use the product reviews (aggresively deduplicated data) and the metadata of the products to build the semantic space."
   ]
  },
  {
   "cell_type": "code",
   "execution_count": 4,
   "metadata": {},
   "outputs": [],
   "source": [
    "metadata_path = \"/media/ohtar10/Adder-Storage/datasets/amazon_products/reviews/metadata.json.gz\""
   ]
  },
  {
   "cell_type": "markdown",
   "metadata": {},
   "source": [
    "Using the reading instructions from the web page since the json objects are not strict and cause problems when reading from pandas.\n",
    "\n",
    "Also, since the file is significantly big to the point it can't fit into memory, we need a mechanism that can read it in chunks."
   ]
  },
  {
   "cell_type": "code",
   "execution_count": 24,
   "metadata": {},
   "outputs": [],
   "source": [
    "import pandas as pd\n",
    "import gzip\n",
    "import json\n",
    "from itertools import islice\n",
    "\n",
    "def read_file(path, lines=100):\n",
    "    f = gzip.open(path, 'r')\n",
    "    for l in islice(f, lines):\n",
    "        #yield json.dumps(eval(l))\n",
    "        yield eval(l)\n",
    "        \n",
    "def read_file_chunks(path, chunksize=1000, line_number=9430088):\n",
    "    f = gzip.open(path, 'r')\n",
    "    for index in range(0, line_number, chunksize):\n",
    "        for l in islice(f, index, chunksize):\n",
    "            yield json.dumps(eval(l))\n",
    "\n",
    "def generate_head_df(path, lines=100):\n",
    "    df = {}\n",
    "    for k, v in enumerate(read_file(path, lines)):\n",
    "        df[k] = v\n",
    "    return pd.DataFrame.from_dict(df, orient='index')"
   ]
  },
  {
   "cell_type": "code",
   "execution_count": 25,
   "metadata": {},
   "outputs": [
    {
     "data": {
      "text/html": [
       "<div>\n",
       "<style scoped>\n",
       "    .dataframe tbody tr th:only-of-type {\n",
       "        vertical-align: middle;\n",
       "    }\n",
       "\n",
       "    .dataframe tbody tr th {\n",
       "        vertical-align: top;\n",
       "    }\n",
       "\n",
       "    .dataframe thead th {\n",
       "        text-align: right;\n",
       "    }\n",
       "</style>\n",
       "<table border=\"1\" class=\"dataframe\">\n",
       "  <thead>\n",
       "    <tr style=\"text-align: right;\">\n",
       "      <th></th>\n",
       "      <th>asin</th>\n",
       "      <th>salesRank</th>\n",
       "      <th>imUrl</th>\n",
       "      <th>categories</th>\n",
       "      <th>title</th>\n",
       "      <th>description</th>\n",
       "      <th>price</th>\n",
       "      <th>related</th>\n",
       "      <th>brand</th>\n",
       "    </tr>\n",
       "  </thead>\n",
       "  <tbody>\n",
       "    <tr>\n",
       "      <td>0</td>\n",
       "      <td>0001048791</td>\n",
       "      <td>{'Books': 6334800}</td>\n",
       "      <td>http://ecx.images-amazon.com/images/I/51MKP0T4...</td>\n",
       "      <td>[[Books]]</td>\n",
       "      <td>The Crucible: Performed by Stuart Pankin, Jero...</td>\n",
       "      <td>NaN</td>\n",
       "      <td>NaN</td>\n",
       "      <td>NaN</td>\n",
       "      <td>NaN</td>\n",
       "    </tr>\n",
       "    <tr>\n",
       "      <td>1</td>\n",
       "      <td>0000143561</td>\n",
       "      <td>{'Movies &amp; TV': 376041}</td>\n",
       "      <td>http://g-ecx.images-amazon.com/images/G/01/x-s...</td>\n",
       "      <td>[[Movies &amp; TV, Movies]]</td>\n",
       "      <td>Everyday Italian (with Giada de Laurentiis), V...</td>\n",
       "      <td>3Pack DVD set - Italian Classics, Parties and ...</td>\n",
       "      <td>12.99</td>\n",
       "      <td>{'also_viewed': ['B0036FO6SI', 'B000KL8ODE', '...</td>\n",
       "      <td>NaN</td>\n",
       "    </tr>\n",
       "    <tr>\n",
       "      <td>2</td>\n",
       "      <td>0000037214</td>\n",
       "      <td>{'Clothing': 1233557}</td>\n",
       "      <td>http://ecx.images-amazon.com/images/I/31mCncNu...</td>\n",
       "      <td>[[Clothing, Shoes &amp; Jewelry, Girls], [Clothing...</td>\n",
       "      <td>Purple Sequin Tiny Dancer Tutu Ballet Dance Fa...</td>\n",
       "      <td>NaN</td>\n",
       "      <td>6.99</td>\n",
       "      <td>{'also_viewed': ['B00JO8II76', 'B00DGN4R1Q', '...</td>\n",
       "      <td>Big Dreams</td>\n",
       "    </tr>\n",
       "    <tr>\n",
       "      <td>3</td>\n",
       "      <td>0000032069</td>\n",
       "      <td>NaN</td>\n",
       "      <td>http://ecx.images-amazon.com/images/I/51EzU6qu...</td>\n",
       "      <td>[[Sports &amp; Outdoors, Other Sports, Dance, Clot...</td>\n",
       "      <td>Adult Ballet Tutu Cheetah Pink</td>\n",
       "      <td>NaN</td>\n",
       "      <td>7.89</td>\n",
       "      <td>{'also_bought': ['0000032050', 'B00D0DJAEG', '...</td>\n",
       "      <td>BubuBibi</td>\n",
       "    </tr>\n",
       "    <tr>\n",
       "      <td>4</td>\n",
       "      <td>0000031909</td>\n",
       "      <td>{'Toys &amp; Games': 201847}</td>\n",
       "      <td>http://ecx.images-amazon.com/images/I/41xBoP0F...</td>\n",
       "      <td>[[Sports &amp; Outdoors, Other Sports, Dance]]</td>\n",
       "      <td>Girls Ballet Tutu Neon Pink</td>\n",
       "      <td>High quality 3 layer ballet tutu. 12 inches in...</td>\n",
       "      <td>7.00</td>\n",
       "      <td>{'also_bought': ['B002BZX8Z6', 'B00JHONN1S', '...</td>\n",
       "      <td>Unknown</td>\n",
       "    </tr>\n",
       "  </tbody>\n",
       "</table>\n",
       "</div>"
      ],
      "text/plain": [
       "         asin                 salesRank  \\\n",
       "0  0001048791        {'Books': 6334800}   \n",
       "1  0000143561   {'Movies & TV': 376041}   \n",
       "2  0000037214     {'Clothing': 1233557}   \n",
       "3  0000032069                       NaN   \n",
       "4  0000031909  {'Toys & Games': 201847}   \n",
       "\n",
       "                                               imUrl  \\\n",
       "0  http://ecx.images-amazon.com/images/I/51MKP0T4...   \n",
       "1  http://g-ecx.images-amazon.com/images/G/01/x-s...   \n",
       "2  http://ecx.images-amazon.com/images/I/31mCncNu...   \n",
       "3  http://ecx.images-amazon.com/images/I/51EzU6qu...   \n",
       "4  http://ecx.images-amazon.com/images/I/41xBoP0F...   \n",
       "\n",
       "                                          categories  \\\n",
       "0                                          [[Books]]   \n",
       "1                            [[Movies & TV, Movies]]   \n",
       "2  [[Clothing, Shoes & Jewelry, Girls], [Clothing...   \n",
       "3  [[Sports & Outdoors, Other Sports, Dance, Clot...   \n",
       "4         [[Sports & Outdoors, Other Sports, Dance]]   \n",
       "\n",
       "                                               title  \\\n",
       "0  The Crucible: Performed by Stuart Pankin, Jero...   \n",
       "1  Everyday Italian (with Giada de Laurentiis), V...   \n",
       "2  Purple Sequin Tiny Dancer Tutu Ballet Dance Fa...   \n",
       "3                     Adult Ballet Tutu Cheetah Pink   \n",
       "4                        Girls Ballet Tutu Neon Pink   \n",
       "\n",
       "                                         description  price  \\\n",
       "0                                                NaN    NaN   \n",
       "1  3Pack DVD set - Italian Classics, Parties and ...  12.99   \n",
       "2                                                NaN   6.99   \n",
       "3                                                NaN   7.89   \n",
       "4  High quality 3 layer ballet tutu. 12 inches in...   7.00   \n",
       "\n",
       "                                             related       brand  \n",
       "0                                                NaN         NaN  \n",
       "1  {'also_viewed': ['B0036FO6SI', 'B000KL8ODE', '...         NaN  \n",
       "2  {'also_viewed': ['B00JO8II76', 'B00DGN4R1Q', '...  Big Dreams  \n",
       "3  {'also_bought': ['0000032050', 'B00D0DJAEG', '...    BubuBibi  \n",
       "4  {'also_bought': ['B002BZX8Z6', 'B00JHONN1S', '...     Unknown  "
      ]
     },
     "execution_count": 25,
     "metadata": {},
     "output_type": "execute_result"
    }
   ],
   "source": [
    "metadata_df = generate_head_df(metadata_path, 10)\n",
    "metadata_df.head()"
   ]
  },
  {
   "cell_type": "code",
   "execution_count": 35,
   "metadata": {},
   "outputs": [
    {
     "data": {
      "text/plain": [
       "[['Books'],\n",
       " ['Movies & TV', 'Movies'],\n",
       " ['Clothing, Shoes & Jewelry', 'Girls'],\n",
       " ['Clothing, Shoes & Jewelry',\n",
       "  'Novelty, Costumes & More',\n",
       "  'Costumes & Accessories',\n",
       "  'More Accessories',\n",
       "  'Kids & Baby'],\n",
       " ['Sports & Outdoors', 'Other Sports', 'Dance', 'Clothing', 'Girls', 'Skirts'],\n",
       " ['Sports & Outdoors', 'Other Sports', 'Dance'],\n",
       " ['Sports & Outdoors', 'Other Sports', 'Dance', 'Clothing', 'Girls', 'Skirts'],\n",
       " ['Movies & TV', 'Movies'],\n",
       " ['Books'],\n",
       " ['Sports & Outdoors', 'Other Sports', 'Dance'],\n",
       " ['Books']]"
      ]
     },
     "execution_count": 35,
     "metadata": {},
     "output_type": "execute_result"
    }
   ],
   "source": [
    "from itertools import chain\n",
    "\n",
    "categories = list(chain.from_iterable(metadata_df.categories.values))\n",
    "categories"
   ]
  },
  {
   "cell_type": "code",
   "execution_count": 39,
   "metadata": {},
   "outputs": [
    {
     "data": {
      "text/plain": [
       "{'Books',\n",
       " 'Clothing',\n",
       " 'Clothing, Shoes & Jewelry',\n",
       " 'Costumes & Accessories',\n",
       " 'Dance',\n",
       " 'Girls',\n",
       " 'Kids & Baby',\n",
       " 'More Accessories',\n",
       " 'Movies',\n",
       " 'Movies & TV',\n",
       " 'Novelty, Costumes & More',\n",
       " 'Other Sports',\n",
       " 'Skirts',\n",
       " 'Sports & Outdoors'}"
      ]
     },
     "execution_count": 39,
     "metadata": {},
     "output_type": "execute_result"
    }
   ],
   "source": [
    "flatten = lambda l: [item for sublist in l for item in sublist]\n",
    "\n",
    "# Use set to eliminate duplicates\n",
    "categories_flat = set(flatten(categories))\n",
    "categories_flat"
   ]
  },
  {
   "cell_type": "code",
   "execution_count": null,
   "metadata": {},
   "outputs": [],
   "source": []
  }
 ],
 "metadata": {
  "kernelspec": {
   "display_name": "Python 3",
   "language": "python",
   "name": "python3"
  },
  "language_info": {
   "codemirror_mode": {
    "name": "ipython",
    "version": 3
   },
   "file_extension": ".py",
   "mimetype": "text/x-python",
   "name": "python",
   "nbconvert_exporter": "python",
   "pygments_lexer": "ipython3",
   "version": "3.6.7"
  }
 },
 "nbformat": 4,
 "nbformat_minor": 4
}
