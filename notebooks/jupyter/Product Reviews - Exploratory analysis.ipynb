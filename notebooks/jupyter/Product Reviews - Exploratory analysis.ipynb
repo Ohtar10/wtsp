{
 "cells": [
  {
   "cell_type": "markdown",
   "metadata": {},
   "source": [
    "# Amazon Product reviews playground\n",
    "This note contains my playground for amazon products using Apache Livy to communicate with Spark"
   ]
  },
  {
   "cell_type": "code",
   "execution_count": 1,
   "metadata": {},
   "outputs": [
    {
     "name": "stdout",
     "output_type": "stream",
     "text": [
      "Starting Spark application\n"
     ]
    },
    {
     "data": {
      "text/html": [
       "<table>\n",
       "<tr><th>ID</th><th>YARN Application ID</th><th>Kind</th><th>State</th><th>Spark UI</th><th>Driver log</th><th>Current session?</th></tr><tr><td>5</td><td>None</td><td>spark</td><td>idle</td><td></td><td></td><td>✔</td></tr></table>"
      ],
      "text/plain": [
       "<IPython.core.display.HTML object>"
      ]
     },
     "metadata": {},
     "output_type": "display_data"
    },
    {
     "data": {
      "application/vnd.jupyter.widget-view+json": {
       "model_id": "",
       "version_major": 2,
       "version_minor": 0
      },
      "text/plain": [
       "FloatProgress(value=0.0, bar_style='info', description='Progress:', layout=Layout(height='25px', width='50%'),…"
      ]
     },
     "metadata": {},
     "output_type": "display_data"
    },
    {
     "name": "stdout",
     "output_type": "stream",
     "text": [
      "SparkSession available as 'spark'.\n"
     ]
    },
    {
     "data": {
      "application/vnd.jupyter.widget-view+json": {
       "model_id": "",
       "version_major": 2,
       "version_minor": 0
      },
      "text/plain": [
       "FloatProgress(value=0.0, bar_style='info', description='Progress:', layout=Layout(height='25px', width='50%'),…"
      ]
     },
     "metadata": {},
     "output_type": "display_data"
    },
    {
     "name": "stdout",
     "output_type": "stream",
     "text": [
      "res1: String = 2.4.4\n"
     ]
    }
   ],
   "source": [
    "spark.version"
   ]
  },
  {
   "cell_type": "code",
   "execution_count": 2,
   "metadata": {},
   "outputs": [
    {
     "data": {
      "application/vnd.jupyter.widget-view+json": {
       "model_id": "",
       "version_major": 2,
       "version_minor": 0
      },
      "text/plain": [
       "FloatProgress(value=0.0, bar_style='info', description='Progress:', layout=Layout(height='25px', width='50%'),…"
      ]
     },
     "metadata": {},
     "output_type": "display_data"
    },
    {
     "name": "stdout",
     "output_type": "stream",
     "text": [
      "base_path: String = /media/ohtar10/Adder-Storage/datasets\n"
     ]
    }
   ],
   "source": [
    "val base_path = \"/media/ohtar10/Adder-Storage/datasets\""
   ]
  },
  {
   "cell_type": "code",
   "execution_count": 3,
   "metadata": {},
   "outputs": [
    {
     "data": {
      "application/vnd.jupyter.widget-view+json": {
       "model_id": "",
       "version_major": 2,
       "version_minor": 0
      },
      "text/plain": [
       "FloatProgress(value=0.0, bar_style='info', description='Progress:', layout=Layout(height='25px', width='50%'),…"
      ]
     },
     "metadata": {},
     "output_type": "display_data"
    },
    {
     "name": "stdout",
     "output_type": "stream",
     "text": [
      "metadata_path: String = /media/ohtar10/Adder-Storage/datasets/amazon_products/reviews/metadata.json.gz\n",
      "reviews_path: String = /media/ohtar10/Adder-Storage/datasets/amazon_products/reviews/aggressive_dedup.json.gz\n"
     ]
    }
   ],
   "source": [
    "val metadata_path = base_path + \"/amazon_products/reviews/metadata.json.gz\"\n",
    "val reviews_path = base_path + \"/amazon_products/reviews/aggressive_dedup.json.gz\""
   ]
  },
  {
   "cell_type": "code",
   "execution_count": 33,
   "metadata": {},
   "outputs": [
    {
     "data": {
      "application/vnd.jupyter.widget-view+json": {
       "model_id": "",
       "version_major": 2,
       "version_minor": 0
      },
      "text/plain": [
       "FloatProgress(value=0.0, bar_style='info', description='Progress:', layout=Layout(height='25px', width='50%'),…"
      ]
     },
     "metadata": {},
     "output_type": "display_data"
    },
    {
     "name": "stdout",
     "output_type": "stream",
     "text": [
      "metadata_df: org.apache.spark.sql.DataFrame = [_corrupt_record: string, asin: string ... 8 more fields]\n"
     ]
    }
   ],
   "source": [
    "val metadata_df = spark.read.json(metadata_path)\n",
    "metadata_df.createOrReplaceTempView(\"product_metadata\")"
   ]
  },
  {
   "cell_type": "code",
   "execution_count": 34,
   "metadata": {},
   "outputs": [
    {
     "data": {
      "application/vnd.jupyter.widget-view+json": {
       "model_id": "",
       "version_major": 2,
       "version_minor": 0
      },
      "text/plain": [
       "FloatProgress(value=0.0, bar_style='info', description='Progress:', layout=Layout(height='25px', width='50%'),…"
      ]
     },
     "metadata": {},
     "output_type": "display_data"
    },
    {
     "data": {
      "application/vnd.jupyter.widget-view+json": {
       "model_id": "6b9858df929947e0bd3c2e98e3d77d53",
       "version_major": 2,
       "version_minor": 0
      },
      "text/plain": [
       "VBox(children=(HBox(children=(HTML(value='Type:'), Button(description='Table', layout=Layout(width='70px'), st…"
      ]
     },
     "metadata": {},
     "output_type": "display_data"
    },
    {
     "data": {
      "application/vnd.jupyter.widget-view+json": {
       "model_id": "b18c018695584d738a67f486d49db71f",
       "version_major": 2,
       "version_minor": 0
      },
      "text/plain": [
       "Output()"
      ]
     },
     "metadata": {},
     "output_type": "display_data"
    }
   ],
   "source": [
    "%%sql\n",
    "select * from product_metadata limit 20"
   ]
  },
  {
   "cell_type": "markdown",
   "metadata": {},
   "source": [
    "#### Beware of execution!!!\n",
    "Let's writhe a subset of this metadata for elaborating the pipelines"
   ]
  },
  {
   "cell_type": "code",
   "execution_count": 7,
   "metadata": {},
   "outputs": [
    {
     "data": {
      "application/vnd.jupyter.widget-view+json": {
       "model_id": "",
       "version_major": 2,
       "version_minor": 0
      },
      "text/plain": [
       "FloatProgress(value=0.0, bar_style='info', description='Progress:', layout=Layout(height='25px', width='50%'),…"
      ]
     },
     "metadata": {},
     "output_type": "display_data"
    }
   ],
   "source": [
    "metadata_df.limit(10000).write.mode(\"overwrite\").json(s\"$base_path/amazon/product/metadata/\")"
   ]
  },
  {
   "cell_type": "markdown",
   "metadata": {},
   "source": [
    "### Metadata manipulation for transformation\n",
    "We can observe the categories are encoded as array of arrays, and that a product might belong to more than one category. Let's first get rid of the first dimension of the category array and explore the different categories in case we want to get rid of redundant ones."
   ]
  },
  {
   "cell_type": "code",
   "execution_count": 35,
   "metadata": {},
   "outputs": [
    {
     "data": {
      "application/vnd.jupyter.widget-view+json": {
       "model_id": "",
       "version_major": 2,
       "version_minor": 0
      },
      "text/plain": [
       "FloatProgress(value=0.0, bar_style='info', description='Progress:', layout=Layout(height='25px', width='50%'),…"
      ]
     },
     "metadata": {},
     "output_type": "display_data"
    },
    {
     "name": "stdout",
     "output_type": "stream",
     "text": [
      "import spark.implicits._\n",
      "import org.apache.spark.sql.functions._\n"
     ]
    }
   ],
   "source": [
    "import spark.implicits._\n",
    "import org.apache.spark.sql.functions._\n",
    "\n",
    "//We need to double explode the records to get the categories separated.\n",
    "metadata_df.select($\"asin\", \n",
    "                   explode($\"categories\").as(\"categories\"),\n",
    "                   $\"title\",\n",
    "                   $\"description\").\n",
    "    select($\"asin\", \n",
    "           explode($\"categories\").as(\"category\"), \n",
    "           $\"description\", $\"title\").createOrReplaceTempView(\"product_metadata\")"
   ]
  },
  {
   "cell_type": "markdown",
   "metadata": {},
   "source": [
    "There are more than 2500 categoroes! this can become highly inpractical for experimentation. We need to reduce the amount of categories so we can operate them easier. We might want to discard those with less than $n$ products associated with them, and possibly merge some of them.\n",
    "\n",
    "Let's start by working with the top 100 categories in terms of amount of products. We need to manually inspect them and discard or merge them with others for simplicity.\n",
    "\n",
    "We are interested in major categories not specific ones for now. That is, for instance \"Books\" instead of a particular literature genere, the same for movies and TV."
   ]
  },
  {
   "cell_type": "code",
   "execution_count": 10,
   "metadata": {},
   "outputs": [
    {
     "data": {
      "application/vnd.jupyter.widget-view+json": {
       "model_id": "",
       "version_major": 2,
       "version_minor": 0
      },
      "text/plain": [
       "FloatProgress(value=0.0, bar_style='info', description='Progress:', layout=Layout(height='25px', width='50%'),…"
      ]
     },
     "metadata": {},
     "output_type": "display_data"
    },
    {
     "data": {
      "application/vnd.jupyter.widget-view+json": {
       "model_id": "73968a3e870f4b59935b1169dbcbdf4f",
       "version_major": 2,
       "version_minor": 0
      },
      "text/plain": [
       "VBox(children=(HBox(children=(HTML(value='Type:'), Button(description='Table', layout=Layout(width='70px'), st…"
      ]
     },
     "metadata": {},
     "output_type": "display_data"
    },
    {
     "data": {
      "application/vnd.jupyter.widget-view+json": {
       "model_id": "390484d164b641f0891ff197ca453b5f",
       "version_major": 2,
       "version_minor": 0
      },
      "text/plain": [
       "Output()"
      ]
     },
     "metadata": {},
     "output_type": "display_data"
    }
   ],
   "source": [
    "%%sql\n",
    "select category, count(asin) as products\n",
    "from product_metadata\n",
    "group by category\n",
    "having count(asin) > 10000\n",
    "order by products desc\n",
    "limit 60"
   ]
  },
  {
   "cell_type": "markdown",
   "metadata": {},
   "source": [
    "We can observe a good amount of products for these categories. We can also observe that categories such as 'Movies' and 'Movies & TV' can be merged togheter since they talk about similar things.\n",
    "\n",
    "Another important aspect is that some categories seem to be related with a particular genere of something, this is the case of \"classical\" for example, it could be movies, music or books, a second category might be needed to differentiate it. For now, we'll stick with parent or root categories that has the capability of aggregate something."
   ]
  },
  {
   "cell_type": "code",
   "execution_count": 8,
   "metadata": {},
   "outputs": [
    {
     "data": {
      "application/vnd.jupyter.widget-view+json": {
       "model_id": "",
       "version_major": 2,
       "version_minor": 0
      },
      "text/plain": [
       "FloatProgress(value=0.0, bar_style='info', description='Progress:', layout=Layout(height='25px', width='50%'),…"
      ]
     },
     "metadata": {},
     "output_type": "display_data"
    },
    {
     "data": {
      "application/vnd.jupyter.widget-view+json": {
       "model_id": "96f047be4a6c44608a644b718f4c094a",
       "version_major": 2,
       "version_minor": 0
      },
      "text/plain": [
       "VBox(children=(HBox(children=(HTML(value='Type:'), Button(description='Table', layout=Layout(width='70px'), st…"
      ]
     },
     "metadata": {},
     "output_type": "display_data"
    },
    {
     "data": {
      "application/vnd.jupyter.widget-view+json": {
       "model_id": "c1fc24073cb0460a91b99ad39121410a",
       "version_major": 2,
       "version_minor": 0
      },
      "text/plain": [
       "Output()"
      ]
     },
     "metadata": {},
     "output_type": "display_data"
    }
   ],
   "source": [
    "%%sql\n",
    "select category, count(asin) as products\n",
    "from (\n",
    "    select asin, case \n",
    "    when category in (\"Movies\", \n",
    "                      \"Movies & TV\") then \"Movies & TV\"\n",
    "    when category in (\"Clothing, Shoes & Jewelry\", \n",
    "                      \"Clothing\", \"T-Shirts\", \"Shirts\", \n",
    "                      \"Jewelry\", \n",
    "                      \"Dresses\", \n",
    "                      \"Boots\", \n",
    "                      \"Shoes\", \n",
    "                      \"Jewelry: International Shipping Available\", \n",
    "                      \"Shoes & Accessories: International Shipping Available\", \n",
    "                      \"Fashion\") then \"Clothing, Shoes & Jewelry\"\n",
    "    when category in (\"Music\", \n",
    "                      \"Digital Music\", \n",
    "                      \"CDs & Vinyl\",\n",
    "                      \"Pop\",\n",
    "                      \"Jazz\",\n",
    "                      \"Alternative Rock\",\n",
    "                      \"Rock\", \n",
    "                      \"World Music\") then \"Music\"\n",
    "    when category in (\"Electronics\", \n",
    "                      \"Cell Phones & Accessories\", \n",
    "                      \"Computers & Accessories\", \n",
    "                      \"Camera & Photo\") then \"Technology, Electronics & Accessories\"\n",
    "    when category in (\"Books\", \n",
    "                      \"Kindle eBooks\", \n",
    "                      \"Kindle Store\", \n",
    "                      \"Literature & Fiction\", \n",
    "                      \"Kindle Short Reads\",\n",
    "                      \"Christian Books & Bibles\") then \"Books\"\n",
    "    when category in (\"Games\", \n",
    "                      \"Toys & Games\") then \"Toys & Games\"\n",
    "    when category in (\"Home & Kitchen\", \n",
    "                      \"Kitchen & Dining\") then \"Home & Kitchen\"\n",
    "    when category in (\"Office & School Supplies\", \n",
    "                      \"Office Products\") then \"Office & School Supplies\"\n",
    "    when category in (\"Hair Care\", \n",
    "                      \"Skin Care\",\n",
    "                      \"Health & Personal Care\") then \"Health & Personal Care\"\n",
    "    when category in (\"Pet Supplies\", \n",
    "                      \"Dogs\") then \"Pets & Animals\"\n",
    "    when category in (\"Athletic\", \n",
    "                     \"Health, Fitness & Dieting\") then \"Health, Fitness & Dieting\"\n",
    "    else category end as category\n",
    "    from product_metadata\n",
    ")\n",
    "group by category\n",
    "having count(asin) > 10000\n",
    "order by products desc\n",
    "limit 60"
   ]
  },
  {
   "cell_type": "markdown",
   "metadata": {},
   "source": [
    "Based on the list above, we manually pick a group that we consider to be good enough for the experiment."
   ]
  },
  {
   "cell_type": "code",
   "execution_count": 42,
   "metadata": {},
   "outputs": [
    {
     "data": {
      "application/vnd.jupyter.widget-view+json": {
       "model_id": "",
       "version_major": 2,
       "version_minor": 0
      },
      "text/plain": [
       "FloatProgress(value=0.0, bar_style='info', description='Progress:', layout=Layout(height='25px', width='50%'),…"
      ]
     },
     "metadata": {},
     "output_type": "display_data"
    },
    {
     "name": "stdout",
     "output_type": "stream",
     "text": [
      "final_products_sql: String =\n",
      "select asin, title, description, case\n",
      "    when category in ('Movies',\n",
      "                      'Movies & TV') then 'Movies & TV'\n",
      "    when category in ('Clothing, Shoes & Jewelry',\n",
      "                      'Clothing',\n",
      "                      'T-Shirts',\n",
      "                      'Shirts',\n",
      "                      'Jewelry',\n",
      "                      'Dresses',\n",
      "                      'Boots',\n",
      "                      'Shoes',\n",
      "                      'Jewelry: International Shipping Available',\n",
      "                      'Shoes & Accessories: International Shipping Available',\n",
      "                      'Fashion',\n",
      "                      'Earrings') then 'Clothing, Shoes & Jewelry'\n",
      "    when category in ('Music',\n",
      "                      'Digital Music',\n",
      "                      'CDs & Vinyl',\n",
      "          ...final_products: org.apache.spark.sql.DataFrame = [asin: string, title: string ... 2 more fields]\n"
     ]
    }
   ],
   "source": [
    "val final_products_sql = \"\"\"select asin, title, description, case \n",
    "    when category in ('Movies', \n",
    "                      'Movies & TV') then 'Movies & TV'\n",
    "    when category in ('Clothing, Shoes & Jewelry', \n",
    "                      'Clothing', \n",
    "                      'T-Shirts', \n",
    "                      'Shirts', \n",
    "                      'Jewelry', \n",
    "                      'Dresses', \n",
    "                      'Boots', \n",
    "                      'Shoes', \n",
    "                      'Jewelry: International Shipping Available', \n",
    "                      'Shoes & Accessories: International Shipping Available', \n",
    "                      'Fashion',\n",
    "                      'Earrings') then 'Clothing, Shoes & Jewelry'\n",
    "    when category in ('Music', \n",
    "                      'Digital Music', \n",
    "                      'CDs & Vinyl',\n",
    "                      'Pop',\n",
    "                      'Jazz',\n",
    "                      'Alternative Rock',\n",
    "                      'Rock', \n",
    "                      'World Music',\n",
    "                      'Dance & Electronic') then 'Music'\n",
    "    when category in ('Electronics', \n",
    "                      'Cell Phones & Accessories', \n",
    "                      'Computers & Accessories', \n",
    "                      'Camera & Photo') then 'Technology, Electronics & Accessories'\n",
    "    when category in ('Books', \n",
    "                      'Kindle eBooks', \n",
    "                      'Kindle Store', \n",
    "                      'Literature & Fiction', \n",
    "                      'Kindle Short Reads',\n",
    "                      'Christian Books & Bibles') then 'Books'\n",
    "    when category in ('Games', \n",
    "                      'Toys & Games') then 'Toys & Games'\n",
    "    when category in ('Home & Kitchen', \n",
    "                      'Kitchen & Dining') then 'Home & Kitchen'\n",
    "    when category in ('Office & School Supplies', \n",
    "                      'Office Products') then 'Office & School Supplies'\n",
    "    when category in ('Hair Care', \n",
    "                      'Skin Care',\n",
    "                      'Health & Personal Care') then 'Health & Personal Care'\n",
    "    when category in ('Pet Supplies', \n",
    "                      'Dogs') then 'Pets & Animals'\n",
    "    when category in ('Athletic', \n",
    "                     'Health, Fitness & Dieting') then 'Health, Fitness & Dieting'\n",
    "    else \"skip\" end as category\n",
    "    from product_metadata\"\"\"\n",
    "\n",
    "val final_products = spark.sql(final_products_sql)\n",
    "final_products.createOrReplaceTempView(\"product_metadata\")"
   ]
  },
  {
   "cell_type": "code",
   "execution_count": 10,
   "metadata": {},
   "outputs": [
    {
     "data": {
      "application/vnd.jupyter.widget-view+json": {
       "model_id": "",
       "version_major": 2,
       "version_minor": 0
      },
      "text/plain": [
       "FloatProgress(value=0.0, bar_style='info', description='Progress:', layout=Layout(height='25px', width='50%'),…"
      ]
     },
     "metadata": {},
     "output_type": "display_data"
    },
    {
     "name": "stdout",
     "output_type": "stream",
     "text": [
      "categories: List[String] = List(Music, Books, Movies & TV, Clothing, Shoes & Jewelry, Technology, Electronics & Accessories, Home & Kitchen, Sports & Outdoors, Toys & Games, Health & Personal Care, Tools & Home Improvement, Pets & Animals, Health, Fitness & Dieting, Patio, Lawn & Garden, Musical Instruments, Video Games)\n",
      "categoriesDF: org.apache.spark.sql.Dataset[org.apache.spark.sql.Row] = [asin: string, title: string ... 2 more fields]\n"
     ]
    }
   ],
   "source": [
    "val categories = List(\"Music\", \n",
    "                      \"Books\",\n",
    "                      \"Movies & TV\",\n",
    "                      \"Clothing, Shoes & Jewelry\",\n",
    "                      \"Technology, Electronics & Accessories\",\n",
    "                      \"Home & Kitchen\",\n",
    "                      \"Sports & Outdoors\",\n",
    "                      \"Toys & Games\",\n",
    "                      \"Health & Personal Care\",\n",
    "                      \"Tools & Home Improvement\",\n",
    "                      \"Pets & Animals\",\n",
    "                      \"Health, Fitness & Dieting\",\n",
    "                      \"Patio, Lawn & Garden\",\n",
    "                      \"Musical Instruments\",\n",
    "                      \"Video Games\")\n",
    "val categoriesDF = final_products.filter($\"category\"isin(categories:_*))\n",
    "categoriesDF.createOrReplaceTempView(\"product_categories\")\n",
    "categoriesDF.write.mode(\"overwrite\").partitionBy(\"category\").parquet(s\"$base_path/amazon/product_reviews/final_categories\")"
   ]
  },
  {
   "cell_type": "code",
   "execution_count": 14,
   "metadata": {},
   "outputs": [
    {
     "data": {
      "application/vnd.jupyter.widget-view+json": {
       "model_id": "",
       "version_major": 2,
       "version_minor": 0
      },
      "text/plain": [
       "FloatProgress(value=0.0, bar_style='info', description='Progress:', layout=Layout(height='25px', width='50%'),…"
      ]
     },
     "metadata": {},
     "output_type": "display_data"
    },
    {
     "data": {
      "application/vnd.jupyter.widget-view+json": {
       "model_id": "f739810066cf4b7fb581b4f8b13180a3",
       "version_major": 2,
       "version_minor": 0
      },
      "text/plain": [
       "VBox(children=(HBox(children=(HTML(value='Type:'), Button(description='Table', layout=Layout(width='70px'), st…"
      ]
     },
     "metadata": {},
     "output_type": "display_data"
    },
    {
     "data": {
      "application/vnd.jupyter.widget-view+json": {
       "model_id": "5e3c68618f8c4bdf8a7a1029221f7d09",
       "version_major": 2,
       "version_minor": 0
      },
      "text/plain": [
       "Output()"
      ]
     },
     "metadata": {},
     "output_type": "display_data"
    }
   ],
   "source": [
    "%%sql\n",
    "select * from product_categories\n",
    "limit 10"
   ]
  },
  {
   "cell_type": "markdown",
   "metadata": {},
   "source": [
    "### Explore product reviews\n",
    "With the categories selected we can proceed to obtain the corresponding reviews for each one and aggregate them."
   ]
  },
  {
   "cell_type": "code",
   "execution_count": 4,
   "metadata": {},
   "outputs": [
    {
     "data": {
      "application/vnd.jupyter.widget-view+json": {
       "model_id": "",
       "version_major": 2,
       "version_minor": 0
      },
      "text/plain": [
       "FloatProgress(value=0.0, bar_style='info', description='Progress:', layout=Layout(height='25px', width='50%'),…"
      ]
     },
     "metadata": {},
     "output_type": "display_data"
    },
    {
     "name": "stdout",
     "output_type": "stream",
     "text": [
      "product_reviews: org.apache.spark.sql.DataFrame = [asin: string, helpful: array<bigint> ... 7 more fields]\n"
     ]
    }
   ],
   "source": [
    "val product_reviews = spark.read.json(reviews_path)\n",
    "product_reviews.createOrReplaceTempView(\"product_reviews\")"
   ]
  },
  {
   "cell_type": "code",
   "execution_count": 5,
   "metadata": {},
   "outputs": [
    {
     "data": {
      "application/vnd.jupyter.widget-view+json": {
       "model_id": "",
       "version_major": 2,
       "version_minor": 0
      },
      "text/plain": [
       "FloatProgress(value=0.0, bar_style='info', description='Progress:', layout=Layout(height='25px', width='50%'),…"
      ]
     },
     "metadata": {},
     "output_type": "display_data"
    },
    {
     "name": "stdout",
     "output_type": "stream",
     "text": [
      "res3: Long = 82456877\n"
     ]
    }
   ],
   "source": [
    "product_reviews.count()"
   ]
  },
  {
   "cell_type": "code",
   "execution_count": 38,
   "metadata": {},
   "outputs": [
    {
     "data": {
      "application/vnd.jupyter.widget-view+json": {
       "model_id": "",
       "version_major": 2,
       "version_minor": 0
      },
      "text/plain": [
       "FloatProgress(value=0.0, bar_style='info', description='Progress:', layout=Layout(height='25px', width='50%'),…"
      ]
     },
     "metadata": {},
     "output_type": "display_data"
    },
    {
     "name": "stdout",
     "output_type": "stream",
     "text": [
      "root\n",
      " |-- asin: string (nullable = true)\n",
      " |-- helpful: array (nullable = true)\n",
      " |    |-- element: long (containsNull = true)\n",
      " |-- overall: double (nullable = true)\n",
      " |-- reviewText: string (nullable = true)\n",
      " |-- reviewTime: string (nullable = true)\n",
      " |-- reviewerID: string (nullable = true)\n",
      " |-- reviewerName: string (nullable = true)\n",
      " |-- summary: string (nullable = true)\n",
      " |-- unixReviewTime: long (nullable = true)\n",
      "\n"
     ]
    }
   ],
   "source": [
    "product_reviews.printSchema()"
   ]
  },
  {
   "cell_type": "code",
   "execution_count": 43,
   "metadata": {},
   "outputs": [
    {
     "data": {
      "application/vnd.jupyter.widget-view+json": {
       "model_id": "",
       "version_major": 2,
       "version_minor": 0
      },
      "text/plain": [
       "FloatProgress(value=0.0, bar_style='info', description='Progress:', layout=Layout(height='25px', width='50%'),…"
      ]
     },
     "metadata": {},
     "output_type": "display_data"
    },
    {
     "data": {
      "application/vnd.jupyter.widget-view+json": {
       "model_id": "af36d0d6fda44025aed26eae9f45e121",
       "version_major": 2,
       "version_minor": 0
      },
      "text/plain": [
       "VBox(children=(HBox(children=(HTML(value='Type:'), Button(description='Table', layout=Layout(width='70px'), st…"
      ]
     },
     "metadata": {},
     "output_type": "display_data"
    },
    {
     "data": {
      "application/vnd.jupyter.widget-view+json": {
       "model_id": "4639fef868294955ba823a1e6a8ba315",
       "version_major": 2,
       "version_minor": 0
      },
      "text/plain": [
       "Output()"
      ]
     },
     "metadata": {},
     "output_type": "display_data"
    }
   ],
   "source": [
    "%%sql\n",
    "select pm.category, count(pr.asin)\n",
    "from product_metadata pm inner join product_reviews pr on pm.asin = pr.asin\n",
    "where pm.category != \"skip\"\n",
    "group by pm.category"
   ]
  },
  {
   "cell_type": "markdown",
   "metadata": {},
   "source": [
    "We are observing imbalanced categories, we would need to apply some balancing technique over them."
   ]
  },
  {
   "cell_type": "code",
   "execution_count": 57,
   "metadata": {},
   "outputs": [
    {
     "data": {
      "image/png": "[encoded data removed]",
      "text/plain": [
       "<Figure size 864x576 with 1 Axes>"
      ]
     },
     "metadata": {
      "needs_background": "light"
     },
     "output_type": "display_data"
    }
   ],
   "source": [
    "%%local\n",
    "%matplotlib inline\n",
    "import matplotlib.pyplot as plt\n",
    "import numpy as np\n",
    "\n",
    "classes = [\"Home & Kitchen\", \n",
    "           \"Toys & Games\", \n",
    "           \"Books\", \n",
    "           \"Health & Personal Care\", \n",
    "           \"Music\", \n",
    "           \"Office & School Supplies\", \n",
    "           \"Movies & TV\", \n",
    "           \"Health, Fitness & Dieting\",\n",
    "           \"Clothing, Shoes & Jewelry\"]\n",
    "x = np.arange(len(classes))\n",
    "y = np.array([5912704, 4819928, 43896101, 3763488, 16272754, 1782243, 5569474, 891499, 21938858])\n",
    "\n",
    "plt.figure(figsize=(12, 8))\n",
    "plt.bar(x, y)\n",
    "plt.xticks(x, classes, rotation=90)\n",
    "plt.show()"
   ]
  },
  {
   "cell_type": "markdown",
   "metadata": {},
   "source": [
    "We need to decide upon a balnacing technique otherwise we might be swkewing the results towards one category"
   ]
  },
  {
   "cell_type": "markdown",
   "metadata": {},
   "source": [
    "Before continuing, let's write a subset of reviews of associated with the first 10000 porduct metadata for testing the pipeline"
   ]
  },
  {
   "cell_type": "code",
   "execution_count": 9,
   "metadata": {},
   "outputs": [
    {
     "data": {
      "application/vnd.jupyter.widget-view+json": {
       "model_id": "",
       "version_major": 2,
       "version_minor": 0
      },
      "text/plain": [
       "FloatProgress(value=0.0, bar_style='info', description='Progress:', layout=Layout(height='25px', width='50%'),…"
      ]
     },
     "metadata": {},
     "output_type": "display_data"
    },
    {
     "name": "stdout",
     "output_type": "stream",
     "text": [
      "product_subset: org.apache.spark.sql.Dataset[org.apache.spark.sql.Row] = [_corrupt_record: string, asin: string ... 8 more fields]\n"
     ]
    }
   ],
   "source": [
    "val product_subset = metadata_df.limit(10000)\n",
    "product_reviews.join(product_subset, \"asin\").limit(10000).write.mode(\"overwrite\").json(s\"$base_path/amazon/product/reviews/\")"
   ]
  },
  {
   "cell_type": "code",
   "execution_count": 12,
   "metadata": {},
   "outputs": [
    {
     "data": {
      "application/vnd.jupyter.widget-view+json": {
       "model_id": "",
       "version_major": 2,
       "version_minor": 0
      },
      "text/plain": [
       "FloatProgress(value=0.0, bar_style='info', description='Progress:', layout=Layout(height='25px', width='50%'),…"
      ]
     },
     "metadata": {},
     "output_type": "display_data"
    },
    {
     "data": {
      "application/vnd.jupyter.widget-view+json": {
       "model_id": "f2859a08d6a44f6884166f9a883e3fdb",
       "version_major": 2,
       "version_minor": 0
      },
      "text/plain": [
       "VBox(children=(HBox(children=(HTML(value='Type:'), Button(description='Table', layout=Layout(width='70px'), st…"
      ]
     },
     "metadata": {},
     "output_type": "display_data"
    },
    {
     "data": {
      "application/vnd.jupyter.widget-view+json": {
       "model_id": "c4e5ffae99604a03bea4dda42d35228e",
       "version_major": 2,
       "version_minor": 0
      },
      "text/plain": [
       "Output()"
      ]
     },
     "metadata": {},
     "output_type": "display_data"
    }
   ],
   "source": [
    "%%sql\n",
    "select * from product_reviews limit 10"
   ]
  },
  {
   "cell_type": "code",
   "execution_count": 15,
   "metadata": {},
   "outputs": [
    {
     "data": {
      "application/vnd.jupyter.widget-view+json": {
       "model_id": "",
       "version_major": 2,
       "version_minor": 0
      },
      "text/plain": [
       "FloatProgress(value=0.0, bar_style='info', description='Progress:', layout=Layout(height='25px', width='50%'),…"
      ]
     },
     "metadata": {},
     "output_type": "display_data"
    },
    {
     "data": {
      "application/vnd.jupyter.widget-view+json": {
       "model_id": "3b76113c1c904529a13b32361e5fa474",
       "version_major": 2,
       "version_minor": 0
      },
      "text/plain": [
       "VBox(children=(HBox(children=(HTML(value='Type:'), Button(description='Table', layout=Layout(width='70px'), st…"
      ]
     },
     "metadata": {},
     "output_type": "display_data"
    },
    {
     "data": {
      "application/vnd.jupyter.widget-view+json": {
       "model_id": "74eff82435b14bbe81bfb628f4d31cb6",
       "version_major": 2,
       "version_minor": 0
      },
      "text/plain": [
       "Output()"
      ]
     },
     "metadata": {},
     "output_type": "display_data"
    }
   ],
   "source": [
    "%%sql\n",
    "select pc.category, pc.title, pc.description, pr.summary, pr.reviewText as review_text\n",
    "from product_categories pc inner join product_reviews pr on pc.asin = pr.asin\n",
    "limit 100"
   ]
  },
  {
   "cell_type": "code",
   "execution_count": 13,
   "metadata": {},
   "outputs": [
    {
     "data": {
      "application/vnd.jupyter.widget-view+json": {
       "model_id": "9a67a2746faf4cf5a28218a9f74d0543",
       "version_major": 2,
       "version_minor": 0
      },
      "text/plain": [
       "FloatProgress(value=0.0, bar_style='info', description='Progress:', layout=Layout(height='25px', width='50%'),…"
      ]
     },
     "metadata": {},
     "output_type": "display_data"
    },
    {
     "name": "stderr",
     "output_type": "stream",
     "text": [
      "An error was encountered:\n",
      "Invalid status code '400' from http://localhost:8998/sessions/4/statements/13 with error payload: {\"msg\":\"requirement failed: Session isn't active.\"}\n"
     ]
    }
   ],
   "source": [
    "%%sql\n",
    "select pc.category, collect_set(pc.title) as titles\n",
    "from product_categories pc\n",
    "where category = \"Books\"\n",
    "group by pc.category\n",
    "limit 10"
   ]
  },
  {
   "cell_type": "code",
   "execution_count": 14,
   "metadata": {},
   "outputs": [
    {
     "name": "stderr",
     "output_type": "stream",
     "text": [
      "An error was encountered:\n",
      "Invalid status code '404' from http://localhost:8998/sessions/4 with error payload: {\"msg\":\"Session '4' not found.\"}\n"
     ]
    }
   ],
   "source": [
    "print(\"hello\")"
   ]
  },
  {
   "cell_type": "code",
   "execution_count": 5,
   "metadata": {},
   "outputs": [
    {
     "data": {
      "application/vnd.jupyter.widget-view+json": {
       "model_id": "",
       "version_major": 2,
       "version_minor": 0
      },
      "text/plain": [
       "FloatProgress(value=0.0, bar_style='info', description='Progress:', layout=Layout(height='25px', width='50%'),…"
      ]
     },
     "metadata": {},
     "output_type": "display_data"
    },
    {
     "name": "stdout",
     "output_type": "stream",
     "text": [
      "+---------------+----------+----------+--------------------+--------------------+--------------------+-----+--------------------+--------------------+--------------------+\n",
      "|_corrupt_record|      asin|     brand|          categories|         description|               imUrl|price|             related|           salesRank|               title|\n",
      "+---------------+----------+----------+--------------------+--------------------+--------------------+-----+--------------------+--------------------+--------------------+\n",
      "|           null|0001048791|      null|           [[Books]]|                null|http://ecx.images...| null|                null|[,,,,, 6334800,,,...|The Crucible: Per...|\n",
      "|           null|0000143561|      null|[[Movies & TV, Mo...|3Pack DVD set - I...|http://g-ecx.imag...|12.99|[, [B0036FO6SI, B...|[,,,,,,,,,,,,,,,,...|Everyday Italian ...|\n",
      "|           null|0000037214|Big Dreams|[[Clothing, Shoes...|                null|http://ecx.images...| 6.99|[, [B00JO8II76, B...|[,,,,,,,, 1233557...|Purple Sequin Tin...|\n",
      "|           null|0000032069|  BubuBibi|[[Sports & Outdoo...|                null|http://ecx.images...| 7.89|[[0000032050, B00...|                null|Adult Ballet Tutu...|\n",
      "|           null|0000031909|   Unknown|[[Sports & Outdoo...|High quality 3 la...|http://ecx.images...|  7.0|[[B002BZX8Z6, B00...|[,,,,,,,,,,,,,,,,...|Girls Ballet Tutu...|\n",
      "|           null|0000032034|  BubuBibi|[[Sports & Outdoo...|                null|http://ecx.images...| 7.87|[[B00D2JSRFQ, 000...|                null|Adult Ballet Tutu...|\n",
      "|           null|0000589012|      null|[[Movies & TV, Mo...|                null|http://ecx.images...|15.95|[[B000Z3N1HQ, 057...|[,,,,,,,,,,,,,,,,...|Why Don't They Ju...|\n",
      "|           null|0001048775|      null|           [[Books]]|William Shakespea...|http://ecx.images...| null|                null|[,,,,, 13243226,,...|Measure for Measu...|\n",
      "|           null|0000031852|  Coxlures|[[Sports & Outdoo...|                TUtu|http://ecx.images...| 3.17|[[B00JHONN1S, B00...|[,,,,,,,,,,,,,,,,...|Girls Ballet Tutu...|\n",
      "|           null|0001048236|      null|           [[Books]]|&#34;One thing is...|http://ecx.images...| 9.26|[, [1442300191, 9...|[,,,,, 8973864,,,...|The Sherlock Holm...|\n",
      "+---------------+----------+----------+--------------------+--------------------+--------------------+-----+--------------------+--------------------+--------------------+\n",
      "only showing top 10 rows\n",
      "\n"
     ]
    }
   ],
   "source": [
    "metadata_df.select(\"*\").limit(100).show(10)"
   ]
  },
  {
   "cell_type": "markdown",
   "metadata": {},
   "source": [
    "## Preparing data for testing\n",
    "This section contains the execution of the same queries as above but applied to the subsets created in the previous two cells. This is meant to generate the expected results for the pipeline."
   ]
  },
  {
   "cell_type": "code",
   "execution_count": 14,
   "metadata": {},
   "outputs": [
    {
     "data": {
      "application/vnd.jupyter.widget-view+json": {
       "model_id": "",
       "version_major": 2,
       "version_minor": 0
      },
      "text/plain": [
       "FloatProgress(value=0.0, bar_style='info', description='Progress:', layout=Layout(height='25px', width='50%'),…"
      ]
     },
     "metadata": {},
     "output_type": "display_data"
    },
    {
     "name": "stdout",
     "output_type": "stream",
     "text": [
      "metadata_df: org.apache.spark.sql.DataFrame = [_corrupt_record: string, asin: string ... 8 more fields]\n",
      "reviews_df: org.apache.spark.sql.DataFrame = [asin: string, brand: string ... 15 more fields]\n"
     ]
    }
   ],
   "source": [
    "val metadata_df = spark.read.json(s\"$base_path/amazon/product/metadata\")\n",
    "val reviews_df = spark.read.json(s\"$base_path/amazon/product/reviews\")"
   ]
  },
  {
   "cell_type": "markdown",
   "metadata": {},
   "source": [
    "### Transform the metadata"
   ]
  },
  {
   "cell_type": "code",
   "execution_count": 15,
   "metadata": {},
   "outputs": [
    {
     "data": {
      "application/vnd.jupyter.widget-view+json": {
       "model_id": "",
       "version_major": 2,
       "version_minor": 0
      },
      "text/plain": [
       "FloatProgress(value=0.0, bar_style='info', description='Progress:', layout=Layout(height='25px', width='50%'),…"
      ]
     },
     "metadata": {},
     "output_type": "display_data"
    },
    {
     "name": "stdout",
     "output_type": "stream",
     "text": [
      "textBlacklistRegex: String = &.+;|'+|\"+|[@#$%^&*<>_-]\n"
     ]
    }
   ],
   "source": [
    "val textBlacklistRegex: String = \"&.+;|'+|\\\"+|[@#$%^&*<>_-]\""
   ]
  },
  {
   "cell_type": "code",
   "execution_count": 16,
   "metadata": {},
   "outputs": [
    {
     "data": {
      "application/vnd.jupyter.widget-view+json": {
       "model_id": "",
       "version_major": 2,
       "version_minor": 0
      },
      "text/plain": [
       "FloatProgress(value=0.0, bar_style='info', description='Progress:', layout=Layout(height='25px', width='50%'),…"
      ]
     },
     "metadata": {},
     "output_type": "display_data"
    },
    {
     "name": "stdout",
     "output_type": "stream",
     "text": [
      "import spark.implicits._\n",
      "import org.apache.spark.sql.functions._\n",
      "product_metadata: org.apache.spark.sql.DataFrame = [asin: string, category: string ... 2 more fields]\n"
     ]
    }
   ],
   "source": [
    "import spark.implicits._\n",
    "import org.apache.spark.sql.functions._\n",
    "\n",
    "//We need to double explode the records to get the categories separated.\n",
    "val product_metadata = metadata_df.select($\"asin\", \n",
    "                   explode($\"categories\").as(\"categories\"),\n",
    "                   $\"title\",\n",
    "                   $\"description\").\n",
    "    select($\"asin\", \n",
    "           explode($\"categories\").as(\"category\"), \n",
    "           trim(regexp_replace($\"description\", textBlacklistRegex, \"\")).as(\"description\"), \n",
    "           trim(regexp_replace($\"title\", textBlacklistRegex, \"\")).as(\"title\"))"
   ]
  },
  {
   "cell_type": "code",
   "execution_count": 17,
   "metadata": {},
   "outputs": [
    {
     "data": {
      "application/vnd.jupyter.widget-view+json": {
       "model_id": "",
       "version_major": 2,
       "version_minor": 0
      },
      "text/plain": [
       "FloatProgress(value=0.0, bar_style='info', description='Progress:', layout=Layout(height='25px', width='50%'),…"
      ]
     },
     "metadata": {},
     "output_type": "display_data"
    },
    {
     "name": "stdout",
     "output_type": "stream",
     "text": [
      "categoryMapping: String =\n",
      "\"\n",
      "categories:\n",
      "  - name: \"Movies & TV\"\n",
      "    mappings:\n",
      "      - Movies\n",
      "      - Movies & TV\n",
      "  - name: \"Clothing, Shoes & Jewelry\"\n",
      "    mappings:\n",
      "      - Clothing\n",
      "      - T-Shirts\n",
      "      - Shirts\n",
      "      - Jewelry\n",
      "      - Dresses\n",
      "      - Boots\n",
      "      - Shoes\n",
      "      - \"Jewelry: International Shipping Available\"\n",
      "      - \"Shoes & Accessories: International Shipping Available\"\n",
      "      - \"Clothing, Shoes & Jewelry\"\n",
      "      - Fashion\n",
      "      - Earrings\n",
      "  - name: \"Music\"\n",
      "    mappings:\n",
      "      - Music\n",
      "      - Digital Music\n",
      "      - CDs & Vinyl\n",
      "      - Pop\n",
      "      - Jazz\n",
      "      - Alternative Rock\n",
      "      - Rock\n",
      "      - World Music\n",
      "      - Dance & Electronic\n",
      "  - name: \"Technology, Electronics & Accessories\"\n",
      "    mappings:\n",
      "      - Electronics\n",
      "      - Cell Phones & Accessories\n",
      "      - Computers & Ac..."
     ]
    }
   ],
   "source": [
    "val categoryMapping = \"\"\"\n",
    "categories:\n",
    "  - name: \"Movies & TV\"\n",
    "    mappings:\n",
    "      - Movies\n",
    "      - Movies & TV\n",
    "  - name: \"Clothing, Shoes & Jewelry\"\n",
    "    mappings:\n",
    "      - Clothing\n",
    "      - T-Shirts\n",
    "      - Shirts\n",
    "      - Jewelry\n",
    "      - Dresses\n",
    "      - Boots\n",
    "      - Shoes\n",
    "      - \"Jewelry: International Shipping Available\"\n",
    "      - \"Shoes & Accessories: International Shipping Available\"\n",
    "      - \"Clothing, Shoes & Jewelry\"\n",
    "      - Fashion\n",
    "      - Earrings\n",
    "  - name: \"Music\"\n",
    "    mappings:\n",
    "      - Music\n",
    "      - Digital Music\n",
    "      - CDs & Vinyl\n",
    "      - Pop\n",
    "      - Jazz\n",
    "      - Alternative Rock\n",
    "      - Rock\n",
    "      - World Music\n",
    "      - Dance & Electronic\n",
    "  - name: \"Technology, Electronics & Accessories\"\n",
    "    mappings:\n",
    "      - Electronics\n",
    "      - Cell Phones & Accessories\n",
    "      - Computers & Accessories\n",
    "      - Camera & Photo\n",
    "  - name: \"Books\"\n",
    "    mappings:\n",
    "      - Books\n",
    "      - Kindle eBooks\n",
    "      - Kindle Store\n",
    "      - Literature & Fiction\n",
    "      - Kindle Short Reads\n",
    "      - Christian Books & Bibles\n",
    "  - name: \"Toys & Games\"\n",
    "    mappings:\n",
    "      - Games\n",
    "      - Toys & Games\n",
    "  - name: \"Home & Kitchen\"\n",
    "    mappings:\n",
    "      - Home & Kitchen\n",
    "      - Kitchen & Dining\n",
    "  - name: \"Office & School Supplies\"\n",
    "    mappings:\n",
    "      - Office & School Supplies\n",
    "      - Office Products\n",
    "  - name: \"Health & Personal Care\"\n",
    "    mappings:\n",
    "      - Hair Care\n",
    "      - Skin Care\n",
    "      - Health & Personal Care\n",
    "  - name: \"Health, Fitness & Dieting\"\n",
    "    mappings:\n",
    "      - Athletic\n",
    "      - Health, Fitness & Dieting\n",
    "\"\"\""
   ]
  },
  {
   "cell_type": "code",
   "execution_count": 18,
   "metadata": {},
   "outputs": [
    {
     "data": {
      "application/vnd.jupyter.widget-view+json": {
       "model_id": "",
       "version_major": 2,
       "version_minor": 0
      },
      "text/plain": [
       "FloatProgress(value=0.0, bar_style='info', description='Progress:', layout=Layout(height='25px', width='50%'),…"
      ]
     },
     "metadata": {},
     "output_type": "display_data"
    },
    {
     "name": "stdout",
     "output_type": "stream",
     "text": [
      "import cats.syntax.either._\n",
      "import io.circe._\n",
      "import io.circe.generic.auto._\n",
      "import io.circe.yaml\n",
      "defined class Category\n",
      "defined class CategoryMapping\n",
      "json: Either[io.circe.ParsingFailure,io.circe.Json] =\n",
      "Right({\n",
      "  \"categories\" : [\n",
      "    {\n",
      "      \"name\" : \"Movies & TV\",\n",
      "      \"mappings\" : [\n",
      "        \"Movies\",\n",
      "        \"Movies & TV\"\n",
      "      ]\n",
      "    },\n",
      "    {\n",
      "      \"name\" : \"Clothing, Shoes & Jewelry\",\n",
      "      \"mappings\" : [\n",
      "        \"Clothing\",\n",
      "        \"T-Shirts\",\n",
      "        \"Shirts\",\n",
      "        \"Jewelry\",\n",
      "        \"Dresses\",\n",
      "        \"Boots\",\n",
      "        \"Shoes\",\n",
      "        \"Jewelry: International Shipping Available\",\n",
      "        \"Shoes & Accessories: International Shipping Available\",\n",
      "        \"Clothing, Shoes & Jewelry\",\n",
      "        \"Fashion\",\n",
      "        \"Earrings\"\n",
      "      ]\n",
      "    },\n",
      "    {\n",
      "      \"name\" : \"Music\",\n",
      "      \"mappings\" : [\n",
      "        \"Music\",\n",
      "        \"Digital Music\",\n",
      "        \"CDs & Vinyl\",\n",
      "        \"Pop\",\n",
      "        \"Jazz\",\n",
      "        \"Alternative Rock\",\n",
      "        \"Rock\",\n",
      "    ...mapping: CategoryMapping = CategoryMapping(List(Category(Movies & TV,List(Movies, Movies & TV)), Category(Clothing, Shoes & Jewelry,List(Clothing, T-Shirts, Shirts, Jewelry, Dresses, Boots, Shoes, Jewelry: International Shipping Available, Shoes & Accessories: International Shipping Available, Clothing, Shoes & Jewelry, Fashion, Earrings)), Category(Music,List(Music, Digital Music, CDs & Vinyl, Pop, Jazz, Alternative Rock, Rock, World Music, Dance & Electronic)), Category(Technology, Electronics & Accessories,List(Electronics, Cell Phones & Accessories, Computers & Accessories, Camera & Photo)), Category(Books,List(Books, Kindle eBooks, Kindle Store, Literature & Fiction, Kindle Short Reads, Christian Books & Bibles)), Category(Toys & Games,List(Games, Toys & Games)), Category(Home & Ki..."
     ]
    }
   ],
   "source": [
    "import cats.syntax.either._\n",
    "import io.circe._\n",
    "import io.circe.generic.auto._\n",
    "import io.circe.yaml\n",
    "\n",
    "case class Category(name: String, mappings: List[String])\n",
    "case class CategoryMapping(categories: List[Category])\n",
    "\n",
    "val json = yaml.parser.parse(categoryMapping)\n",
    "\n",
    "val mapping = json.leftMap(err => err:Error).\n",
    "flatMap(_.as[CategoryMapping]).\n",
    "valueOr(throw _)"
   ]
  },
  {
   "cell_type": "code",
   "execution_count": 19,
   "metadata": {},
   "outputs": [
    {
     "data": {
      "application/vnd.jupyter.widget-view+json": {
       "model_id": "",
       "version_major": 2,
       "version_minor": 0
      },
      "text/plain": [
       "FloatProgress(value=0.0, bar_style='info', description='Progress:', layout=Layout(height='25px', width='50%'),…"
      ]
     },
     "metadata": {},
     "output_type": "display_data"
    },
    {
     "name": "stdout",
     "output_type": "stream",
     "text": [
      "categoryMap: scala.collection.immutable.Map[String,List[String]] = Map(Toys & Games -> List(Games, Toys & Games), Technology, Electronics & Accessories -> List(Electronics, Cell Phones & Accessories, Computers & Accessories, Camera & Photo), Books -> List(Books, Kindle eBooks, Kindle Store, Literature & Fiction, Kindle Short Reads, Christian Books & Bibles), Movies & TV -> List(Movies, Movies & TV), Music -> List(Music, Digital Music, CDs & Vinyl, Pop, Jazz, Alternative Rock, Rock, World Music, Dance & Electronic), Home & Kitchen -> List(Home & Kitchen, Kitchen & Dining), Clothing, Shoes & Jewelry -> List(Clothing, T-Shirts, Shirts, Jewelry, Dresses, Boots, Shoes, Jewelry: International Shipping Available, Shoes & Accessories: International Shipping Available, Clothing, Shoes & Jewelry,...categories: List[String] = List(Movies & TV, Clothing, Shoes & Jewelry, Music, Technology, Electronics & Accessories, Books, Toys & Games, Home & Kitchen, Office & School Supplies, Health & Personal Care, Health, Fitness & Dieting)\n"
     ]
    }
   ],
   "source": [
    "val categoryMap = mapping.categories.map(category => category.name -> category.mappings).toMap\n",
    "val categories = mapping.categories.map(category => category.name)"
   ]
  },
  {
   "cell_type": "markdown",
   "metadata": {},
   "source": [
    "To query and transform the categories"
   ]
  },
  {
   "cell_type": "code",
   "execution_count": 20,
   "metadata": {},
   "outputs": [
    {
     "data": {
      "application/vnd.jupyter.widget-view+json": {
       "model_id": "",
       "version_major": 2,
       "version_minor": 0
      },
      "text/plain": [
       "FloatProgress(value=0.0, bar_style='info', description='Progress:', layout=Layout(height='25px', width='50%'),…"
      ]
     },
     "metadata": {},
     "output_type": "display_data"
    },
    {
     "name": "stdout",
     "output_type": "stream",
     "text": [
      "transformedMetadata: org.apache.spark.sql.Dataset[org.apache.spark.sql.Row] = [asin: string, title: string ... 2 more fields]\n"
     ]
    }
   ],
   "source": [
    "val transformedMetadata = product_metadata.select($\"asin\", $\"title\", trim($\"description\").as(\"description\"),\n",
    "                            when($\"category\".isin(categoryMap(\"Movies & TV\"):_*), \"Movies & TV\").\n",
    "                            when($\"category\".isin(categoryMap(\"Clothing, Shoes & Jewelry\"):_*), \"Clothing, Shoes & Jewelry\").\n",
    "                            when($\"category\".isin(categoryMap(\"Music\"):_*), \"Music\").\n",
    "                            when($\"category\".isin(categoryMap(\"Technology, Electronics & Accessories\"):_*), \"Technology, Electronics & Accessories\").\n",
    "                            when($\"category\".isin(categoryMap(\"Books\"):_*), \"Books\").\n",
    "                            when($\"category\".isin(categoryMap(\"Toys & Games\"):_*), \"Toys & Games\").\n",
    "                            when($\"category\".isin(categoryMap(\"Home & Kitchen\"):_*), \"Home & Kitchen\").\n",
    "                            when($\"category\".isin(categoryMap(\"Office & School Supplies\"):_*), \"Office & School Supplies\").\n",
    "                            when($\"category\".isin(categoryMap(\"Health & Personal Care\"):_*), \"Health & Personal Care\").\n",
    "                            when($\"category\".isin(categoryMap(\"Health, Fitness & Dieting\"):_*), \"Health, Fitness & Dieting\").\n",
    "                            otherwise(\"skip\").as(\"category\")).where($\"category\".isNotNull && $\"category\" =!= \"skip\")"
   ]
  },
  {
   "cell_type": "code",
   "execution_count": 21,
   "metadata": {},
   "outputs": [
    {
     "data": {
      "application/vnd.jupyter.widget-view+json": {
       "model_id": "",
       "version_major": 2,
       "version_minor": 0
      },
      "text/plain": [
       "FloatProgress(value=0.0, bar_style='info', description='Progress:', layout=Layout(height='25px', width='50%'),…"
      ]
     },
     "metadata": {},
     "output_type": "display_data"
    },
    {
     "name": "stdout",
     "output_type": "stream",
     "text": [
      "res17: Long = 8848\n"
     ]
    }
   ],
   "source": [
    "transformedMetadata.count()"
   ]
  },
  {
   "cell_type": "code",
   "execution_count": 22,
   "metadata": {},
   "outputs": [
    {
     "data": {
      "application/vnd.jupyter.widget-view+json": {
       "model_id": "",
       "version_major": 2,
       "version_minor": 0
      },
      "text/plain": [
       "FloatProgress(value=0.0, bar_style='info', description='Progress:', layout=Layout(height='25px', width='50%'),…"
      ]
     },
     "metadata": {},
     "output_type": "display_data"
    },
    {
     "name": "stdout",
     "output_type": "stream",
     "text": [
      "firstCategoryName: String = Movies & TV\n",
      "firstCase: org.apache.spark.sql.Column = CASE WHEN (category IN (Movies, Movies & TV)) THEN Movies & TV END\n",
      "categoryColumn: org.apache.spark.sql.Column = CASE WHEN (category IN (Movies, Movies & TV)) THEN Movies & TV WHEN (category IN (Clothing, T-Shirts, Shirts, Jewelry, Dresses, Boots, Shoes, Jewelry: International Shipping Available, Shoes & Accessories: International Shipping Available, Clothing, Shoes & Jewelry, Fashion, Earrings)) THEN Clothing, Shoes & Jewelry WHEN (category IN (Music, Digital Music, CDs & Vinyl, Pop, Jazz, Alternative Rock, Rock, World Music, Dance & Electronic)) THEN Music WHEN (category IN (Electronics, Cell Phones & Accessories, Computers & Accessories, Camera & Photo)) THEN Technology, Electronics & Accessories WHEN (category IN (Books, Kindle eBooks, Kindle Store, Literature & Fiction, Kindle Short Reads, Christian Books & Bibles)) THEN Books WHEN (category IN (G...res20: Long = 8848\n"
     ]
    }
   ],
   "source": [
    "val firstCategoryName = categories.head\n",
    "val firstCase = when($\"category\".isin(categoryMap(firstCategoryName):_*), firstCategoryName)\n",
    "\n",
    "val categoryColumn = categories.tail.foldLeft(firstCase){(column, category) =>\n",
    "      column.when($\"category\".isin(categoryMap(category):_*), category)\n",
    "    }\n",
    "\n",
    " product_metadata.select($\"asin\",\n",
    "      trim($\"title\").as(\"title\"),\n",
    "      trim($\"description\").as(\"description\"),\n",
    "      categoryColumn.as(\"category\")).\n",
    "      where(\"category is not null\").count()"
   ]
  },
  {
   "cell_type": "code",
   "execution_count": 23,
   "metadata": {},
   "outputs": [
    {
     "data": {
      "application/vnd.jupyter.widget-view+json": {
       "model_id": "",
       "version_major": 2,
       "version_minor": 0
      },
      "text/plain": [
       "FloatProgress(value=0.0, bar_style='info', description='Progress:', layout=Layout(height='25px', width='50%'),…"
      ]
     },
     "metadata": {},
     "output_type": "display_data"
    },
    {
     "name": "stdout",
     "output_type": "stream",
     "text": [
      "+----------+--------------------+--------------------+--------------------+\n",
      "|      asin|               title|         description|            category|\n",
      "+----------+--------------------+--------------------+--------------------+\n",
      "|0001048791|The Crucible: Per...|                null|               Books|\n",
      "|0000143561|Everyday Italian ...|3Pack DVD set  It...|         Movies & TV|\n",
      "|0000143561|Everyday Italian ...|3Pack DVD set  It...|         Movies & TV|\n",
      "|0000037214|Purple Sequin Tin...|                null|Clothing, Shoes &...|\n",
      "|0000037214|Purple Sequin Tin...|                null|Clothing, Shoes &...|\n",
      "|0000032069|Adult Ballet Tutu...|                null|Clothing, Shoes &...|\n",
      "|0000032034|Adult Ballet Tutu...|                null|Clothing, Shoes &...|\n",
      "|0000589012|Why Dont They Jus...|                null|         Movies & TV|\n",
      "|0000589012|Why Dont They Jus...|                null|         Movies & TV|\n",
      "|0001048775|Measure for Measu...|William Shakespea...|               Books|\n",
      "+----------+--------------------+--------------------+--------------------+\n",
      "only showing top 10 rows\n",
      "\n"
     ]
    }
   ],
   "source": [
    "transformedMetadata.show(10)"
   ]
  },
  {
   "cell_type": "markdown",
   "metadata": {},
   "source": [
    "Now we want to aggregate the products with multiple categories to reduce disk space usage and enable multi-label classification"
   ]
  },
  {
   "cell_type": "code",
   "execution_count": 38,
   "metadata": {},
   "outputs": [
    {
     "data": {
      "application/vnd.jupyter.widget-view+json": {
       "model_id": "",
       "version_major": 2,
       "version_minor": 0
      },
      "text/plain": [
       "FloatProgress(value=0.0, bar_style='info', description='Progress:', layout=Layout(height='25px', width='50%'),…"
      ]
     },
     "metadata": {},
     "output_type": "display_data"
    },
    {
     "name": "stdout",
     "output_type": "stream",
     "text": [
      "finalMetadata: org.apache.spark.sql.DataFrame = [asin: string, title: string ... 2 more fields]\n",
      "+----------+--------------------+--------------------+----------+\n",
      "|      asin|               title|         description|categories|\n",
      "+----------+--------------------+--------------------+----------+\n",
      "|0002555166|Double Lives: Sta...|                null|   [Books]|\n",
      "|0004488172|Collins Scotland ...|                null|   [Books]|\n",
      "|0005546915|Norton Introducti...|                null|   [Books]|\n",
      "|0006110452|Psychology: Conce...|                null|   [Books]|\n",
      "|0006159990|  Murder in the Mews|                null|   [Books]|\n",
      "|0006266843|The Gospel from O...|                null|   [Books]|\n",
      "|0006331750|r. d. laing (Mode...|                null|   [Books]|\n",
      "|0006380387|Lifes Little Insp...|From the author o...|   [Books]|\n",
      "|0006387403|The Pale Abyssini...|Miles Bredin, bor...|   [Books]|\n",
      "|0006392202|          Lost Girls|                null|   [Books]|\n",
      "+----------+--------------------+--------------------+----------+\n",
      "only showing top 10 rows\n",
      "\n"
     ]
    }
   ],
   "source": [
    "val finalMetadata = transformedMetadata.groupBy($\"asin\", $\"title\", $\"description\").agg(collect_set($\"category\").as(\"categories\"))\n",
    "finalMetadata.show(10)"
   ]
  },
  {
   "cell_type": "markdown",
   "metadata": {},
   "source": [
    "Let's save this as an expected result for the pipelines"
   ]
  },
  {
   "cell_type": "code",
   "execution_count": 39,
   "metadata": {},
   "outputs": [
    {
     "data": {
      "application/vnd.jupyter.widget-view+json": {
       "model_id": "",
       "version_major": 2,
       "version_minor": 0
      },
      "text/plain": [
       "FloatProgress(value=0.0, bar_style='info', description='Progress:', layout=Layout(height='25px', width='50%'),…"
      ]
     },
     "metadata": {},
     "output_type": "display_data"
    },
    {
     "name": "stdout",
     "output_type": "stream",
     "text": [
      "res37: Long = 8802\n"
     ]
    }
   ],
   "source": [
    "finalMetadata.count()"
   ]
  },
  {
   "cell_type": "markdown",
   "metadata": {},
   "source": [
    "Write the metadata as is"
   ]
  },
  {
   "cell_type": "code",
   "execution_count": 26,
   "metadata": {},
   "outputs": [
    {
     "data": {
      "application/vnd.jupyter.widget-view+json": {
       "model_id": "",
       "version_major": 2,
       "version_minor": 0
      },
      "text/plain": [
       "FloatProgress(value=0.0, bar_style='info', description='Progress:', layout=Layout(height='25px', width='50%'),…"
      ]
     },
     "metadata": {},
     "output_type": "display_data"
    }
   ],
   "source": [
    "finalMetadata.repartition(1).write.mode(\"overwrite\").parquet(s\"$base_path/amazon/product/metadata_expected/\")"
   ]
  },
  {
   "cell_type": "markdown",
   "metadata": {},
   "source": [
    "Now we need to generate the product documents"
   ]
  },
  {
   "cell_type": "code",
   "execution_count": 27,
   "metadata": {},
   "outputs": [
    {
     "data": {
      "application/vnd.jupyter.widget-view+json": {
       "model_id": "",
       "version_major": 2,
       "version_minor": 0
      },
      "text/plain": [
       "FloatProgress(value=0.0, bar_style='info', description='Progress:', layout=Layout(height='25px', width='50%'),…"
      ]
     },
     "metadata": {},
     "output_type": "display_data"
    },
    {
     "name": "stdout",
     "output_type": "stream",
     "text": [
      "metadataDocuments: org.apache.spark.sql.Dataset[org.apache.spark.sql.Row] = [categories: array<string>, document: string]\n",
      "+----------+--------------------+\n",
      "|categories|            document|\n",
      "+----------+--------------------+\n",
      "|   [Books]|Lifes Little Insp...|\n",
      "|   [Books]|The Pale Abyssini...|\n",
      "|   [Books]|Lady of Hay\n",
      "Erski...|\n",
      "|   [Books]|Zigby Hunts for T...|\n",
      "|   [Books]|Falklands Command...|\n",
      "|   [Books]|You Can Paint Flo...|\n",
      "|   [Books]|Boneland\n",
      "From Har...|\n",
      "|   [Books]|The Ten Principal...|\n",
      "|   [Books]|Monetary Economic...|\n",
      "|   [Books]|50 Great Business...|\n",
      "+----------+--------------------+\n",
      "only showing top 10 rows\n",
      "\n"
     ]
    }
   ],
   "source": [
    "val metadataDocuments = finalMetadata.select($\"categories\", \n",
    "                            concat(when($\"title\".isNotNull && length($\"title\") >= 3, concat($\"title\", lit(\"\\n\"))).otherwise(lit(\"\")), \n",
    "                                when($\"description\".isNotNull && length($\"description\") >= 3, concat($\"description\", lit(\"\\n\"))).otherwise(lit(\"\"))).as(\"document\")).\n",
    "                            where(length($\"document\") >= 100)\n",
    "            \n",
    "\n",
    "metadataDocuments.show(10)"
   ]
  },
  {
   "cell_type": "code",
   "execution_count": 28,
   "metadata": {},
   "outputs": [
    {
     "data": {
      "application/vnd.jupyter.widget-view+json": {
       "model_id": "",
       "version_major": 2,
       "version_minor": 0
      },
      "text/plain": [
       "FloatProgress(value=0.0, bar_style='info', description='Progress:', layout=Layout(height='25px', width='50%'),…"
      ]
     },
     "metadata": {},
     "output_type": "display_data"
    },
    {
     "name": "stdout",
     "output_type": "stream",
     "text": [
      "res28: Long = 3289\n"
     ]
    }
   ],
   "source": [
    "metadataDocuments.count()"
   ]
  },
  {
   "cell_type": "code",
   "execution_count": 29,
   "metadata": {},
   "outputs": [
    {
     "data": {
      "application/vnd.jupyter.widget-view+json": {
       "model_id": "",
       "version_major": 2,
       "version_minor": 0
      },
      "text/plain": [
       "FloatProgress(value=0.0, bar_style='info', description='Progress:', layout=Layout(height='25px', width='50%'),…"
      ]
     },
     "metadata": {},
     "output_type": "display_data"
    },
    {
     "name": "stdout",
     "output_type": "stream",
     "text": [
      "res29: Any =\n",
      "\"The Perfect Sinner\n",
      "Vivid scenes of warfare and the harshness of mediaeval life...the descriptions of Sir Guys journey from hopeful youth to weathered witness are imbued with the authenticity of the period Historical Novel Society magazine This involving story has humour and passion, but also poses questions about the morality of waging war, and the courage necessary to fight in it or to stand against it. Good Book Guide Will Davenport has written a powerful novel about a journey across Europe in the fourteenth century by a man reviewing his own past and his own sin. The characters are utterly convincing as they struggle with the wild conditions of mediaeval Europe and their own guilts and fears. This is also a timeshift book. The heros modern descendant is facing her own d..."
     ]
    }
   ],
   "source": [
    "metadataDocuments.where($\"document\".contains(\"The Perfect Sinner\")).collect()(0)(1)"
   ]
  },
  {
   "cell_type": "markdown",
   "metadata": {},
   "source": [
    "Persist this documents"
   ]
  },
  {
   "cell_type": "code",
   "execution_count": 30,
   "metadata": {},
   "outputs": [
    {
     "data": {
      "application/vnd.jupyter.widget-view+json": {
       "model_id": "",
       "version_major": 2,
       "version_minor": 0
      },
      "text/plain": [
       "FloatProgress(value=0.0, bar_style='info', description='Progress:', layout=Layout(height='25px', width='50%'),…"
      ]
     },
     "metadata": {},
     "output_type": "display_data"
    }
   ],
   "source": [
    "metadataDocuments.repartition(1).write.mode(\"overwrite\").parquet(s\"$base_path/amazon/product/metadata_documents\")"
   ]
  },
  {
   "cell_type": "code",
   "execution_count": 31,
   "metadata": {},
   "outputs": [
    {
     "data": {
      "application/vnd.jupyter.widget-view+json": {
       "model_id": "",
       "version_major": 2,
       "version_minor": 0
      },
      "text/plain": [
       "FloatProgress(value=0.0, bar_style='info', description='Progress:', layout=Layout(height='25px', width='50%'),…"
      ]
     },
     "metadata": {},
     "output_type": "display_data"
    },
    {
     "name": "stdout",
     "output_type": "stream",
     "text": [
      "res31: Array[String] = Array(CDs & Vinyl, Movies, Books, Movies & TV)\n"
     ]
    }
   ],
   "source": [
    "product_metadata.groupBy($\"category\").agg(count($\"asin\").as(\"products\")).where($\"products\" > 10).select($\"category\").collect().map(_.getString(0))"
   ]
  },
  {
   "cell_type": "markdown",
   "metadata": {},
   "source": [
    "Aggregate the categories again, preparing for multi-label classification"
   ]
  },
  {
   "cell_type": "markdown",
   "metadata": {},
   "source": [
    "### Reviews transformation"
   ]
  },
  {
   "cell_type": "code",
   "execution_count": 33,
   "metadata": {},
   "outputs": [
    {
     "data": {
      "application/vnd.jupyter.widget-view+json": {
       "model_id": "",
       "version_major": 2,
       "version_minor": 0
      },
      "text/plain": [
       "FloatProgress(value=0.0, bar_style='info', description='Progress:', layout=Layout(height='25px', width='50%'),…"
      ]
     },
     "metadata": {},
     "output_type": "display_data"
    },
    {
     "name": "stdout",
     "output_type": "stream",
     "text": [
      "root\n",
      " |-- asin: string (nullable = true)\n",
      " |-- brand: string (nullable = true)\n",
      " |-- categories: array (nullable = true)\n",
      " |    |-- element: array (containsNull = true)\n",
      " |    |    |-- element: string (containsNull = true)\n",
      " |-- description: string (nullable = true)\n",
      " |-- helpful: array (nullable = true)\n",
      " |    |-- element: long (containsNull = true)\n",
      " |-- imUrl: string (nullable = true)\n",
      " |-- overall: double (nullable = true)\n",
      " |-- price: double (nullable = true)\n",
      " |-- related: struct (nullable = true)\n",
      " |    |-- also_bought: array (nullable = true)\n",
      " |    |    |-- element: string (containsNull = true)\n",
      " |    |-- also_viewed: array (nullable = true)\n",
      " |    |    |-- element: string (containsNull = true)\n",
      " |    |-- bought_together: array (nullable = true)\n",
      " |    |    |-- element: string (containsNull = true)\n",
      " |    |-- buy_after_viewing: array (nullable = true)\n",
      " |    |    |-- element: string (containsNull = true)\n",
      " |-- reviewText: string (nullable = true)\n",
      " |-- reviewTime: string (nullable = true)\n",
      " |-- reviewerID: string (nullable = true)\n",
      " |-- reviewerName: string (nullable = true)\n",
      " |-- salesRank: struct (nullable = true)\n",
      " |    |-- Books: long (nullable = true)\n",
      " |    |-- Movies & TV: long (nullable = true)\n",
      " |    |-- Music: long (nullable = true)\n",
      " |    |-- Sports &amp; Outdoors: long (nullable = true)\n",
      " |-- summary: string (nullable = true)\n",
      " |-- title: string (nullable = true)\n",
      " |-- unixReviewTime: long (nullable = true)\n",
      "\n"
     ]
    }
   ],
   "source": [
    "reviews_df.printSchema()"
   ]
  },
  {
   "cell_type": "code",
   "execution_count": 34,
   "metadata": {},
   "outputs": [
    {
     "data": {
      "application/vnd.jupyter.widget-view+json": {
       "model_id": "",
       "version_major": 2,
       "version_minor": 0
      },
      "text/plain": [
       "FloatProgress(value=0.0, bar_style='info', description='Progress:', layout=Layout(height='25px', width='50%'),…"
      ]
     },
     "metadata": {},
     "output_type": "display_data"
    },
    {
     "name": "stdout",
     "output_type": "stream",
     "text": [
      "+----------+-----+----------+--------------------+-------+--------------------+-------+-----+--------------------+--------------------+-----------+--------------------+--------------------+------------+--------------------+--------------------+--------------+\n",
      "|      asin|brand|categories|         description|helpful|               imUrl|overall|price|             related|          reviewText| reviewTime|          reviewerID|        reviewerName|   salesRank|             summary|               title|unixReviewTime|\n",
      "+----------+-----+----------+--------------------+-------+--------------------+-------+-----+--------------------+--------------------+-----------+--------------------+--------------------+------------+--------------------+--------------------+--------------+\n",
      "|000727405X| null| [[Books]]|Now thirty four y...| [0, 0]|http://ecx.images...|    4.0| 3.79|[[0007256817, 033...|It really does ha...|03 11, 2013|A00039763E5V43M02...|           MsDreinca|[2661726,,,]|We need to know this|Cry Silent Tears:...|    1362960000|\n",
      "|0007444117| null| [[Books]]|                null| [0, 3]|http://ecx.images...|    5.0| 6.99|[[0007536747, 006...|Great book. Veron...| 03 4, 2014|A00115723IFW2X9CU...|       Mindi Tindall| [319640,,,]|Allegiant a great...|Allegiant (Diverg...|    1393891200|\n",
      "|0007124015| null| [[Books]]|A Christian can a...| [0, 0]|http://ecx.images...|    5.0| 9.99|[[054792822X, 061...|I was dyslexic an...|10 16, 2013|A00369122K166QHZJ...|bj leah miles-fenton|[2095945,,,]|A set of books th...|The Lord of the R...|    1381881600|\n",
      "|0002007770| null| [[Books]]|                null| [1, 1]|http://ecx.images...|    4.0| 8.52|[[0399155341, 157...|I read this after...|01 28, 2013|A00652961QVJY2CGH...|      Shaylin Peters|[2296729,,,]|           Good book| Water For Elephants|    1359331200|\n",
      "|0007124015| null| [[Books]]|A Christian can a...| [1, 1]|http://ecx.images...|    5.0| 9.99|[[054792822X, 061...|This was my secon...| 04 6, 2014|A008483934S118DJU...|       Robert Warner|[2095945,,,]|One of the all ti...|The Lord of the R...|    1396742400|\n",
      "|0002213184| null| [[Books]]|                null| [0, 0]|http://ecx.images...|    5.0| null|                null|A very good novel...|11 19, 2012|A01003393RLOL3357...|     Donald McBurnie|[6008678,,,]|I enjoyed reading...| How Young They Died|    1353283200|\n",
      "|0002007770| null| [[Books]]|                null| [1, 1]|http://ecx.images...|    5.0| 8.52|[[0399155341, 157...|Water For Elephan...|01 16, 2013|A01079131OLTHGTTB...|                  Em|[2296729,,,]| Water For Elephants| Water For Elephants|    1358294400|\n",
      "|0007179731| null| [[Books]]|Everyone loves a ...| [1, 1]|http://ecx.images...|    5.0| 7.99|[[1439109133, 006...|Are you tired of ...|03 28, 2014|A010997525FU27TAP...|Aistis Zidanavici...|[1297824,,,]|The Monk Who Sold...|The Monk Who Sold...|    1395964800|\n",
      "|0007444117| null| [[Books]]|                null|[2, 23]|http://ecx.images...|    5.0| 6.99|[[0007536747, 006...|I think it's funn...|10 28, 2013|A011375310EMGKL9Z...|               bg144| [319640,,,]|Great read; great...|Allegiant (Diverg...|    1382918400|\n",
      "|0007136838| null| [[Books]]|Considered the be...| [0, 0]|http://ecx.images...|    5.0| 3.99|[[1416903151, 006...|A very good book....| 06 6, 2013|A011769335YMOT60V...|            Wendelle|[1332834,,,]|              Review|And Then There We...|    1370476800|\n",
      "+----------+-----+----------+--------------------+-------+--------------------+-------+-----+--------------------+--------------------+-----------+--------------------+--------------------+------------+--------------------+--------------------+--------------+\n",
      "only showing top 10 rows\n",
      "\n"
     ]
    }
   ],
   "source": [
    "reviews_df.show(10)"
   ]
  },
  {
   "cell_type": "code",
   "execution_count": 35,
   "metadata": {},
   "outputs": [
    {
     "data": {
      "application/vnd.jupyter.widget-view+json": {
       "model_id": "",
       "version_major": 2,
       "version_minor": 0
      },
      "text/plain": [
       "FloatProgress(value=0.0, bar_style='info', description='Progress:', layout=Layout(height='25px', width='50%'),…"
      ]
     },
     "metadata": {},
     "output_type": "display_data"
    },
    {
     "name": "stdout",
     "output_type": "stream",
     "text": [
      "+----------+--------------------+--------------------+--------------------+\n",
      "|      asin|               title|             summary|          reviewText|\n",
      "+----------+--------------------+--------------------+--------------------+\n",
      "|000727405X|Cry Silent Tears:...|We need to know this|It really does ha...|\n",
      "|0007444117|Allegiant (Diverg...|Allegiant a great...|Great book. Veron...|\n",
      "|0007124015|The Lord of the R...|A set of books th...|I was dyslexic an...|\n",
      "|0002007770| Water For Elephants|           Good book|I read this after...|\n",
      "|0007124015|The Lord of the R...|One of the all ti...|This was my secon...|\n",
      "|0002213184| How Young They Died|I enjoyed reading...|A very good novel...|\n",
      "|0002007770| Water For Elephants| Water For Elephants|Water For Elephan...|\n",
      "|0007179731|The Monk Who Sold...|The Monk Who Sold...|Are you tired of ...|\n",
      "|0007444117|Allegiant (Diverg...|Great read; great...|I think it's funn...|\n",
      "|0007136838|And Then There We...|              Review|A very good book....|\n",
      "+----------+--------------------+--------------------+--------------------+\n",
      "only showing top 10 rows\n",
      "\n"
     ]
    }
   ],
   "source": [
    "reviews_df.select($\"asin\", $\"title\", $\"summary\", $\"reviewText\").show(10)"
   ]
  },
  {
   "cell_type": "markdown",
   "metadata": {},
   "source": [
    "As we observe, the column \"title\" corresponds to the product title, we are going to omit this in favor of the one coming from the product metadata data frame"
   ]
  },
  {
   "cell_type": "markdown",
   "metadata": {},
   "source": [
    "We observe that some text contains trash characters, let's clean the text as part of the transformation."
   ]
  },
  {
   "cell_type": "code",
   "execution_count": 40,
   "metadata": {},
   "outputs": [
    {
     "data": {
      "application/vnd.jupyter.widget-view+json": {
       "model_id": "",
       "version_major": 2,
       "version_minor": 0
      },
      "text/plain": [
       "FloatProgress(value=0.0, bar_style='info', description='Progress:', layout=Layout(height='25px', width='50%'),…"
      ]
     },
     "metadata": {},
     "output_type": "display_data"
    },
    {
     "name": "stdout",
     "output_type": "stream",
     "text": [
      "finalReviews: org.apache.spark.sql.Dataset[org.apache.spark.sql.Row] = [categories: array<string>, summary: string ... 1 more field]\n",
      "+----------+--------------------+--------------------+\n",
      "|categories|             summary|         review_text|\n",
      "+----------+--------------------+--------------------+\n",
      "|   [Books]|                    |This is the kind ...|\n",
      "|   [Books]|                    |So good, but such...|\n",
      "|   [Books]|                   .|If you have alrea...|\n",
      "|   [Books]|                   .|My husband cant p...|\n",
      "|   [Books]|... Horrible.  Ju...|Just for a brief ...|\n",
      "|   [Books]|     ... I cant even|I hate it when pe...|\n",
      "|   [Books]|... now everyone ...|Well by now every...|\n",
      "|   [Books]|...and all I see ...|Im a GRRM late bl...|\n",
      "|   [Books]|...when a man smi...|The Trident is a ...|\n",
      "|   [Books]|1 star for the st...|So, this is the d...|\n",
      "|   [Books]|10 Minute Guide t...|As a consultant w...|\n",
      "|   [Books]|10 give or take w...|This book had me ...|\n",
      "|   [Books]|  100 sucess rate!!!|Ive been doing da...|\n",
      "|   [Books]|123 Easy Steps to...|I found this book...|\n",
      "|   [Books]|13th Fontana Book...|Liked the book. I...|\n",
      "|   [Books]|15 good, but not ...|Throughout the tw...|\n",
      "|   [Books]|16 supernatural t...|Throughout the tw...|\n",
      "|   [Books]|18+ language and ...|I was intrigued b...|\n",
      "|   [Books]|             2 for 2|I recently read C...|\n",
      "|   [Books]|2 million Jews le...|It hints at many ...|\n",
      "+----------+--------------------+--------------------+\n",
      "only showing top 20 rows\n",
      "\n"
     ]
    }
   ],
   "source": [
    "val finalReviews = reviews_df.select($\"asin\", $\"summary\", $\"reviewText\".as(\"review_text\")).\n",
    "    where($\"review_text\".isNotNull && (length($\"review_text\") >= 100)).\n",
    "    join(finalMetadata, \"asin\").\n",
    "    select($\"categories\", \n",
    "           trim(regexp_replace($\"summary\", textBlacklistRegex, \"\")).as(\"summary\"), \n",
    "           trim(regexp_replace($\"review_text\", textBlacklistRegex, \"\")).as(\"review_text\")).\n",
    "    orderBy($\"summary\")\n",
    "finalReviews.show(20)"
   ]
  },
  {
   "cell_type": "code",
   "execution_count": 41,
   "metadata": {},
   "outputs": [
    {
     "data": {
      "application/vnd.jupyter.widget-view+json": {
       "model_id": "",
       "version_major": 2,
       "version_minor": 0
      },
      "text/plain": [
       "FloatProgress(value=0.0, bar_style='info', description='Progress:', layout=Layout(height='25px', width='50%'),…"
      ]
     },
     "metadata": {},
     "output_type": "display_data"
    },
    {
     "name": "stdout",
     "output_type": "stream",
     "text": [
      "res39: Long = 9727\n"
     ]
    }
   ],
   "source": [
    "finalReviews.count()"
   ]
  },
  {
   "cell_type": "code",
   "execution_count": 42,
   "metadata": {},
   "outputs": [
    {
     "data": {
      "application/vnd.jupyter.widget-view+json": {
       "model_id": "",
       "version_major": 2,
       "version_minor": 0
      },
      "text/plain": [
       "FloatProgress(value=0.0, bar_style='info', description='Progress:', layout=Layout(height='25px', width='50%'),…"
      ]
     },
     "metadata": {},
     "output_type": "display_data"
    }
   ],
   "source": [
    "finalReviews.repartition(1).write.mode(\"overwrite\").parquet(s\"$base_path/amazon/product/reviews_expected/\")"
   ]
  },
  {
   "cell_type": "code",
   "execution_count": 43,
   "metadata": {},
   "outputs": [
    {
     "data": {
      "application/vnd.jupyter.widget-view+json": {
       "model_id": "",
       "version_major": 2,
       "version_minor": 0
      },
      "text/plain": [
       "FloatProgress(value=0.0, bar_style='info', description='Progress:', layout=Layout(height='25px', width='50%'),…"
      ]
     },
     "metadata": {},
     "output_type": "display_data"
    },
    {
     "name": "stdout",
     "output_type": "stream",
     "text": [
      "res41: Array[org.apache.spark.sql.Row] = Array([WrappedArray(Books),,This is the kind of story a grandpa would tell over and over again. I did not buy the book but I wish I had. And for only 4 on the kindle, its a steal! I cannot wait to see the movie. The best part is that this is just one story of the old mans life. And I would like to hear more! It will keep you turning pages until there are no more to turn!])\n"
     ]
    }
   ],
   "source": [
    "finalReviews.take(1)"
   ]
  },
  {
   "cell_type": "markdown",
   "metadata": {},
   "source": [
    "Now let's generate the review documents"
   ]
  },
  {
   "cell_type": "code",
   "execution_count": 44,
   "metadata": {},
   "outputs": [
    {
     "data": {
      "application/vnd.jupyter.widget-view+json": {
       "model_id": "",
       "version_major": 2,
       "version_minor": 0
      },
      "text/plain": [
       "FloatProgress(value=0.0, bar_style='info', description='Progress:', layout=Layout(height='25px', width='50%'),…"
      ]
     },
     "metadata": {},
     "output_type": "display_data"
    },
    {
     "name": "stdout",
     "output_type": "stream",
     "text": [
      "reviewDocuments: org.apache.spark.sql.Dataset[org.apache.spark.sql.Row] = [categories: array<string>, document: string]\n"
     ]
    }
   ],
   "source": [
    "val reviewDocuments = finalReviews.select($\"categories\",\n",
    "          concat(when($\"summary\".isNotNull && length($\"summary\") >= 3, concat($\"summary\", lit(\"\\n\"))).otherwise(lit(\"\")), \n",
    "                 when($\"review_text\".isNotNull && length($\"review_text\") >= 3, concat($\"review_text\", lit(\"\\n\"))).otherwise(lit(\"\"))).as(\"document\")).\n",
    "          where(length($\"document\") >= 100)"
   ]
  },
  {
   "cell_type": "code",
   "execution_count": 45,
   "metadata": {},
   "outputs": [
    {
     "data": {
      "application/vnd.jupyter.widget-view+json": {
       "model_id": "",
       "version_major": 2,
       "version_minor": 0
      },
      "text/plain": [
       "FloatProgress(value=0.0, bar_style='info', description='Progress:', layout=Layout(height='25px', width='50%'),…"
      ]
     },
     "metadata": {},
     "output_type": "display_data"
    },
    {
     "name": "stdout",
     "output_type": "stream",
     "text": [
      "+----------+--------------------+\n",
      "|categories|            document|\n",
      "+----------+--------------------+\n",
      "|   [Books]|This is the kind ...|\n",
      "|   [Books]|So good, but such...|\n",
      "|   [Books]|My husband cant p...|\n",
      "|   [Books]|If you have alrea...|\n",
      "|   [Books]|... Horrible.  Ju...|\n",
      "|   [Books]|... I cant even\n",
      "I...|\n",
      "|   [Books]|... now everyone ...|\n",
      "|   [Books]|...and all I see ...|\n",
      "|   [Books]|...when a man smi...|\n",
      "|   [Books]|1 star for the st...|\n",
      "+----------+--------------------+\n",
      "only showing top 10 rows\n",
      "\n"
     ]
    }
   ],
   "source": [
    "reviewDocuments.show(10)"
   ]
  },
  {
   "cell_type": "markdown",
   "metadata": {},
   "source": [
    "And make a union between the product documents and the reviews documents"
   ]
  },
  {
   "cell_type": "code",
   "execution_count": 46,
   "metadata": {},
   "outputs": [
    {
     "data": {
      "application/vnd.jupyter.widget-view+json": {
       "model_id": "",
       "version_major": 2,
       "version_minor": 0
      },
      "text/plain": [
       "FloatProgress(value=0.0, bar_style='info', description='Progress:', layout=Layout(height='25px', width='50%'),…"
      ]
     },
     "metadata": {},
     "output_type": "display_data"
    },
    {
     "name": "stdout",
     "output_type": "stream",
     "text": [
      "res43: Long = 9727\n"
     ]
    }
   ],
   "source": [
    "finalReviews.count()"
   ]
  },
  {
   "cell_type": "code",
   "execution_count": 47,
   "metadata": {},
   "outputs": [
    {
     "data": {
      "application/vnd.jupyter.widget-view+json": {
       "model_id": "",
       "version_major": 2,
       "version_minor": 0
      },
      "text/plain": [
       "FloatProgress(value=0.0, bar_style='info', description='Progress:', layout=Layout(height='25px', width='50%'),…"
      ]
     },
     "metadata": {},
     "output_type": "display_data"
    },
    {
     "name": "stdout",
     "output_type": "stream",
     "text": [
      "res44: Long = 9715\n"
     ]
    }
   ],
   "source": [
    "reviewDocuments.count()"
   ]
  },
  {
   "cell_type": "code",
   "execution_count": 48,
   "metadata": {},
   "outputs": [
    {
     "data": {
      "application/vnd.jupyter.widget-view+json": {
       "model_id": "",
       "version_major": 2,
       "version_minor": 0
      },
      "text/plain": [
       "FloatProgress(value=0.0, bar_style='info', description='Progress:', layout=Layout(height='25px', width='50%'),…"
      ]
     },
     "metadata": {},
     "output_type": "display_data"
    },
    {
     "name": "stdout",
     "output_type": "stream",
     "text": [
      "fullDocuments: org.apache.spark.sql.Dataset[org.apache.spark.sql.Row] = [categories: array<string>, document: string]\n",
      "+----------+--------------------+\n",
      "|categories|            document|\n",
      "+----------+--------------------+\n",
      "|   [Books]|Lifes Little Insp...|\n",
      "|   [Books]|The Pale Abyssini...|\n",
      "|   [Books]|Lady of Hay\n",
      "Erski...|\n",
      "|   [Books]|Zigby Hunts for T...|\n",
      "|   [Books]|Falklands Command...|\n",
      "|   [Books]|You Can Paint Flo...|\n",
      "|   [Books]|Boneland\n",
      "From Har...|\n",
      "|   [Books]|The Ten Principal...|\n",
      "|   [Books]|Monetary Economic...|\n",
      "|   [Books]|50 Great Business...|\n",
      "+----------+--------------------+\n",
      "only showing top 10 rows\n",
      "\n"
     ]
    }
   ],
   "source": [
    "val fullDocuments = metadataDocuments.union(reviewDocuments)\n",
    "fullDocuments.show(10)"
   ]
  },
  {
   "cell_type": "code",
   "execution_count": 49,
   "metadata": {},
   "outputs": [
    {
     "data": {
      "application/vnd.jupyter.widget-view+json": {
       "model_id": "",
       "version_major": 2,
       "version_minor": 0
      },
      "text/plain": [
       "FloatProgress(value=0.0, bar_style='info', description='Progress:', layout=Layout(height='25px', width='50%'),…"
      ]
     },
     "metadata": {},
     "output_type": "display_data"
    },
    {
     "name": "stdout",
     "output_type": "stream",
     "text": [
      "res46: Long = 9715\n"
     ]
    }
   ],
   "source": [
    "reviewDocuments.count()"
   ]
  },
  {
   "cell_type": "code",
   "execution_count": 50,
   "metadata": {},
   "outputs": [
    {
     "data": {
      "application/vnd.jupyter.widget-view+json": {
       "model_id": "",
       "version_major": 2,
       "version_minor": 0
      },
      "text/plain": [
       "FloatProgress(value=0.0, bar_style='info', description='Progress:', layout=Layout(height='25px', width='50%'),…"
      ]
     },
     "metadata": {},
     "output_type": "display_data"
    },
    {
     "name": "stdout",
     "output_type": "stream",
     "text": [
      "res47: Long = 3289\n"
     ]
    }
   ],
   "source": [
    "metadataDocuments.count()"
   ]
  },
  {
   "cell_type": "code",
   "execution_count": 51,
   "metadata": {},
   "outputs": [
    {
     "data": {
      "application/vnd.jupyter.widget-view+json": {
       "model_id": "",
       "version_major": 2,
       "version_minor": 0
      },
      "text/plain": [
       "FloatProgress(value=0.0, bar_style='info', description='Progress:', layout=Layout(height='25px', width='50%'),…"
      ]
     },
     "metadata": {},
     "output_type": "display_data"
    },
    {
     "name": "stdout",
     "output_type": "stream",
     "text": [
      "res48: Long = 13004\n"
     ]
    }
   ],
   "source": [
    "fullDocuments.count()"
   ]
  },
  {
   "cell_type": "markdown",
   "metadata": {},
   "source": [
    "Finally persist this data frame in both, the category as array form and as a comma separated string form"
   ]
  },
  {
   "cell_type": "code",
   "execution_count": 52,
   "metadata": {},
   "outputs": [
    {
     "data": {
      "application/vnd.jupyter.widget-view+json": {
       "model_id": "",
       "version_major": 2,
       "version_minor": 0
      },
      "text/plain": [
       "FloatProgress(value=0.0, bar_style='info', description='Progress:', layout=Layout(height='25px', width='50%'),…"
      ]
     },
     "metadata": {},
     "output_type": "display_data"
    }
   ],
   "source": [
    "fullDocuments.repartition(1).write.mode(\"overwrite\").parquet(s\"$base_path/amazon/product/full_documents/\")"
   ]
  },
  {
   "cell_type": "code",
   "execution_count": 53,
   "metadata": {},
   "outputs": [
    {
     "data": {
      "application/vnd.jupyter.widget-view+json": {
       "model_id": "",
       "version_major": 2,
       "version_minor": 0
      },
      "text/plain": [
       "FloatProgress(value=0.0, bar_style='info', description='Progress:', layout=Layout(height='25px', width='50%'),…"
      ]
     },
     "metadata": {},
     "output_type": "display_data"
    }
   ],
   "source": [
    "fullDocuments.select(array_join($\"categories\", \";\").as(\"categories\"), $\"document\").\n",
    "    repartition(1).write.mode(\"overwrite\").parquet(s\"$base_path/amazon/product/full_documents_str_cat/\")"
   ]
  },
  {
   "cell_type": "code",
   "execution_count": 24,
   "metadata": {},
   "outputs": [
    {
     "data": {
      "application/vnd.jupyter.widget-view+json": {
       "model_id": "",
       "version_major": 2,
       "version_minor": 0
      },
      "text/plain": [
       "FloatProgress(value=0.0, bar_style='info', description='Progress:', layout=Layout(height='25px', width='50%'),…"
      ]
     },
     "metadata": {},
     "output_type": "display_data"
    }
   ],
   "source": [
    "finalMetadata.createOrReplaceTempView(\"product_metadata\")\n",
    "reviews_df.createOrReplaceTempView(\"product_reviews\")"
   ]
  },
  {
   "cell_type": "code",
   "execution_count": 28,
   "metadata": {},
   "outputs": [
    {
     "data": {
      "application/vnd.jupyter.widget-view+json": {
       "model_id": "",
       "version_major": 2,
       "version_minor": 0
      },
      "text/plain": [
       "FloatProgress(value=0.0, bar_style='info', description='Progress:', layout=Layout(height='25px', width='50%'),…"
      ]
     },
     "metadata": {},
     "output_type": "display_data"
    },
    {
     "data": {
      "application/vnd.jupyter.widget-view+json": {
       "model_id": "47c833d813e54d00b7fb5358af98f896",
       "version_major": 2,
       "version_minor": 0
      },
      "text/plain": [
       "VBox(children=(HBox(children=(HTML(value='Type:'), Button(description='Table', layout=Layout(width='70px'), st…"
      ]
     },
     "metadata": {},
     "output_type": "display_data"
    },
    {
     "data": {
      "application/vnd.jupyter.widget-view+json": {
       "model_id": "2044d97cd6354b7aaa95a199d78a6671",
       "version_major": 2,
       "version_minor": 0
      },
      "text/plain": [
       "Output()"
      ]
     },
     "metadata": {},
     "output_type": "display_data"
    }
   ],
   "source": [
    "%%sql\n",
    "select pm.asin, explode(pm.categories) as categories, pm.title, pm.description, pr.summary, pr.reviewText as review_text\n",
    "from product_metadata pm inner join product_reviews pr on pr.asin = pm.asin\n",
    "where pr.reviewText is not null and length(pr.reviewText) > 100\n",
    "order by pm.title\n",
    "limit 10"
   ]
  },
  {
   "cell_type": "code",
   "execution_count": 31,
   "metadata": {},
   "outputs": [
    {
     "data": {
      "application/vnd.jupyter.widget-view+json": {
       "model_id": "",
       "version_major": 2,
       "version_minor": 0
      },
      "text/plain": [
       "FloatProgress(value=0.0, bar_style='info', description='Progress:', layout=Layout(height='25px', width='50%'),…"
      ]
     },
     "metadata": {},
     "output_type": "display_data"
    },
    {
     "data": {
      "application/vnd.jupyter.widget-view+json": {
       "model_id": "88a0865dd41d4d03a3f777163a4104cd",
       "version_major": 2,
       "version_minor": 0
      },
      "text/plain": [
       "VBox(children=(HBox(children=(HTML(value='Type:'), Button(description='Table', layout=Layout(width='70px'), st…"
      ]
     },
     "metadata": {},
     "output_type": "display_data"
    },
    {
     "data": {
      "application/vnd.jupyter.widget-view+json": {
       "model_id": "8f983d518bf442249ea8db21fbf0a972",
       "version_major": 2,
       "version_minor": 0
      },
      "text/plain": [
       "Output()"
      ]
     },
     "metadata": {},
     "output_type": "display_data"
    }
   ],
   "source": [
    "%%sql\n",
    "select pm.categories, count(pr.summary)\n",
    "from product_metadata pm inner join product_reviews pr on pr.asin = pm.asin\n",
    "group by pm.categories"
   ]
  },
  {
   "cell_type": "markdown",
   "metadata": {},
   "source": [
    "We have severely imbalanced products by category, since our purpose is the extract features per category, we need to better sample the items from each category"
   ]
  },
  {
   "cell_type": "code",
   "execution_count": 60,
   "metadata": {},
   "outputs": [
    {
     "data": {
      "application/vnd.jupyter.widget-view+json": {
       "model_id": "",
       "version_major": 2,
       "version_minor": 0
      },
      "text/plain": [
       "FloatProgress(value=0.0, bar_style='info', description='Progress:', layout=Layout(height='25px', width='50%'),…"
      ]
     },
     "metadata": {},
     "output_type": "display_data"
    },
    {
     "name": "stdout",
     "output_type": "stream",
     "text": [
      "testReviews: org.apache.spark.sql.DataFrame = [categories: array<string>, title: string ... 3 more fields]\n",
      "root\n",
      " |-- categories: array (nullable = true)\n",
      " |    |-- element: string (containsNull = true)\n",
      " |-- title: string (nullable = true)\n",
      " |-- description: string (nullable = true)\n",
      " |-- summary: string (nullable = true)\n",
      " |-- review_text: string (nullable = true)\n",
      "\n"
     ]
    }
   ],
   "source": [
    "val testReviews = spark.read.parquet(s\"$base_path/amazon/product/reviews_expected/\")\n",
    "testReviews.printSchema()"
   ]
  },
  {
   "cell_type": "code",
   "execution_count": 63,
   "metadata": {},
   "outputs": [
    {
     "data": {
      "application/vnd.jupyter.widget-view+json": {
       "model_id": "",
       "version_major": 2,
       "version_minor": 0
      },
      "text/plain": [
       "FloatProgress(value=0.0, bar_style='info', description='Progress:', layout=Layout(height='25px', width='50%'),…"
      ]
     },
     "metadata": {},
     "output_type": "display_data"
    },
    {
     "name": "stdout",
     "output_type": "stream",
     "text": [
      "res64: org.apache.spark.sql.Row = [WrappedArray(Books),Water For Elephants,null,Fantastic read!,Jacob Jankowski is just about through with veterinary school when fate switches things up a bit and turns his world upside down.  He decides to hop a train and ends up in the middle of the Benzini Brothers Most Spectacular Show on Earth.  The Great Depression was just in its early stages so for Jacob having a paying job was lucky but he also found parts of the circus life to be a living hell.  As he was just shy of his degree, Jacob ends up being put in charge of the menagerie, the starring animals of the show.He then meets Marlena, the beautiful equestrian act star who happens to be married to August, the twisted and manipulative animal trainer for the show.Uncle Al, the big boss of the Benz..."
     ]
    }
   ],
   "source": [
    "finalReviews.collect()(9200)"
   ]
  },
  {
   "cell_type": "code",
   "execution_count": 67,
   "metadata": {},
   "outputs": [
    {
     "data": {
      "application/vnd.jupyter.widget-view+json": {
       "model_id": "",
       "version_major": 2,
       "version_minor": 0
      },
      "text/plain": [
       "FloatProgress(value=0.0, bar_style='info', description='Progress:', layout=Layout(height='25px', width='50%'),…"
      ]
     },
     "metadata": {},
     "output_type": "display_data"
    },
    {
     "name": "stdout",
     "output_type": "stream",
     "text": [
      "pm: org.apache.spark.sql.DataFrame = [asin: string, title: string ... 2 more fields]\n",
      "rv: org.apache.spark.sql.Dataset[org.apache.spark.sql.Row] = [asin: string, categories: array<string> ... 4 more fields]\n"
     ]
    }
   ],
   "source": [
    "val pm = spark.read.parquet(s\"$base_path/amazon/product/metadata_expected/\")\n",
    "val rv = reviews_df.select($\"asin\", $\"summary\", $\"reviewText\".as(\"review_text\")).\n",
    "    join(pm, \"asin\").\n",
    "    select($\"asin\",\n",
    "        $\"categories\", \n",
    "           $\"title\", \n",
    "           $\"description\", \n",
    "           trim(regexp_replace($\"summary\", \"&.+;|'+|[@#$%^&*<>_-]\", \"\")).as(\"summary\"), \n",
    "           trim(regexp_replace($\"review_text\", \"&.+;|'+|[@#$%^&*<>_-]\", \"\")).as(\"review_text\")).\n",
    "    orderBy($\"title\")"
   ]
  },
  {
   "cell_type": "code",
   "execution_count": 68,
   "metadata": {},
   "outputs": [
    {
     "data": {
      "application/vnd.jupyter.widget-view+json": {
       "model_id": "",
       "version_major": 2,
       "version_minor": 0
      },
      "text/plain": [
       "FloatProgress(value=0.0, bar_style='info', description='Progress:', layout=Layout(height='25px', width='50%'),…"
      ]
     },
     "metadata": {},
     "output_type": "display_data"
    },
    {
     "name": "stdout",
     "output_type": "stream",
     "text": [
      "+----------+----------+--------------------+--------------------+--------------------+--------------------+\n",
      "|      asin|categories|               title|         description|             summary|         review_text|\n",
      "+----------+----------+--------------------+--------------------+--------------------+--------------------+\n",
      "|0030188717|   [Books]|                null|                null|What Journalism r...|I was a student o...|\n",
      "|0030188717|   [Books]|                null|                null|Interesting book ...|I bought this on ...|\n",
      "|0028603540|   [Books]|1,000 Lowfat Reci...|With1000 Lowfat R...|The best cookbook...|I was never much ...|\n",
      "|0028603540|   [Books]|1,000 Lowfat Reci...|With1000 Lowfat R...|Rely on this cook...|I took a cooking ...|\n",
      "|0025429655|   [Books]|1,000 Vegetarian ...|1,000 Vegetarian ...| always a bestseller|This book is one ...|\n",
      "|0025429655|   [Books]|1,000 Vegetarian ...|1,000 Vegetarian ...|   Our everyday goto|In our house, we ...|\n",
      "|0025429655|   [Books]|1,000 Vegetarian ...|1,000 Vegetarian ...|Very different re...|I am pleasantly s...|\n",
      "|0025429655|   [Books]|1,000 Vegetarian ...|1,000 Vegetarian ...|The best cookbook...|I have used this ...|\n",
      "|0028639677|   [Books]|10 Minute Guide t...|                null|   A helpful tool...|As part of my job...|\n",
      "|002861044X|   [Books]|100 Colleges Wher...|                null|             Not bad|Considering the a...|\n",
      "+----------+----------+--------------------+--------------------+--------------------+--------------------+\n",
      "only showing top 10 rows\n",
      "\n"
     ]
    }
   ],
   "source": [
    "rv.show(10)"
   ]
  },
  {
   "cell_type": "code",
   "execution_count": 74,
   "metadata": {},
   "outputs": [
    {
     "data": {
      "application/vnd.jupyter.widget-view+json": {
       "model_id": "",
       "version_major": 2,
       "version_minor": 0
      },
      "text/plain": [
       "FloatProgress(value=0.0, bar_style='info', description='Progress:', layout=Layout(height='25px', width='50%'),…"
      ]
     },
     "metadata": {},
     "output_type": "display_data"
    },
    {
     "name": "stdout",
     "output_type": "stream",
     "text": [
      "+----------+----------+--------------------+--------------------+--------------------+--------------------+\n",
      "|      asin|categories|               title|         description|             summary|         review_text|\n",
      "+----------+----------+--------------------+--------------------+--------------------+--------------------+\n",
      "|0030188717|   [Books]|                null|                null|What Journalism r...|I was a student o...|\n",
      "|0030188717|   [Books]|                null|                null|Interesting book ...|I bought this on ...|\n",
      "|0028603540|   [Books]|1,000 Lowfat Reci...|With1000 Lowfat R...|Rely on this cook...|I took a cooking ...|\n",
      "|0028603540|   [Books]|1,000 Lowfat Reci...|With1000 Lowfat R...|The best cookbook...|I was never much ...|\n",
      "+----------+----------+--------------------+--------------------+--------------------+--------------------+\n",
      "\n"
     ]
    }
   ],
   "source": [
    "rv.where($\"title\".isNotNull || ($\"asin\" === \"0028603540\")).show(10)"
   ]
  },
  {
   "cell_type": "markdown",
   "metadata": {},
   "source": [
    "## Exploring the final result"
   ]
  },
  {
   "cell_type": "code",
   "execution_count": 3,
   "metadata": {},
   "outputs": [
    {
     "data": {
      "application/vnd.jupyter.widget-view+json": {
       "model_id": "",
       "version_major": 2,
       "version_minor": 0
      },
      "text/plain": [
       "FloatProgress(value=0.0, bar_style='info', description='Progress:', layout=Layout(height='25px', width='50%'),…"
      ]
     },
     "metadata": {},
     "output_type": "display_data"
    },
    {
     "name": "stdout",
     "output_type": "stream",
     "text": [
      "training_documents: org.apache.spark.sql.DataFrame = [categories: string, document: string]\n",
      "res2: Long = 8914930\n"
     ]
    }
   ],
   "source": [
    "val training_documents = spark.read.parquet(\"/media/ohtar10/Adder-Storage/datasets/amazon/rev_prod_documents/10m\")\n",
    "training_documents.count()"
   ]
  },
  {
   "cell_type": "code",
   "execution_count": 4,
   "metadata": {},
   "outputs": [
    {
     "data": {
      "application/vnd.jupyter.widget-view+json": {
       "model_id": "",
       "version_major": 2,
       "version_minor": 0
      },
      "text/plain": [
       "FloatProgress(value=0.0, bar_style='info', description='Progress:', layout=Layout(height='25px', width='50%'),…"
      ]
     },
     "metadata": {},
     "output_type": "display_data"
    },
    {
     "name": "stdout",
     "output_type": "stream",
     "text": [
      "+--------------------+--------------------+\n",
      "|          categories|            document|\n",
      "+--------------------+--------------------+\n",
      "|Technology, Elect...|64 Gb USB 2.0 Mem...|\n",
      "|         Books;Music|Ace Collins is th...|\n",
      "|               Books|Great Houses of N...|\n",
      "|               Books|The Book of Impor...|\n",
      "|               Books|Eiriksdottir: A T...|\n",
      "|Clothing, Shoes &...|Texas Longhorns U...|\n",
      "|Technology, Elect...|South Carolina 15...|\n",
      "|Health & Personal...|NEW AVON ~ Anew R...|\n",
      "|        Toys & Games|Laser Pegs AC Pow...|\n",
      "|Technology, Elect...|BMW iPHONE 5 5S 5...|\n",
      "+--------------------+--------------------+\n",
      "only showing top 10 rows\n",
      "\n"
     ]
    }
   ],
   "source": [
    "training_documents.show(10)"
   ]
  },
  {
   "cell_type": "code",
   "execution_count": 7,
   "metadata": {},
   "outputs": [
    {
     "data": {
      "application/vnd.jupyter.widget-view+json": {
       "model_id": "",
       "version_major": 2,
       "version_minor": 0
      },
      "text/plain": [
       "FloatProgress(value=0.0, bar_style='info', description='Progress:', layout=Layout(height='25px', width='50%'),…"
      ]
     },
     "metadata": {},
     "output_type": "display_data"
    }
   ],
   "source": [
    "training_documents.select(split($\"categories\", \";\").as(\"categories\")).\n",
    "select(explode($\"categories\").as(\"categories\"), lit(1).as(\"document\")).\n",
    "createOrReplaceTempView(\"training_reviews\")"
   ]
  },
  {
   "cell_type": "code",
   "execution_count": 8,
   "metadata": {},
   "outputs": [
    {
     "data": {
      "application/vnd.jupyter.widget-view+json": {
       "model_id": "",
       "version_major": 2,
       "version_minor": 0
      },
      "text/plain": [
       "FloatProgress(value=0.0, bar_style='info', description='Progress:', layout=Layout(height='25px', width='50%'),…"
      ]
     },
     "metadata": {},
     "output_type": "display_data"
    },
    {
     "data": {
      "application/vnd.jupyter.widget-view+json": {
       "model_id": "f12a8057b509483ab0ce5b54057a53ac",
       "version_major": 2,
       "version_minor": 0
      },
      "text/plain": [
       "VBox(children=(HBox(children=(HTML(value='Type:'), Button(description='Table', layout=Layout(width='70px'), st…"
      ]
     },
     "metadata": {},
     "output_type": "display_data"
    },
    {
     "data": {
      "application/vnd.jupyter.widget-view+json": {
       "model_id": "d5c530f1ff8b4768b0e4ccf023807647",
       "version_major": 2,
       "version_minor": 0
      },
      "text/plain": [
       "Output()"
      ]
     },
     "metadata": {},
     "output_type": "display_data"
    }
   ],
   "source": [
    "%%sql -o cat_count\n",
    "select categories, count(*) as reviews\n",
    "from training_reviews\n",
    "group by categories"
   ]
  },
  {
   "cell_type": "code",
   "execution_count": 9,
   "metadata": {},
   "outputs": [
    {
     "data": {
      "image/png": "[encoded data removed]",
      "text/plain": [
       "<Figure size 864x576 with 1 Axes>"
      ]
     },
     "metadata": {
      "needs_background": "light"
     },
     "output_type": "display_data"
    }
   ],
   "source": [
    "%%local\n",
    "%matplotlib inline\n",
    "import matplotlib.pyplot as plt\n",
    "\n",
    "categories = cat_count.categories.values\n",
    "counts = cat_count.reviews.values\n",
    "\n",
    "plt.figure(figsize=(12, 8))\n",
    "plt.bar(categories, counts)\n",
    "plt.xticks(categories, rotation=90)\n",
    "plt.ylabel(\"# of reviews\")\n",
    "plt.show()"
   ]
  },
  {
   "cell_type": "code",
   "execution_count": null,
   "metadata": {},
   "outputs": [],
   "source": []
  }
 ],
 "metadata": {
  "kernelspec": {
   "display_name": "Spark",
   "language": "",
   "name": "sparkkernel"
  },
  "language_info": {
   "codemirror_mode": "text/x-scala",
   "mimetype": "text/x-scala",
   "name": "scala",
   "pygments_lexer": "scala"
  }
 },
 "nbformat": 4,
 "nbformat_minor": 4
}
