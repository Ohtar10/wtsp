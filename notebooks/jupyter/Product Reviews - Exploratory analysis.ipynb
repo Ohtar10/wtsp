{
 "cells": [
  {
   "cell_type": "markdown",
   "metadata": {},
   "source": [
    "# Amazon Product reviews playground\n",
    "This note contains my playground for amazon products using Apache Livy to communicate with Spark"
   ]
  },
  {
   "cell_type": "code",
   "execution_count": 1,
   "metadata": {},
   "outputs": [
    {
     "name": "stdout",
     "output_type": "stream",
     "text": [
      "Starting Spark application\n"
     ]
    },
    {
     "data": {
      "text/html": [
       "<table>\n",
       "<tr><th>ID</th><th>YARN Application ID</th><th>Kind</th><th>State</th><th>Spark UI</th><th>Driver log</th><th>Current session?</th></tr><tr><td>4</td><td>None</td><td>spark</td><td>idle</td><td></td><td></td><td>✔</td></tr></table>"
      ],
      "text/plain": [
       "<IPython.core.display.HTML object>"
      ]
     },
     "metadata": {},
     "output_type": "display_data"
    },
    {
     "data": {
      "application/vnd.jupyter.widget-view+json": {
       "model_id": "",
       "version_major": 2,
       "version_minor": 0
      },
      "text/plain": [
       "FloatProgress(value=0.0, bar_style='info', description='Progress:', layout=Layout(height='25px', width='50%'),…"
      ]
     },
     "metadata": {},
     "output_type": "display_data"
    },
    {
     "name": "stdout",
     "output_type": "stream",
     "text": [
      "SparkSession available as 'spark'.\n"
     ]
    },
    {
     "data": {
      "application/vnd.jupyter.widget-view+json": {
       "model_id": "",
       "version_major": 2,
       "version_minor": 0
      },
      "text/plain": [
       "FloatProgress(value=0.0, bar_style='info', description='Progress:', layout=Layout(height='25px', width='50%'),…"
      ]
     },
     "metadata": {},
     "output_type": "display_data"
    },
    {
     "name": "stdout",
     "output_type": "stream",
     "text": [
      "res1: String = 2.4.4\n"
     ]
    }
   ],
   "source": [
    "spark.version"
   ]
  },
  {
   "cell_type": "code",
   "execution_count": 2,
   "metadata": {},
   "outputs": [
    {
     "data": {
      "application/vnd.jupyter.widget-view+json": {
       "model_id": "",
       "version_major": 2,
       "version_minor": 0
      },
      "text/plain": [
       "FloatProgress(value=0.0, bar_style='info', description='Progress:', layout=Layout(height='25px', width='50%'),…"
      ]
     },
     "metadata": {},
     "output_type": "display_data"
    },
    {
     "name": "stdout",
     "output_type": "stream",
     "text": [
      "base_path: String = /Users/lferrod/datasets\n"
     ]
    }
   ],
   "source": [
    "val base_path = \"/Users/lferrod/datasets\""
   ]
  },
  {
   "cell_type": "code",
   "execution_count": 3,
   "metadata": {},
   "outputs": [
    {
     "data": {
      "application/vnd.jupyter.widget-view+json": {
       "model_id": "",
       "version_major": 2,
       "version_minor": 0
      },
      "text/plain": [
       "FloatProgress(value=0.0, bar_style='info', description='Progress:', layout=Layout(height='25px', width='50%'),…"
      ]
     },
     "metadata": {},
     "output_type": "display_data"
    },
    {
     "name": "stdout",
     "output_type": "stream",
     "text": [
      "metadata_path: String = /Users/lferrod/datasets/amazon/product_reviews/metadata.json.gz\n",
      "reviews_path: String = /Users/lferrod/datasets/amazon/product_reviews/aggressive_dedup.json.gz\n"
     ]
    }
   ],
   "source": [
    "val metadata_path = base_path + \"/amazon/product_reviews/metadata.json.gz\"\n",
    "val reviews_path = base_path + \"/amazon/product_reviews/aggressive_dedup.json.gz\""
   ]
  },
  {
   "cell_type": "code",
   "execution_count": 4,
   "metadata": {},
   "outputs": [
    {
     "data": {
      "application/vnd.jupyter.widget-view+json": {
       "model_id": "",
       "version_major": 2,
       "version_minor": 0
      },
      "text/plain": [
       "FloatProgress(value=0.0, bar_style='info', description='Progress:', layout=Layout(height='25px', width='50%'),…"
      ]
     },
     "metadata": {},
     "output_type": "display_data"
    },
    {
     "name": "stdout",
     "output_type": "stream",
     "text": [
      "metadata_df: org.apache.spark.sql.DataFrame = [_corrupt_record: string, asin: string ... 8 more fields]\n"
     ]
    }
   ],
   "source": [
    "val metadata_df = spark.read.json(metadata_path)\n",
    "metadata_df.createOrReplaceTempView(\"product_metadata\")"
   ]
  },
  {
   "cell_type": "code",
   "execution_count": 5,
   "metadata": {},
   "outputs": [
    {
     "data": {
      "application/vnd.jupyter.widget-view+json": {
       "model_id": "",
       "version_major": 2,
       "version_minor": 0
      },
      "text/plain": [
       "FloatProgress(value=0.0, bar_style='info', description='Progress:', layout=Layout(height='25px', width='50%'),…"
      ]
     },
     "metadata": {},
     "output_type": "display_data"
    },
    {
     "name": "stderr",
     "output_type": "stream",
     "text": [
      "/Users/lferrod/miniconda3/envs/wtsp/lib/python3.6/site-packages/autovizwidget/widget/utils.py:50: FutureWarning:\n",
      "\n",
      "A future version of pandas will default to `skipna=True`. To silence this warning, pass `skipna=True|False` explicitly.\n",
      "\n"
     ]
    },
    {
     "data": {
      "application/vnd.jupyter.widget-view+json": {
       "model_id": "d53944da43eb49bbb9762e49d993ef2b",
       "version_major": 2,
       "version_minor": 0
      },
      "text/plain": [
       "VBox(children=(HBox(children=(HTML(value='Type:'), Button(description='Table', layout=Layout(width='70px'), st…"
      ]
     },
     "metadata": {},
     "output_type": "display_data"
    },
    {
     "data": {
      "application/vnd.jupyter.widget-view+json": {
       "model_id": "8e2585d9e42f4815bde18b63b8305554",
       "version_major": 2,
       "version_minor": 0
      },
      "text/plain": [
       "Output()"
      ]
     },
     "metadata": {},
     "output_type": "display_data"
    }
   ],
   "source": [
    "%%sql\n",
    "select * from product_metadata limit 20"
   ]
  },
  {
   "cell_type": "markdown",
   "metadata": {},
   "source": [
    "We can observe the categories are encoded as array of arrays, and that a product might belong to more than one category. Let's first get rid of the first dimension of the category array and explore the different categories in case we want to get rid of redundant ones."
   ]
  },
  {
   "cell_type": "code",
   "execution_count": 6,
   "metadata": {},
   "outputs": [
    {
     "data": {
      "application/vnd.jupyter.widget-view+json": {
       "model_id": "",
       "version_major": 2,
       "version_minor": 0
      },
      "text/plain": [
       "FloatProgress(value=0.0, bar_style='info', description='Progress:', layout=Layout(height='25px', width='50%'),…"
      ]
     },
     "metadata": {},
     "output_type": "display_data"
    },
    {
     "name": "stdout",
     "output_type": "stream",
     "text": [
      "import spark.implicits._\n",
      "import org.apache.spark.sql.functions._\n"
     ]
    }
   ],
   "source": [
    "import spark.implicits._\n",
    "import org.apache.spark.sql.functions._\n",
    "\n",
    "//We need to double explode the records to get the categories separated.\n",
    "metadata_df.select($\"asin\", \n",
    "                   explode($\"categories\").as(\"categories\"),\n",
    "                   $\"title\",\n",
    "                   $\"description\").\n",
    "    select($\"asin\", \n",
    "           explode($\"categories\").as(\"category\"), \n",
    "           $\"description\", $\"title\").createOrReplaceTempView(\"product_metadata\")"
   ]
  },
  {
   "cell_type": "markdown",
   "metadata": {},
   "source": [
    "There are more than 2500 categoroes! this can become highly inpractical for experimentation. We need to reduce the amount of categories so we can operate them easier. We might want to discard those with less than $n$ products associated with them, and possibly merge some of them.\n",
    "\n",
    "Let's start by working with the top 100 categories in terms of amount of products. We need to manually inspect them and discard or merge them with others for simplicity.\n",
    "\n",
    "We are interested in major categories not specific ones for now. That is, for instance \"Books\" instead of a particular literature genere, the same for movies and TV."
   ]
  },
  {
   "cell_type": "code",
   "execution_count": 7,
   "metadata": {},
   "outputs": [
    {
     "data": {
      "application/vnd.jupyter.widget-view+json": {
       "model_id": "",
       "version_major": 2,
       "version_minor": 0
      },
      "text/plain": [
       "FloatProgress(value=0.0, bar_style='info', description='Progress:', layout=Layout(height='25px', width='50%'),…"
      ]
     },
     "metadata": {},
     "output_type": "display_data"
    },
    {
     "data": {
      "application/vnd.jupyter.widget-view+json": {
       "model_id": "dad42228d5464f5a9b099ca1c59d6632",
       "version_major": 2,
       "version_minor": 0
      },
      "text/plain": [
       "VBox(children=(HBox(children=(HTML(value='Type:'), Button(description='Table', layout=Layout(width='70px'), st…"
      ]
     },
     "metadata": {},
     "output_type": "display_data"
    },
    {
     "data": {
      "application/vnd.jupyter.widget-view+json": {
       "model_id": "65f3725825464718af2909af34de3d2f",
       "version_major": 2,
       "version_minor": 0
      },
      "text/plain": [
       "Output()"
      ]
     },
     "metadata": {},
     "output_type": "display_data"
    }
   ],
   "source": [
    "%%sql\n",
    "select category, count(asin) as products\n",
    "from product_metadata\n",
    "group by category\n",
    "having count(asin) > 10000\n",
    "order by products desc\n",
    "limit 60"
   ]
  },
  {
   "cell_type": "markdown",
   "metadata": {},
   "source": [
    "We can observe a good amount of products for these categories. We can also observe that categories such as 'Movies' and 'Movies & TV' can be merged togheter since they talk about similar things.\n",
    "\n",
    "Another important aspect is that some categories seem to be related with a particular genere of something, this is the case of \"classical\" for example, it could be movies, music or books, a second category might be needed to differentiate it. For now, we'll stick with parent or root categories that has the capability of aggregate something."
   ]
  },
  {
   "cell_type": "code",
   "execution_count": 8,
   "metadata": {},
   "outputs": [
    {
     "data": {
      "application/vnd.jupyter.widget-view+json": {
       "model_id": "",
       "version_major": 2,
       "version_minor": 0
      },
      "text/plain": [
       "FloatProgress(value=0.0, bar_style='info', description='Progress:', layout=Layout(height='25px', width='50%'),…"
      ]
     },
     "metadata": {},
     "output_type": "display_data"
    },
    {
     "data": {
      "application/vnd.jupyter.widget-view+json": {
       "model_id": "27ae5f207021401d8d049872452c4423",
       "version_major": 2,
       "version_minor": 0
      },
      "text/plain": [
       "VBox(children=(HBox(children=(HTML(value='Type:'), Button(description='Table', layout=Layout(width='70px'), st…"
      ]
     },
     "metadata": {},
     "output_type": "display_data"
    },
    {
     "data": {
      "application/vnd.jupyter.widget-view+json": {
       "model_id": "19a03f4355b849868af5d10b164b17a8",
       "version_major": 2,
       "version_minor": 0
      },
      "text/plain": [
       "Output()"
      ]
     },
     "metadata": {},
     "output_type": "display_data"
    }
   ],
   "source": [
    "%%sql\n",
    "select category, count(asin) as products\n",
    "from (\n",
    "    select asin, case \n",
    "    when category in (\"Movies\", \n",
    "                      \"Movies & TV\") then \"Movies & TV\"\n",
    "    when category in (\"Clothing, Shoes & Jewelry\", \n",
    "                      \"Clothing\", \"T-Shirts\", \"Shirts\", \n",
    "                      \"Jewelry\", \n",
    "                      \"Dresses\", \n",
    "                      \"Boots\", \n",
    "                      \"Shoes\", \n",
    "                      \"Jewelry: International Shipping Available\", \n",
    "                      \"Shoes & Accessories: International Shipping Available\", \n",
    "                      \"Fashion\") then \"Clothing, Shoes & Jewelry\"\n",
    "    when category in (\"Music\", \n",
    "                      \"Digital Music\", \n",
    "                      \"CDs & Vinyl\",\n",
    "                      \"Pop\",\n",
    "                      \"Jazz\",\n",
    "                      \"Alternative Rock\",\n",
    "                      \"Rock\", \n",
    "                      \"World Music\") then \"Music\"\n",
    "    when category in (\"Electronics\", \n",
    "                      \"Cell Phones & Accessories\", \n",
    "                      \"Computers & Accessories\", \n",
    "                      \"Camera & Photo\") then \"Technology, Electronics & Accessories\"\n",
    "    when category in (\"Books\", \n",
    "                      \"Kindle eBooks\", \n",
    "                      \"Kindle Store\", \n",
    "                      \"Literature & Fiction\", \n",
    "                      \"Kindle Short Reads\",\n",
    "                      \"Christian Books & Bibles\") then \"Books\"\n",
    "    when category in (\"Games\", \n",
    "                      \"Toys & Games\") then \"Toys & Games\"\n",
    "    when category in (\"Home & Kitchen\", \n",
    "                      \"Kitchen & Dining\") then \"Home & Kitchen\"\n",
    "    when category in (\"Office & School Supplies\", \n",
    "                      \"Office Products\") then \"Office & School Supplies\"\n",
    "    when category in (\"Hair Care\", \n",
    "                      \"Skin Care\",\n",
    "                      \"Health & Personal Care\") then \"Health & Personal Care\"\n",
    "    when category in (\"Pet Supplies\", \n",
    "                      \"Dogs\") then \"Pets & Animals\"\n",
    "    when category in (\"Athletic\", \n",
    "                     \"Health, Fitness & Dieting\") then \"Health, Fitness & Dieting\"\n",
    "    else category end as category\n",
    "    from product_metadata\n",
    ")\n",
    "group by category\n",
    "having count(asin) > 10000\n",
    "order by products desc\n",
    "limit 60"
   ]
  },
  {
   "cell_type": "markdown",
   "metadata": {},
   "source": [
    "Based on the list above, we manually pick a group that we consider to be good enough for the experiment."
   ]
  },
  {
   "cell_type": "code",
   "execution_count": 9,
   "metadata": {},
   "outputs": [
    {
     "data": {
      "application/vnd.jupyter.widget-view+json": {
       "model_id": "",
       "version_major": 2,
       "version_minor": 0
      },
      "text/plain": [
       "FloatProgress(value=0.0, bar_style='info', description='Progress:', layout=Layout(height='25px', width='50%'),…"
      ]
     },
     "metadata": {},
     "output_type": "display_data"
    },
    {
     "name": "stdout",
     "output_type": "stream",
     "text": [
      "final_products_sql: String =\n",
      "select asin, title, description, case\n",
      "    when category in ('Movies',\n",
      "                      'Movies & TV') then 'Movies & TV'\n",
      "    when category in ('Clothing, Shoes & Jewelry',\n",
      "                      'Clothing',\n",
      "                      'T-Shirts',\n",
      "                      'Shirts',\n",
      "                      'Jewelry',\n",
      "                      'Dresses',\n",
      "                      'Boots',\n",
      "                      'Shoes',\n",
      "                      'Jewelry: International Shipping Available',\n",
      "                      'Shoes & Accessories: International Shipping Available',\n",
      "                      'Fashion',\n",
      "                      'Earrings') then 'Clothing, Shoes & Jewelry'\n",
      "    when category in ('Music',\n",
      "                      'Digital Music',\n",
      "                      'CDs & Vinyl',\n",
      "          ...final_products: org.apache.spark.sql.DataFrame = [asin: string, title: string ... 2 more fields]\n"
     ]
    }
   ],
   "source": [
    "val final_products_sql = \"\"\"select asin, title, description, case \n",
    "    when category in ('Movies', \n",
    "                      'Movies & TV') then 'Movies & TV'\n",
    "    when category in ('Clothing, Shoes & Jewelry', \n",
    "                      'Clothing', \n",
    "                      'T-Shirts', \n",
    "                      'Shirts', \n",
    "                      'Jewelry', \n",
    "                      'Dresses', \n",
    "                      'Boots', \n",
    "                      'Shoes', \n",
    "                      'Jewelry: International Shipping Available', \n",
    "                      'Shoes & Accessories: International Shipping Available', \n",
    "                      'Fashion',\n",
    "                      'Earrings') then 'Clothing, Shoes & Jewelry'\n",
    "    when category in ('Music', \n",
    "                      'Digital Music', \n",
    "                      'CDs & Vinyl',\n",
    "                      'Pop',\n",
    "                      'Jazz',\n",
    "                      'Alternative Rock',\n",
    "                      'Rock', \n",
    "                      'World Music',\n",
    "                      'Dance & Electronic') then 'Music'\n",
    "    when category in ('Electronics', \n",
    "                      'Cell Phones & Accessories', \n",
    "                      'Computers & Accessories', \n",
    "                      'Camera & Photo') then 'Technology, Electronics & Accessories'\n",
    "    when category in ('Books', \n",
    "                      'Kindle eBooks', \n",
    "                      'Kindle Store', \n",
    "                      'Literature & Fiction', \n",
    "                      'Kindle Short Reads',\n",
    "                      'Christian Books & Bibles') then 'Books'\n",
    "    when category in ('Games', \n",
    "                      'Toys & Games') then 'Toys & Games'\n",
    "    when category in ('Home & Kitchen', \n",
    "                      'Kitchen & Dining') then 'Home & Kitchen'\n",
    "    when category in ('Office & School Supplies', \n",
    "                      'Office Products') then 'Office & School Supplies'\n",
    "    when category in ('Hair Care', \n",
    "                      'Skin Care',\n",
    "                      'Health & Personal Care') then 'Health & Personal Care'\n",
    "    when category in ('Pet Supplies', \n",
    "                      'Dogs') then 'Pets & Animals'\n",
    "    when category in ('Athletic', \n",
    "                     'Health, Fitness & Dieting') then 'Health, Fitness & Dieting'\n",
    "    else category end as category\n",
    "    from product_metadata\"\"\"\n",
    "\n",
    "val final_products = spark.sql(final_products_sql)"
   ]
  },
  {
   "cell_type": "code",
   "execution_count": 10,
   "metadata": {},
   "outputs": [
    {
     "data": {
      "application/vnd.jupyter.widget-view+json": {
       "model_id": "",
       "version_major": 2,
       "version_minor": 0
      },
      "text/plain": [
       "FloatProgress(value=0.0, bar_style='info', description='Progress:', layout=Layout(height='25px', width='50%'),…"
      ]
     },
     "metadata": {},
     "output_type": "display_data"
    },
    {
     "name": "stdout",
     "output_type": "stream",
     "text": [
      "categories: List[String] = List(Music, Books, Movies & TV, Clothing, Shoes & Jewelry, Technology, Electronics & Accessories, Home & Kitchen, Sports & Outdoors, Toys & Games, Health & Personal Care, Tools & Home Improvement, Pets & Animals, Health, Fitness & Dieting, Patio, Lawn & Garden, Musical Instruments, Video Games)\n",
      "categoriesDF: org.apache.spark.sql.Dataset[org.apache.spark.sql.Row] = [asin: string, title: string ... 2 more fields]\n"
     ]
    }
   ],
   "source": [
    "val categories = List(\"Music\", \n",
    "                      \"Books\",\n",
    "                      \"Movies & TV\",\n",
    "                      \"Clothing, Shoes & Jewelry\",\n",
    "                      \"Technology, Electronics & Accessories\",\n",
    "                      \"Home & Kitchen\",\n",
    "                      \"Sports & Outdoors\",\n",
    "                      \"Toys & Games\",\n",
    "                      \"Health & Personal Care\",\n",
    "                      \"Tools & Home Improvement\",\n",
    "                      \"Pets & Animals\",\n",
    "                      \"Health, Fitness & Dieting\",\n",
    "                      \"Patio, Lawn & Garden\",\n",
    "                      \"Musical Instruments\",\n",
    "                      \"Video Games\")\n",
    "val categoriesDF = final_products.filter($\"category\"isin(categories:_*))\n",
    "categoriesDF.createOrReplaceTempView(\"product_categories\")\n",
    "categoriesDF.write.mode(\"overwrite\").partitionBy(\"category\").parquet(s\"$base_path/amazon/product_reviews/final_categories\")"
   ]
  },
  {
   "cell_type": "markdown",
   "metadata": {},
   "source": [
    "### Explore product reviews\n",
    "With the categories selected we can proceed to obtain the corresponding reviews for each one and aggregate them."
   ]
  },
  {
   "cell_type": "code",
   "execution_count": 11,
   "metadata": {},
   "outputs": [
    {
     "data": {
      "application/vnd.jupyter.widget-view+json": {
       "model_id": "",
       "version_major": 2,
       "version_minor": 0
      },
      "text/plain": [
       "FloatProgress(value=0.0, bar_style='info', description='Progress:', layout=Layout(height='25px', width='50%'),…"
      ]
     },
     "metadata": {},
     "output_type": "display_data"
    },
    {
     "name": "stdout",
     "output_type": "stream",
     "text": [
      "product_reviews: org.apache.spark.sql.DataFrame = [asin: string, helpful: array<bigint> ... 7 more fields]\n",
      "+----------+-------+-------+--------------------+-----------+--------------------+---------------+--------------------+--------------+\n",
      "|      asin|helpful|overall|          reviewText| reviewTime|          reviewerID|   reviewerName|             summary|unixReviewTime|\n",
      "+----------+-------+-------+--------------------+-----------+--------------------+---------------+--------------------+--------------+\n",
      "|B003UYU16G| [0, 0]|    5.0|It is and does ex...|11 21, 2012|A00000262KYZUE4J5...| Steven N Elich|Does what it's su...|    1353456000|\n",
      "|B005FYPK9C| [0, 0]|    5.0|I was sketchy at ...| 01 8, 2013|A000008615DZQRRI9...|      mj waldon|           great buy|    1357603200|\n",
      "|B000VEBG9Y| [0, 0]|    3.0|Very mobile produ...|03 24, 2014|A00000922W28P2OCH...|Gabriel Merrill|Great product but...|    1395619200|\n",
      "|B001EJMS6K| [0, 0]|    4.0|Easy to use a mob...|03 24, 2014|A00000922W28P2OCH...|Gabriel Merrill|Great inexpensive...|    1395619200|\n",
      "|B003XJCNVO| [0, 0]|    4.0|Love this feeder....|03 24, 2014|A00000922W28P2OCH...|Gabriel Merrill|Great feeder. Wou...|    1395619200|\n",
      "|B00G3KN9LI| [0, 0]|    4.0|Solid, stable mou...|03 29, 2014|A00000922W28P2OCH...|Gabriel Merrill|        Solid mount.|    1396051200|\n",
      "|B000SAUVC4| [0, 0]|    5.0|I bought this pep...|08 12, 2013|A000013090ZI3HIT9N5V|  Elvis florian|Cayenne powder st...|    1376265600|\n",
      "|B00125OS3C| [0, 0]|    5.0|Beautiful photos/...|08 31, 2013|A00001362Q1PGIX2F...| Pamela Bellamy|A very good film ...|    1377907200|\n",
      "|B002IGHX40| [1, 1]|    2.0|My idea of Colora...|08 31, 2013|A00001362Q1PGIX2F...| Pamela Bellamy|Doesn't show the ...|    1377907200|\n",
      "|B004WPCQKG| [6, 7]|    1.0|No matter what we...|11 19, 2012|A00001483M88NBD66...|          JARPD|        Disappointed|    1353283200|\n",
      "+----------+-------+-------+--------------------+-----------+--------------------+---------------+--------------------+--------------+\n",
      "only showing top 10 rows\n",
      "\n"
     ]
    }
   ],
   "source": [
    "val product_reviews = spark.read.json(reviews_path)\n",
    "product_reviews.createOrReplaceTempView(\"product_reviews\")\n",
    "product_reviews.show(10)\n"
   ]
  },
  {
   "cell_type": "code",
   "execution_count": 12,
   "metadata": {},
   "outputs": [
    {
     "data": {
      "application/vnd.jupyter.widget-view+json": {
       "model_id": "",
       "version_major": 2,
       "version_minor": 0
      },
      "text/plain": [
       "FloatProgress(value=0.0, bar_style='info', description='Progress:', layout=Layout(height='25px', width='50%'),…"
      ]
     },
     "metadata": {},
     "output_type": "display_data"
    },
    {
     "data": {
      "application/vnd.jupyter.widget-view+json": {
       "model_id": "13917964e34a495dbc08abf56767a8d3",
       "version_major": 2,
       "version_minor": 0
      },
      "text/plain": [
       "VBox(children=(HBox(children=(HTML(value='Type:'), Button(description='Table', layout=Layout(width='70px'), st…"
      ]
     },
     "metadata": {},
     "output_type": "display_data"
    },
    {
     "data": {
      "application/vnd.jupyter.widget-view+json": {
       "model_id": "60a8226e73304be1b1ecabf0b7609520",
       "version_major": 2,
       "version_minor": 0
      },
      "text/plain": [
       "Output()"
      ]
     },
     "metadata": {},
     "output_type": "display_data"
    }
   ],
   "source": [
    "%%sql\n",
    "select pc.category, pc.title, pc.description, pr.reviewText as review_text\n",
    "from product_categories pc inner join product_reviews pr on pc.asin = pr.asin\n",
    "limit 100"
   ]
  },
  {
   "cell_type": "code",
   "execution_count": 13,
   "metadata": {},
   "outputs": [
    {
     "data": {
      "application/vnd.jupyter.widget-view+json": {
       "model_id": "9a67a2746faf4cf5a28218a9f74d0543",
       "version_major": 2,
       "version_minor": 0
      },
      "text/plain": [
       "FloatProgress(value=0.0, bar_style='info', description='Progress:', layout=Layout(height='25px', width='50%'),…"
      ]
     },
     "metadata": {},
     "output_type": "display_data"
    },
    {
     "name": "stderr",
     "output_type": "stream",
     "text": [
      "An error was encountered:\n",
      "Invalid status code '400' from http://localhost:8998/sessions/4/statements/13 with error payload: {\"msg\":\"requirement failed: Session isn't active.\"}\n"
     ]
    }
   ],
   "source": [
    "%%sql\n",
    "select pc.category, collect_set(pc.title) as titles\n",
    "from product_categories pc\n",
    "where category = \"Books\"\n",
    "group by pc.category\n",
    "limit 10"
   ]
  },
  {
   "cell_type": "code",
   "execution_count": 14,
   "metadata": {},
   "outputs": [
    {
     "name": "stderr",
     "output_type": "stream",
     "text": [
      "An error was encountered:\n",
      "Invalid status code '404' from http://localhost:8998/sessions/4 with error payload: {\"msg\":\"Session '4' not found.\"}\n"
     ]
    }
   ],
   "source": [
    "print(\"hello\")"
   ]
  },
  {
   "cell_type": "code",
   "execution_count": null,
   "metadata": {},
   "outputs": [],
   "source": []
  }
 ],
 "metadata": {
  "kernelspec": {
   "display_name": "Spark",
   "language": "",
   "name": "sparkkernel"
  },
  "language_info": {
   "codemirror_mode": "text/x-scala",
   "mimetype": "text/x-scala",
   "name": "scala",
   "pygments_lexer": "scala"
  }
 },
 "nbformat": 4,
 "nbformat_minor": 4
}
