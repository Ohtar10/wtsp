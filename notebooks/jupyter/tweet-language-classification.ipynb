{
 "cells": [
  {
   "cell_type": "markdown",
   "metadata": {},
   "source": [
    "# Tweets Language Classification\n",
    "\n",
    "## Author: Luis Eduardo Ferro Diez <a href=\"mailto:luis.ferro1@correo.icesi.edu.co\">luis.ferro1@correo.icesi.edu.co</a>\n",
    "\n",
    "This notebook contains the model training preparation for classifying the tweets language.\n",
    "\n",
    "## Dataset\n",
    "* Tweets dataset in parquet format (After executing the first transformation spark pipeline)\n",
    "\n",
    "## Resources\n",
    "* https://machinelearningmastery.com/best-practices-document-classification-deep-learning/\n",
    "\n",
    "## Objective\n",
    "A large number of tweets lack of language identification which is needed in later stages of the project when trying to classify tweets as spam or ham, and furthemore, for simplicity the intention is only to consider english tweets for the analysis of where to sell products geographically speaking.\n",
    "\n",
    "Depending on the tweet year collection, an important number of tweets does not have language tag, or Twitter itself was not able to identify the language and tagged the `lang` value as `und` for `undefined`. The objective in this notebook is to model two deep learning pipelines with keras to classify if a tweet is either written in english or not. We are not interested for now in the other languages hence we can deem this as a binary classification problem.\n",
    "\n",
    "### Prepare the data"
   ]
  },
  {
   "cell_type": "code",
   "execution_count": 1,
   "metadata": {},
   "outputs": [],
   "source": [
    "tweets_path = \"../../datasets/tweets_parquet\""
   ]
  },
  {
   "cell_type": "code",
   "execution_count": 2,
   "metadata": {},
   "outputs": [],
   "source": [
    "import pandas as pd\n",
    "\n",
    "tweets = pd.read_parquet(tweets_path, engine=\"pyarrow\")"
   ]
  },
  {
   "cell_type": "code",
   "execution_count": 3,
   "metadata": {},
   "outputs": [
    {
     "data": {
      "text/html": [
       "<div>\n",
       "<style scoped>\n",
       "    .dataframe tbody tr th:only-of-type {\n",
       "        vertical-align: middle;\n",
       "    }\n",
       "\n",
       "    .dataframe tbody tr th {\n",
       "        vertical-align: top;\n",
       "    }\n",
       "\n",
       "    .dataframe thead th {\n",
       "        text-align: right;\n",
       "    }\n",
       "</style>\n",
       "<table border=\"1\" class=\"dataframe\">\n",
       "  <thead>\n",
       "    <tr style=\"text-align: right;\">\n",
       "      <th></th>\n",
       "      <th>id</th>\n",
       "      <th>tweet</th>\n",
       "      <th>lang</th>\n",
       "      <th>favorite_count</th>\n",
       "      <th>retweet_count</th>\n",
       "      <th>is_retweet</th>\n",
       "      <th>user_id</th>\n",
       "      <th>user_name</th>\n",
       "      <th>user_followers_count</th>\n",
       "      <th>user_following_count</th>\n",
       "      <th>...</th>\n",
       "      <th>place_full_name</th>\n",
       "      <th>country</th>\n",
       "      <th>country_code</th>\n",
       "      <th>place_type</th>\n",
       "      <th>place_url</th>\n",
       "      <th>is_spam</th>\n",
       "      <th>year</th>\n",
       "      <th>month</th>\n",
       "      <th>day</th>\n",
       "      <th>hour</th>\n",
       "    </tr>\n",
       "  </thead>\n",
       "  <tbody>\n",
       "    <tr>\n",
       "      <th>0</th>\n",
       "      <td>374048987046637568</td>\n",
       "      <td>@fizziero ngareb beud! !</td>\n",
       "      <td>id</td>\n",
       "      <td>0.0</td>\n",
       "      <td>0.0</td>\n",
       "      <td>0.0</td>\n",
       "      <td>389276837</td>\n",
       "      <td>syarifsidi</td>\n",
       "      <td>47.0</td>\n",
       "      <td>63.0</td>\n",
       "      <td>...</td>\n",
       "      <td>Jatinegara, Jakarta Timur</td>\n",
       "      <td>Indonesia</td>\n",
       "      <td>ID</td>\n",
       "      <td>city</td>\n",
       "      <td>https://api.twitter.com/1.1/geo/id/9e0e6d510fb...</td>\n",
       "      <td>0.0</td>\n",
       "      <td>2013</td>\n",
       "      <td>9</td>\n",
       "      <td>1</td>\n",
       "      <td>1</td>\n",
       "    </tr>\n",
       "    <tr>\n",
       "      <th>1</th>\n",
       "      <td>374048987046625280</td>\n",
       "      <td>@shahshahrul11 nak buat acano,keto den lg pent...</td>\n",
       "      <td>id</td>\n",
       "      <td>0.0</td>\n",
       "      <td>0.0</td>\n",
       "      <td>0.0</td>\n",
       "      <td>184869610</td>\n",
       "      <td>AliffSadali</td>\n",
       "      <td>194.0</td>\n",
       "      <td>247.0</td>\n",
       "      <td>...</td>\n",
       "      <td>Keratong, Rompin</td>\n",
       "      <td>Malaysia</td>\n",
       "      <td>MY</td>\n",
       "      <td>city</td>\n",
       "      <td>https://api.twitter.com/1.1/geo/id/1deede127b2...</td>\n",
       "      <td>0.0</td>\n",
       "      <td>2013</td>\n",
       "      <td>9</td>\n",
       "      <td>1</td>\n",
       "      <td>1</td>\n",
       "    </tr>\n",
       "    <tr>\n",
       "      <th>2</th>\n",
       "      <td>374048987034419200</td>\n",
       "      <td>@adambeyer234: I already miss Jace like hell</td>\n",
       "      <td>en</td>\n",
       "      <td>0.0</td>\n",
       "      <td>0.0</td>\n",
       "      <td>0.0</td>\n",
       "      <td>363516745</td>\n",
       "      <td>rilez_sharp</td>\n",
       "      <td>582.0</td>\n",
       "      <td>666.0</td>\n",
       "      <td>...</td>\n",
       "      <td>New York, US</td>\n",
       "      <td>United States</td>\n",
       "      <td>US</td>\n",
       "      <td>admin</td>\n",
       "      <td>https://api.twitter.com/1.1/geo/id/94965b2c453...</td>\n",
       "      <td>0.0</td>\n",
       "      <td>2013</td>\n",
       "      <td>9</td>\n",
       "      <td>1</td>\n",
       "      <td>1</td>\n",
       "    </tr>\n",
       "    <tr>\n",
       "      <th>3</th>\n",
       "      <td>374048987050823680</td>\n",
       "      <td>\"this is us\"...nunca me voy a artar de verla.....</td>\n",
       "      <td>es</td>\n",
       "      <td>0.0</td>\n",
       "      <td>0.0</td>\n",
       "      <td>0.0</td>\n",
       "      <td>446125189</td>\n",
       "      <td>LUCRECIALg</td>\n",
       "      <td>13.0</td>\n",
       "      <td>65.0</td>\n",
       "      <td>...</td>\n",
       "      <td>Argentina</td>\n",
       "      <td>Argentina</td>\n",
       "      <td>AR</td>\n",
       "      <td>country</td>\n",
       "      <td>https://api.twitter.com/1.1/geo/id/4d3b316fe2e...</td>\n",
       "      <td>0.0</td>\n",
       "      <td>2013</td>\n",
       "      <td>9</td>\n",
       "      <td>1</td>\n",
       "      <td>1</td>\n",
       "    </tr>\n",
       "    <tr>\n",
       "      <th>4</th>\n",
       "      <td>374048991241310208</td>\n",
       "      <td>Aquí en una reunión casual (@ Dhamy's Bar) [pi...</td>\n",
       "      <td>es</td>\n",
       "      <td>0.0</td>\n",
       "      <td>0.0</td>\n",
       "      <td>0.0</td>\n",
       "      <td>44793849</td>\n",
       "      <td>charal3x</td>\n",
       "      <td>66.0</td>\n",
       "      <td>77.0</td>\n",
       "      <td>...</td>\n",
       "      <td>Veracruz, Veracruz de Ignacio de la Llave</td>\n",
       "      <td>México</td>\n",
       "      <td>MX</td>\n",
       "      <td>city</td>\n",
       "      <td>https://api.twitter.com/1.1/geo/id/6c67fe933a6...</td>\n",
       "      <td>0.0</td>\n",
       "      <td>2013</td>\n",
       "      <td>9</td>\n",
       "      <td>1</td>\n",
       "      <td>1</td>\n",
       "    </tr>\n",
       "  </tbody>\n",
       "</table>\n",
       "<p>5 rows × 30 columns</p>\n",
       "</div>"
      ],
      "text/plain": [
       "                   id                                              tweet lang  \\\n",
       "0  374048987046637568                           @fizziero ngareb beud! !   id   \n",
       "1  374048987046625280  @shahshahrul11 nak buat acano,keto den lg pent...   id   \n",
       "2  374048987034419200       @adambeyer234: I already miss Jace like hell   en   \n",
       "3  374048987050823680  \"this is us\"...nunca me voy a artar de verla.....   es   \n",
       "4  374048991241310208  Aquí en una reunión casual (@ Dhamy's Bar) [pi...   es   \n",
       "\n",
       "   favorite_count  retweet_count  is_retweet    user_id    user_name  \\\n",
       "0             0.0            0.0         0.0  389276837   syarifsidi   \n",
       "1             0.0            0.0         0.0  184869610  AliffSadali   \n",
       "2             0.0            0.0         0.0  363516745  rilez_sharp   \n",
       "3             0.0            0.0         0.0  446125189   LUCRECIALg   \n",
       "4             0.0            0.0         0.0   44793849     charal3x   \n",
       "\n",
       "   user_followers_count  user_following_count  ...  \\\n",
       "0                  47.0                  63.0  ...   \n",
       "1                 194.0                 247.0  ...   \n",
       "2                 582.0                 666.0  ...   \n",
       "3                  13.0                  65.0  ...   \n",
       "4                  66.0                  77.0  ...   \n",
       "\n",
       "                             place_full_name        country country_code  \\\n",
       "0                  Jatinegara, Jakarta Timur      Indonesia           ID   \n",
       "1                           Keratong, Rompin       Malaysia           MY   \n",
       "2                               New York, US  United States           US   \n",
       "3                                  Argentina      Argentina           AR   \n",
       "4  Veracruz, Veracruz de Ignacio de la Llave         México           MX   \n",
       "\n",
       "  place_type                                          place_url is_spam  year  \\\n",
       "0       city  https://api.twitter.com/1.1/geo/id/9e0e6d510fb...     0.0  2013   \n",
       "1       city  https://api.twitter.com/1.1/geo/id/1deede127b2...     0.0  2013   \n",
       "2      admin  https://api.twitter.com/1.1/geo/id/94965b2c453...     0.0  2013   \n",
       "3    country  https://api.twitter.com/1.1/geo/id/4d3b316fe2e...     0.0  2013   \n",
       "4       city  https://api.twitter.com/1.1/geo/id/6c67fe933a6...     0.0  2013   \n",
       "\n",
       "  month day hour  \n",
       "0     9   1    1  \n",
       "1     9   1    1  \n",
       "2     9   1    1  \n",
       "3     9   1    1  \n",
       "4     9   1    1  \n",
       "\n",
       "[5 rows x 30 columns]"
      ]
     },
     "execution_count": 3,
     "metadata": {},
     "output_type": "execute_result"
    }
   ],
   "source": [
    "tweets.head()"
   ]
  },
  {
   "cell_type": "markdown",
   "metadata": {},
   "source": [
    "We consider the most relevant parts to predict the tweet language to be:\n",
    "* The tweet text\n",
    "* The country code\n",
    "\n",
    "The tweet text might contain user mentions, for simplicity, we will first transform the text, replacing the user mention with the text \"@usermention\".\n",
    "\n",
    "Since we are only interested in detecting if a tweet is written in english or not, we would need to transform the `lang` column into a numberic value with `lang=1` for the possitive class, i.e., \"The tweet is in english\" and `lang=0` for the negative class, i.e., \"The tweet is not written in english language.\""
   ]
  },
  {
   "cell_type": "code",
   "execution_count": 5,
   "metadata": {},
   "outputs": [
    {
     "data": {
      "text/html": [
       "<div>\n",
       "<style scoped>\n",
       "    .dataframe tbody tr th:only-of-type {\n",
       "        vertical-align: middle;\n",
       "    }\n",
       "\n",
       "    .dataframe tbody tr th {\n",
       "        vertical-align: top;\n",
       "    }\n",
       "\n",
       "    .dataframe thead th {\n",
       "        text-align: right;\n",
       "    }\n",
       "</style>\n",
       "<table border=\"1\" class=\"dataframe\">\n",
       "  <thead>\n",
       "    <tr style=\"text-align: right;\">\n",
       "      <th></th>\n",
       "      <th>tweet</th>\n",
       "      <th>country_code</th>\n",
       "      <th>lang</th>\n",
       "    </tr>\n",
       "  </thead>\n",
       "  <tbody>\n",
       "    <tr>\n",
       "      <th>0</th>\n",
       "      <td>@usermention ngareb beud! !</td>\n",
       "      <td>ID</td>\n",
       "      <td>0.0</td>\n",
       "    </tr>\n",
       "    <tr>\n",
       "      <th>1</th>\n",
       "      <td>@usermention nak buat acano,keto den lg pentin...</td>\n",
       "      <td>MY</td>\n",
       "      <td>0.0</td>\n",
       "    </tr>\n",
       "    <tr>\n",
       "      <th>2</th>\n",
       "      <td>@usermention: I already miss Jace like hell</td>\n",
       "      <td>US</td>\n",
       "      <td>1.0</td>\n",
       "    </tr>\n",
       "    <tr>\n",
       "      <th>3</th>\n",
       "      <td>\"this is us\"...nunca me voy a artar de verla.....</td>\n",
       "      <td>AR</td>\n",
       "      <td>0.0</td>\n",
       "    </tr>\n",
       "    <tr>\n",
       "      <th>4</th>\n",
       "      <td>Aquí en una reunión casual (@ Dhamy's Bar) [pi...</td>\n",
       "      <td>MX</td>\n",
       "      <td>0.0</td>\n",
       "    </tr>\n",
       "  </tbody>\n",
       "</table>\n",
       "</div>"
      ],
      "text/plain": [
       "                                               tweet country_code  lang\n",
       "0                        @usermention ngareb beud! !           ID   0.0\n",
       "1  @usermention nak buat acano,keto den lg pentin...           MY   0.0\n",
       "2        @usermention: I already miss Jace like hell           US   1.0\n",
       "3  \"this is us\"...nunca me voy a artar de verla.....           AR   0.0\n",
       "4  Aquí en una reunión casual (@ Dhamy's Bar) [pi...           MX   0.0"
      ]
     },
     "execution_count": 5,
     "metadata": {},
     "output_type": "execute_result"
    }
   ],
   "source": [
    "import re\n",
    "\n",
    "tweets.tweet = tweets.tweet.apply(lambda x: re.sub(r\"@[\\w\\d]+\", \"@usermention\", x))\n",
    "tweets = tweets[[\"tweet\", \"country_code\", \"lang\"]]\n",
    "tweets.lang = tweets.lang.apply(lambda x: 1.0 if x == 'en' else 0.0)\n",
    "tweets.head()"
   ]
  },
  {
   "cell_type": "markdown",
   "metadata": {},
   "source": [
    "Now let's convert the country code into a onehot encoding"
   ]
  },
  {
   "cell_type": "code",
   "execution_count": 6,
   "metadata": {},
   "outputs": [
    {
     "data": {
      "text/plain": [
       "array(['ID', 'MY', 'US', 'AR', 'MX', 'GB', 'RU', 'CL', 'JP', 'BR', 'CA',\n",
       "       'TR', 'PH', 'FR', 'IT', 'NL', 'ES', 'DE', 'NO', 'ZA'], dtype=object)"
      ]
     },
     "execution_count": 6,
     "metadata": {},
     "output_type": "execute_result"
    }
   ],
   "source": [
    "tweets.country_code.unique()"
   ]
  },
  {
   "cell_type": "code",
   "execution_count": 7,
   "metadata": {},
   "outputs": [],
   "source": [
    "from sklearn.preprocessing import LabelEncoder\n",
    "\n",
    "country_encoder = LabelEncoder()\n",
    "country_encoded = country_encoder.fit_transform(tweets.country_code.values).reshape(-1, 1)"
   ]
  },
  {
   "cell_type": "markdown",
   "metadata": {},
   "source": [
    "## Baseline\n",
    "\n",
    "In order to assess if the models are good or not, we'll need to establish a baseline. Since this is a classification problem, and there is no previous reference, our baseline is the most predominant class."
   ]
  },
  {
   "cell_type": "code",
   "execution_count": 8,
   "metadata": {},
   "outputs": [
    {
     "data": {
      "text/plain": [
       "0.0    99\n",
       "1.0    87\n",
       "Name: lang, dtype: int64"
      ]
     },
     "execution_count": 8,
     "metadata": {},
     "output_type": "execute_result"
    }
   ],
   "source": [
    "tweets.lang.value_counts()"
   ]
  },
  {
   "cell_type": "markdown",
   "metadata": {},
   "source": [
    "We can see the majority of tweets are NOT written in english language. Now let's define the baseline"
   ]
  },
  {
   "cell_type": "code",
   "execution_count": 10,
   "metadata": {},
   "outputs": [
    {
     "name": "stdout",
     "output_type": "stream",
     "text": [
      "The baseline is: 0.53\n"
     ]
    }
   ],
   "source": [
    "en = tweets.lang.value_counts()[0]\n",
    "total = tweets.lang.count()\n",
    "baseline = en / total\n",
    "print(f\"The baseline is: {baseline:.2f}\")"
   ]
  },
  {
   "cell_type": "markdown",
   "metadata": {},
   "source": [
    "With \"not english\" as the predominat class, we have a prediction power of $53\\%$. This is what we will try to improve with the models."
   ]
  },
  {
   "cell_type": "markdown",
   "metadata": {},
   "source": [
    "With this information we'll create embeddings to train a CNN + Fully Connected ANN to predict the language.\n",
    "\n",
    "Also for testing, we are going to use a LTSM + Fully Connected ANN and compare the results.\n",
    "\n",
    "Since we are dealing with two types of features, we'll need to prepare a bidirectional NN"
   ]
  },
  {
   "cell_type": "markdown",
   "metadata": {},
   "source": [
    "## Tweet Embeddings\n",
    "\n",
    "First, we'll need to create the embedding representation of the tweet corpus. There are a couple of caveats we must consider:\n",
    "* A tweet might contain urls, this makes necessary to parse or mask them so they get not separated when tokenizing the text."
   ]
  },
  {
   "cell_type": "code",
   "execution_count": 12,
   "metadata": {},
   "outputs": [],
   "source": [
    "test = \"hey\"\n",
    "test.replace()"
   ]
  },
  {
   "cell_type": "code",
   "execution_count": 15,
   "metadata": {},
   "outputs": [
    {
     "name": "stdout",
     "output_type": "stream",
     "text": [
      "Replacing with default value: This is a similated tweet with a url at , plus another one at \n",
      "Replacing with cusom value: This is a similated tweet with a url at some_url, plus another one at some_url\n"
     ]
    }
   ],
   "source": [
    "from urlextract import URLExtract\n",
    "\n",
    "def replace_url(string, replacement=''):\n",
    "    url_extract = URLExtract()\n",
    "    urls = url_extract.find_urls(string)\n",
    "    for url in urls:\n",
    "        string = string.replace(url, replacement)\n",
    "    return string\n",
    "\n",
    "test = \"This is a similated tweet with a url at https://somedomain.com, plus another one at http://www.google.com\"\n",
    "print(f\"Replacing with default value: {replace_url(test)}\")\n",
    "print(f\"Replacing with cusom value: {replace_url(test, 'some_url')}\")"
   ]
  },
  {
   "cell_type": "code",
   "execution_count": 16,
   "metadata": {},
   "outputs": [
    {
     "data": {
      "text/html": [
       "<div>\n",
       "<style scoped>\n",
       "    .dataframe tbody tr th:only-of-type {\n",
       "        vertical-align: middle;\n",
       "    }\n",
       "\n",
       "    .dataframe tbody tr th {\n",
       "        vertical-align: top;\n",
       "    }\n",
       "\n",
       "    .dataframe thead th {\n",
       "        text-align: right;\n",
       "    }\n",
       "</style>\n",
       "<table border=\"1\" class=\"dataframe\">\n",
       "  <thead>\n",
       "    <tr style=\"text-align: right;\">\n",
       "      <th></th>\n",
       "      <th>tweet</th>\n",
       "      <th>country_code</th>\n",
       "      <th>lang</th>\n",
       "    </tr>\n",
       "  </thead>\n",
       "  <tbody>\n",
       "    <tr>\n",
       "      <th>0</th>\n",
       "      <td>@usermention ngareb beud! !</td>\n",
       "      <td>ID</td>\n",
       "      <td>0.0</td>\n",
       "    </tr>\n",
       "    <tr>\n",
       "      <th>1</th>\n",
       "      <td>@usermention nak buat acano,keto den lg pentin...</td>\n",
       "      <td>MY</td>\n",
       "      <td>0.0</td>\n",
       "    </tr>\n",
       "    <tr>\n",
       "      <th>2</th>\n",
       "      <td>@usermention: I already miss Jace like hell</td>\n",
       "      <td>US</td>\n",
       "      <td>1.0</td>\n",
       "    </tr>\n",
       "    <tr>\n",
       "      <th>3</th>\n",
       "      <td>\"this is us\"...nunca me voy a artar de verla.....</td>\n",
       "      <td>AR</td>\n",
       "      <td>0.0</td>\n",
       "    </tr>\n",
       "    <tr>\n",
       "      <th>4</th>\n",
       "      <td>Aquí en una reunión casual (@ Dhamy's Bar) [pi...</td>\n",
       "      <td>MX</td>\n",
       "      <td>0.0</td>\n",
       "    </tr>\n",
       "  </tbody>\n",
       "</table>\n",
       "</div>"
      ],
      "text/plain": [
       "                                               tweet country_code  lang\n",
       "0                        @usermention ngareb beud! !           ID   0.0\n",
       "1  @usermention nak buat acano,keto den lg pentin...           MY   0.0\n",
       "2        @usermention: I already miss Jace like hell           US   1.0\n",
       "3  \"this is us\"...nunca me voy a artar de verla.....           AR   0.0\n",
       "4  Aquí en una reunión casual (@ Dhamy's Bar) [pi...           MX   0.0"
      ]
     },
     "execution_count": 16,
     "metadata": {},
     "output_type": "execute_result"
    }
   ],
   "source": [
    "tweets.tweet = tweets.tweet.apply(lambda t: replace_url(t, \"<url>\"))\n",
    "tweets.head()"
   ]
  },
  {
   "cell_type": "code",
   "execution_count": 17,
   "metadata": {},
   "outputs": [
    {
     "name": "stdout",
     "output_type": "stream",
     "text": [
      "Unique tokens: 942\n",
      "The first 10 items in the word index are: {'usermention': 1, 'url': 2, 'i': 3, 'to': 4, 'the': 5, 'a': 6, 'at': 7, 'me': 8, 'you': 9, 'and': 10}\n"
     ]
    }
   ],
   "source": [
    "from keras.preprocessing.text import Tokenizer\n",
    "\n",
    "words = 1000\n",
    "tokenizer = Tokenizer(num_words=1000)\n",
    "tokenizer.fit_on_texts(tweets.tweet)\n",
    "print(f\"Unique tokens: {len(tokenizer.word_index)}\")\n",
    "first10 = {k:tokenizer.word_index[k] for k in list(tokenizer.word_index)[:10]}\n",
    "print(f\"The first 10 items in the word index are: {first10}\")"
   ]
  },
  {
   "cell_type": "code",
   "execution_count": 18,
   "metadata": {},
   "outputs": [],
   "source": [
    "from keras.preprocessing.sequence import pad_sequences\n",
    "import numpy as np\n",
    "\n",
    "MAX_TEXT_SEQ_LEN = 280\n",
    "tweet_sequences = np.array(tokenizer.texts_to_sequences(tweets.tweet))\n",
    "tweet_sequences = pad_sequences(tweet_sequences, MAX_TEXT_SEQ_LEN)"
   ]
  },
  {
   "cell_type": "markdown",
   "metadata": {},
   "source": [
    "`tweet_sequences` contains the indexed text strings which are going to be the input for the NN.\n",
    "\n",
    "Now, let's assemble everything and prepare the train and test sets."
   ]
  },
  {
   "cell_type": "code",
   "execution_count": 20,
   "metadata": {},
   "outputs": [],
   "source": [
    "from sklearn.model_selection import train_test_split\n",
    "\n",
    "X = tweet_sequences\n",
    "X_c = country_encoded\n",
    "y = tweets.lang.values\n",
    "\n",
    "X_train, X_test, y_train, y_test = train_test_split(X, y, test_size=0.2, random_state=1234)\n",
    "X_train_c, X_test_c, _, _ = train_test_split(X_c, y, test_size=0.2, random_state=1234)"
   ]
  },
  {
   "cell_type": "markdown",
   "metadata": {},
   "source": [
    "Now, let's define the models\n",
    "\n",
    "## LSTM based model\n",
    "\n",
    "First, we will train a LSTM based model with the embeddings of each tweet, and make predictions for the tweet language."
   ]
  },
  {
   "cell_type": "code",
   "execution_count": 28,
   "metadata": {},
   "outputs": [
    {
     "name": "stdout",
     "output_type": "stream",
     "text": [
      "__________________________________________________________________________________________________\n",
      "Layer (type)                    Output Shape         Param #     Connected to                     \n",
      "==================================================================================================\n",
      "tweet_text (InputLayer)         (None, 280)          0                                            \n",
      "__________________________________________________________________________________________________\n",
      "embedding_4 (Embedding)         (None, 280, 64)      64000       tweet_text[0][0]                 \n",
      "__________________________________________________________________________________________________\n",
      "bidirectional_4 (Bidirectional) (None, 60)           22800       embedding_4[0][0]                \n",
      "__________________________________________________________________________________________________\n",
      "country_input (InputLayer)      (None, 1)            0                                            \n",
      "__________________________________________________________________________________________________\n",
      "concatenate_4 (Concatenate)     (None, 61)           0           bidirectional_4[0][0]            \n",
      "                                                                 country_input[0][0]              \n",
      "__________________________________________________________________________________________________\n",
      "dense_10 (Dense)                (None, 100)          6200        concatenate_4[0][0]              \n",
      "__________________________________________________________________________________________________\n",
      "batch_normalization_4 (BatchNor (None, 100)          400         dense_10[0][0]                   \n",
      "__________________________________________________________________________________________________\n",
      "dense_11 (Dense)                (None, 50)           5050        batch_normalization_4[0][0]      \n",
      "__________________________________________________________________________________________________\n",
      "dropout_4 (Dropout)             (None, 50)           0           dense_11[0][0]                   \n",
      "__________________________________________________________________________________________________\n",
      "dense_12 (Dense)                (None, 25)           1275        dropout_4[0][0]                  \n",
      "__________________________________________________________________________________________________\n",
      "prediction (Dense)              (None, 1)            26          dense_12[0][0]                   \n",
      "__________________________________________________________________________________________________\n",
      "aux_output (Dense)              (None, 1)            61          bidirectional_4[0][0]            \n",
      "==================================================================================================\n",
      "Total params: 99,812\n",
      "Trainable params: 99,612\n",
      "Non-trainable params: 200\n",
      "__________________________________________________________________________________________________\n"
     ]
    }
   ],
   "source": [
    "from keras.layers import Input, Embedding, Bidirectional, Dense, LSTM, concatenate, BatchNormalization, Dropout\n",
    "from keras.models import Model\n",
    "from keras import regularizers\n",
    "\n",
    "#Define the inputs\n",
    "tweet_input = Input(shape=(MAX_TEXT_SEQ_LEN,), dtype='int32', name='tweet_text')\n",
    "country_input = Input(shape=(1,), name='country_input')\n",
    "\n",
    "#Define the embedding layer consuming the tweet input\n",
    "emb = Embedding(input_dim=tokenizer.num_words, output_dim=64, input_length=MAX_TEXT_SEQ_LEN)(tweet_input)\n",
    "\n",
    "#Define the LSTM layer with the embedding input\n",
    "tweet_output = Bidirectional(\n",
    "        LSTM(units=30, dropout=0.3, recurrent_dropout=0.3, kernel_regularizer=regularizers.l2(0.01))\n",
    "    )(emb)\n",
    "\n",
    "#Define an auxiliary output for the first input\n",
    "aux_output = Dense(1, activation='sigmoid', name='aux_output')(tweet_output)\n",
    "\n",
    "#Concatenate the LSTM output with the country input\n",
    "x = concatenate([tweet_output, country_input])\n",
    "\n",
    "#Apply a dense layers\n",
    "x = Dense(100, activation='relu')(x)\n",
    "x = BatchNormalization()(x)\n",
    "x = Dense(50, activation='relu')(x)\n",
    "x = Dropout(0.2)(x)\n",
    "x = Dense(25, activation='relu')(x)\n",
    "\n",
    "#And finally make the predictions using the previous layer as input\n",
    "main_output = Dense(1, activation='sigmoid', name='prediction')(x)\n",
    "\n",
    "model = Model(inputs=[tweet_input, country_input], outputs=[main_output, aux_output])\n",
    "model.compile(optimizer='adam', loss='binary_crossentropy', metrics=['accuracy'])\n",
    "model.summary()"
   ]
  },
  {
   "cell_type": "code",
   "execution_count": 32,
   "metadata": {},
   "outputs": [
    {
     "name": "stdout",
     "output_type": "stream",
     "text": [
      "Train on 118 samples, validate on 30 samples\n",
      "Epoch 1/100\n",
      "118/118 [==============================] - 4s 35ms/step - loss: 0.2068 - prediction_loss: 0.0319 - aux_output_loss: 0.0816 - prediction_acc: 1.0000 - aux_output_acc: 1.0000 - val_loss: 0.8480 - val_prediction_loss: 0.3736 - val_aux_output_loss: 0.3814 - val_prediction_acc: 0.8667 - val_aux_output_acc: 0.9000\n",
      "Epoch 2/100\n",
      "118/118 [==============================] - 4s 34ms/step - loss: 0.1869 - prediction_loss: 0.0212 - aux_output_loss: 0.0731 - prediction_acc: 1.0000 - aux_output_acc: 1.0000 - val_loss: 0.8210 - val_prediction_loss: 0.3433 - val_aux_output_loss: 0.3857 - val_prediction_acc: 0.8667 - val_aux_output_acc: 0.9000\n",
      "Epoch 3/100\n",
      "118/118 [==============================] - 4s 33ms/step - loss: 0.1784 - prediction_loss: 0.0187 - aux_output_loss: 0.0680 - prediction_acc: 1.0000 - aux_output_acc: 1.0000 - val_loss: 0.8107 - val_prediction_loss: 0.3316 - val_aux_output_loss: 0.3881 - val_prediction_acc: 0.9000 - val_aux_output_acc: 0.9000\n",
      "Epoch 4/100\n",
      "118/118 [==============================] - 4s 35ms/step - loss: 0.1791 - prediction_loss: 0.0210 - aux_output_loss: 0.0675 - prediction_acc: 1.0000 - aux_output_acc: 1.0000 - val_loss: 0.8058 - val_prediction_loss: 0.3271 - val_aux_output_loss: 0.3887 - val_prediction_acc: 0.9000 - val_aux_output_acc: 0.9000\n",
      "Epoch 5/100\n",
      "118/118 [==============================] - 4s 33ms/step - loss: 0.1703 - prediction_loss: 0.0150 - aux_output_loss: 0.0658 - prediction_acc: 1.0000 - aux_output_acc: 1.0000 - val_loss: 0.8045 - val_prediction_loss: 0.3268 - val_aux_output_loss: 0.3889 - val_prediction_acc: 0.9000 - val_aux_output_acc: 0.9000\n",
      "Epoch 6/100\n",
      "118/118 [==============================] - 4s 34ms/step - loss: 0.1698 - prediction_loss: 0.0145 - aux_output_loss: 0.0670 - prediction_acc: 1.0000 - aux_output_acc: 1.0000 - val_loss: 0.8046 - val_prediction_loss: 0.3287 - val_aux_output_loss: 0.3882 - val_prediction_acc: 0.9000 - val_aux_output_acc: 0.9000\n",
      "Epoch 7/100\n",
      "118/118 [==============================] - 4s 34ms/step - loss: 0.1617 - prediction_loss: 0.0112 - aux_output_loss: 0.0633 - prediction_acc: 1.0000 - aux_output_acc: 1.0000 - val_loss: 0.8042 - val_prediction_loss: 0.3307 - val_aux_output_loss: 0.3869 - val_prediction_acc: 0.9000 - val_aux_output_acc: 0.9000\n",
      "Epoch 8/100\n",
      "118/118 [==============================] - 4s 35ms/step - loss: 0.1531 - prediction_loss: 0.0097 - aux_output_loss: 0.0572 - prediction_acc: 1.0000 - aux_output_acc: 1.0000 - val_loss: 0.8068 - val_prediction_loss: 0.3352 - val_aux_output_loss: 0.3862 - val_prediction_acc: 0.9000 - val_aux_output_acc: 0.9000\n",
      "Epoch 9/100\n",
      "118/118 [==============================] - 4s 34ms/step - loss: 0.1537 - prediction_loss: 0.0083 - aux_output_loss: 0.0604 - prediction_acc: 1.0000 - aux_output_acc: 1.0000 - val_loss: 0.8092 - val_prediction_loss: 0.3397 - val_aux_output_loss: 0.3851 - val_prediction_acc: 0.9000 - val_aux_output_acc: 0.9000\n",
      "Epoch 10/100\n",
      "118/118 [==============================] - 4s 34ms/step - loss: 0.1479 - prediction_loss: 0.0099 - aux_output_loss: 0.0540 - prediction_acc: 1.0000 - aux_output_acc: 1.0000 - val_loss: 0.8120 - val_prediction_loss: 0.3443 - val_aux_output_loss: 0.3843 - val_prediction_acc: 0.9000 - val_aux_output_acc: 0.9000\n",
      "CPU times: user 52.9 s, sys: 6.72 s, total: 59.7 s\n",
      "Wall time: 40.7 s\n"
     ]
    }
   ],
   "source": [
    "%%time\n",
    "from keras.callbacks import EarlyStopping\n",
    "early_stopping = EarlyStopping(monitor='val_loss', patience=3, restore_best_weights=True)\n",
    "\n",
    "train_data = [X_train, X_train_c]\n",
    "history = model.fit(train_data, [y_train] * 2, epochs = 100, batch_size = 20, validation_split= 0.2, callbacks=[early_stopping])"
   ]
  },
  {
   "cell_type": "code",
   "execution_count": 30,
   "metadata": {},
   "outputs": [],
   "source": [
    "import matplotlib.pyplot as plt\n",
    "\n",
    "def plot_history(cnn, acc= 'acc', val_acc = 'val_acc', loss = 'loss', val_loss = 'val_loss'):\n",
    "    fig = plt.figure(figsize = (16, 8))\n",
    "    plt.subplot(1, 2, 1)\n",
    "    plt.title('Accuracy in training Vs validation')\n",
    "    plt.ylabel('Accuracy')\n",
    "    plt.xlabel('Epoch')\n",
    "    plt.plot(cnn.history[acc], 'r')\n",
    "    plt.plot(cnn.history[val_acc], 'b')\n",
    "    plt.legend(['training', 'validation'])\n",
    "    \n",
    "    plt.subplot(1, 2, 2)\n",
    "    plt.title('Loss in training Vs validation')\n",
    "    plt.ylabel('Loss')\n",
    "    plt.xlabel('Epoch')\n",
    "    plt.plot(cnn.history[loss], 'r')\n",
    "    plt.plot(cnn.history[val_loss], 'b')\n",
    "    plt.legend(['training', 'validation'])\n",
    "    \n",
    "    plt.show()\n",
    "    "
   ]
  },
  {
   "cell_type": "code",
   "execution_count": 33,
   "metadata": {},
   "outputs": [
    {
     "data": {
      "image/png": "[encoded data removed]",
      "text/plain": [
       "<Figure size 1152x576 with 2 Axes>"
      ]
     },
     "metadata": {
      "needs_background": "light"
     },
     "output_type": "display_data"
    }
   ],
   "source": [
    "plot_history(history, \n",
    "             acc='prediction_acc', \n",
    "             val_acc='val_prediction_acc', \n",
    "             loss='prediction_loss', \n",
    "             val_loss='val_prediction_loss')"
   ]
  },
  {
   "cell_type": "code",
   "execution_count": 46,
   "metadata": {},
   "outputs": [],
   "source": [
    "test_prediction = model.predict([X_test, X_test_c])\n",
    "y_pred = np.where(test_prediction[0]>0.5, 1.0, 0.0)"
   ]
  },
  {
   "cell_type": "code",
   "execution_count": 53,
   "metadata": {},
   "outputs": [
    {
     "name": "stdout",
     "output_type": "stream",
     "text": [
      "Test accuracy: 0.87\n"
     ]
    }
   ],
   "source": [
    "from sklearn.metrics import accuracy_score\n",
    "\n",
    "test_acc = accuracy_score(y_test, y_pred)\n",
    "print(f\"Test accuracy: {test_acc:.2f}\")"
   ]
  },
  {
   "cell_type": "markdown",
   "metadata": {},
   "source": [
    "With this sample and tiny model we got $87\\%$ of accuracy score within the testing set which is acceptable considering our initial baseline of $53\\%$"
   ]
  },
  {
   "cell_type": "markdown",
   "metadata": {},
   "source": [
    "## CNN Based model\n",
    "Now let's design a model using Convolutional Neural Networks with the same embeddings and see how it performs against our LSTM based model."
   ]
  },
  {
   "cell_type": "code",
   "execution_count": 55,
   "metadata": {},
   "outputs": [
    {
     "name": "stderr",
     "output_type": "stream",
     "text": [
      "W0729 16:08:16.214473 139714601400128 deprecation_wrapper.py:119] From /home/ohtar10-kudu/miniconda3/envs/wtsp/lib/python3.6/site-packages/keras/backend/tensorflow_backend.py:3976: The name tf.nn.max_pool is deprecated. Please use tf.nn.max_pool2d instead.\n",
      "\n"
     ]
    },
    {
     "name": "stdout",
     "output_type": "stream",
     "text": [
      "__________________________________________________________________________________________________\n",
      "Layer (type)                    Output Shape         Param #     Connected to                     \n",
      "==================================================================================================\n",
      "tweet_text (InputLayer)         (None, 280)          0                                            \n",
      "__________________________________________________________________________________________________\n",
      "embedding_6 (Embedding)         (None, 280, 64)      64000       tweet_text[0][0]                 \n",
      "__________________________________________________________________________________________________\n",
      "conv1d_2 (Conv1D)               (None, 278, 32)      6176        embedding_6[0][0]                \n",
      "__________________________________________________________________________________________________\n",
      "max_pooling1d_1 (MaxPooling1D)  (None, 139, 32)      0           conv1d_2[0][0]                   \n",
      "__________________________________________________________________________________________________\n",
      "conv1d_3 (Conv1D)               (None, 137, 128)     12416       max_pooling1d_1[0][0]            \n",
      "__________________________________________________________________________________________________\n",
      "max_pooling1d_2 (MaxPooling1D)  (None, 68, 128)      0           conv1d_3[0][0]                   \n",
      "__________________________________________________________________________________________________\n",
      "conv1d_4 (Conv1D)               (None, 66, 128)      49280       max_pooling1d_2[0][0]            \n",
      "__________________________________________________________________________________________________\n",
      "max_pooling1d_3 (MaxPooling1D)  (None, 33, 128)      0           conv1d_4[0][0]                   \n",
      "__________________________________________________________________________________________________\n",
      "flatten_1 (Flatten)             (None, 4224)         0           max_pooling1d_3[0][0]            \n",
      "__________________________________________________________________________________________________\n",
      "country_input (InputLayer)      (None, 1)            0                                            \n",
      "__________________________________________________________________________________________________\n",
      "concatenate_5 (Concatenate)     (None, 4225)         0           flatten_1[0][0]                  \n",
      "                                                                 country_input[0][0]              \n",
      "__________________________________________________________________________________________________\n",
      "dense_13 (Dense)                (None, 100)          422600      concatenate_5[0][0]              \n",
      "__________________________________________________________________________________________________\n",
      "batch_normalization_5 (BatchNor (None, 100)          400         dense_13[0][0]                   \n",
      "__________________________________________________________________________________________________\n",
      "dense_14 (Dense)                (None, 50)           5050        batch_normalization_5[0][0]      \n",
      "__________________________________________________________________________________________________\n",
      "dropout_5 (Dropout)             (None, 50)           0           dense_14[0][0]                   \n",
      "__________________________________________________________________________________________________\n",
      "dense_15 (Dense)                (None, 25)           1275        dropout_5[0][0]                  \n",
      "__________________________________________________________________________________________________\n",
      "prediction (Dense)              (None, 1)            26          dense_15[0][0]                   \n",
      "__________________________________________________________________________________________________\n",
      "aux_output (Dense)              (None, 1)            4225        flatten_1[0][0]                  \n",
      "==================================================================================================\n",
      "Total params: 565,448\n",
      "Trainable params: 565,248\n",
      "Non-trainable params: 200\n",
      "__________________________________________________________________________________________________\n"
     ]
    }
   ],
   "source": [
    "from keras.layers import Input, Embedding, Bidirectional, Dense, Conv1D, Flatten, MaxPool1D, concatenate, BatchNormalization, Dropout\n",
    "from keras.models import Model\n",
    "from keras import regularizers\n",
    "\n",
    "#Define the inputs\n",
    "tweet_input = Input(shape=(MAX_TEXT_SEQ_LEN,), dtype='int32', name='tweet_text')\n",
    "country_input = Input(shape=(1,), name='country_input')\n",
    "\n",
    "#Define the embedding layer consuming the tweet input\n",
    "emb = Embedding(input_dim=tokenizer.num_words, \n",
    "                output_dim=64, \n",
    "                input_length=MAX_TEXT_SEQ_LEN)(tweet_input)\n",
    "\n",
    "#Define the convolutional layers consuming the tweet input\n",
    "conv = Conv1D(32, 3, activation='relu', input_shape=(64,))(emb)\n",
    "conv = MaxPool1D(2, strides=None, padding='valid')(conv)\n",
    "conv = Conv1D(128, 3, activation='relu')(conv)\n",
    "conv = MaxPool1D(2, strides=None, padding='valid')(conv)\n",
    "conv = Conv1D(128, 3, activation='relu')(conv)\n",
    "conv = MaxPool1D(2, strides=None, padding='valid')(conv)\n",
    "conv_output = Flatten()(conv)\n",
    "\n",
    "#Define an auxiliary output for the first input\n",
    "aux_output = Dense(1, activation='sigmoid', name='aux_output')(conv_output)\n",
    "\n",
    "#Concatenate the convolutional output with the country input\n",
    "x = concatenate([conv_output, country_input])\n",
    "\n",
    "#Apply a dense layers\n",
    "x = Dense(100, activation='relu')(x)\n",
    "x = BatchNormalization()(x)\n",
    "x = Dense(50, activation='relu')(x)\n",
    "x = Dropout(0.2)(x)\n",
    "x = Dense(25, activation='relu')(x)\n",
    "\n",
    "#And finally make the predictions using the previous layer as input\n",
    "main_output = Dense(1, activation='sigmoid', name='prediction')(x)\n",
    "\n",
    "model = Model(inputs=[tweet_input, country_input], outputs=[main_output, aux_output])\n",
    "model.compile(optimizer='adam', loss='binary_crossentropy', metrics=['accuracy'])\n",
    "model.summary()"
   ]
  },
  {
   "cell_type": "code",
   "execution_count": 74,
   "metadata": {},
   "outputs": [
    {
     "name": "stdout",
     "output_type": "stream",
     "text": [
      "Train on 118 samples, validate on 30 samples\n",
      "Epoch 1/100\n",
      "118/118 [==============================] - 0s 2ms/step - loss: 0.1794 - prediction_loss: 0.0954 - aux_output_loss: 0.0840 - prediction_acc: 0.9492 - aux_output_acc: 0.9576 - val_loss: 0.8835 - val_prediction_loss: 0.4599 - val_aux_output_loss: 0.4236 - val_prediction_acc: 0.9333 - val_aux_output_acc: 0.9000\n",
      "Epoch 2/100\n",
      "118/118 [==============================] - 0s 2ms/step - loss: 0.1666 - prediction_loss: 0.0830 - aux_output_loss: 0.0836 - prediction_acc: 0.9661 - aux_output_acc: 0.9576 - val_loss: 0.8842 - val_prediction_loss: 0.4580 - val_aux_output_loss: 0.4262 - val_prediction_acc: 0.9333 - val_aux_output_acc: 0.9000\n",
      "Epoch 3/100\n",
      "118/118 [==============================] - 0s 2ms/step - loss: 0.1616 - prediction_loss: 0.0771 - aux_output_loss: 0.0846 - prediction_acc: 0.9492 - aux_output_acc: 0.9576 - val_loss: 0.8766 - val_prediction_loss: 0.4506 - val_aux_output_loss: 0.4259 - val_prediction_acc: 0.9333 - val_aux_output_acc: 0.9000\n",
      "Epoch 4/100\n",
      "118/118 [==============================] - 0s 2ms/step - loss: 0.1697 - prediction_loss: 0.0858 - aux_output_loss: 0.0839 - prediction_acc: 0.9576 - aux_output_acc: 0.9576 - val_loss: 0.8717 - val_prediction_loss: 0.4519 - val_aux_output_loss: 0.4199 - val_prediction_acc: 0.9333 - val_aux_output_acc: 0.9000\n",
      "Epoch 5/100\n",
      "118/118 [==============================] - 0s 2ms/step - loss: 0.1596 - prediction_loss: 0.0762 - aux_output_loss: 0.0834 - prediction_acc: 0.9661 - aux_output_acc: 0.9576 - val_loss: 0.8698 - val_prediction_loss: 0.4512 - val_aux_output_loss: 0.4186 - val_prediction_acc: 0.9333 - val_aux_output_acc: 0.9000\n",
      "Epoch 6/100\n",
      "118/118 [==============================] - 0s 2ms/step - loss: 0.1613 - prediction_loss: 0.0773 - aux_output_loss: 0.0840 - prediction_acc: 0.9492 - aux_output_acc: 0.9576 - val_loss: 0.8779 - val_prediction_loss: 0.4540 - val_aux_output_loss: 0.4238 - val_prediction_acc: 0.9333 - val_aux_output_acc: 0.9000\n",
      "Epoch 7/100\n",
      "118/118 [==============================] - 0s 1ms/step - loss: 0.1769 - prediction_loss: 0.0931 - aux_output_loss: 0.0838 - prediction_acc: 0.9576 - aux_output_acc: 0.9576 - val_loss: 0.8823 - val_prediction_loss: 0.4606 - val_aux_output_loss: 0.4217 - val_prediction_acc: 0.9333 - val_aux_output_acc: 0.9000\n",
      "Epoch 8/100\n",
      "118/118 [==============================] - 0s 2ms/step - loss: 0.1644 - prediction_loss: 0.0810 - aux_output_loss: 0.0834 - prediction_acc: 0.9661 - aux_output_acc: 0.9576 - val_loss: 0.8943 - val_prediction_loss: 0.4662 - val_aux_output_loss: 0.4282 - val_prediction_acc: 0.9333 - val_aux_output_acc: 0.9000\n",
      "Epoch 9/100\n",
      "118/118 [==============================] - 0s 2ms/step - loss: 0.1643 - prediction_loss: 0.0806 - aux_output_loss: 0.0837 - prediction_acc: 0.9661 - aux_output_acc: 0.9576 - val_loss: 0.9026 - val_prediction_loss: 0.4714 - val_aux_output_loss: 0.4313 - val_prediction_acc: 0.9333 - val_aux_output_acc: 0.9000\n",
      "Epoch 10/100\n",
      "118/118 [==============================] - 0s 2ms/step - loss: 0.1591 - prediction_loss: 0.0757 - aux_output_loss: 0.0834 - prediction_acc: 0.9661 - aux_output_acc: 0.9576 - val_loss: 0.9222 - val_prediction_loss: 0.4854 - val_aux_output_loss: 0.4369 - val_prediction_acc: 0.9333 - val_aux_output_acc: 0.9000\n",
      "CPU times: user 5.09 s, sys: 478 ms, total: 5.56 s\n",
      "Wall time: 2.15 s\n"
     ]
    }
   ],
   "source": [
    "%%time\n",
    "from keras.callbacks import EarlyStopping\n",
    "early_stopping = EarlyStopping(monitor='val_loss', patience=5, restore_best_weights=True)\n",
    "\n",
    "train_data = [X_train, X_train_c]\n",
    "history = model.fit(train_data, [y_train] * 2, epochs = 100, batch_size = 20, validation_split= 0.2, callbacks=[early_stopping])"
   ]
  },
  {
   "cell_type": "code",
   "execution_count": 75,
   "metadata": {},
   "outputs": [
    {
     "data": {
      "image/png": "[encoded data removed]",
      "text/plain": [
       "<Figure size 1152x576 with 2 Axes>"
      ]
     },
     "metadata": {
      "needs_background": "light"
     },
     "output_type": "display_data"
    }
   ],
   "source": [
    "plot_history(history, \n",
    "             acc='prediction_acc', \n",
    "             val_acc='val_prediction_acc', \n",
    "             loss='prediction_loss', \n",
    "             val_loss='val_prediction_loss')"
   ]
  },
  {
   "cell_type": "code",
   "execution_count": 76,
   "metadata": {},
   "outputs": [],
   "source": [
    "test_prediction = model.predict([X_test, X_test_c])\n",
    "y_pred = np.where(test_prediction[0]>0.5, 1.0, 0.0)"
   ]
  },
  {
   "cell_type": "code",
   "execution_count": 77,
   "metadata": {},
   "outputs": [
    {
     "name": "stdout",
     "output_type": "stream",
     "text": [
      "Test accuracy: 0.92\n"
     ]
    }
   ],
   "source": [
    "from sklearn.metrics import accuracy_score\n",
    "\n",
    "test_acc = accuracy_score(y_test, y_pred)\n",
    "print(f\"Test accuracy: {test_acc:.2f}\")"
   ]
  },
  {
   "cell_type": "markdown",
   "metadata": {},
   "source": [
    "It seems that with the convolutional based model we get more accurate and with the additional benefit of a faster training. Hence, We will export the CNN based model for later usage in spark."
   ]
  },
  {
   "cell_type": "code",
   "execution_count": 79,
   "metadata": {},
   "outputs": [],
   "source": [
    "model.save(\"../../models/keras/tweet-lang-classification\")"
   ]
  },
  {
   "cell_type": "code",
   "execution_count": null,
   "metadata": {},
   "outputs": [],
   "source": []
  }
 ],
 "metadata": {
  "kernelspec": {
   "display_name": "Python 3",
   "language": "python",
   "name": "python3"
  },
  "language_info": {
   "codemirror_mode": {
    "name": "ipython",
    "version": 3
   },
   "file_extension": ".py",
   "mimetype": "text/x-python",
   "name": "python",
   "nbconvert_exporter": "python",
   "pygments_lexer": "ipython3",
   "version": "3.6.8"
  }
 },
 "nbformat": 4,
 "nbformat_minor": 4
}
